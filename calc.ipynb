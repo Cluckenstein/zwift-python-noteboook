{
 "cells": [
  {
   "cell_type": "code",
   "execution_count": 253,
   "metadata": {},
   "outputs": [],
   "source": [
    "import plotly\n",
    "import plotly.graph_objects as go\n",
    "from plotly.subplots import make_subplots\n",
    "import numpy as np\n",
    "\n",
    "colors = ['black','grey', 'blue', 'green', 'yellow', 'orange', 'red']\n",
    "zones = [0, 59, 75, 89, 104, 118, 9999]\n",
    "\n",
    "class training(object):\n",
    "    \n",
    "    def __init__(self, workout_name, description, ftp = 315):\n",
    "        f = open('head.txt', 'r')\n",
    "        head = f.read()\n",
    "        \n",
    "        head = head.replace('name_var', workout_name)\n",
    "        head = head.replace('description_var', description)\n",
    "        \n",
    "        self.ftp = ftp\n",
    "        self.zwo = head\n",
    "        self.blocks = []\n",
    "        \n",
    "    \n",
    "    \n",
    "    def text(self, id_block, message, offset = 0):\n",
    "        None\n",
    "        \n",
    "        \n",
    "        \n",
    "    def add(self, dur, percent, cadence = 0):\n",
    "        if type(percent) != list:\n",
    "            percent = [percent, percent]\n",
    "            \n",
    "        self.blocks.append({'dur' : dur,\n",
    "                    'percent' : percent,\n",
    "                    'cad': cadence,\n",
    "                           'interval':False})\n",
    "        \n",
    "        #self.plot()\n",
    "        \n",
    "    def add_inter(self, repeats, on_dur, on_perc, on_cad, off_dur, off_perc, off_cad):\n",
    "        self.blocks.append({'dur' : [on_dur, off_dur],\n",
    "                    'percent' : [on_perc, off_perc],\n",
    "                    'cad': [on_cad, off_cad],\n",
    "                            'repeats':repeats,\n",
    "                           'interval':True})\n",
    "        \n",
    "        \n",
    "        \n",
    "    def delete(self, id_block):\n",
    "        self.blocks.pop(id_block)\n",
    "        self.plot()\n",
    "        \n",
    "        \n",
    "    def plot(self):\n",
    "        \n",
    "        fig = make_subplots(specs=[[{\"secondary_y\": True}]])\n",
    "        \n",
    "        \n",
    "        sec = 0\n",
    "        \n",
    "        for i in range(len(self.blocks)):\n",
    "            \n",
    "            perc_diff = abs(self.blocks[i]['percent'][1]- self.blocks[i]['percent'][0])\n",
    "            diff = int(abs( self.zone(self.blocks[i]['percent'][0]) - self.zone(self.blocks[i]['percent'][1])) + 1)\n",
    "            up = (self.zone(self.blocks[i]['percent'][1]) > self.zone(self.blocks[i]['percent'][0]))    \n",
    "            temp_z = self.zone(self.blocks[i]['percent'][0])\n",
    "            temp_s = sec\n",
    "            temp_p = self.blocks[i]['percent'][0]\n",
    "            temp_z = temp_z - up\n",
    "            \n",
    "            \n",
    "                               \n",
    "            for zo in range(diff):\n",
    "                col = colors[temp_z -1 + int(2*up) + 1 - up]\n",
    "                \n",
    "                if diff >1:\n",
    "                    \n",
    "                    if up:\n",
    "                        differ = min([zones[temp_z - 1 + int(2*up)], self.blocks[i]['percent'][1]])\n",
    "                    else:\n",
    "                        differ = max([zones[min([5,temp_z - 1 + int(2*up)])], self.blocks[i]['percent'][1]])\n",
    "                    \n",
    "                    z_len = abs(temp_p - differ) / perc_diff * self.blocks[i]['dur']\n",
    "                    \n",
    "                    temp_end = differ\n",
    "                    \n",
    "                else:\n",
    "                    z_len = self.blocks[i]['dur']\n",
    "                    temp_end = temp_p\n",
    "                    \n",
    "                hover_text = 'ID: '+str(i)+ '<br>' \n",
    "                hover_text += str(z_len)+' sek <br>'\n",
    "                \n",
    "                    \n",
    "                    \n",
    "                if self.blocks[i]['percent'][0] == 0 or self.blocks[i]['percent'][1] == 0:\n",
    "                    z_len = self.blocks[i]['dur']\n",
    "                    x_scale = np.linspace(temp_s, temp_s +z_len, 100)\n",
    "                    y_scale = 5 * np.sin(x_scale/z_len*12) +50\n",
    "                    col = 'rgb(200, 200, 200)'\n",
    "                    hover_text += 'Freeride<br>'\n",
    "                    \n",
    "                else:\n",
    "                    x_scale = [temp_s, temp_s, temp_s + z_len, temp_s + z_len]\n",
    "                    y_scale = [0, temp_p , temp_end, 0]\n",
    "                    if temp_p != temp_end:\n",
    "                        hover_text += str(temp_p) + ' bis '+str(temp_end)+' % FTP<br>'\n",
    "                        hover_text += str(round(temp_p*self.ftp/100))+ ' bis '+str(round(temp_end*self.ftp/100))+' w<br>'\n",
    "                    else:\n",
    "                        hover_text += str(temp_end)+' % FTP<br>'\n",
    "                        hover_text += str(round(temp_p*self.ftp/100)) +' w<br>'\n",
    "                        \n",
    "                        \n",
    "                if self.blocks[i]['cad']>0:\n",
    "                    hover_text += str(self.blocks[i]['cad'])+' rpm'\n",
    "                    \n",
    "                trace1=dict(type='scatter',\n",
    "                    x=[temp_s + z_len/2]*4,\n",
    "                    y=[max(temp_end, 40)*k/5 for k in range(1,5)],\n",
    "                    mode='markers',\n",
    "                    text=[hover_text]*4,\n",
    "                    hoverinfo='text',\n",
    "                    marker=dict( color=['rgba(0,0,0,0)']*4),\n",
    "                    showlegend = False)\n",
    "                \n",
    "                fig.add_trace(trace1)\n",
    "                \n",
    "                \n",
    "                    \n",
    "                fig.add_trace(go.Scatter(x=x_scale,\n",
    "                                         y=y_scale,\n",
    "                                         fill='tozeroy', \n",
    "                                         fillcolor = col,\n",
    "                                         hoverinfo = 'text',\n",
    "                                         text = hover_text,\n",
    "                                         legendgroup = col,\n",
    "                                         showlegend = False,\n",
    "                                         mode='lines',\n",
    "                                        line = dict(color='black')), secondary_y=False,)\n",
    "                \n",
    "                fig.add_trace(go.Scatter(x=x_scale[1:3],\n",
    "                                         y=[self.ftp/100*k for k in y_scale[1:3]],\n",
    "                                         hoverinfo='none',\n",
    "                                         showlegend = False,\n",
    "                                         mode='lines',\n",
    "                                        line = dict(color='rgba(0,0,0,0)')), secondary_y=True)\n",
    "                \n",
    "                \n",
    "                if self.blocks[i]['cad']>0:\n",
    "                    hover_text += 'Cadence '+str(self.blocks[i]['cad'])+' rpm'\n",
    "                    \n",
    "                    fig.add_trace(go.Scatter(x=[temp_s, temp_s + z_len],\n",
    "                                         y=[0, 40],\n",
    "                                         legendgroup = col,\n",
    "                                         showlegend = False,\n",
    "                                         mode='lines',\n",
    "                                        hoverinfo='none',\n",
    "                                        line = dict(color='black')),secondary_y=False)\n",
    "                    fig.add_trace(go.Scatter(x=[temp_s, temp_s + z_len],\n",
    "                                         y=[40, 0],\n",
    "                                         legendgroup = col,\n",
    "                                         showlegend = False,\n",
    "                                         mode='lines',\n",
    "                                        hoverinfo='none',\n",
    "                                        line = dict(color='black')),secondary_y=False)\n",
    "                \n",
    "                \n",
    "                \n",
    "                temp_s += z_len\n",
    "                temp_z = temp_z - 1 + int(2*up)\n",
    "                temp_p = temp_end\n",
    "                \n",
    "            \n",
    "            sec += self.blocks[i]['dur']\n",
    "            \n",
    "        fig.update_xaxes(title_text='Zeit')\n",
    "        \n",
    "        fig.update_yaxes(title_text='% FTP', secondary_y=False)\n",
    "        fig.update_yaxes(title_text='Watt', secondary_y=True, showgrid = False)\n",
    "\n",
    "        fig.show()\n",
    "        \n",
    "    \n",
    "        \n",
    "    @staticmethod\n",
    "    def zone(perc):\n",
    "        if perc <= zones[1]:\n",
    "            return 1\n",
    "        elif perc <= zones[2]:\n",
    "            return 2\n",
    "        elif perc <= zones[3]:\n",
    "            return 3\n",
    "        elif perc <= zones[4]:\n",
    "            return 4\n",
    "        elif perc <= zones[5]:\n",
    "            return 5\n",
    "        else:\n",
    "            return 6\n",
    "        \n",
    "    @staticmethod\n",
    "    def syntax(block, warm = False, cool = False):\n",
    "        if not block['interval']:\n",
    "            if block['cad']>0:\n",
    "                cad = ' Cadence=\"'+str(block['cad'])+'\"'\n",
    "            else:\n",
    "                cad = ''\n",
    "\n",
    "            if block['percent'][0] == 0 or block['percent'][1] == 0:\n",
    "\n",
    "                return '\\t\\t<FreeRide Duration=\"'+str(block['dur'])+'\" FlatRoad=\"170\"'+cad+'/>'\n",
    "\n",
    "            elif block['percent'][0] == block['percent'][1]:\n",
    "\n",
    "                return '\\t\\t<SteadyState Duration=\"'+str(block['dur'])+'\" Power=\"'+str(block['percent'][0]/100)+'\" pace=\"0\"'+cad+'/>'\n",
    "\n",
    "            elif block['percent'][0] < block['percent'][1]:\n",
    "                if warm:\n",
    "                    typ = 'Warmup'\n",
    "                else:\n",
    "                    typ = 'Ramp'\n",
    "\n",
    "                return '\\t\\t<'+typ+' Duration=\"'+str(block['dur'])+'\" PowerLow=\"'+str(block['percent'][0]/100)+'\" PowerHigh=\"'+str(block['percent'][1]/100)+'\" pace=\"0\"'+cad+'/>'\n",
    "\n",
    "            elif block['percent'][0] > block['percent'][1]:\n",
    "                if warm:\n",
    "                    typ = 'Cooldown'\n",
    "                else:\n",
    "                    typ = 'Ramp'\n",
    "                return '\\t\\t<'+typ+' Duration=\"'+str(block['dur'])+'\" PowerLow=\"'+str(block['percent'][0]/100)+'\" PowerHigh=\"'+str(block['percent'][1]/100)+'\" pace=\"0\"'+cad+'/>'\n",
    "        \n",
    "        \n",
    "        else:\n",
    "            rep = block['repeats']\n",
    "            on_t = block['dur'][0]\n",
    "            off_t = block['dur'][1]\n",
    "            on_p = block['percent'][0]\n",
    "            off_p = block['percent'][1]\n",
    "            if block['cad'][0]>0:\n",
    "                cad = ' Cadence=\"'+block['cad'][0]+'\" CadenceResting=\"'+block['cad'][1]+'\"'\n",
    "            else:\n",
    "                cad = ''\n",
    "            return '<IntervalsT Repeat=\"'+rep+'\" OnDuration=\"'+on_t+'\" OffDuration=\"'+off_t+'\" OnPower=\"'+on_p+'\" OffPower=\"'+off_p+'\" pace=\"0\"'+cad+'/>'\n",
    "            \n",
    "        \n",
    "    def generate(self, filename):       \n",
    "        for block in self.blocks:\n",
    "            if self.blocks.index(block)==0:\n",
    "                self.zwo += '\\n'\n",
    "                self.zwo += self.syntax(block, warm = True)\n",
    "            elif self.blocks.index(block) == len(self.blocks) -1:\n",
    "                self.zwo += '\\n'\n",
    "                self.zwo += self.syntax(block, cool = True)\n",
    "            else:\n",
    "                self.zwo += '\\n'\n",
    "                self.zwo += self.syntax(block)\n",
    "            \n",
    "        self.zwo += '\\n'\n",
    "        \n",
    "        f = open('foot.txt','r')\n",
    "        foot = f.read()\n",
    "        self.zwo += foot\n",
    "        \n",
    "\n",
    "        f = open(filename + '.zwo', 'w')\n",
    "        f.write(self.zwo)\n",
    "        f.close()\n",
    "        \n",
    "        \n",
    "        #return self.zwo\n",
    "    \n",
    "    \n",
    "    "
   ]
  },
  {
   "cell_type": "code",
   "execution_count": 252,
   "metadata": {},
   "outputs": [
    {
     "data": {
      "application/vnd.plotly.v1+json": {
       "config": {
        "plotlyServerURL": "https://plot.ly"
       },
       "data": [
        {
         "hoverinfo": "text",
         "marker": {
          "color": [
           "rgba(0,0,0,0)",
           "rgba(0,0,0,0)",
           "rgba(0,0,0,0)",
           "rgba(0,0,0,0)"
          ]
         },
         "mode": "markers",
         "showlegend": false,
         "text": [
          "ID: 0<br>270.0 sek <br>50 bis 59 % FTP<br>158 bis 186 w<br>",
          "ID: 0<br>270.0 sek <br>50 bis 59 % FTP<br>158 bis 186 w<br>",
          "ID: 0<br>270.0 sek <br>50 bis 59 % FTP<br>158 bis 186 w<br>",
          "ID: 0<br>270.0 sek <br>50 bis 59 % FTP<br>158 bis 186 w<br>"
         ],
         "type": "scatter",
         "x": [
          135,
          135,
          135,
          135
         ],
         "y": [
          11.8,
          23.6,
          35.4,
          47.2
         ]
        },
        {
         "fill": "tozeroy",
         "fillcolor": "grey",
         "hoverinfo": "text",
         "legendgroup": "grey",
         "line": {
          "color": "black"
         },
         "mode": "lines",
         "showlegend": false,
         "text": "ID: 0<br>270.0 sek <br>50 bis 59 % FTP<br>158 bis 186 w<br>",
         "type": "scatter",
         "x": [
          0,
          0,
          270,
          270
         ],
         "xaxis": "x",
         "y": [
          0,
          50,
          59,
          0
         ],
         "yaxis": "y"
        },
        {
         "hoverinfo": "none",
         "line": {
          "color": "rgba(0,0,0,0)"
         },
         "mode": "lines",
         "showlegend": false,
         "type": "scatter",
         "x": [
          0,
          270
         ],
         "xaxis": "x",
         "y": [
          157.5,
          185.85
         ],
         "yaxis": "y2"
        },
        {
         "hoverinfo": "text",
         "marker": {
          "color": [
           "rgba(0,0,0,0)",
           "rgba(0,0,0,0)",
           "rgba(0,0,0,0)",
           "rgba(0,0,0,0)"
          ]
         },
         "mode": "markers",
         "showlegend": false,
         "text": [
          "ID: 0<br>330.0 sek <br>59 bis 70 % FTP<br>186 bis 220 w<br>",
          "ID: 0<br>330.0 sek <br>59 bis 70 % FTP<br>186 bis 220 w<br>",
          "ID: 0<br>330.0 sek <br>59 bis 70 % FTP<br>186 bis 220 w<br>",
          "ID: 0<br>330.0 sek <br>59 bis 70 % FTP<br>186 bis 220 w<br>"
         ],
         "type": "scatter",
         "x": [
          435,
          435,
          435,
          435
         ],
         "y": [
          14,
          28,
          42,
          56
         ]
        },
        {
         "fill": "tozeroy",
         "fillcolor": "blue",
         "hoverinfo": "text",
         "legendgroup": "blue",
         "line": {
          "color": "black"
         },
         "mode": "lines",
         "showlegend": false,
         "text": "ID: 0<br>330.0 sek <br>59 bis 70 % FTP<br>186 bis 220 w<br>",
         "type": "scatter",
         "x": [
          270,
          270,
          600,
          600
         ],
         "xaxis": "x",
         "y": [
          0,
          59,
          70,
          0
         ],
         "yaxis": "y"
        },
        {
         "hoverinfo": "none",
         "line": {
          "color": "rgba(0,0,0,0)"
         },
         "mode": "lines",
         "showlegend": false,
         "type": "scatter",
         "x": [
          270,
          600
         ],
         "xaxis": "x",
         "y": [
          185.85,
          220.5
         ],
         "yaxis": "y2"
        },
        {
         "hoverinfo": "text",
         "marker": {
          "color": [
           "rgba(0,0,0,0)",
           "rgba(0,0,0,0)",
           "rgba(0,0,0,0)",
           "rgba(0,0,0,0)"
          ]
         },
         "mode": "markers",
         "showlegend": false,
         "text": [
          "ID: 1<br>45 sek <br>80 % FTP<br>252 w<br>",
          "ID: 1<br>45 sek <br>80 % FTP<br>252 w<br>",
          "ID: 1<br>45 sek <br>80 % FTP<br>252 w<br>",
          "ID: 1<br>45 sek <br>80 % FTP<br>252 w<br>"
         ],
         "type": "scatter",
         "x": [
          622.5,
          622.5,
          622.5,
          622.5
         ],
         "y": [
          16,
          32,
          48,
          64
         ]
        },
        {
         "fill": "tozeroy",
         "fillcolor": "green",
         "hoverinfo": "text",
         "legendgroup": "green",
         "line": {
          "color": "black"
         },
         "mode": "lines",
         "showlegend": false,
         "text": "ID: 1<br>45 sek <br>80 % FTP<br>252 w<br>",
         "type": "scatter",
         "x": [
          600,
          600,
          645,
          645
         ],
         "xaxis": "x",
         "y": [
          0,
          80,
          80,
          0
         ],
         "yaxis": "y"
        },
        {
         "hoverinfo": "none",
         "line": {
          "color": "rgba(0,0,0,0)"
         },
         "mode": "lines",
         "showlegend": false,
         "type": "scatter",
         "x": [
          600,
          645
         ],
         "xaxis": "x",
         "y": [
          252,
          252
         ],
         "yaxis": "y2"
        },
        {
         "hoverinfo": "text",
         "marker": {
          "color": [
           "rgba(0,0,0,0)",
           "rgba(0,0,0,0)",
           "rgba(0,0,0,0)",
           "rgba(0,0,0,0)"
          ]
         },
         "mode": "markers",
         "showlegend": false,
         "text": [
          "ID: 2<br>45 sek <br>90 % FTP<br>284 w<br>",
          "ID: 2<br>45 sek <br>90 % FTP<br>284 w<br>",
          "ID: 2<br>45 sek <br>90 % FTP<br>284 w<br>",
          "ID: 2<br>45 sek <br>90 % FTP<br>284 w<br>"
         ],
         "type": "scatter",
         "x": [
          667.5,
          667.5,
          667.5,
          667.5
         ],
         "y": [
          18,
          36,
          54,
          72
         ]
        },
        {
         "fill": "tozeroy",
         "fillcolor": "yellow",
         "hoverinfo": "text",
         "legendgroup": "yellow",
         "line": {
          "color": "black"
         },
         "mode": "lines",
         "showlegend": false,
         "text": "ID: 2<br>45 sek <br>90 % FTP<br>284 w<br>",
         "type": "scatter",
         "x": [
          645,
          645,
          690,
          690
         ],
         "xaxis": "x",
         "y": [
          0,
          90,
          90,
          0
         ],
         "yaxis": "y"
        },
        {
         "hoverinfo": "none",
         "line": {
          "color": "rgba(0,0,0,0)"
         },
         "mode": "lines",
         "showlegend": false,
         "type": "scatter",
         "x": [
          645,
          690
         ],
         "xaxis": "x",
         "y": [
          283.5,
          283.5
         ],
         "yaxis": "y2"
        },
        {
         "hoverinfo": "text",
         "marker": {
          "color": [
           "rgba(0,0,0,0)",
           "rgba(0,0,0,0)",
           "rgba(0,0,0,0)",
           "rgba(0,0,0,0)"
          ]
         },
         "mode": "markers",
         "showlegend": false,
         "text": [
          "ID: 3<br>45 sek <br>100 % FTP<br>315 w<br>",
          "ID: 3<br>45 sek <br>100 % FTP<br>315 w<br>",
          "ID: 3<br>45 sek <br>100 % FTP<br>315 w<br>",
          "ID: 3<br>45 sek <br>100 % FTP<br>315 w<br>"
         ],
         "type": "scatter",
         "x": [
          712.5,
          712.5,
          712.5,
          712.5
         ],
         "y": [
          20,
          40,
          60,
          80
         ]
        },
        {
         "fill": "tozeroy",
         "fillcolor": "yellow",
         "hoverinfo": "text",
         "legendgroup": "yellow",
         "line": {
          "color": "black"
         },
         "mode": "lines",
         "showlegend": false,
         "text": "ID: 3<br>45 sek <br>100 % FTP<br>315 w<br>",
         "type": "scatter",
         "x": [
          690,
          690,
          735,
          735
         ],
         "xaxis": "x",
         "y": [
          0,
          100,
          100,
          0
         ],
         "yaxis": "y"
        },
        {
         "hoverinfo": "none",
         "line": {
          "color": "rgba(0,0,0,0)"
         },
         "mode": "lines",
         "showlegend": false,
         "type": "scatter",
         "x": [
          690,
          735
         ],
         "xaxis": "x",
         "y": [
          315,
          315
         ],
         "yaxis": "y2"
        },
        {
         "hoverinfo": "text",
         "marker": {
          "color": [
           "rgba(0,0,0,0)",
           "rgba(0,0,0,0)",
           "rgba(0,0,0,0)",
           "rgba(0,0,0,0)"
          ]
         },
         "mode": "markers",
         "showlegend": false,
         "text": [
          "ID: 4<br>45 sek <br>90 % FTP<br>284 w<br>",
          "ID: 4<br>45 sek <br>90 % FTP<br>284 w<br>",
          "ID: 4<br>45 sek <br>90 % FTP<br>284 w<br>",
          "ID: 4<br>45 sek <br>90 % FTP<br>284 w<br>"
         ],
         "type": "scatter",
         "x": [
          757.5,
          757.5,
          757.5,
          757.5
         ],
         "y": [
          18,
          36,
          54,
          72
         ]
        },
        {
         "fill": "tozeroy",
         "fillcolor": "yellow",
         "hoverinfo": "text",
         "legendgroup": "yellow",
         "line": {
          "color": "black"
         },
         "mode": "lines",
         "showlegend": false,
         "text": "ID: 4<br>45 sek <br>90 % FTP<br>284 w<br>",
         "type": "scatter",
         "x": [
          735,
          735,
          780,
          780
         ],
         "xaxis": "x",
         "y": [
          0,
          90,
          90,
          0
         ],
         "yaxis": "y"
        },
        {
         "hoverinfo": "none",
         "line": {
          "color": "rgba(0,0,0,0)"
         },
         "mode": "lines",
         "showlegend": false,
         "type": "scatter",
         "x": [
          735,
          780
         ],
         "xaxis": "x",
         "y": [
          283.5,
          283.5
         ],
         "yaxis": "y2"
        },
        {
         "hoverinfo": "text",
         "marker": {
          "color": [
           "rgba(0,0,0,0)",
           "rgba(0,0,0,0)",
           "rgba(0,0,0,0)",
           "rgba(0,0,0,0)"
          ]
         },
         "mode": "markers",
         "showlegend": false,
         "text": [
          "ID: 5<br>45 sek <br>80 % FTP<br>252 w<br>",
          "ID: 5<br>45 sek <br>80 % FTP<br>252 w<br>",
          "ID: 5<br>45 sek <br>80 % FTP<br>252 w<br>",
          "ID: 5<br>45 sek <br>80 % FTP<br>252 w<br>"
         ],
         "type": "scatter",
         "x": [
          802.5,
          802.5,
          802.5,
          802.5
         ],
         "y": [
          16,
          32,
          48,
          64
         ]
        },
        {
         "fill": "tozeroy",
         "fillcolor": "green",
         "hoverinfo": "text",
         "legendgroup": "green",
         "line": {
          "color": "black"
         },
         "mode": "lines",
         "showlegend": false,
         "text": "ID: 5<br>45 sek <br>80 % FTP<br>252 w<br>",
         "type": "scatter",
         "x": [
          780,
          780,
          825,
          825
         ],
         "xaxis": "x",
         "y": [
          0,
          80,
          80,
          0
         ],
         "yaxis": "y"
        },
        {
         "hoverinfo": "none",
         "line": {
          "color": "rgba(0,0,0,0)"
         },
         "mode": "lines",
         "showlegend": false,
         "type": "scatter",
         "x": [
          780,
          825
         ],
         "xaxis": "x",
         "y": [
          252,
          252
         ],
         "yaxis": "y2"
        },
        {
         "hoverinfo": "text",
         "marker": {
          "color": [
           "rgba(0,0,0,0)",
           "rgba(0,0,0,0)",
           "rgba(0,0,0,0)",
           "rgba(0,0,0,0)"
          ]
         },
         "mode": "markers",
         "showlegend": false,
         "text": [
          "ID: 6<br>480 sek <br>65 % FTP<br>205 w<br>",
          "ID: 6<br>480 sek <br>65 % FTP<br>205 w<br>",
          "ID: 6<br>480 sek <br>65 % FTP<br>205 w<br>",
          "ID: 6<br>480 sek <br>65 % FTP<br>205 w<br>"
         ],
         "type": "scatter",
         "x": [
          1065,
          1065,
          1065,
          1065
         ],
         "y": [
          13,
          26,
          39,
          52
         ]
        },
        {
         "fill": "tozeroy",
         "fillcolor": "blue",
         "hoverinfo": "text",
         "legendgroup": "blue",
         "line": {
          "color": "black"
         },
         "mode": "lines",
         "showlegend": false,
         "text": "ID: 6<br>480 sek <br>65 % FTP<br>205 w<br>",
         "type": "scatter",
         "x": [
          825,
          825,
          1305,
          1305
         ],
         "xaxis": "x",
         "y": [
          0,
          65,
          65,
          0
         ],
         "yaxis": "y"
        },
        {
         "hoverinfo": "none",
         "line": {
          "color": "rgba(0,0,0,0)"
         },
         "mode": "lines",
         "showlegend": false,
         "type": "scatter",
         "x": [
          825,
          1305
         ],
         "xaxis": "x",
         "y": [
          204.75,
          204.75
         ],
         "yaxis": "y2"
        },
        {
         "hoverinfo": "text",
         "marker": {
          "color": [
           "rgba(0,0,0,0)",
           "rgba(0,0,0,0)",
           "rgba(0,0,0,0)",
           "rgba(0,0,0,0)"
          ]
         },
         "mode": "markers",
         "showlegend": false,
         "text": [
          "ID: 7<br>45 sek <br>80 % FTP<br>252 w<br>",
          "ID: 7<br>45 sek <br>80 % FTP<br>252 w<br>",
          "ID: 7<br>45 sek <br>80 % FTP<br>252 w<br>",
          "ID: 7<br>45 sek <br>80 % FTP<br>252 w<br>"
         ],
         "type": "scatter",
         "x": [
          1327.5,
          1327.5,
          1327.5,
          1327.5
         ],
         "y": [
          16,
          32,
          48,
          64
         ]
        },
        {
         "fill": "tozeroy",
         "fillcolor": "green",
         "hoverinfo": "text",
         "legendgroup": "green",
         "line": {
          "color": "black"
         },
         "mode": "lines",
         "showlegend": false,
         "text": "ID: 7<br>45 sek <br>80 % FTP<br>252 w<br>",
         "type": "scatter",
         "x": [
          1305,
          1305,
          1350,
          1350
         ],
         "xaxis": "x",
         "y": [
          0,
          80,
          80,
          0
         ],
         "yaxis": "y"
        },
        {
         "hoverinfo": "none",
         "line": {
          "color": "rgba(0,0,0,0)"
         },
         "mode": "lines",
         "showlegend": false,
         "type": "scatter",
         "x": [
          1305,
          1350
         ],
         "xaxis": "x",
         "y": [
          252,
          252
         ],
         "yaxis": "y2"
        },
        {
         "hoverinfo": "text",
         "marker": {
          "color": [
           "rgba(0,0,0,0)",
           "rgba(0,0,0,0)",
           "rgba(0,0,0,0)",
           "rgba(0,0,0,0)"
          ]
         },
         "mode": "markers",
         "showlegend": false,
         "text": [
          "ID: 8<br>45 sek <br>90 % FTP<br>284 w<br>",
          "ID: 8<br>45 sek <br>90 % FTP<br>284 w<br>",
          "ID: 8<br>45 sek <br>90 % FTP<br>284 w<br>",
          "ID: 8<br>45 sek <br>90 % FTP<br>284 w<br>"
         ],
         "type": "scatter",
         "x": [
          1372.5,
          1372.5,
          1372.5,
          1372.5
         ],
         "y": [
          18,
          36,
          54,
          72
         ]
        },
        {
         "fill": "tozeroy",
         "fillcolor": "yellow",
         "hoverinfo": "text",
         "legendgroup": "yellow",
         "line": {
          "color": "black"
         },
         "mode": "lines",
         "showlegend": false,
         "text": "ID: 8<br>45 sek <br>90 % FTP<br>284 w<br>",
         "type": "scatter",
         "x": [
          1350,
          1350,
          1395,
          1395
         ],
         "xaxis": "x",
         "y": [
          0,
          90,
          90,
          0
         ],
         "yaxis": "y"
        },
        {
         "hoverinfo": "none",
         "line": {
          "color": "rgba(0,0,0,0)"
         },
         "mode": "lines",
         "showlegend": false,
         "type": "scatter",
         "x": [
          1350,
          1395
         ],
         "xaxis": "x",
         "y": [
          283.5,
          283.5
         ],
         "yaxis": "y2"
        },
        {
         "hoverinfo": "text",
         "marker": {
          "color": [
           "rgba(0,0,0,0)",
           "rgba(0,0,0,0)",
           "rgba(0,0,0,0)",
           "rgba(0,0,0,0)"
          ]
         },
         "mode": "markers",
         "showlegend": false,
         "text": [
          "ID: 9<br>45 sek <br>100 % FTP<br>315 w<br>",
          "ID: 9<br>45 sek <br>100 % FTP<br>315 w<br>",
          "ID: 9<br>45 sek <br>100 % FTP<br>315 w<br>",
          "ID: 9<br>45 sek <br>100 % FTP<br>315 w<br>"
         ],
         "type": "scatter",
         "x": [
          1417.5,
          1417.5,
          1417.5,
          1417.5
         ],
         "y": [
          20,
          40,
          60,
          80
         ]
        },
        {
         "fill": "tozeroy",
         "fillcolor": "yellow",
         "hoverinfo": "text",
         "legendgroup": "yellow",
         "line": {
          "color": "black"
         },
         "mode": "lines",
         "showlegend": false,
         "text": "ID: 9<br>45 sek <br>100 % FTP<br>315 w<br>",
         "type": "scatter",
         "x": [
          1395,
          1395,
          1440,
          1440
         ],
         "xaxis": "x",
         "y": [
          0,
          100,
          100,
          0
         ],
         "yaxis": "y"
        },
        {
         "hoverinfo": "none",
         "line": {
          "color": "rgba(0,0,0,0)"
         },
         "mode": "lines",
         "showlegend": false,
         "type": "scatter",
         "x": [
          1395,
          1440
         ],
         "xaxis": "x",
         "y": [
          315,
          315
         ],
         "yaxis": "y2"
        },
        {
         "hoverinfo": "text",
         "marker": {
          "color": [
           "rgba(0,0,0,0)",
           "rgba(0,0,0,0)",
           "rgba(0,0,0,0)",
           "rgba(0,0,0,0)"
          ]
         },
         "mode": "markers",
         "showlegend": false,
         "text": [
          "ID: 10<br>45 sek <br>90 % FTP<br>284 w<br>",
          "ID: 10<br>45 sek <br>90 % FTP<br>284 w<br>",
          "ID: 10<br>45 sek <br>90 % FTP<br>284 w<br>",
          "ID: 10<br>45 sek <br>90 % FTP<br>284 w<br>"
         ],
         "type": "scatter",
         "x": [
          1462.5,
          1462.5,
          1462.5,
          1462.5
         ],
         "y": [
          18,
          36,
          54,
          72
         ]
        },
        {
         "fill": "tozeroy",
         "fillcolor": "yellow",
         "hoverinfo": "text",
         "legendgroup": "yellow",
         "line": {
          "color": "black"
         },
         "mode": "lines",
         "showlegend": false,
         "text": "ID: 10<br>45 sek <br>90 % FTP<br>284 w<br>",
         "type": "scatter",
         "x": [
          1440,
          1440,
          1485,
          1485
         ],
         "xaxis": "x",
         "y": [
          0,
          90,
          90,
          0
         ],
         "yaxis": "y"
        },
        {
         "hoverinfo": "none",
         "line": {
          "color": "rgba(0,0,0,0)"
         },
         "mode": "lines",
         "showlegend": false,
         "type": "scatter",
         "x": [
          1440,
          1485
         ],
         "xaxis": "x",
         "y": [
          283.5,
          283.5
         ],
         "yaxis": "y2"
        },
        {
         "hoverinfo": "text",
         "marker": {
          "color": [
           "rgba(0,0,0,0)",
           "rgba(0,0,0,0)",
           "rgba(0,0,0,0)",
           "rgba(0,0,0,0)"
          ]
         },
         "mode": "markers",
         "showlegend": false,
         "text": [
          "ID: 11<br>45 sek <br>80 % FTP<br>252 w<br>",
          "ID: 11<br>45 sek <br>80 % FTP<br>252 w<br>",
          "ID: 11<br>45 sek <br>80 % FTP<br>252 w<br>",
          "ID: 11<br>45 sek <br>80 % FTP<br>252 w<br>"
         ],
         "type": "scatter",
         "x": [
          1507.5,
          1507.5,
          1507.5,
          1507.5
         ],
         "y": [
          16,
          32,
          48,
          64
         ]
        },
        {
         "fill": "tozeroy",
         "fillcolor": "green",
         "hoverinfo": "text",
         "legendgroup": "green",
         "line": {
          "color": "black"
         },
         "mode": "lines",
         "showlegend": false,
         "text": "ID: 11<br>45 sek <br>80 % FTP<br>252 w<br>",
         "type": "scatter",
         "x": [
          1485,
          1485,
          1530,
          1530
         ],
         "xaxis": "x",
         "y": [
          0,
          80,
          80,
          0
         ],
         "yaxis": "y"
        },
        {
         "hoverinfo": "none",
         "line": {
          "color": "rgba(0,0,0,0)"
         },
         "mode": "lines",
         "showlegend": false,
         "type": "scatter",
         "x": [
          1485,
          1530
         ],
         "xaxis": "x",
         "y": [
          252,
          252
         ],
         "yaxis": "y2"
        },
        {
         "hoverinfo": "text",
         "marker": {
          "color": [
           "rgba(0,0,0,0)",
           "rgba(0,0,0,0)",
           "rgba(0,0,0,0)",
           "rgba(0,0,0,0)"
          ]
         },
         "mode": "markers",
         "showlegend": false,
         "text": [
          "ID: 12<br>480 sek <br>65 % FTP<br>205 w<br>",
          "ID: 12<br>480 sek <br>65 % FTP<br>205 w<br>",
          "ID: 12<br>480 sek <br>65 % FTP<br>205 w<br>",
          "ID: 12<br>480 sek <br>65 % FTP<br>205 w<br>"
         ],
         "type": "scatter",
         "x": [
          1770,
          1770,
          1770,
          1770
         ],
         "y": [
          13,
          26,
          39,
          52
         ]
        },
        {
         "fill": "tozeroy",
         "fillcolor": "blue",
         "hoverinfo": "text",
         "legendgroup": "blue",
         "line": {
          "color": "black"
         },
         "mode": "lines",
         "showlegend": false,
         "text": "ID: 12<br>480 sek <br>65 % FTP<br>205 w<br>",
         "type": "scatter",
         "x": [
          1530,
          1530,
          2010,
          2010
         ],
         "xaxis": "x",
         "y": [
          0,
          65,
          65,
          0
         ],
         "yaxis": "y"
        },
        {
         "hoverinfo": "none",
         "line": {
          "color": "rgba(0,0,0,0)"
         },
         "mode": "lines",
         "showlegend": false,
         "type": "scatter",
         "x": [
          1530,
          2010
         ],
         "xaxis": "x",
         "y": [
          204.75,
          204.75
         ],
         "yaxis": "y2"
        },
        {
         "hoverinfo": "text",
         "marker": {
          "color": [
           "rgba(0,0,0,0)",
           "rgba(0,0,0,0)",
           "rgba(0,0,0,0)",
           "rgba(0,0,0,0)"
          ]
         },
         "mode": "markers",
         "showlegend": false,
         "text": [
          "ID: 13<br>45 sek <br>80 % FTP<br>252 w<br>",
          "ID: 13<br>45 sek <br>80 % FTP<br>252 w<br>",
          "ID: 13<br>45 sek <br>80 % FTP<br>252 w<br>",
          "ID: 13<br>45 sek <br>80 % FTP<br>252 w<br>"
         ],
         "type": "scatter",
         "x": [
          2032.5,
          2032.5,
          2032.5,
          2032.5
         ],
         "y": [
          16,
          32,
          48,
          64
         ]
        },
        {
         "fill": "tozeroy",
         "fillcolor": "green",
         "hoverinfo": "text",
         "legendgroup": "green",
         "line": {
          "color": "black"
         },
         "mode": "lines",
         "showlegend": false,
         "text": "ID: 13<br>45 sek <br>80 % FTP<br>252 w<br>",
         "type": "scatter",
         "x": [
          2010,
          2010,
          2055,
          2055
         ],
         "xaxis": "x",
         "y": [
          0,
          80,
          80,
          0
         ],
         "yaxis": "y"
        },
        {
         "hoverinfo": "none",
         "line": {
          "color": "rgba(0,0,0,0)"
         },
         "mode": "lines",
         "showlegend": false,
         "type": "scatter",
         "x": [
          2010,
          2055
         ],
         "xaxis": "x",
         "y": [
          252,
          252
         ],
         "yaxis": "y2"
        },
        {
         "hoverinfo": "text",
         "marker": {
          "color": [
           "rgba(0,0,0,0)",
           "rgba(0,0,0,0)",
           "rgba(0,0,0,0)",
           "rgba(0,0,0,0)"
          ]
         },
         "mode": "markers",
         "showlegend": false,
         "text": [
          "ID: 14<br>45 sek <br>90 % FTP<br>284 w<br>",
          "ID: 14<br>45 sek <br>90 % FTP<br>284 w<br>",
          "ID: 14<br>45 sek <br>90 % FTP<br>284 w<br>",
          "ID: 14<br>45 sek <br>90 % FTP<br>284 w<br>"
         ],
         "type": "scatter",
         "x": [
          2077.5,
          2077.5,
          2077.5,
          2077.5
         ],
         "y": [
          18,
          36,
          54,
          72
         ]
        },
        {
         "fill": "tozeroy",
         "fillcolor": "yellow",
         "hoverinfo": "text",
         "legendgroup": "yellow",
         "line": {
          "color": "black"
         },
         "mode": "lines",
         "showlegend": false,
         "text": "ID: 14<br>45 sek <br>90 % FTP<br>284 w<br>",
         "type": "scatter",
         "x": [
          2055,
          2055,
          2100,
          2100
         ],
         "xaxis": "x",
         "y": [
          0,
          90,
          90,
          0
         ],
         "yaxis": "y"
        },
        {
         "hoverinfo": "none",
         "line": {
          "color": "rgba(0,0,0,0)"
         },
         "mode": "lines",
         "showlegend": false,
         "type": "scatter",
         "x": [
          2055,
          2100
         ],
         "xaxis": "x",
         "y": [
          283.5,
          283.5
         ],
         "yaxis": "y2"
        },
        {
         "hoverinfo": "text",
         "marker": {
          "color": [
           "rgba(0,0,0,0)",
           "rgba(0,0,0,0)",
           "rgba(0,0,0,0)",
           "rgba(0,0,0,0)"
          ]
         },
         "mode": "markers",
         "showlegend": false,
         "text": [
          "ID: 15<br>45 sek <br>100 % FTP<br>315 w<br>",
          "ID: 15<br>45 sek <br>100 % FTP<br>315 w<br>",
          "ID: 15<br>45 sek <br>100 % FTP<br>315 w<br>",
          "ID: 15<br>45 sek <br>100 % FTP<br>315 w<br>"
         ],
         "type": "scatter",
         "x": [
          2122.5,
          2122.5,
          2122.5,
          2122.5
         ],
         "y": [
          20,
          40,
          60,
          80
         ]
        },
        {
         "fill": "tozeroy",
         "fillcolor": "yellow",
         "hoverinfo": "text",
         "legendgroup": "yellow",
         "line": {
          "color": "black"
         },
         "mode": "lines",
         "showlegend": false,
         "text": "ID: 15<br>45 sek <br>100 % FTP<br>315 w<br>",
         "type": "scatter",
         "x": [
          2100,
          2100,
          2145,
          2145
         ],
         "xaxis": "x",
         "y": [
          0,
          100,
          100,
          0
         ],
         "yaxis": "y"
        },
        {
         "hoverinfo": "none",
         "line": {
          "color": "rgba(0,0,0,0)"
         },
         "mode": "lines",
         "showlegend": false,
         "type": "scatter",
         "x": [
          2100,
          2145
         ],
         "xaxis": "x",
         "y": [
          315,
          315
         ],
         "yaxis": "y2"
        },
        {
         "hoverinfo": "text",
         "marker": {
          "color": [
           "rgba(0,0,0,0)",
           "rgba(0,0,0,0)",
           "rgba(0,0,0,0)",
           "rgba(0,0,0,0)"
          ]
         },
         "mode": "markers",
         "showlegend": false,
         "text": [
          "ID: 16<br>45 sek <br>90 % FTP<br>284 w<br>",
          "ID: 16<br>45 sek <br>90 % FTP<br>284 w<br>",
          "ID: 16<br>45 sek <br>90 % FTP<br>284 w<br>",
          "ID: 16<br>45 sek <br>90 % FTP<br>284 w<br>"
         ],
         "type": "scatter",
         "x": [
          2167.5,
          2167.5,
          2167.5,
          2167.5
         ],
         "y": [
          18,
          36,
          54,
          72
         ]
        },
        {
         "fill": "tozeroy",
         "fillcolor": "yellow",
         "hoverinfo": "text",
         "legendgroup": "yellow",
         "line": {
          "color": "black"
         },
         "mode": "lines",
         "showlegend": false,
         "text": "ID: 16<br>45 sek <br>90 % FTP<br>284 w<br>",
         "type": "scatter",
         "x": [
          2145,
          2145,
          2190,
          2190
         ],
         "xaxis": "x",
         "y": [
          0,
          90,
          90,
          0
         ],
         "yaxis": "y"
        },
        {
         "hoverinfo": "none",
         "line": {
          "color": "rgba(0,0,0,0)"
         },
         "mode": "lines",
         "showlegend": false,
         "type": "scatter",
         "x": [
          2145,
          2190
         ],
         "xaxis": "x",
         "y": [
          283.5,
          283.5
         ],
         "yaxis": "y2"
        },
        {
         "hoverinfo": "text",
         "marker": {
          "color": [
           "rgba(0,0,0,0)",
           "rgba(0,0,0,0)",
           "rgba(0,0,0,0)",
           "rgba(0,0,0,0)"
          ]
         },
         "mode": "markers",
         "showlegend": false,
         "text": [
          "ID: 17<br>45 sek <br>80 % FTP<br>252 w<br>",
          "ID: 17<br>45 sek <br>80 % FTP<br>252 w<br>",
          "ID: 17<br>45 sek <br>80 % FTP<br>252 w<br>",
          "ID: 17<br>45 sek <br>80 % FTP<br>252 w<br>"
         ],
         "type": "scatter",
         "x": [
          2212.5,
          2212.5,
          2212.5,
          2212.5
         ],
         "y": [
          16,
          32,
          48,
          64
         ]
        },
        {
         "fill": "tozeroy",
         "fillcolor": "green",
         "hoverinfo": "text",
         "legendgroup": "green",
         "line": {
          "color": "black"
         },
         "mode": "lines",
         "showlegend": false,
         "text": "ID: 17<br>45 sek <br>80 % FTP<br>252 w<br>",
         "type": "scatter",
         "x": [
          2190,
          2190,
          2235,
          2235
         ],
         "xaxis": "x",
         "y": [
          0,
          80,
          80,
          0
         ],
         "yaxis": "y"
        },
        {
         "hoverinfo": "none",
         "line": {
          "color": "rgba(0,0,0,0)"
         },
         "mode": "lines",
         "showlegend": false,
         "type": "scatter",
         "x": [
          2190,
          2235
         ],
         "xaxis": "x",
         "y": [
          252,
          252
         ],
         "yaxis": "y2"
        },
        {
         "hoverinfo": "text",
         "marker": {
          "color": [
           "rgba(0,0,0,0)",
           "rgba(0,0,0,0)",
           "rgba(0,0,0,0)",
           "rgba(0,0,0,0)"
          ]
         },
         "mode": "markers",
         "showlegend": false,
         "text": [
          "ID: 18<br>480 sek <br>65 % FTP<br>205 w<br>",
          "ID: 18<br>480 sek <br>65 % FTP<br>205 w<br>",
          "ID: 18<br>480 sek <br>65 % FTP<br>205 w<br>",
          "ID: 18<br>480 sek <br>65 % FTP<br>205 w<br>"
         ],
         "type": "scatter",
         "x": [
          2475,
          2475,
          2475,
          2475
         ],
         "y": [
          13,
          26,
          39,
          52
         ]
        },
        {
         "fill": "tozeroy",
         "fillcolor": "blue",
         "hoverinfo": "text",
         "legendgroup": "blue",
         "line": {
          "color": "black"
         },
         "mode": "lines",
         "showlegend": false,
         "text": "ID: 18<br>480 sek <br>65 % FTP<br>205 w<br>",
         "type": "scatter",
         "x": [
          2235,
          2235,
          2715,
          2715
         ],
         "xaxis": "x",
         "y": [
          0,
          65,
          65,
          0
         ],
         "yaxis": "y"
        },
        {
         "hoverinfo": "none",
         "line": {
          "color": "rgba(0,0,0,0)"
         },
         "mode": "lines",
         "showlegend": false,
         "type": "scatter",
         "x": [
          2235,
          2715
         ],
         "xaxis": "x",
         "y": [
          204.75,
          204.75
         ],
         "yaxis": "y2"
        },
        {
         "hoverinfo": "text",
         "marker": {
          "color": [
           "rgba(0,0,0,0)",
           "rgba(0,0,0,0)",
           "rgba(0,0,0,0)",
           "rgba(0,0,0,0)"
          ]
         },
         "mode": "markers",
         "showlegend": false,
         "text": [
          "ID: 19<br>45 sek <br>80 % FTP<br>252 w<br>",
          "ID: 19<br>45 sek <br>80 % FTP<br>252 w<br>",
          "ID: 19<br>45 sek <br>80 % FTP<br>252 w<br>",
          "ID: 19<br>45 sek <br>80 % FTP<br>252 w<br>"
         ],
         "type": "scatter",
         "x": [
          2737.5,
          2737.5,
          2737.5,
          2737.5
         ],
         "y": [
          16,
          32,
          48,
          64
         ]
        },
        {
         "fill": "tozeroy",
         "fillcolor": "green",
         "hoverinfo": "text",
         "legendgroup": "green",
         "line": {
          "color": "black"
         },
         "mode": "lines",
         "showlegend": false,
         "text": "ID: 19<br>45 sek <br>80 % FTP<br>252 w<br>",
         "type": "scatter",
         "x": [
          2715,
          2715,
          2760,
          2760
         ],
         "xaxis": "x",
         "y": [
          0,
          80,
          80,
          0
         ],
         "yaxis": "y"
        },
        {
         "hoverinfo": "none",
         "line": {
          "color": "rgba(0,0,0,0)"
         },
         "mode": "lines",
         "showlegend": false,
         "type": "scatter",
         "x": [
          2715,
          2760
         ],
         "xaxis": "x",
         "y": [
          252,
          252
         ],
         "yaxis": "y2"
        },
        {
         "hoverinfo": "text",
         "marker": {
          "color": [
           "rgba(0,0,0,0)",
           "rgba(0,0,0,0)",
           "rgba(0,0,0,0)",
           "rgba(0,0,0,0)"
          ]
         },
         "mode": "markers",
         "showlegend": false,
         "text": [
          "ID: 20<br>45 sek <br>90 % FTP<br>284 w<br>",
          "ID: 20<br>45 sek <br>90 % FTP<br>284 w<br>",
          "ID: 20<br>45 sek <br>90 % FTP<br>284 w<br>",
          "ID: 20<br>45 sek <br>90 % FTP<br>284 w<br>"
         ],
         "type": "scatter",
         "x": [
          2782.5,
          2782.5,
          2782.5,
          2782.5
         ],
         "y": [
          18,
          36,
          54,
          72
         ]
        },
        {
         "fill": "tozeroy",
         "fillcolor": "yellow",
         "hoverinfo": "text",
         "legendgroup": "yellow",
         "line": {
          "color": "black"
         },
         "mode": "lines",
         "showlegend": false,
         "text": "ID: 20<br>45 sek <br>90 % FTP<br>284 w<br>",
         "type": "scatter",
         "x": [
          2760,
          2760,
          2805,
          2805
         ],
         "xaxis": "x",
         "y": [
          0,
          90,
          90,
          0
         ],
         "yaxis": "y"
        },
        {
         "hoverinfo": "none",
         "line": {
          "color": "rgba(0,0,0,0)"
         },
         "mode": "lines",
         "showlegend": false,
         "type": "scatter",
         "x": [
          2760,
          2805
         ],
         "xaxis": "x",
         "y": [
          283.5,
          283.5
         ],
         "yaxis": "y2"
        },
        {
         "hoverinfo": "text",
         "marker": {
          "color": [
           "rgba(0,0,0,0)",
           "rgba(0,0,0,0)",
           "rgba(0,0,0,0)",
           "rgba(0,0,0,0)"
          ]
         },
         "mode": "markers",
         "showlegend": false,
         "text": [
          "ID: 21<br>45 sek <br>100 % FTP<br>315 w<br>",
          "ID: 21<br>45 sek <br>100 % FTP<br>315 w<br>",
          "ID: 21<br>45 sek <br>100 % FTP<br>315 w<br>",
          "ID: 21<br>45 sek <br>100 % FTP<br>315 w<br>"
         ],
         "type": "scatter",
         "x": [
          2827.5,
          2827.5,
          2827.5,
          2827.5
         ],
         "y": [
          20,
          40,
          60,
          80
         ]
        },
        {
         "fill": "tozeroy",
         "fillcolor": "yellow",
         "hoverinfo": "text",
         "legendgroup": "yellow",
         "line": {
          "color": "black"
         },
         "mode": "lines",
         "showlegend": false,
         "text": "ID: 21<br>45 sek <br>100 % FTP<br>315 w<br>",
         "type": "scatter",
         "x": [
          2805,
          2805,
          2850,
          2850
         ],
         "xaxis": "x",
         "y": [
          0,
          100,
          100,
          0
         ],
         "yaxis": "y"
        },
        {
         "hoverinfo": "none",
         "line": {
          "color": "rgba(0,0,0,0)"
         },
         "mode": "lines",
         "showlegend": false,
         "type": "scatter",
         "x": [
          2805,
          2850
         ],
         "xaxis": "x",
         "y": [
          315,
          315
         ],
         "yaxis": "y2"
        },
        {
         "hoverinfo": "text",
         "marker": {
          "color": [
           "rgba(0,0,0,0)",
           "rgba(0,0,0,0)",
           "rgba(0,0,0,0)",
           "rgba(0,0,0,0)"
          ]
         },
         "mode": "markers",
         "showlegend": false,
         "text": [
          "ID: 22<br>45 sek <br>90 % FTP<br>284 w<br>",
          "ID: 22<br>45 sek <br>90 % FTP<br>284 w<br>",
          "ID: 22<br>45 sek <br>90 % FTP<br>284 w<br>",
          "ID: 22<br>45 sek <br>90 % FTP<br>284 w<br>"
         ],
         "type": "scatter",
         "x": [
          2872.5,
          2872.5,
          2872.5,
          2872.5
         ],
         "y": [
          18,
          36,
          54,
          72
         ]
        },
        {
         "fill": "tozeroy",
         "fillcolor": "yellow",
         "hoverinfo": "text",
         "legendgroup": "yellow",
         "line": {
          "color": "black"
         },
         "mode": "lines",
         "showlegend": false,
         "text": "ID: 22<br>45 sek <br>90 % FTP<br>284 w<br>",
         "type": "scatter",
         "x": [
          2850,
          2850,
          2895,
          2895
         ],
         "xaxis": "x",
         "y": [
          0,
          90,
          90,
          0
         ],
         "yaxis": "y"
        },
        {
         "hoverinfo": "none",
         "line": {
          "color": "rgba(0,0,0,0)"
         },
         "mode": "lines",
         "showlegend": false,
         "type": "scatter",
         "x": [
          2850,
          2895
         ],
         "xaxis": "x",
         "y": [
          283.5,
          283.5
         ],
         "yaxis": "y2"
        },
        {
         "hoverinfo": "text",
         "marker": {
          "color": [
           "rgba(0,0,0,0)",
           "rgba(0,0,0,0)",
           "rgba(0,0,0,0)",
           "rgba(0,0,0,0)"
          ]
         },
         "mode": "markers",
         "showlegend": false,
         "text": [
          "ID: 23<br>45 sek <br>80 % FTP<br>252 w<br>",
          "ID: 23<br>45 sek <br>80 % FTP<br>252 w<br>",
          "ID: 23<br>45 sek <br>80 % FTP<br>252 w<br>",
          "ID: 23<br>45 sek <br>80 % FTP<br>252 w<br>"
         ],
         "type": "scatter",
         "x": [
          2917.5,
          2917.5,
          2917.5,
          2917.5
         ],
         "y": [
          16,
          32,
          48,
          64
         ]
        },
        {
         "fill": "tozeroy",
         "fillcolor": "green",
         "hoverinfo": "text",
         "legendgroup": "green",
         "line": {
          "color": "black"
         },
         "mode": "lines",
         "showlegend": false,
         "text": "ID: 23<br>45 sek <br>80 % FTP<br>252 w<br>",
         "type": "scatter",
         "x": [
          2895,
          2895,
          2940,
          2940
         ],
         "xaxis": "x",
         "y": [
          0,
          80,
          80,
          0
         ],
         "yaxis": "y"
        },
        {
         "hoverinfo": "none",
         "line": {
          "color": "rgba(0,0,0,0)"
         },
         "mode": "lines",
         "showlegend": false,
         "type": "scatter",
         "x": [
          2895,
          2940
         ],
         "xaxis": "x",
         "y": [
          252,
          252
         ],
         "yaxis": "y2"
        },
        {
         "hoverinfo": "text",
         "marker": {
          "color": [
           "rgba(0,0,0,0)",
           "rgba(0,0,0,0)",
           "rgba(0,0,0,0)",
           "rgba(0,0,0,0)"
          ]
         },
         "mode": "markers",
         "showlegend": false,
         "text": [
          "ID: 24<br>480 sek <br>65 % FTP<br>205 w<br>",
          "ID: 24<br>480 sek <br>65 % FTP<br>205 w<br>",
          "ID: 24<br>480 sek <br>65 % FTP<br>205 w<br>",
          "ID: 24<br>480 sek <br>65 % FTP<br>205 w<br>"
         ],
         "type": "scatter",
         "x": [
          3180,
          3180,
          3180,
          3180
         ],
         "y": [
          13,
          26,
          39,
          52
         ]
        },
        {
         "fill": "tozeroy",
         "fillcolor": "blue",
         "hoverinfo": "text",
         "legendgroup": "blue",
         "line": {
          "color": "black"
         },
         "mode": "lines",
         "showlegend": false,
         "text": "ID: 24<br>480 sek <br>65 % FTP<br>205 w<br>",
         "type": "scatter",
         "x": [
          2940,
          2940,
          3420,
          3420
         ],
         "xaxis": "x",
         "y": [
          0,
          65,
          65,
          0
         ],
         "yaxis": "y"
        },
        {
         "hoverinfo": "none",
         "line": {
          "color": "rgba(0,0,0,0)"
         },
         "mode": "lines",
         "showlegend": false,
         "type": "scatter",
         "x": [
          2940,
          3420
         ],
         "xaxis": "x",
         "y": [
          204.75,
          204.75
         ],
         "yaxis": "y2"
        },
        {
         "hoverinfo": "text",
         "marker": {
          "color": [
           "rgba(0,0,0,0)",
           "rgba(0,0,0,0)",
           "rgba(0,0,0,0)",
           "rgba(0,0,0,0)"
          ]
         },
         "mode": "markers",
         "showlegend": false,
         "text": [
          "ID: 25<br>45 sek <br>80 % FTP<br>252 w<br>",
          "ID: 25<br>45 sek <br>80 % FTP<br>252 w<br>",
          "ID: 25<br>45 sek <br>80 % FTP<br>252 w<br>",
          "ID: 25<br>45 sek <br>80 % FTP<br>252 w<br>"
         ],
         "type": "scatter",
         "x": [
          3442.5,
          3442.5,
          3442.5,
          3442.5
         ],
         "y": [
          16,
          32,
          48,
          64
         ]
        },
        {
         "fill": "tozeroy",
         "fillcolor": "green",
         "hoverinfo": "text",
         "legendgroup": "green",
         "line": {
          "color": "black"
         },
         "mode": "lines",
         "showlegend": false,
         "text": "ID: 25<br>45 sek <br>80 % FTP<br>252 w<br>",
         "type": "scatter",
         "x": [
          3420,
          3420,
          3465,
          3465
         ],
         "xaxis": "x",
         "y": [
          0,
          80,
          80,
          0
         ],
         "yaxis": "y"
        },
        {
         "hoverinfo": "none",
         "line": {
          "color": "rgba(0,0,0,0)"
         },
         "mode": "lines",
         "showlegend": false,
         "type": "scatter",
         "x": [
          3420,
          3465
         ],
         "xaxis": "x",
         "y": [
          252,
          252
         ],
         "yaxis": "y2"
        },
        {
         "hoverinfo": "text",
         "marker": {
          "color": [
           "rgba(0,0,0,0)",
           "rgba(0,0,0,0)",
           "rgba(0,0,0,0)",
           "rgba(0,0,0,0)"
          ]
         },
         "mode": "markers",
         "showlegend": false,
         "text": [
          "ID: 26<br>45 sek <br>90 % FTP<br>284 w<br>",
          "ID: 26<br>45 sek <br>90 % FTP<br>284 w<br>",
          "ID: 26<br>45 sek <br>90 % FTP<br>284 w<br>",
          "ID: 26<br>45 sek <br>90 % FTP<br>284 w<br>"
         ],
         "type": "scatter",
         "x": [
          3487.5,
          3487.5,
          3487.5,
          3487.5
         ],
         "y": [
          18,
          36,
          54,
          72
         ]
        },
        {
         "fill": "tozeroy",
         "fillcolor": "yellow",
         "hoverinfo": "text",
         "legendgroup": "yellow",
         "line": {
          "color": "black"
         },
         "mode": "lines",
         "showlegend": false,
         "text": "ID: 26<br>45 sek <br>90 % FTP<br>284 w<br>",
         "type": "scatter",
         "x": [
          3465,
          3465,
          3510,
          3510
         ],
         "xaxis": "x",
         "y": [
          0,
          90,
          90,
          0
         ],
         "yaxis": "y"
        },
        {
         "hoverinfo": "none",
         "line": {
          "color": "rgba(0,0,0,0)"
         },
         "mode": "lines",
         "showlegend": false,
         "type": "scatter",
         "x": [
          3465,
          3510
         ],
         "xaxis": "x",
         "y": [
          283.5,
          283.5
         ],
         "yaxis": "y2"
        },
        {
         "hoverinfo": "text",
         "marker": {
          "color": [
           "rgba(0,0,0,0)",
           "rgba(0,0,0,0)",
           "rgba(0,0,0,0)",
           "rgba(0,0,0,0)"
          ]
         },
         "mode": "markers",
         "showlegend": false,
         "text": [
          "ID: 27<br>45 sek <br>100 % FTP<br>315 w<br>",
          "ID: 27<br>45 sek <br>100 % FTP<br>315 w<br>",
          "ID: 27<br>45 sek <br>100 % FTP<br>315 w<br>",
          "ID: 27<br>45 sek <br>100 % FTP<br>315 w<br>"
         ],
         "type": "scatter",
         "x": [
          3532.5,
          3532.5,
          3532.5,
          3532.5
         ],
         "y": [
          20,
          40,
          60,
          80
         ]
        },
        {
         "fill": "tozeroy",
         "fillcolor": "yellow",
         "hoverinfo": "text",
         "legendgroup": "yellow",
         "line": {
          "color": "black"
         },
         "mode": "lines",
         "showlegend": false,
         "text": "ID: 27<br>45 sek <br>100 % FTP<br>315 w<br>",
         "type": "scatter",
         "x": [
          3510,
          3510,
          3555,
          3555
         ],
         "xaxis": "x",
         "y": [
          0,
          100,
          100,
          0
         ],
         "yaxis": "y"
        },
        {
         "hoverinfo": "none",
         "line": {
          "color": "rgba(0,0,0,0)"
         },
         "mode": "lines",
         "showlegend": false,
         "type": "scatter",
         "x": [
          3510,
          3555
         ],
         "xaxis": "x",
         "y": [
          315,
          315
         ],
         "yaxis": "y2"
        },
        {
         "hoverinfo": "text",
         "marker": {
          "color": [
           "rgba(0,0,0,0)",
           "rgba(0,0,0,0)",
           "rgba(0,0,0,0)",
           "rgba(0,0,0,0)"
          ]
         },
         "mode": "markers",
         "showlegend": false,
         "text": [
          "ID: 28<br>45 sek <br>90 % FTP<br>284 w<br>",
          "ID: 28<br>45 sek <br>90 % FTP<br>284 w<br>",
          "ID: 28<br>45 sek <br>90 % FTP<br>284 w<br>",
          "ID: 28<br>45 sek <br>90 % FTP<br>284 w<br>"
         ],
         "type": "scatter",
         "x": [
          3577.5,
          3577.5,
          3577.5,
          3577.5
         ],
         "y": [
          18,
          36,
          54,
          72
         ]
        },
        {
         "fill": "tozeroy",
         "fillcolor": "yellow",
         "hoverinfo": "text",
         "legendgroup": "yellow",
         "line": {
          "color": "black"
         },
         "mode": "lines",
         "showlegend": false,
         "text": "ID: 28<br>45 sek <br>90 % FTP<br>284 w<br>",
         "type": "scatter",
         "x": [
          3555,
          3555,
          3600,
          3600
         ],
         "xaxis": "x",
         "y": [
          0,
          90,
          90,
          0
         ],
         "yaxis": "y"
        },
        {
         "hoverinfo": "none",
         "line": {
          "color": "rgba(0,0,0,0)"
         },
         "mode": "lines",
         "showlegend": false,
         "type": "scatter",
         "x": [
          3555,
          3600
         ],
         "xaxis": "x",
         "y": [
          283.5,
          283.5
         ],
         "yaxis": "y2"
        },
        {
         "hoverinfo": "text",
         "marker": {
          "color": [
           "rgba(0,0,0,0)",
           "rgba(0,0,0,0)",
           "rgba(0,0,0,0)",
           "rgba(0,0,0,0)"
          ]
         },
         "mode": "markers",
         "showlegend": false,
         "text": [
          "ID: 29<br>45 sek <br>80 % FTP<br>252 w<br>",
          "ID: 29<br>45 sek <br>80 % FTP<br>252 w<br>",
          "ID: 29<br>45 sek <br>80 % FTP<br>252 w<br>",
          "ID: 29<br>45 sek <br>80 % FTP<br>252 w<br>"
         ],
         "type": "scatter",
         "x": [
          3622.5,
          3622.5,
          3622.5,
          3622.5
         ],
         "y": [
          16,
          32,
          48,
          64
         ]
        },
        {
         "fill": "tozeroy",
         "fillcolor": "green",
         "hoverinfo": "text",
         "legendgroup": "green",
         "line": {
          "color": "black"
         },
         "mode": "lines",
         "showlegend": false,
         "text": "ID: 29<br>45 sek <br>80 % FTP<br>252 w<br>",
         "type": "scatter",
         "x": [
          3600,
          3600,
          3645,
          3645
         ],
         "xaxis": "x",
         "y": [
          0,
          80,
          80,
          0
         ],
         "yaxis": "y"
        },
        {
         "hoverinfo": "none",
         "line": {
          "color": "rgba(0,0,0,0)"
         },
         "mode": "lines",
         "showlegend": false,
         "type": "scatter",
         "x": [
          3600,
          3645
         ],
         "xaxis": "x",
         "y": [
          252,
          252
         ],
         "yaxis": "y2"
        },
        {
         "hoverinfo": "text",
         "marker": {
          "color": [
           "rgba(0,0,0,0)",
           "rgba(0,0,0,0)",
           "rgba(0,0,0,0)",
           "rgba(0,0,0,0)"
          ]
         },
         "mode": "markers",
         "showlegend": false,
         "text": [
          "ID: 30<br>330.0 sek <br>70 bis 59 % FTP<br>220 bis 186 w<br>",
          "ID: 30<br>330.0 sek <br>70 bis 59 % FTP<br>220 bis 186 w<br>",
          "ID: 30<br>330.0 sek <br>70 bis 59 % FTP<br>220 bis 186 w<br>",
          "ID: 30<br>330.0 sek <br>70 bis 59 % FTP<br>220 bis 186 w<br>"
         ],
         "type": "scatter",
         "x": [
          3810,
          3810,
          3810,
          3810
         ],
         "y": [
          11.8,
          23.6,
          35.4,
          47.2
         ]
        },
        {
         "fill": "tozeroy",
         "fillcolor": "blue",
         "hoverinfo": "text",
         "legendgroup": "blue",
         "line": {
          "color": "black"
         },
         "mode": "lines",
         "showlegend": false,
         "text": "ID: 30<br>330.0 sek <br>70 bis 59 % FTP<br>220 bis 186 w<br>",
         "type": "scatter",
         "x": [
          3645,
          3645,
          3975,
          3975
         ],
         "xaxis": "x",
         "y": [
          0,
          70,
          59,
          0
         ],
         "yaxis": "y"
        },
        {
         "hoverinfo": "none",
         "line": {
          "color": "rgba(0,0,0,0)"
         },
         "mode": "lines",
         "showlegend": false,
         "type": "scatter",
         "x": [
          3645,
          3975
         ],
         "xaxis": "x",
         "y": [
          220.5,
          185.85
         ],
         "yaxis": "y2"
        },
        {
         "hoverinfo": "text",
         "marker": {
          "color": [
           "rgba(0,0,0,0)",
           "rgba(0,0,0,0)",
           "rgba(0,0,0,0)",
           "rgba(0,0,0,0)"
          ]
         },
         "mode": "markers",
         "showlegend": false,
         "text": [
          "ID: 30<br>270.0 sek <br>59 bis 50 % FTP<br>186 bis 158 w<br>",
          "ID: 30<br>270.0 sek <br>59 bis 50 % FTP<br>186 bis 158 w<br>",
          "ID: 30<br>270.0 sek <br>59 bis 50 % FTP<br>186 bis 158 w<br>",
          "ID: 30<br>270.0 sek <br>59 bis 50 % FTP<br>186 bis 158 w<br>"
         ],
         "type": "scatter",
         "x": [
          4110,
          4110,
          4110,
          4110
         ],
         "y": [
          10,
          20,
          30,
          40
         ]
        },
        {
         "fill": "tozeroy",
         "fillcolor": "grey",
         "hoverinfo": "text",
         "legendgroup": "grey",
         "line": {
          "color": "black"
         },
         "mode": "lines",
         "showlegend": false,
         "text": "ID: 30<br>270.0 sek <br>59 bis 50 % FTP<br>186 bis 158 w<br>",
         "type": "scatter",
         "x": [
          3975,
          3975,
          4245,
          4245
         ],
         "xaxis": "x",
         "y": [
          0,
          59,
          50,
          0
         ],
         "yaxis": "y"
        },
        {
         "hoverinfo": "none",
         "line": {
          "color": "rgba(0,0,0,0)"
         },
         "mode": "lines",
         "showlegend": false,
         "type": "scatter",
         "x": [
          3975,
          4245
         ],
         "xaxis": "x",
         "y": [
          185.85,
          157.5
         ],
         "yaxis": "y2"
        }
       ],
       "layout": {
        "template": {
         "data": {
          "bar": [
           {
            "error_x": {
             "color": "#2a3f5f"
            },
            "error_y": {
             "color": "#2a3f5f"
            },
            "marker": {
             "line": {
              "color": "#E5ECF6",
              "width": 0.5
             }
            },
            "type": "bar"
           }
          ],
          "barpolar": [
           {
            "marker": {
             "line": {
              "color": "#E5ECF6",
              "width": 0.5
             }
            },
            "type": "barpolar"
           }
          ],
          "carpet": [
           {
            "aaxis": {
             "endlinecolor": "#2a3f5f",
             "gridcolor": "white",
             "linecolor": "white",
             "minorgridcolor": "white",
             "startlinecolor": "#2a3f5f"
            },
            "baxis": {
             "endlinecolor": "#2a3f5f",
             "gridcolor": "white",
             "linecolor": "white",
             "minorgridcolor": "white",
             "startlinecolor": "#2a3f5f"
            },
            "type": "carpet"
           }
          ],
          "choropleth": [
           {
            "colorbar": {
             "outlinewidth": 0,
             "ticks": ""
            },
            "type": "choropleth"
           }
          ],
          "contour": [
           {
            "colorbar": {
             "outlinewidth": 0,
             "ticks": ""
            },
            "colorscale": [
             [
              0,
              "#0d0887"
             ],
             [
              0.1111111111111111,
              "#46039f"
             ],
             [
              0.2222222222222222,
              "#7201a8"
             ],
             [
              0.3333333333333333,
              "#9c179e"
             ],
             [
              0.4444444444444444,
              "#bd3786"
             ],
             [
              0.5555555555555556,
              "#d8576b"
             ],
             [
              0.6666666666666666,
              "#ed7953"
             ],
             [
              0.7777777777777778,
              "#fb9f3a"
             ],
             [
              0.8888888888888888,
              "#fdca26"
             ],
             [
              1,
              "#f0f921"
             ]
            ],
            "type": "contour"
           }
          ],
          "contourcarpet": [
           {
            "colorbar": {
             "outlinewidth": 0,
             "ticks": ""
            },
            "type": "contourcarpet"
           }
          ],
          "heatmap": [
           {
            "colorbar": {
             "outlinewidth": 0,
             "ticks": ""
            },
            "colorscale": [
             [
              0,
              "#0d0887"
             ],
             [
              0.1111111111111111,
              "#46039f"
             ],
             [
              0.2222222222222222,
              "#7201a8"
             ],
             [
              0.3333333333333333,
              "#9c179e"
             ],
             [
              0.4444444444444444,
              "#bd3786"
             ],
             [
              0.5555555555555556,
              "#d8576b"
             ],
             [
              0.6666666666666666,
              "#ed7953"
             ],
             [
              0.7777777777777778,
              "#fb9f3a"
             ],
             [
              0.8888888888888888,
              "#fdca26"
             ],
             [
              1,
              "#f0f921"
             ]
            ],
            "type": "heatmap"
           }
          ],
          "heatmapgl": [
           {
            "colorbar": {
             "outlinewidth": 0,
             "ticks": ""
            },
            "colorscale": [
             [
              0,
              "#0d0887"
             ],
             [
              0.1111111111111111,
              "#46039f"
             ],
             [
              0.2222222222222222,
              "#7201a8"
             ],
             [
              0.3333333333333333,
              "#9c179e"
             ],
             [
              0.4444444444444444,
              "#bd3786"
             ],
             [
              0.5555555555555556,
              "#d8576b"
             ],
             [
              0.6666666666666666,
              "#ed7953"
             ],
             [
              0.7777777777777778,
              "#fb9f3a"
             ],
             [
              0.8888888888888888,
              "#fdca26"
             ],
             [
              1,
              "#f0f921"
             ]
            ],
            "type": "heatmapgl"
           }
          ],
          "histogram": [
           {
            "marker": {
             "colorbar": {
              "outlinewidth": 0,
              "ticks": ""
             }
            },
            "type": "histogram"
           }
          ],
          "histogram2d": [
           {
            "colorbar": {
             "outlinewidth": 0,
             "ticks": ""
            },
            "colorscale": [
             [
              0,
              "#0d0887"
             ],
             [
              0.1111111111111111,
              "#46039f"
             ],
             [
              0.2222222222222222,
              "#7201a8"
             ],
             [
              0.3333333333333333,
              "#9c179e"
             ],
             [
              0.4444444444444444,
              "#bd3786"
             ],
             [
              0.5555555555555556,
              "#d8576b"
             ],
             [
              0.6666666666666666,
              "#ed7953"
             ],
             [
              0.7777777777777778,
              "#fb9f3a"
             ],
             [
              0.8888888888888888,
              "#fdca26"
             ],
             [
              1,
              "#f0f921"
             ]
            ],
            "type": "histogram2d"
           }
          ],
          "histogram2dcontour": [
           {
            "colorbar": {
             "outlinewidth": 0,
             "ticks": ""
            },
            "colorscale": [
             [
              0,
              "#0d0887"
             ],
             [
              0.1111111111111111,
              "#46039f"
             ],
             [
              0.2222222222222222,
              "#7201a8"
             ],
             [
              0.3333333333333333,
              "#9c179e"
             ],
             [
              0.4444444444444444,
              "#bd3786"
             ],
             [
              0.5555555555555556,
              "#d8576b"
             ],
             [
              0.6666666666666666,
              "#ed7953"
             ],
             [
              0.7777777777777778,
              "#fb9f3a"
             ],
             [
              0.8888888888888888,
              "#fdca26"
             ],
             [
              1,
              "#f0f921"
             ]
            ],
            "type": "histogram2dcontour"
           }
          ],
          "mesh3d": [
           {
            "colorbar": {
             "outlinewidth": 0,
             "ticks": ""
            },
            "type": "mesh3d"
           }
          ],
          "parcoords": [
           {
            "line": {
             "colorbar": {
              "outlinewidth": 0,
              "ticks": ""
             }
            },
            "type": "parcoords"
           }
          ],
          "pie": [
           {
            "automargin": true,
            "type": "pie"
           }
          ],
          "scatter": [
           {
            "marker": {
             "colorbar": {
              "outlinewidth": 0,
              "ticks": ""
             }
            },
            "type": "scatter"
           }
          ],
          "scatter3d": [
           {
            "line": {
             "colorbar": {
              "outlinewidth": 0,
              "ticks": ""
             }
            },
            "marker": {
             "colorbar": {
              "outlinewidth": 0,
              "ticks": ""
             }
            },
            "type": "scatter3d"
           }
          ],
          "scattercarpet": [
           {
            "marker": {
             "colorbar": {
              "outlinewidth": 0,
              "ticks": ""
             }
            },
            "type": "scattercarpet"
           }
          ],
          "scattergeo": [
           {
            "marker": {
             "colorbar": {
              "outlinewidth": 0,
              "ticks": ""
             }
            },
            "type": "scattergeo"
           }
          ],
          "scattergl": [
           {
            "marker": {
             "colorbar": {
              "outlinewidth": 0,
              "ticks": ""
             }
            },
            "type": "scattergl"
           }
          ],
          "scattermapbox": [
           {
            "marker": {
             "colorbar": {
              "outlinewidth": 0,
              "ticks": ""
             }
            },
            "type": "scattermapbox"
           }
          ],
          "scatterpolar": [
           {
            "marker": {
             "colorbar": {
              "outlinewidth": 0,
              "ticks": ""
             }
            },
            "type": "scatterpolar"
           }
          ],
          "scatterpolargl": [
           {
            "marker": {
             "colorbar": {
              "outlinewidth": 0,
              "ticks": ""
             }
            },
            "type": "scatterpolargl"
           }
          ],
          "scatterternary": [
           {
            "marker": {
             "colorbar": {
              "outlinewidth": 0,
              "ticks": ""
             }
            },
            "type": "scatterternary"
           }
          ],
          "surface": [
           {
            "colorbar": {
             "outlinewidth": 0,
             "ticks": ""
            },
            "colorscale": [
             [
              0,
              "#0d0887"
             ],
             [
              0.1111111111111111,
              "#46039f"
             ],
             [
              0.2222222222222222,
              "#7201a8"
             ],
             [
              0.3333333333333333,
              "#9c179e"
             ],
             [
              0.4444444444444444,
              "#bd3786"
             ],
             [
              0.5555555555555556,
              "#d8576b"
             ],
             [
              0.6666666666666666,
              "#ed7953"
             ],
             [
              0.7777777777777778,
              "#fb9f3a"
             ],
             [
              0.8888888888888888,
              "#fdca26"
             ],
             [
              1,
              "#f0f921"
             ]
            ],
            "type": "surface"
           }
          ],
          "table": [
           {
            "cells": {
             "fill": {
              "color": "#EBF0F8"
             },
             "line": {
              "color": "white"
             }
            },
            "header": {
             "fill": {
              "color": "#C8D4E3"
             },
             "line": {
              "color": "white"
             }
            },
            "type": "table"
           }
          ]
         },
         "layout": {
          "annotationdefaults": {
           "arrowcolor": "#2a3f5f",
           "arrowhead": 0,
           "arrowwidth": 1
          },
          "coloraxis": {
           "colorbar": {
            "outlinewidth": 0,
            "ticks": ""
           }
          },
          "colorscale": {
           "diverging": [
            [
             0,
             "#8e0152"
            ],
            [
             0.1,
             "#c51b7d"
            ],
            [
             0.2,
             "#de77ae"
            ],
            [
             0.3,
             "#f1b6da"
            ],
            [
             0.4,
             "#fde0ef"
            ],
            [
             0.5,
             "#f7f7f7"
            ],
            [
             0.6,
             "#e6f5d0"
            ],
            [
             0.7,
             "#b8e186"
            ],
            [
             0.8,
             "#7fbc41"
            ],
            [
             0.9,
             "#4d9221"
            ],
            [
             1,
             "#276419"
            ]
           ],
           "sequential": [
            [
             0,
             "#0d0887"
            ],
            [
             0.1111111111111111,
             "#46039f"
            ],
            [
             0.2222222222222222,
             "#7201a8"
            ],
            [
             0.3333333333333333,
             "#9c179e"
            ],
            [
             0.4444444444444444,
             "#bd3786"
            ],
            [
             0.5555555555555556,
             "#d8576b"
            ],
            [
             0.6666666666666666,
             "#ed7953"
            ],
            [
             0.7777777777777778,
             "#fb9f3a"
            ],
            [
             0.8888888888888888,
             "#fdca26"
            ],
            [
             1,
             "#f0f921"
            ]
           ],
           "sequentialminus": [
            [
             0,
             "#0d0887"
            ],
            [
             0.1111111111111111,
             "#46039f"
            ],
            [
             0.2222222222222222,
             "#7201a8"
            ],
            [
             0.3333333333333333,
             "#9c179e"
            ],
            [
             0.4444444444444444,
             "#bd3786"
            ],
            [
             0.5555555555555556,
             "#d8576b"
            ],
            [
             0.6666666666666666,
             "#ed7953"
            ],
            [
             0.7777777777777778,
             "#fb9f3a"
            ],
            [
             0.8888888888888888,
             "#fdca26"
            ],
            [
             1,
             "#f0f921"
            ]
           ]
          },
          "colorway": [
           "#636efa",
           "#EF553B",
           "#00cc96",
           "#ab63fa",
           "#FFA15A",
           "#19d3f3",
           "#FF6692",
           "#B6E880",
           "#FF97FF",
           "#FECB52"
          ],
          "font": {
           "color": "#2a3f5f"
          },
          "geo": {
           "bgcolor": "white",
           "lakecolor": "white",
           "landcolor": "#E5ECF6",
           "showlakes": true,
           "showland": true,
           "subunitcolor": "white"
          },
          "hoverlabel": {
           "align": "left"
          },
          "hovermode": "closest",
          "mapbox": {
           "style": "light"
          },
          "paper_bgcolor": "white",
          "plot_bgcolor": "#E5ECF6",
          "polar": {
           "angularaxis": {
            "gridcolor": "white",
            "linecolor": "white",
            "ticks": ""
           },
           "bgcolor": "#E5ECF6",
           "radialaxis": {
            "gridcolor": "white",
            "linecolor": "white",
            "ticks": ""
           }
          },
          "scene": {
           "xaxis": {
            "backgroundcolor": "#E5ECF6",
            "gridcolor": "white",
            "gridwidth": 2,
            "linecolor": "white",
            "showbackground": true,
            "ticks": "",
            "zerolinecolor": "white"
           },
           "yaxis": {
            "backgroundcolor": "#E5ECF6",
            "gridcolor": "white",
            "gridwidth": 2,
            "linecolor": "white",
            "showbackground": true,
            "ticks": "",
            "zerolinecolor": "white"
           },
           "zaxis": {
            "backgroundcolor": "#E5ECF6",
            "gridcolor": "white",
            "gridwidth": 2,
            "linecolor": "white",
            "showbackground": true,
            "ticks": "",
            "zerolinecolor": "white"
           }
          },
          "shapedefaults": {
           "line": {
            "color": "#2a3f5f"
           }
          },
          "ternary": {
           "aaxis": {
            "gridcolor": "white",
            "linecolor": "white",
            "ticks": ""
           },
           "baxis": {
            "gridcolor": "white",
            "linecolor": "white",
            "ticks": ""
           },
           "bgcolor": "#E5ECF6",
           "caxis": {
            "gridcolor": "white",
            "linecolor": "white",
            "ticks": ""
           }
          },
          "title": {
           "x": 0.05
          },
          "xaxis": {
           "automargin": true,
           "gridcolor": "white",
           "linecolor": "white",
           "ticks": "",
           "title": {
            "standoff": 15
           },
           "zerolinecolor": "white",
           "zerolinewidth": 2
          },
          "yaxis": {
           "automargin": true,
           "gridcolor": "white",
           "linecolor": "white",
           "ticks": "",
           "title": {
            "standoff": 15
           },
           "zerolinecolor": "white",
           "zerolinewidth": 2
          }
         }
        },
        "xaxis": {
         "anchor": "y",
         "domain": [
          0,
          0.94
         ],
         "title": {
          "text": "Zeit"
         }
        },
        "yaxis": {
         "anchor": "x",
         "domain": [
          0,
          1
         ],
         "title": {
          "text": "% FTP"
         }
        },
        "yaxis2": {
         "anchor": "x",
         "overlaying": "y",
         "showgrid": false,
         "side": "right",
         "title": {
          "text": "Watt"
         }
        }
       }
      },
      "text/html": [
       "<div>                            <div id=\"60d5b91c-4113-4cf8-98d9-49812533e859\" class=\"plotly-graph-div\" style=\"height:525px; width:100%;\"></div>            <script type=\"text/javascript\">                require([\"plotly\"], function(Plotly) {                    window.PLOTLYENV=window.PLOTLYENV || {};                                    if (document.getElementById(\"60d5b91c-4113-4cf8-98d9-49812533e859\")) {                    Plotly.newPlot(                        \"60d5b91c-4113-4cf8-98d9-49812533e859\",                        [{\"hoverinfo\": \"text\", \"marker\": {\"color\": [\"rgba(0,0,0,0)\", \"rgba(0,0,0,0)\", \"rgba(0,0,0,0)\", \"rgba(0,0,0,0)\"]}, \"mode\": \"markers\", \"showlegend\": false, \"text\": [\"ID: 0<br>270.0 sek <br>50 bis 59 % FTP<br>158 bis 186 w<br>\", \"ID: 0<br>270.0 sek <br>50 bis 59 % FTP<br>158 bis 186 w<br>\", \"ID: 0<br>270.0 sek <br>50 bis 59 % FTP<br>158 bis 186 w<br>\", \"ID: 0<br>270.0 sek <br>50 bis 59 % FTP<br>158 bis 186 w<br>\"], \"type\": \"scatter\", \"x\": [135.0, 135.0, 135.0, 135.0], \"y\": [11.8, 23.6, 35.4, 47.2]}, {\"fill\": \"tozeroy\", \"fillcolor\": \"grey\", \"hoverinfo\": \"text\", \"legendgroup\": \"grey\", \"line\": {\"color\": \"black\"}, \"mode\": \"lines\", \"showlegend\": false, \"text\": \"ID: 0<br>270.0 sek <br>50 bis 59 % FTP<br>158 bis 186 w<br>\", \"type\": \"scatter\", \"x\": [0, 0, 270.0, 270.0], \"xaxis\": \"x\", \"y\": [0, 50, 59, 0], \"yaxis\": \"y\"}, {\"hoverinfo\": \"none\", \"line\": {\"color\": \"rgba(0,0,0,0)\"}, \"mode\": \"lines\", \"showlegend\": false, \"type\": \"scatter\", \"x\": [0, 270.0], \"xaxis\": \"x\", \"y\": [157.5, 185.85], \"yaxis\": \"y2\"}, {\"hoverinfo\": \"text\", \"marker\": {\"color\": [\"rgba(0,0,0,0)\", \"rgba(0,0,0,0)\", \"rgba(0,0,0,0)\", \"rgba(0,0,0,0)\"]}, \"mode\": \"markers\", \"showlegend\": false, \"text\": [\"ID: 0<br>330.0 sek <br>59 bis 70 % FTP<br>186 bis 220 w<br>\", \"ID: 0<br>330.0 sek <br>59 bis 70 % FTP<br>186 bis 220 w<br>\", \"ID: 0<br>330.0 sek <br>59 bis 70 % FTP<br>186 bis 220 w<br>\", \"ID: 0<br>330.0 sek <br>59 bis 70 % FTP<br>186 bis 220 w<br>\"], \"type\": \"scatter\", \"x\": [435.0, 435.0, 435.0, 435.0], \"y\": [14.0, 28.0, 42.0, 56.0]}, {\"fill\": \"tozeroy\", \"fillcolor\": \"blue\", \"hoverinfo\": \"text\", \"legendgroup\": \"blue\", \"line\": {\"color\": \"black\"}, \"mode\": \"lines\", \"showlegend\": false, \"text\": \"ID: 0<br>330.0 sek <br>59 bis 70 % FTP<br>186 bis 220 w<br>\", \"type\": \"scatter\", \"x\": [270.0, 270.0, 600.0, 600.0], \"xaxis\": \"x\", \"y\": [0, 59, 70, 0], \"yaxis\": \"y\"}, {\"hoverinfo\": \"none\", \"line\": {\"color\": \"rgba(0,0,0,0)\"}, \"mode\": \"lines\", \"showlegend\": false, \"type\": \"scatter\", \"x\": [270.0, 600.0], \"xaxis\": \"x\", \"y\": [185.85, 220.5], \"yaxis\": \"y2\"}, {\"hoverinfo\": \"text\", \"marker\": {\"color\": [\"rgba(0,0,0,0)\", \"rgba(0,0,0,0)\", \"rgba(0,0,0,0)\", \"rgba(0,0,0,0)\"]}, \"mode\": \"markers\", \"showlegend\": false, \"text\": [\"ID: 1<br>45 sek <br>80 % FTP<br>252 w<br>\", \"ID: 1<br>45 sek <br>80 % FTP<br>252 w<br>\", \"ID: 1<br>45 sek <br>80 % FTP<br>252 w<br>\", \"ID: 1<br>45 sek <br>80 % FTP<br>252 w<br>\"], \"type\": \"scatter\", \"x\": [622.5, 622.5, 622.5, 622.5], \"y\": [16.0, 32.0, 48.0, 64.0]}, {\"fill\": \"tozeroy\", \"fillcolor\": \"green\", \"hoverinfo\": \"text\", \"legendgroup\": \"green\", \"line\": {\"color\": \"black\"}, \"mode\": \"lines\", \"showlegend\": false, \"text\": \"ID: 1<br>45 sek <br>80 % FTP<br>252 w<br>\", \"type\": \"scatter\", \"x\": [600, 600, 645, 645], \"xaxis\": \"x\", \"y\": [0, 80, 80, 0], \"yaxis\": \"y\"}, {\"hoverinfo\": \"none\", \"line\": {\"color\": \"rgba(0,0,0,0)\"}, \"mode\": \"lines\", \"showlegend\": false, \"type\": \"scatter\", \"x\": [600, 645], \"xaxis\": \"x\", \"y\": [252.0, 252.0], \"yaxis\": \"y2\"}, {\"hoverinfo\": \"text\", \"marker\": {\"color\": [\"rgba(0,0,0,0)\", \"rgba(0,0,0,0)\", \"rgba(0,0,0,0)\", \"rgba(0,0,0,0)\"]}, \"mode\": \"markers\", \"showlegend\": false, \"text\": [\"ID: 2<br>45 sek <br>90 % FTP<br>284 w<br>\", \"ID: 2<br>45 sek <br>90 % FTP<br>284 w<br>\", \"ID: 2<br>45 sek <br>90 % FTP<br>284 w<br>\", \"ID: 2<br>45 sek <br>90 % FTP<br>284 w<br>\"], \"type\": \"scatter\", \"x\": [667.5, 667.5, 667.5, 667.5], \"y\": [18.0, 36.0, 54.0, 72.0]}, {\"fill\": \"tozeroy\", \"fillcolor\": \"yellow\", \"hoverinfo\": \"text\", \"legendgroup\": \"yellow\", \"line\": {\"color\": \"black\"}, \"mode\": \"lines\", \"showlegend\": false, \"text\": \"ID: 2<br>45 sek <br>90 % FTP<br>284 w<br>\", \"type\": \"scatter\", \"x\": [645, 645, 690, 690], \"xaxis\": \"x\", \"y\": [0, 90, 90, 0], \"yaxis\": \"y\"}, {\"hoverinfo\": \"none\", \"line\": {\"color\": \"rgba(0,0,0,0)\"}, \"mode\": \"lines\", \"showlegend\": false, \"type\": \"scatter\", \"x\": [645, 690], \"xaxis\": \"x\", \"y\": [283.5, 283.5], \"yaxis\": \"y2\"}, {\"hoverinfo\": \"text\", \"marker\": {\"color\": [\"rgba(0,0,0,0)\", \"rgba(0,0,0,0)\", \"rgba(0,0,0,0)\", \"rgba(0,0,0,0)\"]}, \"mode\": \"markers\", \"showlegend\": false, \"text\": [\"ID: 3<br>45 sek <br>100 % FTP<br>315 w<br>\", \"ID: 3<br>45 sek <br>100 % FTP<br>315 w<br>\", \"ID: 3<br>45 sek <br>100 % FTP<br>315 w<br>\", \"ID: 3<br>45 sek <br>100 % FTP<br>315 w<br>\"], \"type\": \"scatter\", \"x\": [712.5, 712.5, 712.5, 712.5], \"y\": [20.0, 40.0, 60.0, 80.0]}, {\"fill\": \"tozeroy\", \"fillcolor\": \"yellow\", \"hoverinfo\": \"text\", \"legendgroup\": \"yellow\", \"line\": {\"color\": \"black\"}, \"mode\": \"lines\", \"showlegend\": false, \"text\": \"ID: 3<br>45 sek <br>100 % FTP<br>315 w<br>\", \"type\": \"scatter\", \"x\": [690, 690, 735, 735], \"xaxis\": \"x\", \"y\": [0, 100, 100, 0], \"yaxis\": \"y\"}, {\"hoverinfo\": \"none\", \"line\": {\"color\": \"rgba(0,0,0,0)\"}, \"mode\": \"lines\", \"showlegend\": false, \"type\": \"scatter\", \"x\": [690, 735], \"xaxis\": \"x\", \"y\": [315.0, 315.0], \"yaxis\": \"y2\"}, {\"hoverinfo\": \"text\", \"marker\": {\"color\": [\"rgba(0,0,0,0)\", \"rgba(0,0,0,0)\", \"rgba(0,0,0,0)\", \"rgba(0,0,0,0)\"]}, \"mode\": \"markers\", \"showlegend\": false, \"text\": [\"ID: 4<br>45 sek <br>90 % FTP<br>284 w<br>\", \"ID: 4<br>45 sek <br>90 % FTP<br>284 w<br>\", \"ID: 4<br>45 sek <br>90 % FTP<br>284 w<br>\", \"ID: 4<br>45 sek <br>90 % FTP<br>284 w<br>\"], \"type\": \"scatter\", \"x\": [757.5, 757.5, 757.5, 757.5], \"y\": [18.0, 36.0, 54.0, 72.0]}, {\"fill\": \"tozeroy\", \"fillcolor\": \"yellow\", \"hoverinfo\": \"text\", \"legendgroup\": \"yellow\", \"line\": {\"color\": \"black\"}, \"mode\": \"lines\", \"showlegend\": false, \"text\": \"ID: 4<br>45 sek <br>90 % FTP<br>284 w<br>\", \"type\": \"scatter\", \"x\": [735, 735, 780, 780], \"xaxis\": \"x\", \"y\": [0, 90, 90, 0], \"yaxis\": \"y\"}, {\"hoverinfo\": \"none\", \"line\": {\"color\": \"rgba(0,0,0,0)\"}, \"mode\": \"lines\", \"showlegend\": false, \"type\": \"scatter\", \"x\": [735, 780], \"xaxis\": \"x\", \"y\": [283.5, 283.5], \"yaxis\": \"y2\"}, {\"hoverinfo\": \"text\", \"marker\": {\"color\": [\"rgba(0,0,0,0)\", \"rgba(0,0,0,0)\", \"rgba(0,0,0,0)\", \"rgba(0,0,0,0)\"]}, \"mode\": \"markers\", \"showlegend\": false, \"text\": [\"ID: 5<br>45 sek <br>80 % FTP<br>252 w<br>\", \"ID: 5<br>45 sek <br>80 % FTP<br>252 w<br>\", \"ID: 5<br>45 sek <br>80 % FTP<br>252 w<br>\", \"ID: 5<br>45 sek <br>80 % FTP<br>252 w<br>\"], \"type\": \"scatter\", \"x\": [802.5, 802.5, 802.5, 802.5], \"y\": [16.0, 32.0, 48.0, 64.0]}, {\"fill\": \"tozeroy\", \"fillcolor\": \"green\", \"hoverinfo\": \"text\", \"legendgroup\": \"green\", \"line\": {\"color\": \"black\"}, \"mode\": \"lines\", \"showlegend\": false, \"text\": \"ID: 5<br>45 sek <br>80 % FTP<br>252 w<br>\", \"type\": \"scatter\", \"x\": [780, 780, 825, 825], \"xaxis\": \"x\", \"y\": [0, 80, 80, 0], \"yaxis\": \"y\"}, {\"hoverinfo\": \"none\", \"line\": {\"color\": \"rgba(0,0,0,0)\"}, \"mode\": \"lines\", \"showlegend\": false, \"type\": \"scatter\", \"x\": [780, 825], \"xaxis\": \"x\", \"y\": [252.0, 252.0], \"yaxis\": \"y2\"}, {\"hoverinfo\": \"text\", \"marker\": {\"color\": [\"rgba(0,0,0,0)\", \"rgba(0,0,0,0)\", \"rgba(0,0,0,0)\", \"rgba(0,0,0,0)\"]}, \"mode\": \"markers\", \"showlegend\": false, \"text\": [\"ID: 6<br>480 sek <br>65 % FTP<br>205 w<br>\", \"ID: 6<br>480 sek <br>65 % FTP<br>205 w<br>\", \"ID: 6<br>480 sek <br>65 % FTP<br>205 w<br>\", \"ID: 6<br>480 sek <br>65 % FTP<br>205 w<br>\"], \"type\": \"scatter\", \"x\": [1065.0, 1065.0, 1065.0, 1065.0], \"y\": [13.0, 26.0, 39.0, 52.0]}, {\"fill\": \"tozeroy\", \"fillcolor\": \"blue\", \"hoverinfo\": \"text\", \"legendgroup\": \"blue\", \"line\": {\"color\": \"black\"}, \"mode\": \"lines\", \"showlegend\": false, \"text\": \"ID: 6<br>480 sek <br>65 % FTP<br>205 w<br>\", \"type\": \"scatter\", \"x\": [825, 825, 1305, 1305], \"xaxis\": \"x\", \"y\": [0, 65, 65, 0], \"yaxis\": \"y\"}, {\"hoverinfo\": \"none\", \"line\": {\"color\": \"rgba(0,0,0,0)\"}, \"mode\": \"lines\", \"showlegend\": false, \"type\": \"scatter\", \"x\": [825, 1305], \"xaxis\": \"x\", \"y\": [204.75, 204.75], \"yaxis\": \"y2\"}, {\"hoverinfo\": \"text\", \"marker\": {\"color\": [\"rgba(0,0,0,0)\", \"rgba(0,0,0,0)\", \"rgba(0,0,0,0)\", \"rgba(0,0,0,0)\"]}, \"mode\": \"markers\", \"showlegend\": false, \"text\": [\"ID: 7<br>45 sek <br>80 % FTP<br>252 w<br>\", \"ID: 7<br>45 sek <br>80 % FTP<br>252 w<br>\", \"ID: 7<br>45 sek <br>80 % FTP<br>252 w<br>\", \"ID: 7<br>45 sek <br>80 % FTP<br>252 w<br>\"], \"type\": \"scatter\", \"x\": [1327.5, 1327.5, 1327.5, 1327.5], \"y\": [16.0, 32.0, 48.0, 64.0]}, {\"fill\": \"tozeroy\", \"fillcolor\": \"green\", \"hoverinfo\": \"text\", \"legendgroup\": \"green\", \"line\": {\"color\": \"black\"}, \"mode\": \"lines\", \"showlegend\": false, \"text\": \"ID: 7<br>45 sek <br>80 % FTP<br>252 w<br>\", \"type\": \"scatter\", \"x\": [1305, 1305, 1350, 1350], \"xaxis\": \"x\", \"y\": [0, 80, 80, 0], \"yaxis\": \"y\"}, {\"hoverinfo\": \"none\", \"line\": {\"color\": \"rgba(0,0,0,0)\"}, \"mode\": \"lines\", \"showlegend\": false, \"type\": \"scatter\", \"x\": [1305, 1350], \"xaxis\": \"x\", \"y\": [252.0, 252.0], \"yaxis\": \"y2\"}, {\"hoverinfo\": \"text\", \"marker\": {\"color\": [\"rgba(0,0,0,0)\", \"rgba(0,0,0,0)\", \"rgba(0,0,0,0)\", \"rgba(0,0,0,0)\"]}, \"mode\": \"markers\", \"showlegend\": false, \"text\": [\"ID: 8<br>45 sek <br>90 % FTP<br>284 w<br>\", \"ID: 8<br>45 sek <br>90 % FTP<br>284 w<br>\", \"ID: 8<br>45 sek <br>90 % FTP<br>284 w<br>\", \"ID: 8<br>45 sek <br>90 % FTP<br>284 w<br>\"], \"type\": \"scatter\", \"x\": [1372.5, 1372.5, 1372.5, 1372.5], \"y\": [18.0, 36.0, 54.0, 72.0]}, {\"fill\": \"tozeroy\", \"fillcolor\": \"yellow\", \"hoverinfo\": \"text\", \"legendgroup\": \"yellow\", \"line\": {\"color\": \"black\"}, \"mode\": \"lines\", \"showlegend\": false, \"text\": \"ID: 8<br>45 sek <br>90 % FTP<br>284 w<br>\", \"type\": \"scatter\", \"x\": [1350, 1350, 1395, 1395], \"xaxis\": \"x\", \"y\": [0, 90, 90, 0], \"yaxis\": \"y\"}, {\"hoverinfo\": \"none\", \"line\": {\"color\": \"rgba(0,0,0,0)\"}, \"mode\": \"lines\", \"showlegend\": false, \"type\": \"scatter\", \"x\": [1350, 1395], \"xaxis\": \"x\", \"y\": [283.5, 283.5], \"yaxis\": \"y2\"}, {\"hoverinfo\": \"text\", \"marker\": {\"color\": [\"rgba(0,0,0,0)\", \"rgba(0,0,0,0)\", \"rgba(0,0,0,0)\", \"rgba(0,0,0,0)\"]}, \"mode\": \"markers\", \"showlegend\": false, \"text\": [\"ID: 9<br>45 sek <br>100 % FTP<br>315 w<br>\", \"ID: 9<br>45 sek <br>100 % FTP<br>315 w<br>\", \"ID: 9<br>45 sek <br>100 % FTP<br>315 w<br>\", \"ID: 9<br>45 sek <br>100 % FTP<br>315 w<br>\"], \"type\": \"scatter\", \"x\": [1417.5, 1417.5, 1417.5, 1417.5], \"y\": [20.0, 40.0, 60.0, 80.0]}, {\"fill\": \"tozeroy\", \"fillcolor\": \"yellow\", \"hoverinfo\": \"text\", \"legendgroup\": \"yellow\", \"line\": {\"color\": \"black\"}, \"mode\": \"lines\", \"showlegend\": false, \"text\": \"ID: 9<br>45 sek <br>100 % FTP<br>315 w<br>\", \"type\": \"scatter\", \"x\": [1395, 1395, 1440, 1440], \"xaxis\": \"x\", \"y\": [0, 100, 100, 0], \"yaxis\": \"y\"}, {\"hoverinfo\": \"none\", \"line\": {\"color\": \"rgba(0,0,0,0)\"}, \"mode\": \"lines\", \"showlegend\": false, \"type\": \"scatter\", \"x\": [1395, 1440], \"xaxis\": \"x\", \"y\": [315.0, 315.0], \"yaxis\": \"y2\"}, {\"hoverinfo\": \"text\", \"marker\": {\"color\": [\"rgba(0,0,0,0)\", \"rgba(0,0,0,0)\", \"rgba(0,0,0,0)\", \"rgba(0,0,0,0)\"]}, \"mode\": \"markers\", \"showlegend\": false, \"text\": [\"ID: 10<br>45 sek <br>90 % FTP<br>284 w<br>\", \"ID: 10<br>45 sek <br>90 % FTP<br>284 w<br>\", \"ID: 10<br>45 sek <br>90 % FTP<br>284 w<br>\", \"ID: 10<br>45 sek <br>90 % FTP<br>284 w<br>\"], \"type\": \"scatter\", \"x\": [1462.5, 1462.5, 1462.5, 1462.5], \"y\": [18.0, 36.0, 54.0, 72.0]}, {\"fill\": \"tozeroy\", \"fillcolor\": \"yellow\", \"hoverinfo\": \"text\", \"legendgroup\": \"yellow\", \"line\": {\"color\": \"black\"}, \"mode\": \"lines\", \"showlegend\": false, \"text\": \"ID: 10<br>45 sek <br>90 % FTP<br>284 w<br>\", \"type\": \"scatter\", \"x\": [1440, 1440, 1485, 1485], \"xaxis\": \"x\", \"y\": [0, 90, 90, 0], \"yaxis\": \"y\"}, {\"hoverinfo\": \"none\", \"line\": {\"color\": \"rgba(0,0,0,0)\"}, \"mode\": \"lines\", \"showlegend\": false, \"type\": \"scatter\", \"x\": [1440, 1485], \"xaxis\": \"x\", \"y\": [283.5, 283.5], \"yaxis\": \"y2\"}, {\"hoverinfo\": \"text\", \"marker\": {\"color\": [\"rgba(0,0,0,0)\", \"rgba(0,0,0,0)\", \"rgba(0,0,0,0)\", \"rgba(0,0,0,0)\"]}, \"mode\": \"markers\", \"showlegend\": false, \"text\": [\"ID: 11<br>45 sek <br>80 % FTP<br>252 w<br>\", \"ID: 11<br>45 sek <br>80 % FTP<br>252 w<br>\", \"ID: 11<br>45 sek <br>80 % FTP<br>252 w<br>\", \"ID: 11<br>45 sek <br>80 % FTP<br>252 w<br>\"], \"type\": \"scatter\", \"x\": [1507.5, 1507.5, 1507.5, 1507.5], \"y\": [16.0, 32.0, 48.0, 64.0]}, {\"fill\": \"tozeroy\", \"fillcolor\": \"green\", \"hoverinfo\": \"text\", \"legendgroup\": \"green\", \"line\": {\"color\": \"black\"}, \"mode\": \"lines\", \"showlegend\": false, \"text\": \"ID: 11<br>45 sek <br>80 % FTP<br>252 w<br>\", \"type\": \"scatter\", \"x\": [1485, 1485, 1530, 1530], \"xaxis\": \"x\", \"y\": [0, 80, 80, 0], \"yaxis\": \"y\"}, {\"hoverinfo\": \"none\", \"line\": {\"color\": \"rgba(0,0,0,0)\"}, \"mode\": \"lines\", \"showlegend\": false, \"type\": \"scatter\", \"x\": [1485, 1530], \"xaxis\": \"x\", \"y\": [252.0, 252.0], \"yaxis\": \"y2\"}, {\"hoverinfo\": \"text\", \"marker\": {\"color\": [\"rgba(0,0,0,0)\", \"rgba(0,0,0,0)\", \"rgba(0,0,0,0)\", \"rgba(0,0,0,0)\"]}, \"mode\": \"markers\", \"showlegend\": false, \"text\": [\"ID: 12<br>480 sek <br>65 % FTP<br>205 w<br>\", \"ID: 12<br>480 sek <br>65 % FTP<br>205 w<br>\", \"ID: 12<br>480 sek <br>65 % FTP<br>205 w<br>\", \"ID: 12<br>480 sek <br>65 % FTP<br>205 w<br>\"], \"type\": \"scatter\", \"x\": [1770.0, 1770.0, 1770.0, 1770.0], \"y\": [13.0, 26.0, 39.0, 52.0]}, {\"fill\": \"tozeroy\", \"fillcolor\": \"blue\", \"hoverinfo\": \"text\", \"legendgroup\": \"blue\", \"line\": {\"color\": \"black\"}, \"mode\": \"lines\", \"showlegend\": false, \"text\": \"ID: 12<br>480 sek <br>65 % FTP<br>205 w<br>\", \"type\": \"scatter\", \"x\": [1530, 1530, 2010, 2010], \"xaxis\": \"x\", \"y\": [0, 65, 65, 0], \"yaxis\": \"y\"}, {\"hoverinfo\": \"none\", \"line\": {\"color\": \"rgba(0,0,0,0)\"}, \"mode\": \"lines\", \"showlegend\": false, \"type\": \"scatter\", \"x\": [1530, 2010], \"xaxis\": \"x\", \"y\": [204.75, 204.75], \"yaxis\": \"y2\"}, {\"hoverinfo\": \"text\", \"marker\": {\"color\": [\"rgba(0,0,0,0)\", \"rgba(0,0,0,0)\", \"rgba(0,0,0,0)\", \"rgba(0,0,0,0)\"]}, \"mode\": \"markers\", \"showlegend\": false, \"text\": [\"ID: 13<br>45 sek <br>80 % FTP<br>252 w<br>\", \"ID: 13<br>45 sek <br>80 % FTP<br>252 w<br>\", \"ID: 13<br>45 sek <br>80 % FTP<br>252 w<br>\", \"ID: 13<br>45 sek <br>80 % FTP<br>252 w<br>\"], \"type\": \"scatter\", \"x\": [2032.5, 2032.5, 2032.5, 2032.5], \"y\": [16.0, 32.0, 48.0, 64.0]}, {\"fill\": \"tozeroy\", \"fillcolor\": \"green\", \"hoverinfo\": \"text\", \"legendgroup\": \"green\", \"line\": {\"color\": \"black\"}, \"mode\": \"lines\", \"showlegend\": false, \"text\": \"ID: 13<br>45 sek <br>80 % FTP<br>252 w<br>\", \"type\": \"scatter\", \"x\": [2010, 2010, 2055, 2055], \"xaxis\": \"x\", \"y\": [0, 80, 80, 0], \"yaxis\": \"y\"}, {\"hoverinfo\": \"none\", \"line\": {\"color\": \"rgba(0,0,0,0)\"}, \"mode\": \"lines\", \"showlegend\": false, \"type\": \"scatter\", \"x\": [2010, 2055], \"xaxis\": \"x\", \"y\": [252.0, 252.0], \"yaxis\": \"y2\"}, {\"hoverinfo\": \"text\", \"marker\": {\"color\": [\"rgba(0,0,0,0)\", \"rgba(0,0,0,0)\", \"rgba(0,0,0,0)\", \"rgba(0,0,0,0)\"]}, \"mode\": \"markers\", \"showlegend\": false, \"text\": [\"ID: 14<br>45 sek <br>90 % FTP<br>284 w<br>\", \"ID: 14<br>45 sek <br>90 % FTP<br>284 w<br>\", \"ID: 14<br>45 sek <br>90 % FTP<br>284 w<br>\", \"ID: 14<br>45 sek <br>90 % FTP<br>284 w<br>\"], \"type\": \"scatter\", \"x\": [2077.5, 2077.5, 2077.5, 2077.5], \"y\": [18.0, 36.0, 54.0, 72.0]}, {\"fill\": \"tozeroy\", \"fillcolor\": \"yellow\", \"hoverinfo\": \"text\", \"legendgroup\": \"yellow\", \"line\": {\"color\": \"black\"}, \"mode\": \"lines\", \"showlegend\": false, \"text\": \"ID: 14<br>45 sek <br>90 % FTP<br>284 w<br>\", \"type\": \"scatter\", \"x\": [2055, 2055, 2100, 2100], \"xaxis\": \"x\", \"y\": [0, 90, 90, 0], \"yaxis\": \"y\"}, {\"hoverinfo\": \"none\", \"line\": {\"color\": \"rgba(0,0,0,0)\"}, \"mode\": \"lines\", \"showlegend\": false, \"type\": \"scatter\", \"x\": [2055, 2100], \"xaxis\": \"x\", \"y\": [283.5, 283.5], \"yaxis\": \"y2\"}, {\"hoverinfo\": \"text\", \"marker\": {\"color\": [\"rgba(0,0,0,0)\", \"rgba(0,0,0,0)\", \"rgba(0,0,0,0)\", \"rgba(0,0,0,0)\"]}, \"mode\": \"markers\", \"showlegend\": false, \"text\": [\"ID: 15<br>45 sek <br>100 % FTP<br>315 w<br>\", \"ID: 15<br>45 sek <br>100 % FTP<br>315 w<br>\", \"ID: 15<br>45 sek <br>100 % FTP<br>315 w<br>\", \"ID: 15<br>45 sek <br>100 % FTP<br>315 w<br>\"], \"type\": \"scatter\", \"x\": [2122.5, 2122.5, 2122.5, 2122.5], \"y\": [20.0, 40.0, 60.0, 80.0]}, {\"fill\": \"tozeroy\", \"fillcolor\": \"yellow\", \"hoverinfo\": \"text\", \"legendgroup\": \"yellow\", \"line\": {\"color\": \"black\"}, \"mode\": \"lines\", \"showlegend\": false, \"text\": \"ID: 15<br>45 sek <br>100 % FTP<br>315 w<br>\", \"type\": \"scatter\", \"x\": [2100, 2100, 2145, 2145], \"xaxis\": \"x\", \"y\": [0, 100, 100, 0], \"yaxis\": \"y\"}, {\"hoverinfo\": \"none\", \"line\": {\"color\": \"rgba(0,0,0,0)\"}, \"mode\": \"lines\", \"showlegend\": false, \"type\": \"scatter\", \"x\": [2100, 2145], \"xaxis\": \"x\", \"y\": [315.0, 315.0], \"yaxis\": \"y2\"}, {\"hoverinfo\": \"text\", \"marker\": {\"color\": [\"rgba(0,0,0,0)\", \"rgba(0,0,0,0)\", \"rgba(0,0,0,0)\", \"rgba(0,0,0,0)\"]}, \"mode\": \"markers\", \"showlegend\": false, \"text\": [\"ID: 16<br>45 sek <br>90 % FTP<br>284 w<br>\", \"ID: 16<br>45 sek <br>90 % FTP<br>284 w<br>\", \"ID: 16<br>45 sek <br>90 % FTP<br>284 w<br>\", \"ID: 16<br>45 sek <br>90 % FTP<br>284 w<br>\"], \"type\": \"scatter\", \"x\": [2167.5, 2167.5, 2167.5, 2167.5], \"y\": [18.0, 36.0, 54.0, 72.0]}, {\"fill\": \"tozeroy\", \"fillcolor\": \"yellow\", \"hoverinfo\": \"text\", \"legendgroup\": \"yellow\", \"line\": {\"color\": \"black\"}, \"mode\": \"lines\", \"showlegend\": false, \"text\": \"ID: 16<br>45 sek <br>90 % FTP<br>284 w<br>\", \"type\": \"scatter\", \"x\": [2145, 2145, 2190, 2190], \"xaxis\": \"x\", \"y\": [0, 90, 90, 0], \"yaxis\": \"y\"}, {\"hoverinfo\": \"none\", \"line\": {\"color\": \"rgba(0,0,0,0)\"}, \"mode\": \"lines\", \"showlegend\": false, \"type\": \"scatter\", \"x\": [2145, 2190], \"xaxis\": \"x\", \"y\": [283.5, 283.5], \"yaxis\": \"y2\"}, {\"hoverinfo\": \"text\", \"marker\": {\"color\": [\"rgba(0,0,0,0)\", \"rgba(0,0,0,0)\", \"rgba(0,0,0,0)\", \"rgba(0,0,0,0)\"]}, \"mode\": \"markers\", \"showlegend\": false, \"text\": [\"ID: 17<br>45 sek <br>80 % FTP<br>252 w<br>\", \"ID: 17<br>45 sek <br>80 % FTP<br>252 w<br>\", \"ID: 17<br>45 sek <br>80 % FTP<br>252 w<br>\", \"ID: 17<br>45 sek <br>80 % FTP<br>252 w<br>\"], \"type\": \"scatter\", \"x\": [2212.5, 2212.5, 2212.5, 2212.5], \"y\": [16.0, 32.0, 48.0, 64.0]}, {\"fill\": \"tozeroy\", \"fillcolor\": \"green\", \"hoverinfo\": \"text\", \"legendgroup\": \"green\", \"line\": {\"color\": \"black\"}, \"mode\": \"lines\", \"showlegend\": false, \"text\": \"ID: 17<br>45 sek <br>80 % FTP<br>252 w<br>\", \"type\": \"scatter\", \"x\": [2190, 2190, 2235, 2235], \"xaxis\": \"x\", \"y\": [0, 80, 80, 0], \"yaxis\": \"y\"}, {\"hoverinfo\": \"none\", \"line\": {\"color\": \"rgba(0,0,0,0)\"}, \"mode\": \"lines\", \"showlegend\": false, \"type\": \"scatter\", \"x\": [2190, 2235], \"xaxis\": \"x\", \"y\": [252.0, 252.0], \"yaxis\": \"y2\"}, {\"hoverinfo\": \"text\", \"marker\": {\"color\": [\"rgba(0,0,0,0)\", \"rgba(0,0,0,0)\", \"rgba(0,0,0,0)\", \"rgba(0,0,0,0)\"]}, \"mode\": \"markers\", \"showlegend\": false, \"text\": [\"ID: 18<br>480 sek <br>65 % FTP<br>205 w<br>\", \"ID: 18<br>480 sek <br>65 % FTP<br>205 w<br>\", \"ID: 18<br>480 sek <br>65 % FTP<br>205 w<br>\", \"ID: 18<br>480 sek <br>65 % FTP<br>205 w<br>\"], \"type\": \"scatter\", \"x\": [2475.0, 2475.0, 2475.0, 2475.0], \"y\": [13.0, 26.0, 39.0, 52.0]}, {\"fill\": \"tozeroy\", \"fillcolor\": \"blue\", \"hoverinfo\": \"text\", \"legendgroup\": \"blue\", \"line\": {\"color\": \"black\"}, \"mode\": \"lines\", \"showlegend\": false, \"text\": \"ID: 18<br>480 sek <br>65 % FTP<br>205 w<br>\", \"type\": \"scatter\", \"x\": [2235, 2235, 2715, 2715], \"xaxis\": \"x\", \"y\": [0, 65, 65, 0], \"yaxis\": \"y\"}, {\"hoverinfo\": \"none\", \"line\": {\"color\": \"rgba(0,0,0,0)\"}, \"mode\": \"lines\", \"showlegend\": false, \"type\": \"scatter\", \"x\": [2235, 2715], \"xaxis\": \"x\", \"y\": [204.75, 204.75], \"yaxis\": \"y2\"}, {\"hoverinfo\": \"text\", \"marker\": {\"color\": [\"rgba(0,0,0,0)\", \"rgba(0,0,0,0)\", \"rgba(0,0,0,0)\", \"rgba(0,0,0,0)\"]}, \"mode\": \"markers\", \"showlegend\": false, \"text\": [\"ID: 19<br>45 sek <br>80 % FTP<br>252 w<br>\", \"ID: 19<br>45 sek <br>80 % FTP<br>252 w<br>\", \"ID: 19<br>45 sek <br>80 % FTP<br>252 w<br>\", \"ID: 19<br>45 sek <br>80 % FTP<br>252 w<br>\"], \"type\": \"scatter\", \"x\": [2737.5, 2737.5, 2737.5, 2737.5], \"y\": [16.0, 32.0, 48.0, 64.0]}, {\"fill\": \"tozeroy\", \"fillcolor\": \"green\", \"hoverinfo\": \"text\", \"legendgroup\": \"green\", \"line\": {\"color\": \"black\"}, \"mode\": \"lines\", \"showlegend\": false, \"text\": \"ID: 19<br>45 sek <br>80 % FTP<br>252 w<br>\", \"type\": \"scatter\", \"x\": [2715, 2715, 2760, 2760], \"xaxis\": \"x\", \"y\": [0, 80, 80, 0], \"yaxis\": \"y\"}, {\"hoverinfo\": \"none\", \"line\": {\"color\": \"rgba(0,0,0,0)\"}, \"mode\": \"lines\", \"showlegend\": false, \"type\": \"scatter\", \"x\": [2715, 2760], \"xaxis\": \"x\", \"y\": [252.0, 252.0], \"yaxis\": \"y2\"}, {\"hoverinfo\": \"text\", \"marker\": {\"color\": [\"rgba(0,0,0,0)\", \"rgba(0,0,0,0)\", \"rgba(0,0,0,0)\", \"rgba(0,0,0,0)\"]}, \"mode\": \"markers\", \"showlegend\": false, \"text\": [\"ID: 20<br>45 sek <br>90 % FTP<br>284 w<br>\", \"ID: 20<br>45 sek <br>90 % FTP<br>284 w<br>\", \"ID: 20<br>45 sek <br>90 % FTP<br>284 w<br>\", \"ID: 20<br>45 sek <br>90 % FTP<br>284 w<br>\"], \"type\": \"scatter\", \"x\": [2782.5, 2782.5, 2782.5, 2782.5], \"y\": [18.0, 36.0, 54.0, 72.0]}, {\"fill\": \"tozeroy\", \"fillcolor\": \"yellow\", \"hoverinfo\": \"text\", \"legendgroup\": \"yellow\", \"line\": {\"color\": \"black\"}, \"mode\": \"lines\", \"showlegend\": false, \"text\": \"ID: 20<br>45 sek <br>90 % FTP<br>284 w<br>\", \"type\": \"scatter\", \"x\": [2760, 2760, 2805, 2805], \"xaxis\": \"x\", \"y\": [0, 90, 90, 0], \"yaxis\": \"y\"}, {\"hoverinfo\": \"none\", \"line\": {\"color\": \"rgba(0,0,0,0)\"}, \"mode\": \"lines\", \"showlegend\": false, \"type\": \"scatter\", \"x\": [2760, 2805], \"xaxis\": \"x\", \"y\": [283.5, 283.5], \"yaxis\": \"y2\"}, {\"hoverinfo\": \"text\", \"marker\": {\"color\": [\"rgba(0,0,0,0)\", \"rgba(0,0,0,0)\", \"rgba(0,0,0,0)\", \"rgba(0,0,0,0)\"]}, \"mode\": \"markers\", \"showlegend\": false, \"text\": [\"ID: 21<br>45 sek <br>100 % FTP<br>315 w<br>\", \"ID: 21<br>45 sek <br>100 % FTP<br>315 w<br>\", \"ID: 21<br>45 sek <br>100 % FTP<br>315 w<br>\", \"ID: 21<br>45 sek <br>100 % FTP<br>315 w<br>\"], \"type\": \"scatter\", \"x\": [2827.5, 2827.5, 2827.5, 2827.5], \"y\": [20.0, 40.0, 60.0, 80.0]}, {\"fill\": \"tozeroy\", \"fillcolor\": \"yellow\", \"hoverinfo\": \"text\", \"legendgroup\": \"yellow\", \"line\": {\"color\": \"black\"}, \"mode\": \"lines\", \"showlegend\": false, \"text\": \"ID: 21<br>45 sek <br>100 % FTP<br>315 w<br>\", \"type\": \"scatter\", \"x\": [2805, 2805, 2850, 2850], \"xaxis\": \"x\", \"y\": [0, 100, 100, 0], \"yaxis\": \"y\"}, {\"hoverinfo\": \"none\", \"line\": {\"color\": \"rgba(0,0,0,0)\"}, \"mode\": \"lines\", \"showlegend\": false, \"type\": \"scatter\", \"x\": [2805, 2850], \"xaxis\": \"x\", \"y\": [315.0, 315.0], \"yaxis\": \"y2\"}, {\"hoverinfo\": \"text\", \"marker\": {\"color\": [\"rgba(0,0,0,0)\", \"rgba(0,0,0,0)\", \"rgba(0,0,0,0)\", \"rgba(0,0,0,0)\"]}, \"mode\": \"markers\", \"showlegend\": false, \"text\": [\"ID: 22<br>45 sek <br>90 % FTP<br>284 w<br>\", \"ID: 22<br>45 sek <br>90 % FTP<br>284 w<br>\", \"ID: 22<br>45 sek <br>90 % FTP<br>284 w<br>\", \"ID: 22<br>45 sek <br>90 % FTP<br>284 w<br>\"], \"type\": \"scatter\", \"x\": [2872.5, 2872.5, 2872.5, 2872.5], \"y\": [18.0, 36.0, 54.0, 72.0]}, {\"fill\": \"tozeroy\", \"fillcolor\": \"yellow\", \"hoverinfo\": \"text\", \"legendgroup\": \"yellow\", \"line\": {\"color\": \"black\"}, \"mode\": \"lines\", \"showlegend\": false, \"text\": \"ID: 22<br>45 sek <br>90 % FTP<br>284 w<br>\", \"type\": \"scatter\", \"x\": [2850, 2850, 2895, 2895], \"xaxis\": \"x\", \"y\": [0, 90, 90, 0], \"yaxis\": \"y\"}, {\"hoverinfo\": \"none\", \"line\": {\"color\": \"rgba(0,0,0,0)\"}, \"mode\": \"lines\", \"showlegend\": false, \"type\": \"scatter\", \"x\": [2850, 2895], \"xaxis\": \"x\", \"y\": [283.5, 283.5], \"yaxis\": \"y2\"}, {\"hoverinfo\": \"text\", \"marker\": {\"color\": [\"rgba(0,0,0,0)\", \"rgba(0,0,0,0)\", \"rgba(0,0,0,0)\", \"rgba(0,0,0,0)\"]}, \"mode\": \"markers\", \"showlegend\": false, \"text\": [\"ID: 23<br>45 sek <br>80 % FTP<br>252 w<br>\", \"ID: 23<br>45 sek <br>80 % FTP<br>252 w<br>\", \"ID: 23<br>45 sek <br>80 % FTP<br>252 w<br>\", \"ID: 23<br>45 sek <br>80 % FTP<br>252 w<br>\"], \"type\": \"scatter\", \"x\": [2917.5, 2917.5, 2917.5, 2917.5], \"y\": [16.0, 32.0, 48.0, 64.0]}, {\"fill\": \"tozeroy\", \"fillcolor\": \"green\", \"hoverinfo\": \"text\", \"legendgroup\": \"green\", \"line\": {\"color\": \"black\"}, \"mode\": \"lines\", \"showlegend\": false, \"text\": \"ID: 23<br>45 sek <br>80 % FTP<br>252 w<br>\", \"type\": \"scatter\", \"x\": [2895, 2895, 2940, 2940], \"xaxis\": \"x\", \"y\": [0, 80, 80, 0], \"yaxis\": \"y\"}, {\"hoverinfo\": \"none\", \"line\": {\"color\": \"rgba(0,0,0,0)\"}, \"mode\": \"lines\", \"showlegend\": false, \"type\": \"scatter\", \"x\": [2895, 2940], \"xaxis\": \"x\", \"y\": [252.0, 252.0], \"yaxis\": \"y2\"}, {\"hoverinfo\": \"text\", \"marker\": {\"color\": [\"rgba(0,0,0,0)\", \"rgba(0,0,0,0)\", \"rgba(0,0,0,0)\", \"rgba(0,0,0,0)\"]}, \"mode\": \"markers\", \"showlegend\": false, \"text\": [\"ID: 24<br>480 sek <br>65 % FTP<br>205 w<br>\", \"ID: 24<br>480 sek <br>65 % FTP<br>205 w<br>\", \"ID: 24<br>480 sek <br>65 % FTP<br>205 w<br>\", \"ID: 24<br>480 sek <br>65 % FTP<br>205 w<br>\"], \"type\": \"scatter\", \"x\": [3180.0, 3180.0, 3180.0, 3180.0], \"y\": [13.0, 26.0, 39.0, 52.0]}, {\"fill\": \"tozeroy\", \"fillcolor\": \"blue\", \"hoverinfo\": \"text\", \"legendgroup\": \"blue\", \"line\": {\"color\": \"black\"}, \"mode\": \"lines\", \"showlegend\": false, \"text\": \"ID: 24<br>480 sek <br>65 % FTP<br>205 w<br>\", \"type\": \"scatter\", \"x\": [2940, 2940, 3420, 3420], \"xaxis\": \"x\", \"y\": [0, 65, 65, 0], \"yaxis\": \"y\"}, {\"hoverinfo\": \"none\", \"line\": {\"color\": \"rgba(0,0,0,0)\"}, \"mode\": \"lines\", \"showlegend\": false, \"type\": \"scatter\", \"x\": [2940, 3420], \"xaxis\": \"x\", \"y\": [204.75, 204.75], \"yaxis\": \"y2\"}, {\"hoverinfo\": \"text\", \"marker\": {\"color\": [\"rgba(0,0,0,0)\", \"rgba(0,0,0,0)\", \"rgba(0,0,0,0)\", \"rgba(0,0,0,0)\"]}, \"mode\": \"markers\", \"showlegend\": false, \"text\": [\"ID: 25<br>45 sek <br>80 % FTP<br>252 w<br>\", \"ID: 25<br>45 sek <br>80 % FTP<br>252 w<br>\", \"ID: 25<br>45 sek <br>80 % FTP<br>252 w<br>\", \"ID: 25<br>45 sek <br>80 % FTP<br>252 w<br>\"], \"type\": \"scatter\", \"x\": [3442.5, 3442.5, 3442.5, 3442.5], \"y\": [16.0, 32.0, 48.0, 64.0]}, {\"fill\": \"tozeroy\", \"fillcolor\": \"green\", \"hoverinfo\": \"text\", \"legendgroup\": \"green\", \"line\": {\"color\": \"black\"}, \"mode\": \"lines\", \"showlegend\": false, \"text\": \"ID: 25<br>45 sek <br>80 % FTP<br>252 w<br>\", \"type\": \"scatter\", \"x\": [3420, 3420, 3465, 3465], \"xaxis\": \"x\", \"y\": [0, 80, 80, 0], \"yaxis\": \"y\"}, {\"hoverinfo\": \"none\", \"line\": {\"color\": \"rgba(0,0,0,0)\"}, \"mode\": \"lines\", \"showlegend\": false, \"type\": \"scatter\", \"x\": [3420, 3465], \"xaxis\": \"x\", \"y\": [252.0, 252.0], \"yaxis\": \"y2\"}, {\"hoverinfo\": \"text\", \"marker\": {\"color\": [\"rgba(0,0,0,0)\", \"rgba(0,0,0,0)\", \"rgba(0,0,0,0)\", \"rgba(0,0,0,0)\"]}, \"mode\": \"markers\", \"showlegend\": false, \"text\": [\"ID: 26<br>45 sek <br>90 % FTP<br>284 w<br>\", \"ID: 26<br>45 sek <br>90 % FTP<br>284 w<br>\", \"ID: 26<br>45 sek <br>90 % FTP<br>284 w<br>\", \"ID: 26<br>45 sek <br>90 % FTP<br>284 w<br>\"], \"type\": \"scatter\", \"x\": [3487.5, 3487.5, 3487.5, 3487.5], \"y\": [18.0, 36.0, 54.0, 72.0]}, {\"fill\": \"tozeroy\", \"fillcolor\": \"yellow\", \"hoverinfo\": \"text\", \"legendgroup\": \"yellow\", \"line\": {\"color\": \"black\"}, \"mode\": \"lines\", \"showlegend\": false, \"text\": \"ID: 26<br>45 sek <br>90 % FTP<br>284 w<br>\", \"type\": \"scatter\", \"x\": [3465, 3465, 3510, 3510], \"xaxis\": \"x\", \"y\": [0, 90, 90, 0], \"yaxis\": \"y\"}, {\"hoverinfo\": \"none\", \"line\": {\"color\": \"rgba(0,0,0,0)\"}, \"mode\": \"lines\", \"showlegend\": false, \"type\": \"scatter\", \"x\": [3465, 3510], \"xaxis\": \"x\", \"y\": [283.5, 283.5], \"yaxis\": \"y2\"}, {\"hoverinfo\": \"text\", \"marker\": {\"color\": [\"rgba(0,0,0,0)\", \"rgba(0,0,0,0)\", \"rgba(0,0,0,0)\", \"rgba(0,0,0,0)\"]}, \"mode\": \"markers\", \"showlegend\": false, \"text\": [\"ID: 27<br>45 sek <br>100 % FTP<br>315 w<br>\", \"ID: 27<br>45 sek <br>100 % FTP<br>315 w<br>\", \"ID: 27<br>45 sek <br>100 % FTP<br>315 w<br>\", \"ID: 27<br>45 sek <br>100 % FTP<br>315 w<br>\"], \"type\": \"scatter\", \"x\": [3532.5, 3532.5, 3532.5, 3532.5], \"y\": [20.0, 40.0, 60.0, 80.0]}, {\"fill\": \"tozeroy\", \"fillcolor\": \"yellow\", \"hoverinfo\": \"text\", \"legendgroup\": \"yellow\", \"line\": {\"color\": \"black\"}, \"mode\": \"lines\", \"showlegend\": false, \"text\": \"ID: 27<br>45 sek <br>100 % FTP<br>315 w<br>\", \"type\": \"scatter\", \"x\": [3510, 3510, 3555, 3555], \"xaxis\": \"x\", \"y\": [0, 100, 100, 0], \"yaxis\": \"y\"}, {\"hoverinfo\": \"none\", \"line\": {\"color\": \"rgba(0,0,0,0)\"}, \"mode\": \"lines\", \"showlegend\": false, \"type\": \"scatter\", \"x\": [3510, 3555], \"xaxis\": \"x\", \"y\": [315.0, 315.0], \"yaxis\": \"y2\"}, {\"hoverinfo\": \"text\", \"marker\": {\"color\": [\"rgba(0,0,0,0)\", \"rgba(0,0,0,0)\", \"rgba(0,0,0,0)\", \"rgba(0,0,0,0)\"]}, \"mode\": \"markers\", \"showlegend\": false, \"text\": [\"ID: 28<br>45 sek <br>90 % FTP<br>284 w<br>\", \"ID: 28<br>45 sek <br>90 % FTP<br>284 w<br>\", \"ID: 28<br>45 sek <br>90 % FTP<br>284 w<br>\", \"ID: 28<br>45 sek <br>90 % FTP<br>284 w<br>\"], \"type\": \"scatter\", \"x\": [3577.5, 3577.5, 3577.5, 3577.5], \"y\": [18.0, 36.0, 54.0, 72.0]}, {\"fill\": \"tozeroy\", \"fillcolor\": \"yellow\", \"hoverinfo\": \"text\", \"legendgroup\": \"yellow\", \"line\": {\"color\": \"black\"}, \"mode\": \"lines\", \"showlegend\": false, \"text\": \"ID: 28<br>45 sek <br>90 % FTP<br>284 w<br>\", \"type\": \"scatter\", \"x\": [3555, 3555, 3600, 3600], \"xaxis\": \"x\", \"y\": [0, 90, 90, 0], \"yaxis\": \"y\"}, {\"hoverinfo\": \"none\", \"line\": {\"color\": \"rgba(0,0,0,0)\"}, \"mode\": \"lines\", \"showlegend\": false, \"type\": \"scatter\", \"x\": [3555, 3600], \"xaxis\": \"x\", \"y\": [283.5, 283.5], \"yaxis\": \"y2\"}, {\"hoverinfo\": \"text\", \"marker\": {\"color\": [\"rgba(0,0,0,0)\", \"rgba(0,0,0,0)\", \"rgba(0,0,0,0)\", \"rgba(0,0,0,0)\"]}, \"mode\": \"markers\", \"showlegend\": false, \"text\": [\"ID: 29<br>45 sek <br>80 % FTP<br>252 w<br>\", \"ID: 29<br>45 sek <br>80 % FTP<br>252 w<br>\", \"ID: 29<br>45 sek <br>80 % FTP<br>252 w<br>\", \"ID: 29<br>45 sek <br>80 % FTP<br>252 w<br>\"], \"type\": \"scatter\", \"x\": [3622.5, 3622.5, 3622.5, 3622.5], \"y\": [16.0, 32.0, 48.0, 64.0]}, {\"fill\": \"tozeroy\", \"fillcolor\": \"green\", \"hoverinfo\": \"text\", \"legendgroup\": \"green\", \"line\": {\"color\": \"black\"}, \"mode\": \"lines\", \"showlegend\": false, \"text\": \"ID: 29<br>45 sek <br>80 % FTP<br>252 w<br>\", \"type\": \"scatter\", \"x\": [3600, 3600, 3645, 3645], \"xaxis\": \"x\", \"y\": [0, 80, 80, 0], \"yaxis\": \"y\"}, {\"hoverinfo\": \"none\", \"line\": {\"color\": \"rgba(0,0,0,0)\"}, \"mode\": \"lines\", \"showlegend\": false, \"type\": \"scatter\", \"x\": [3600, 3645], \"xaxis\": \"x\", \"y\": [252.0, 252.0], \"yaxis\": \"y2\"}, {\"hoverinfo\": \"text\", \"marker\": {\"color\": [\"rgba(0,0,0,0)\", \"rgba(0,0,0,0)\", \"rgba(0,0,0,0)\", \"rgba(0,0,0,0)\"]}, \"mode\": \"markers\", \"showlegend\": false, \"text\": [\"ID: 30<br>330.0 sek <br>70 bis 59 % FTP<br>220 bis 186 w<br>\", \"ID: 30<br>330.0 sek <br>70 bis 59 % FTP<br>220 bis 186 w<br>\", \"ID: 30<br>330.0 sek <br>70 bis 59 % FTP<br>220 bis 186 w<br>\", \"ID: 30<br>330.0 sek <br>70 bis 59 % FTP<br>220 bis 186 w<br>\"], \"type\": \"scatter\", \"x\": [3810.0, 3810.0, 3810.0, 3810.0], \"y\": [11.8, 23.6, 35.4, 47.2]}, {\"fill\": \"tozeroy\", \"fillcolor\": \"blue\", \"hoverinfo\": \"text\", \"legendgroup\": \"blue\", \"line\": {\"color\": \"black\"}, \"mode\": \"lines\", \"showlegend\": false, \"text\": \"ID: 30<br>330.0 sek <br>70 bis 59 % FTP<br>220 bis 186 w<br>\", \"type\": \"scatter\", \"x\": [3645, 3645, 3975.0, 3975.0], \"xaxis\": \"x\", \"y\": [0, 70, 59, 0], \"yaxis\": \"y\"}, {\"hoverinfo\": \"none\", \"line\": {\"color\": \"rgba(0,0,0,0)\"}, \"mode\": \"lines\", \"showlegend\": false, \"type\": \"scatter\", \"x\": [3645, 3975.0], \"xaxis\": \"x\", \"y\": [220.5, 185.85], \"yaxis\": \"y2\"}, {\"hoverinfo\": \"text\", \"marker\": {\"color\": [\"rgba(0,0,0,0)\", \"rgba(0,0,0,0)\", \"rgba(0,0,0,0)\", \"rgba(0,0,0,0)\"]}, \"mode\": \"markers\", \"showlegend\": false, \"text\": [\"ID: 30<br>270.0 sek <br>59 bis 50 % FTP<br>186 bis 158 w<br>\", \"ID: 30<br>270.0 sek <br>59 bis 50 % FTP<br>186 bis 158 w<br>\", \"ID: 30<br>270.0 sek <br>59 bis 50 % FTP<br>186 bis 158 w<br>\", \"ID: 30<br>270.0 sek <br>59 bis 50 % FTP<br>186 bis 158 w<br>\"], \"type\": \"scatter\", \"x\": [4110.0, 4110.0, 4110.0, 4110.0], \"y\": [10.0, 20.0, 30.0, 40.0]}, {\"fill\": \"tozeroy\", \"fillcolor\": \"grey\", \"hoverinfo\": \"text\", \"legendgroup\": \"grey\", \"line\": {\"color\": \"black\"}, \"mode\": \"lines\", \"showlegend\": false, \"text\": \"ID: 30<br>270.0 sek <br>59 bis 50 % FTP<br>186 bis 158 w<br>\", \"type\": \"scatter\", \"x\": [3975.0, 3975.0, 4245.0, 4245.0], \"xaxis\": \"x\", \"y\": [0, 59, 50, 0], \"yaxis\": \"y\"}, {\"hoverinfo\": \"none\", \"line\": {\"color\": \"rgba(0,0,0,0)\"}, \"mode\": \"lines\", \"showlegend\": false, \"type\": \"scatter\", \"x\": [3975.0, 4245.0], \"xaxis\": \"x\", \"y\": [185.85, 157.5], \"yaxis\": \"y2\"}],                        {\"template\": {\"data\": {\"bar\": [{\"error_x\": {\"color\": \"#2a3f5f\"}, \"error_y\": {\"color\": \"#2a3f5f\"}, \"marker\": {\"line\": {\"color\": \"#E5ECF6\", \"width\": 0.5}}, \"type\": \"bar\"}], \"barpolar\": [{\"marker\": {\"line\": {\"color\": \"#E5ECF6\", \"width\": 0.5}}, \"type\": \"barpolar\"}], \"carpet\": [{\"aaxis\": {\"endlinecolor\": \"#2a3f5f\", \"gridcolor\": \"white\", \"linecolor\": \"white\", \"minorgridcolor\": \"white\", \"startlinecolor\": \"#2a3f5f\"}, \"baxis\": {\"endlinecolor\": \"#2a3f5f\", \"gridcolor\": \"white\", \"linecolor\": \"white\", \"minorgridcolor\": \"white\", \"startlinecolor\": \"#2a3f5f\"}, \"type\": \"carpet\"}], \"choropleth\": [{\"colorbar\": {\"outlinewidth\": 0, \"ticks\": \"\"}, \"type\": \"choropleth\"}], \"contour\": [{\"colorbar\": {\"outlinewidth\": 0, \"ticks\": \"\"}, \"colorscale\": [[0.0, \"#0d0887\"], [0.1111111111111111, \"#46039f\"], [0.2222222222222222, \"#7201a8\"], [0.3333333333333333, \"#9c179e\"], [0.4444444444444444, \"#bd3786\"], [0.5555555555555556, \"#d8576b\"], [0.6666666666666666, \"#ed7953\"], [0.7777777777777778, \"#fb9f3a\"], [0.8888888888888888, \"#fdca26\"], [1.0, \"#f0f921\"]], \"type\": \"contour\"}], \"contourcarpet\": [{\"colorbar\": {\"outlinewidth\": 0, \"ticks\": \"\"}, \"type\": \"contourcarpet\"}], \"heatmap\": [{\"colorbar\": {\"outlinewidth\": 0, \"ticks\": \"\"}, \"colorscale\": [[0.0, \"#0d0887\"], [0.1111111111111111, \"#46039f\"], [0.2222222222222222, \"#7201a8\"], [0.3333333333333333, \"#9c179e\"], [0.4444444444444444, \"#bd3786\"], [0.5555555555555556, \"#d8576b\"], [0.6666666666666666, \"#ed7953\"], [0.7777777777777778, \"#fb9f3a\"], [0.8888888888888888, \"#fdca26\"], [1.0, \"#f0f921\"]], \"type\": \"heatmap\"}], \"heatmapgl\": [{\"colorbar\": {\"outlinewidth\": 0, \"ticks\": \"\"}, \"colorscale\": [[0.0, \"#0d0887\"], [0.1111111111111111, \"#46039f\"], [0.2222222222222222, \"#7201a8\"], [0.3333333333333333, \"#9c179e\"], [0.4444444444444444, \"#bd3786\"], [0.5555555555555556, \"#d8576b\"], [0.6666666666666666, \"#ed7953\"], [0.7777777777777778, \"#fb9f3a\"], [0.8888888888888888, \"#fdca26\"], [1.0, \"#f0f921\"]], \"type\": \"heatmapgl\"}], \"histogram\": [{\"marker\": {\"colorbar\": {\"outlinewidth\": 0, \"ticks\": \"\"}}, \"type\": \"histogram\"}], \"histogram2d\": [{\"colorbar\": {\"outlinewidth\": 0, \"ticks\": \"\"}, \"colorscale\": [[0.0, \"#0d0887\"], [0.1111111111111111, \"#46039f\"], [0.2222222222222222, \"#7201a8\"], [0.3333333333333333, \"#9c179e\"], [0.4444444444444444, \"#bd3786\"], [0.5555555555555556, \"#d8576b\"], [0.6666666666666666, \"#ed7953\"], [0.7777777777777778, \"#fb9f3a\"], [0.8888888888888888, \"#fdca26\"], [1.0, \"#f0f921\"]], \"type\": \"histogram2d\"}], \"histogram2dcontour\": [{\"colorbar\": {\"outlinewidth\": 0, \"ticks\": \"\"}, \"colorscale\": [[0.0, \"#0d0887\"], [0.1111111111111111, \"#46039f\"], [0.2222222222222222, \"#7201a8\"], [0.3333333333333333, \"#9c179e\"], [0.4444444444444444, \"#bd3786\"], [0.5555555555555556, \"#d8576b\"], [0.6666666666666666, \"#ed7953\"], [0.7777777777777778, \"#fb9f3a\"], [0.8888888888888888, \"#fdca26\"], [1.0, \"#f0f921\"]], \"type\": \"histogram2dcontour\"}], \"mesh3d\": [{\"colorbar\": {\"outlinewidth\": 0, \"ticks\": \"\"}, \"type\": \"mesh3d\"}], \"parcoords\": [{\"line\": {\"colorbar\": {\"outlinewidth\": 0, \"ticks\": \"\"}}, \"type\": \"parcoords\"}], \"pie\": [{\"automargin\": true, \"type\": \"pie\"}], \"scatter\": [{\"marker\": {\"colorbar\": {\"outlinewidth\": 0, \"ticks\": \"\"}}, \"type\": \"scatter\"}], \"scatter3d\": [{\"line\": {\"colorbar\": {\"outlinewidth\": 0, \"ticks\": \"\"}}, \"marker\": {\"colorbar\": {\"outlinewidth\": 0, \"ticks\": \"\"}}, \"type\": \"scatter3d\"}], \"scattercarpet\": [{\"marker\": {\"colorbar\": {\"outlinewidth\": 0, \"ticks\": \"\"}}, \"type\": \"scattercarpet\"}], \"scattergeo\": [{\"marker\": {\"colorbar\": {\"outlinewidth\": 0, \"ticks\": \"\"}}, \"type\": \"scattergeo\"}], \"scattergl\": [{\"marker\": {\"colorbar\": {\"outlinewidth\": 0, \"ticks\": \"\"}}, \"type\": \"scattergl\"}], \"scattermapbox\": [{\"marker\": {\"colorbar\": {\"outlinewidth\": 0, \"ticks\": \"\"}}, \"type\": \"scattermapbox\"}], \"scatterpolar\": [{\"marker\": {\"colorbar\": {\"outlinewidth\": 0, \"ticks\": \"\"}}, \"type\": \"scatterpolar\"}], \"scatterpolargl\": [{\"marker\": {\"colorbar\": {\"outlinewidth\": 0, \"ticks\": \"\"}}, \"type\": \"scatterpolargl\"}], \"scatterternary\": [{\"marker\": {\"colorbar\": {\"outlinewidth\": 0, \"ticks\": \"\"}}, \"type\": \"scatterternary\"}], \"surface\": [{\"colorbar\": {\"outlinewidth\": 0, \"ticks\": \"\"}, \"colorscale\": [[0.0, \"#0d0887\"], [0.1111111111111111, \"#46039f\"], [0.2222222222222222, \"#7201a8\"], [0.3333333333333333, \"#9c179e\"], [0.4444444444444444, \"#bd3786\"], [0.5555555555555556, \"#d8576b\"], [0.6666666666666666, \"#ed7953\"], [0.7777777777777778, \"#fb9f3a\"], [0.8888888888888888, \"#fdca26\"], [1.0, \"#f0f921\"]], \"type\": \"surface\"}], \"table\": [{\"cells\": {\"fill\": {\"color\": \"#EBF0F8\"}, \"line\": {\"color\": \"white\"}}, \"header\": {\"fill\": {\"color\": \"#C8D4E3\"}, \"line\": {\"color\": \"white\"}}, \"type\": \"table\"}]}, \"layout\": {\"annotationdefaults\": {\"arrowcolor\": \"#2a3f5f\", \"arrowhead\": 0, \"arrowwidth\": 1}, \"coloraxis\": {\"colorbar\": {\"outlinewidth\": 0, \"ticks\": \"\"}}, \"colorscale\": {\"diverging\": [[0, \"#8e0152\"], [0.1, \"#c51b7d\"], [0.2, \"#de77ae\"], [0.3, \"#f1b6da\"], [0.4, \"#fde0ef\"], [0.5, \"#f7f7f7\"], [0.6, \"#e6f5d0\"], [0.7, \"#b8e186\"], [0.8, \"#7fbc41\"], [0.9, \"#4d9221\"], [1, \"#276419\"]], \"sequential\": [[0.0, \"#0d0887\"], [0.1111111111111111, \"#46039f\"], [0.2222222222222222, \"#7201a8\"], [0.3333333333333333, \"#9c179e\"], [0.4444444444444444, \"#bd3786\"], [0.5555555555555556, \"#d8576b\"], [0.6666666666666666, \"#ed7953\"], [0.7777777777777778, \"#fb9f3a\"], [0.8888888888888888, \"#fdca26\"], [1.0, \"#f0f921\"]], \"sequentialminus\": [[0.0, \"#0d0887\"], [0.1111111111111111, \"#46039f\"], [0.2222222222222222, \"#7201a8\"], [0.3333333333333333, \"#9c179e\"], [0.4444444444444444, \"#bd3786\"], [0.5555555555555556, \"#d8576b\"], [0.6666666666666666, \"#ed7953\"], [0.7777777777777778, \"#fb9f3a\"], [0.8888888888888888, \"#fdca26\"], [1.0, \"#f0f921\"]]}, \"colorway\": [\"#636efa\", \"#EF553B\", \"#00cc96\", \"#ab63fa\", \"#FFA15A\", \"#19d3f3\", \"#FF6692\", \"#B6E880\", \"#FF97FF\", \"#FECB52\"], \"font\": {\"color\": \"#2a3f5f\"}, \"geo\": {\"bgcolor\": \"white\", \"lakecolor\": \"white\", \"landcolor\": \"#E5ECF6\", \"showlakes\": true, \"showland\": true, \"subunitcolor\": \"white\"}, \"hoverlabel\": {\"align\": \"left\"}, \"hovermode\": \"closest\", \"mapbox\": {\"style\": \"light\"}, \"paper_bgcolor\": \"white\", \"plot_bgcolor\": \"#E5ECF6\", \"polar\": {\"angularaxis\": {\"gridcolor\": \"white\", \"linecolor\": \"white\", \"ticks\": \"\"}, \"bgcolor\": \"#E5ECF6\", \"radialaxis\": {\"gridcolor\": \"white\", \"linecolor\": \"white\", \"ticks\": \"\"}}, \"scene\": {\"xaxis\": {\"backgroundcolor\": \"#E5ECF6\", \"gridcolor\": \"white\", \"gridwidth\": 2, \"linecolor\": \"white\", \"showbackground\": true, \"ticks\": \"\", \"zerolinecolor\": \"white\"}, \"yaxis\": {\"backgroundcolor\": \"#E5ECF6\", \"gridcolor\": \"white\", \"gridwidth\": 2, \"linecolor\": \"white\", \"showbackground\": true, \"ticks\": \"\", \"zerolinecolor\": \"white\"}, \"zaxis\": {\"backgroundcolor\": \"#E5ECF6\", \"gridcolor\": \"white\", \"gridwidth\": 2, \"linecolor\": \"white\", \"showbackground\": true, \"ticks\": \"\", \"zerolinecolor\": \"white\"}}, \"shapedefaults\": {\"line\": {\"color\": \"#2a3f5f\"}}, \"ternary\": {\"aaxis\": {\"gridcolor\": \"white\", \"linecolor\": \"white\", \"ticks\": \"\"}, \"baxis\": {\"gridcolor\": \"white\", \"linecolor\": \"white\", \"ticks\": \"\"}, \"bgcolor\": \"#E5ECF6\", \"caxis\": {\"gridcolor\": \"white\", \"linecolor\": \"white\", \"ticks\": \"\"}}, \"title\": {\"x\": 0.05}, \"xaxis\": {\"automargin\": true, \"gridcolor\": \"white\", \"linecolor\": \"white\", \"ticks\": \"\", \"title\": {\"standoff\": 15}, \"zerolinecolor\": \"white\", \"zerolinewidth\": 2}, \"yaxis\": {\"automargin\": true, \"gridcolor\": \"white\", \"linecolor\": \"white\", \"ticks\": \"\", \"title\": {\"standoff\": 15}, \"zerolinecolor\": \"white\", \"zerolinewidth\": 2}}}, \"xaxis\": {\"anchor\": \"y\", \"domain\": [0.0, 0.94], \"title\": {\"text\": \"Zeit\"}}, \"yaxis\": {\"anchor\": \"x\", \"domain\": [0.0, 1.0], \"title\": {\"text\": \"% FTP\"}}, \"yaxis2\": {\"anchor\": \"x\", \"overlaying\": \"y\", \"showgrid\": false, \"side\": \"right\", \"title\": {\"text\": \"Watt\"}}},                        {\"responsive\": true}                    ).then(function(){\n",
       "                            \n",
       "var gd = document.getElementById('60d5b91c-4113-4cf8-98d9-49812533e859');\n",
       "var x = new MutationObserver(function (mutations, observer) {{\n",
       "        var display = window.getComputedStyle(gd).display;\n",
       "        if (!display || display === 'none') {{\n",
       "            console.log([gd, 'removed!']);\n",
       "            Plotly.purge(gd);\n",
       "            observer.disconnect();\n",
       "        }}\n",
       "}});\n",
       "\n",
       "// Listen for the removal of the full notebook cells\n",
       "var notebookContainer = gd.closest('#notebook-container');\n",
       "if (notebookContainer) {{\n",
       "    x.observe(notebookContainer, {childList: true});\n",
       "}}\n",
       "\n",
       "// Listen for the clearing of the current output cell\n",
       "var outputEl = gd.closest('.output');\n",
       "if (outputEl) {{\n",
       "    x.observe(outputEl, {childList: true});\n",
       "}}\n",
       "\n",
       "                        })                };                });            </script>        </div>"
      ]
     },
     "metadata": {},
     "output_type": "display_data"
    }
   ],
   "source": [
    "e = training('neues Workout', 'hier entseht ein neues workout')\n",
    "e.add(600, [50,70])\n",
    "\n",
    "e.add(45, 80)\n",
    "e.add(45, 90)\n",
    "e.add(45, 100)\n",
    "e.add(45, 90)\n",
    "e.add(45, 80)\n",
    "\n",
    "for i in range(4):\n",
    "    e.add(480, 65)\n",
    "\n",
    "    e.add(45, 80)\n",
    "    e.add(45, 90)\n",
    "    e.add(45, 100)\n",
    "    e.add(45, 90)\n",
    "    e.add(45, 80)\n",
    "    \n",
    "\n",
    "e.add(600, [70,50])\n",
    "\n",
    "e.plot()\n"
   ]
  },
  {
   "cell_type": "code",
   "execution_count": 249,
   "metadata": {},
   "outputs": [
    {
     "data": {
      "application/vnd.plotly.v1+json": {
       "config": {
        "plotlyServerURL": "https://plot.ly"
       },
       "data": [
        {
         "hoverinfo": "text",
         "marker": {
          "color": [
           "rgba(0,0,0,0)",
           "rgba(0,0,0,0)",
           "rgba(0,0,0,0)",
           "rgba(0,0,0,0)"
          ]
         },
         "mode": "markers",
         "showlegend": false,
         "text": [
          "ID: 0<br>270.0 sek <br>50 bis 59 % FTP<br>158 bis 186 w<br>",
          "ID: 0<br>270.0 sek <br>50 bis 59 % FTP<br>158 bis 186 w<br>",
          "ID: 0<br>270.0 sek <br>50 bis 59 % FTP<br>158 bis 186 w<br>",
          "ID: 0<br>270.0 sek <br>50 bis 59 % FTP<br>158 bis 186 w<br>"
         ],
         "type": "scatter",
         "x": [
          135,
          135,
          135,
          135
         ],
         "y": [
          11.8,
          23.6,
          35.4,
          47.2
         ]
        },
        {
         "fill": "tozeroy",
         "fillcolor": "grey",
         "hoverinfo": "text",
         "legendgroup": "grey",
         "line": {
          "color": "black"
         },
         "mode": "lines",
         "showlegend": false,
         "text": "ID: 0<br>270.0 sek <br>50 bis 59 % FTP<br>158 bis 186 w<br>",
         "type": "scatter",
         "x": [
          0,
          0,
          270,
          270
         ],
         "xaxis": "x",
         "y": [
          0,
          50,
          59,
          0
         ],
         "yaxis": "y"
        },
        {
         "hoverinfo": "none",
         "line": {
          "color": "rgba(0,0,0,0)"
         },
         "mode": "lines",
         "showlegend": false,
         "type": "scatter",
         "x": [
          0,
          270
         ],
         "xaxis": "x",
         "y": [
          157.5,
          185.85
         ],
         "yaxis": "y2"
        },
        {
         "hoverinfo": "text",
         "marker": {
          "color": [
           "rgba(0,0,0,0)",
           "rgba(0,0,0,0)",
           "rgba(0,0,0,0)",
           "rgba(0,0,0,0)"
          ]
         },
         "mode": "markers",
         "showlegend": false,
         "text": [
          "ID: 0<br>330.0 sek <br>59 bis 70 % FTP<br>186 bis 220 w<br>",
          "ID: 0<br>330.0 sek <br>59 bis 70 % FTP<br>186 bis 220 w<br>",
          "ID: 0<br>330.0 sek <br>59 bis 70 % FTP<br>186 bis 220 w<br>",
          "ID: 0<br>330.0 sek <br>59 bis 70 % FTP<br>186 bis 220 w<br>"
         ],
         "type": "scatter",
         "x": [
          435,
          435,
          435,
          435
         ],
         "y": [
          14,
          28,
          42,
          56
         ]
        },
        {
         "fill": "tozeroy",
         "fillcolor": "blue",
         "hoverinfo": "text",
         "legendgroup": "blue",
         "line": {
          "color": "black"
         },
         "mode": "lines",
         "showlegend": false,
         "text": "ID: 0<br>330.0 sek <br>59 bis 70 % FTP<br>186 bis 220 w<br>",
         "type": "scatter",
         "x": [
          270,
          270,
          600,
          600
         ],
         "xaxis": "x",
         "y": [
          0,
          59,
          70,
          0
         ],
         "yaxis": "y"
        },
        {
         "hoverinfo": "none",
         "line": {
          "color": "rgba(0,0,0,0)"
         },
         "mode": "lines",
         "showlegend": false,
         "type": "scatter",
         "x": [
          270,
          600
         ],
         "xaxis": "x",
         "y": [
          185.85,
          220.5
         ],
         "yaxis": "y2"
        },
        {
         "hoverinfo": "text",
         "marker": {
          "color": [
           "rgba(0,0,0,0)",
           "rgba(0,0,0,0)",
           "rgba(0,0,0,0)",
           "rgba(0,0,0,0)"
          ]
         },
         "mode": "markers",
         "showlegend": false,
         "text": [
          "ID: 1<br>45 sek <br>80 % FTP<br>252 w<br>",
          "ID: 1<br>45 sek <br>80 % FTP<br>252 w<br>",
          "ID: 1<br>45 sek <br>80 % FTP<br>252 w<br>",
          "ID: 1<br>45 sek <br>80 % FTP<br>252 w<br>"
         ],
         "type": "scatter",
         "x": [
          622.5,
          622.5,
          622.5,
          622.5
         ],
         "y": [
          16,
          32,
          48,
          64
         ]
        },
        {
         "fill": "tozeroy",
         "fillcolor": "green",
         "hoverinfo": "text",
         "legendgroup": "green",
         "line": {
          "color": "black"
         },
         "mode": "lines",
         "showlegend": false,
         "text": "ID: 1<br>45 sek <br>80 % FTP<br>252 w<br>",
         "type": "scatter",
         "x": [
          600,
          600,
          645,
          645
         ],
         "xaxis": "x",
         "y": [
          0,
          80,
          80,
          0
         ],
         "yaxis": "y"
        },
        {
         "hoverinfo": "none",
         "line": {
          "color": "rgba(0,0,0,0)"
         },
         "mode": "lines",
         "showlegend": false,
         "type": "scatter",
         "x": [
          600,
          645
         ],
         "xaxis": "x",
         "y": [
          252,
          252
         ],
         "yaxis": "y2"
        },
        {
         "hoverinfo": "text",
         "marker": {
          "color": [
           "rgba(0,0,0,0)",
           "rgba(0,0,0,0)",
           "rgba(0,0,0,0)",
           "rgba(0,0,0,0)"
          ]
         },
         "mode": "markers",
         "showlegend": false,
         "text": [
          "ID: 2<br>45 sek <br>90 % FTP<br>284 w<br>",
          "ID: 2<br>45 sek <br>90 % FTP<br>284 w<br>",
          "ID: 2<br>45 sek <br>90 % FTP<br>284 w<br>",
          "ID: 2<br>45 sek <br>90 % FTP<br>284 w<br>"
         ],
         "type": "scatter",
         "x": [
          667.5,
          667.5,
          667.5,
          667.5
         ],
         "y": [
          18,
          36,
          54,
          72
         ]
        },
        {
         "fill": "tozeroy",
         "fillcolor": "yellow",
         "hoverinfo": "text",
         "legendgroup": "yellow",
         "line": {
          "color": "black"
         },
         "mode": "lines",
         "showlegend": false,
         "text": "ID: 2<br>45 sek <br>90 % FTP<br>284 w<br>",
         "type": "scatter",
         "x": [
          645,
          645,
          690,
          690
         ],
         "xaxis": "x",
         "y": [
          0,
          90,
          90,
          0
         ],
         "yaxis": "y"
        },
        {
         "hoverinfo": "none",
         "line": {
          "color": "rgba(0,0,0,0)"
         },
         "mode": "lines",
         "showlegend": false,
         "type": "scatter",
         "x": [
          645,
          690
         ],
         "xaxis": "x",
         "y": [
          283.5,
          283.5
         ],
         "yaxis": "y2"
        },
        {
         "hoverinfo": "text",
         "marker": {
          "color": [
           "rgba(0,0,0,0)",
           "rgba(0,0,0,0)",
           "rgba(0,0,0,0)",
           "rgba(0,0,0,0)"
          ]
         },
         "mode": "markers",
         "showlegend": false,
         "text": [
          "ID: 3<br>45 sek <br>100 % FTP<br>315 w<br>",
          "ID: 3<br>45 sek <br>100 % FTP<br>315 w<br>",
          "ID: 3<br>45 sek <br>100 % FTP<br>315 w<br>",
          "ID: 3<br>45 sek <br>100 % FTP<br>315 w<br>"
         ],
         "type": "scatter",
         "x": [
          712.5,
          712.5,
          712.5,
          712.5
         ],
         "y": [
          20,
          40,
          60,
          80
         ]
        },
        {
         "fill": "tozeroy",
         "fillcolor": "yellow",
         "hoverinfo": "text",
         "legendgroup": "yellow",
         "line": {
          "color": "black"
         },
         "mode": "lines",
         "showlegend": false,
         "text": "ID: 3<br>45 sek <br>100 % FTP<br>315 w<br>",
         "type": "scatter",
         "x": [
          690,
          690,
          735,
          735
         ],
         "xaxis": "x",
         "y": [
          0,
          100,
          100,
          0
         ],
         "yaxis": "y"
        },
        {
         "hoverinfo": "none",
         "line": {
          "color": "rgba(0,0,0,0)"
         },
         "mode": "lines",
         "showlegend": false,
         "type": "scatter",
         "x": [
          690,
          735
         ],
         "xaxis": "x",
         "y": [
          315,
          315
         ],
         "yaxis": "y2"
        },
        {
         "hoverinfo": "text",
         "marker": {
          "color": [
           "rgba(0,0,0,0)",
           "rgba(0,0,0,0)",
           "rgba(0,0,0,0)",
           "rgba(0,0,0,0)"
          ]
         },
         "mode": "markers",
         "showlegend": false,
         "text": [
          "ID: 4<br>45 sek <br>90 % FTP<br>284 w<br>",
          "ID: 4<br>45 sek <br>90 % FTP<br>284 w<br>",
          "ID: 4<br>45 sek <br>90 % FTP<br>284 w<br>",
          "ID: 4<br>45 sek <br>90 % FTP<br>284 w<br>"
         ],
         "type": "scatter",
         "x": [
          757.5,
          757.5,
          757.5,
          757.5
         ],
         "y": [
          18,
          36,
          54,
          72
         ]
        },
        {
         "fill": "tozeroy",
         "fillcolor": "yellow",
         "hoverinfo": "text",
         "legendgroup": "yellow",
         "line": {
          "color": "black"
         },
         "mode": "lines",
         "showlegend": false,
         "text": "ID: 4<br>45 sek <br>90 % FTP<br>284 w<br>",
         "type": "scatter",
         "x": [
          735,
          735,
          780,
          780
         ],
         "xaxis": "x",
         "y": [
          0,
          90,
          90,
          0
         ],
         "yaxis": "y"
        },
        {
         "hoverinfo": "none",
         "line": {
          "color": "rgba(0,0,0,0)"
         },
         "mode": "lines",
         "showlegend": false,
         "type": "scatter",
         "x": [
          735,
          780
         ],
         "xaxis": "x",
         "y": [
          283.5,
          283.5
         ],
         "yaxis": "y2"
        },
        {
         "hoverinfo": "text",
         "marker": {
          "color": [
           "rgba(0,0,0,0)",
           "rgba(0,0,0,0)",
           "rgba(0,0,0,0)",
           "rgba(0,0,0,0)"
          ]
         },
         "mode": "markers",
         "showlegend": false,
         "text": [
          "ID: 5<br>45 sek <br>80 % FTP<br>252 w<br>",
          "ID: 5<br>45 sek <br>80 % FTP<br>252 w<br>",
          "ID: 5<br>45 sek <br>80 % FTP<br>252 w<br>",
          "ID: 5<br>45 sek <br>80 % FTP<br>252 w<br>"
         ],
         "type": "scatter",
         "x": [
          802.5,
          802.5,
          802.5,
          802.5
         ],
         "y": [
          16,
          32,
          48,
          64
         ]
        },
        {
         "fill": "tozeroy",
         "fillcolor": "green",
         "hoverinfo": "text",
         "legendgroup": "green",
         "line": {
          "color": "black"
         },
         "mode": "lines",
         "showlegend": false,
         "text": "ID: 5<br>45 sek <br>80 % FTP<br>252 w<br>",
         "type": "scatter",
         "x": [
          780,
          780,
          825,
          825
         ],
         "xaxis": "x",
         "y": [
          0,
          80,
          80,
          0
         ],
         "yaxis": "y"
        },
        {
         "hoverinfo": "none",
         "line": {
          "color": "rgba(0,0,0,0)"
         },
         "mode": "lines",
         "showlegend": false,
         "type": "scatter",
         "x": [
          780,
          825
         ],
         "xaxis": "x",
         "y": [
          252,
          252
         ],
         "yaxis": "y2"
        },
        {
         "hoverinfo": "text",
         "marker": {
          "color": [
           "rgba(0,0,0,0)",
           "rgba(0,0,0,0)",
           "rgba(0,0,0,0)",
           "rgba(0,0,0,0)"
          ]
         },
         "mode": "markers",
         "showlegend": false,
         "text": [
          "ID: 6<br>480 sek <br>65 % FTP<br>205 w<br>",
          "ID: 6<br>480 sek <br>65 % FTP<br>205 w<br>",
          "ID: 6<br>480 sek <br>65 % FTP<br>205 w<br>",
          "ID: 6<br>480 sek <br>65 % FTP<br>205 w<br>"
         ],
         "type": "scatter",
         "x": [
          1065,
          1065,
          1065,
          1065
         ],
         "y": [
          13,
          26,
          39,
          52
         ]
        },
        {
         "fill": "tozeroy",
         "fillcolor": "blue",
         "hoverinfo": "text",
         "legendgroup": "blue",
         "line": {
          "color": "black"
         },
         "mode": "lines",
         "showlegend": false,
         "text": "ID: 6<br>480 sek <br>65 % FTP<br>205 w<br>",
         "type": "scatter",
         "x": [
          825,
          825,
          1305,
          1305
         ],
         "xaxis": "x",
         "y": [
          0,
          65,
          65,
          0
         ],
         "yaxis": "y"
        },
        {
         "hoverinfo": "none",
         "line": {
          "color": "rgba(0,0,0,0)"
         },
         "mode": "lines",
         "showlegend": false,
         "type": "scatter",
         "x": [
          825,
          1305
         ],
         "xaxis": "x",
         "y": [
          204.75,
          204.75
         ],
         "yaxis": "y2"
        },
        {
         "hoverinfo": "text",
         "marker": {
          "color": [
           "rgba(0,0,0,0)",
           "rgba(0,0,0,0)",
           "rgba(0,0,0,0)",
           "rgba(0,0,0,0)"
          ]
         },
         "mode": "markers",
         "showlegend": false,
         "text": [
          "ID: 7<br>45 sek <br>80 % FTP<br>252 w<br>",
          "ID: 7<br>45 sek <br>80 % FTP<br>252 w<br>",
          "ID: 7<br>45 sek <br>80 % FTP<br>252 w<br>",
          "ID: 7<br>45 sek <br>80 % FTP<br>252 w<br>"
         ],
         "type": "scatter",
         "x": [
          1327.5,
          1327.5,
          1327.5,
          1327.5
         ],
         "y": [
          16,
          32,
          48,
          64
         ]
        },
        {
         "fill": "tozeroy",
         "fillcolor": "green",
         "hoverinfo": "text",
         "legendgroup": "green",
         "line": {
          "color": "black"
         },
         "mode": "lines",
         "showlegend": false,
         "text": "ID: 7<br>45 sek <br>80 % FTP<br>252 w<br>",
         "type": "scatter",
         "x": [
          1305,
          1305,
          1350,
          1350
         ],
         "xaxis": "x",
         "y": [
          0,
          80,
          80,
          0
         ],
         "yaxis": "y"
        },
        {
         "hoverinfo": "none",
         "line": {
          "color": "rgba(0,0,0,0)"
         },
         "mode": "lines",
         "showlegend": false,
         "type": "scatter",
         "x": [
          1305,
          1350
         ],
         "xaxis": "x",
         "y": [
          252,
          252
         ],
         "yaxis": "y2"
        },
        {
         "hoverinfo": "text",
         "marker": {
          "color": [
           "rgba(0,0,0,0)",
           "rgba(0,0,0,0)",
           "rgba(0,0,0,0)",
           "rgba(0,0,0,0)"
          ]
         },
         "mode": "markers",
         "showlegend": false,
         "text": [
          "ID: 8<br>45 sek <br>90 % FTP<br>284 w<br>",
          "ID: 8<br>45 sek <br>90 % FTP<br>284 w<br>",
          "ID: 8<br>45 sek <br>90 % FTP<br>284 w<br>",
          "ID: 8<br>45 sek <br>90 % FTP<br>284 w<br>"
         ],
         "type": "scatter",
         "x": [
          1372.5,
          1372.5,
          1372.5,
          1372.5
         ],
         "y": [
          18,
          36,
          54,
          72
         ]
        },
        {
         "fill": "tozeroy",
         "fillcolor": "yellow",
         "hoverinfo": "text",
         "legendgroup": "yellow",
         "line": {
          "color": "black"
         },
         "mode": "lines",
         "showlegend": false,
         "text": "ID: 8<br>45 sek <br>90 % FTP<br>284 w<br>",
         "type": "scatter",
         "x": [
          1350,
          1350,
          1395,
          1395
         ],
         "xaxis": "x",
         "y": [
          0,
          90,
          90,
          0
         ],
         "yaxis": "y"
        },
        {
         "hoverinfo": "none",
         "line": {
          "color": "rgba(0,0,0,0)"
         },
         "mode": "lines",
         "showlegend": false,
         "type": "scatter",
         "x": [
          1350,
          1395
         ],
         "xaxis": "x",
         "y": [
          283.5,
          283.5
         ],
         "yaxis": "y2"
        },
        {
         "hoverinfo": "text",
         "marker": {
          "color": [
           "rgba(0,0,0,0)",
           "rgba(0,0,0,0)",
           "rgba(0,0,0,0)",
           "rgba(0,0,0,0)"
          ]
         },
         "mode": "markers",
         "showlegend": false,
         "text": [
          "ID: 9<br>45 sek <br>100 % FTP<br>315 w<br>",
          "ID: 9<br>45 sek <br>100 % FTP<br>315 w<br>",
          "ID: 9<br>45 sek <br>100 % FTP<br>315 w<br>",
          "ID: 9<br>45 sek <br>100 % FTP<br>315 w<br>"
         ],
         "type": "scatter",
         "x": [
          1417.5,
          1417.5,
          1417.5,
          1417.5
         ],
         "y": [
          20,
          40,
          60,
          80
         ]
        },
        {
         "fill": "tozeroy",
         "fillcolor": "yellow",
         "hoverinfo": "text",
         "legendgroup": "yellow",
         "line": {
          "color": "black"
         },
         "mode": "lines",
         "showlegend": false,
         "text": "ID: 9<br>45 sek <br>100 % FTP<br>315 w<br>",
         "type": "scatter",
         "x": [
          1395,
          1395,
          1440,
          1440
         ],
         "xaxis": "x",
         "y": [
          0,
          100,
          100,
          0
         ],
         "yaxis": "y"
        },
        {
         "hoverinfo": "none",
         "line": {
          "color": "rgba(0,0,0,0)"
         },
         "mode": "lines",
         "showlegend": false,
         "type": "scatter",
         "x": [
          1395,
          1440
         ],
         "xaxis": "x",
         "y": [
          315,
          315
         ],
         "yaxis": "y2"
        },
        {
         "hoverinfo": "text",
         "marker": {
          "color": [
           "rgba(0,0,0,0)",
           "rgba(0,0,0,0)",
           "rgba(0,0,0,0)",
           "rgba(0,0,0,0)"
          ]
         },
         "mode": "markers",
         "showlegend": false,
         "text": [
          "ID: 10<br>45 sek <br>90 % FTP<br>284 w<br>",
          "ID: 10<br>45 sek <br>90 % FTP<br>284 w<br>",
          "ID: 10<br>45 sek <br>90 % FTP<br>284 w<br>",
          "ID: 10<br>45 sek <br>90 % FTP<br>284 w<br>"
         ],
         "type": "scatter",
         "x": [
          1462.5,
          1462.5,
          1462.5,
          1462.5
         ],
         "y": [
          18,
          36,
          54,
          72
         ]
        },
        {
         "fill": "tozeroy",
         "fillcolor": "yellow",
         "hoverinfo": "text",
         "legendgroup": "yellow",
         "line": {
          "color": "black"
         },
         "mode": "lines",
         "showlegend": false,
         "text": "ID: 10<br>45 sek <br>90 % FTP<br>284 w<br>",
         "type": "scatter",
         "x": [
          1440,
          1440,
          1485,
          1485
         ],
         "xaxis": "x",
         "y": [
          0,
          90,
          90,
          0
         ],
         "yaxis": "y"
        },
        {
         "hoverinfo": "none",
         "line": {
          "color": "rgba(0,0,0,0)"
         },
         "mode": "lines",
         "showlegend": false,
         "type": "scatter",
         "x": [
          1440,
          1485
         ],
         "xaxis": "x",
         "y": [
          283.5,
          283.5
         ],
         "yaxis": "y2"
        },
        {
         "hoverinfo": "text",
         "marker": {
          "color": [
           "rgba(0,0,0,0)",
           "rgba(0,0,0,0)",
           "rgba(0,0,0,0)",
           "rgba(0,0,0,0)"
          ]
         },
         "mode": "markers",
         "showlegend": false,
         "text": [
          "ID: 11<br>45 sek <br>80 % FTP<br>252 w<br>",
          "ID: 11<br>45 sek <br>80 % FTP<br>252 w<br>",
          "ID: 11<br>45 sek <br>80 % FTP<br>252 w<br>",
          "ID: 11<br>45 sek <br>80 % FTP<br>252 w<br>"
         ],
         "type": "scatter",
         "x": [
          1507.5,
          1507.5,
          1507.5,
          1507.5
         ],
         "y": [
          16,
          32,
          48,
          64
         ]
        },
        {
         "fill": "tozeroy",
         "fillcolor": "green",
         "hoverinfo": "text",
         "legendgroup": "green",
         "line": {
          "color": "black"
         },
         "mode": "lines",
         "showlegend": false,
         "text": "ID: 11<br>45 sek <br>80 % FTP<br>252 w<br>",
         "type": "scatter",
         "x": [
          1485,
          1485,
          1530,
          1530
         ],
         "xaxis": "x",
         "y": [
          0,
          80,
          80,
          0
         ],
         "yaxis": "y"
        },
        {
         "hoverinfo": "none",
         "line": {
          "color": "rgba(0,0,0,0)"
         },
         "mode": "lines",
         "showlegend": false,
         "type": "scatter",
         "x": [
          1485,
          1530
         ],
         "xaxis": "x",
         "y": [
          252,
          252
         ],
         "yaxis": "y2"
        },
        {
         "hoverinfo": "text",
         "marker": {
          "color": [
           "rgba(0,0,0,0)",
           "rgba(0,0,0,0)",
           "rgba(0,0,0,0)",
           "rgba(0,0,0,0)"
          ]
         },
         "mode": "markers",
         "showlegend": false,
         "text": [
          "ID: 12<br>480 sek <br>65 % FTP<br>205 w<br>",
          "ID: 12<br>480 sek <br>65 % FTP<br>205 w<br>",
          "ID: 12<br>480 sek <br>65 % FTP<br>205 w<br>",
          "ID: 12<br>480 sek <br>65 % FTP<br>205 w<br>"
         ],
         "type": "scatter",
         "x": [
          1770,
          1770,
          1770,
          1770
         ],
         "y": [
          13,
          26,
          39,
          52
         ]
        },
        {
         "fill": "tozeroy",
         "fillcolor": "blue",
         "hoverinfo": "text",
         "legendgroup": "blue",
         "line": {
          "color": "black"
         },
         "mode": "lines",
         "showlegend": false,
         "text": "ID: 12<br>480 sek <br>65 % FTP<br>205 w<br>",
         "type": "scatter",
         "x": [
          1530,
          1530,
          2010,
          2010
         ],
         "xaxis": "x",
         "y": [
          0,
          65,
          65,
          0
         ],
         "yaxis": "y"
        },
        {
         "hoverinfo": "none",
         "line": {
          "color": "rgba(0,0,0,0)"
         },
         "mode": "lines",
         "showlegend": false,
         "type": "scatter",
         "x": [
          1530,
          2010
         ],
         "xaxis": "x",
         "y": [
          204.75,
          204.75
         ],
         "yaxis": "y2"
        },
        {
         "hoverinfo": "text",
         "marker": {
          "color": [
           "rgba(0,0,0,0)",
           "rgba(0,0,0,0)",
           "rgba(0,0,0,0)",
           "rgba(0,0,0,0)"
          ]
         },
         "mode": "markers",
         "showlegend": false,
         "text": [
          "ID: 13<br>45 sek <br>80 % FTP<br>252 w<br>",
          "ID: 13<br>45 sek <br>80 % FTP<br>252 w<br>",
          "ID: 13<br>45 sek <br>80 % FTP<br>252 w<br>",
          "ID: 13<br>45 sek <br>80 % FTP<br>252 w<br>"
         ],
         "type": "scatter",
         "x": [
          2032.5,
          2032.5,
          2032.5,
          2032.5
         ],
         "y": [
          16,
          32,
          48,
          64
         ]
        },
        {
         "fill": "tozeroy",
         "fillcolor": "green",
         "hoverinfo": "text",
         "legendgroup": "green",
         "line": {
          "color": "black"
         },
         "mode": "lines",
         "showlegend": false,
         "text": "ID: 13<br>45 sek <br>80 % FTP<br>252 w<br>",
         "type": "scatter",
         "x": [
          2010,
          2010,
          2055,
          2055
         ],
         "xaxis": "x",
         "y": [
          0,
          80,
          80,
          0
         ],
         "yaxis": "y"
        },
        {
         "hoverinfo": "none",
         "line": {
          "color": "rgba(0,0,0,0)"
         },
         "mode": "lines",
         "showlegend": false,
         "type": "scatter",
         "x": [
          2010,
          2055
         ],
         "xaxis": "x",
         "y": [
          252,
          252
         ],
         "yaxis": "y2"
        },
        {
         "hoverinfo": "text",
         "marker": {
          "color": [
           "rgba(0,0,0,0)",
           "rgba(0,0,0,0)",
           "rgba(0,0,0,0)",
           "rgba(0,0,0,0)"
          ]
         },
         "mode": "markers",
         "showlegend": false,
         "text": [
          "ID: 14<br>45 sek <br>90 % FTP<br>284 w<br>",
          "ID: 14<br>45 sek <br>90 % FTP<br>284 w<br>",
          "ID: 14<br>45 sek <br>90 % FTP<br>284 w<br>",
          "ID: 14<br>45 sek <br>90 % FTP<br>284 w<br>"
         ],
         "type": "scatter",
         "x": [
          2077.5,
          2077.5,
          2077.5,
          2077.5
         ],
         "y": [
          18,
          36,
          54,
          72
         ]
        },
        {
         "fill": "tozeroy",
         "fillcolor": "yellow",
         "hoverinfo": "text",
         "legendgroup": "yellow",
         "line": {
          "color": "black"
         },
         "mode": "lines",
         "showlegend": false,
         "text": "ID: 14<br>45 sek <br>90 % FTP<br>284 w<br>",
         "type": "scatter",
         "x": [
          2055,
          2055,
          2100,
          2100
         ],
         "xaxis": "x",
         "y": [
          0,
          90,
          90,
          0
         ],
         "yaxis": "y"
        },
        {
         "hoverinfo": "none",
         "line": {
          "color": "rgba(0,0,0,0)"
         },
         "mode": "lines",
         "showlegend": false,
         "type": "scatter",
         "x": [
          2055,
          2100
         ],
         "xaxis": "x",
         "y": [
          283.5,
          283.5
         ],
         "yaxis": "y2"
        },
        {
         "hoverinfo": "text",
         "marker": {
          "color": [
           "rgba(0,0,0,0)",
           "rgba(0,0,0,0)",
           "rgba(0,0,0,0)",
           "rgba(0,0,0,0)"
          ]
         },
         "mode": "markers",
         "showlegend": false,
         "text": [
          "ID: 15<br>45 sek <br>100 % FTP<br>315 w<br>",
          "ID: 15<br>45 sek <br>100 % FTP<br>315 w<br>",
          "ID: 15<br>45 sek <br>100 % FTP<br>315 w<br>",
          "ID: 15<br>45 sek <br>100 % FTP<br>315 w<br>"
         ],
         "type": "scatter",
         "x": [
          2122.5,
          2122.5,
          2122.5,
          2122.5
         ],
         "y": [
          20,
          40,
          60,
          80
         ]
        },
        {
         "fill": "tozeroy",
         "fillcolor": "yellow",
         "hoverinfo": "text",
         "legendgroup": "yellow",
         "line": {
          "color": "black"
         },
         "mode": "lines",
         "showlegend": false,
         "text": "ID: 15<br>45 sek <br>100 % FTP<br>315 w<br>",
         "type": "scatter",
         "x": [
          2100,
          2100,
          2145,
          2145
         ],
         "xaxis": "x",
         "y": [
          0,
          100,
          100,
          0
         ],
         "yaxis": "y"
        },
        {
         "hoverinfo": "none",
         "line": {
          "color": "rgba(0,0,0,0)"
         },
         "mode": "lines",
         "showlegend": false,
         "type": "scatter",
         "x": [
          2100,
          2145
         ],
         "xaxis": "x",
         "y": [
          315,
          315
         ],
         "yaxis": "y2"
        },
        {
         "hoverinfo": "text",
         "marker": {
          "color": [
           "rgba(0,0,0,0)",
           "rgba(0,0,0,0)",
           "rgba(0,0,0,0)",
           "rgba(0,0,0,0)"
          ]
         },
         "mode": "markers",
         "showlegend": false,
         "text": [
          "ID: 16<br>45 sek <br>90 % FTP<br>284 w<br>",
          "ID: 16<br>45 sek <br>90 % FTP<br>284 w<br>",
          "ID: 16<br>45 sek <br>90 % FTP<br>284 w<br>",
          "ID: 16<br>45 sek <br>90 % FTP<br>284 w<br>"
         ],
         "type": "scatter",
         "x": [
          2167.5,
          2167.5,
          2167.5,
          2167.5
         ],
         "y": [
          18,
          36,
          54,
          72
         ]
        },
        {
         "fill": "tozeroy",
         "fillcolor": "yellow",
         "hoverinfo": "text",
         "legendgroup": "yellow",
         "line": {
          "color": "black"
         },
         "mode": "lines",
         "showlegend": false,
         "text": "ID: 16<br>45 sek <br>90 % FTP<br>284 w<br>",
         "type": "scatter",
         "x": [
          2145,
          2145,
          2190,
          2190
         ],
         "xaxis": "x",
         "y": [
          0,
          90,
          90,
          0
         ],
         "yaxis": "y"
        },
        {
         "hoverinfo": "none",
         "line": {
          "color": "rgba(0,0,0,0)"
         },
         "mode": "lines",
         "showlegend": false,
         "type": "scatter",
         "x": [
          2145,
          2190
         ],
         "xaxis": "x",
         "y": [
          283.5,
          283.5
         ],
         "yaxis": "y2"
        },
        {
         "hoverinfo": "text",
         "marker": {
          "color": [
           "rgba(0,0,0,0)",
           "rgba(0,0,0,0)",
           "rgba(0,0,0,0)",
           "rgba(0,0,0,0)"
          ]
         },
         "mode": "markers",
         "showlegend": false,
         "text": [
          "ID: 17<br>45 sek <br>80 % FTP<br>252 w<br>",
          "ID: 17<br>45 sek <br>80 % FTP<br>252 w<br>",
          "ID: 17<br>45 sek <br>80 % FTP<br>252 w<br>",
          "ID: 17<br>45 sek <br>80 % FTP<br>252 w<br>"
         ],
         "type": "scatter",
         "x": [
          2212.5,
          2212.5,
          2212.5,
          2212.5
         ],
         "y": [
          16,
          32,
          48,
          64
         ]
        },
        {
         "fill": "tozeroy",
         "fillcolor": "green",
         "hoverinfo": "text",
         "legendgroup": "green",
         "line": {
          "color": "black"
         },
         "mode": "lines",
         "showlegend": false,
         "text": "ID: 17<br>45 sek <br>80 % FTP<br>252 w<br>",
         "type": "scatter",
         "x": [
          2190,
          2190,
          2235,
          2235
         ],
         "xaxis": "x",
         "y": [
          0,
          80,
          80,
          0
         ],
         "yaxis": "y"
        },
        {
         "hoverinfo": "none",
         "line": {
          "color": "rgba(0,0,0,0)"
         },
         "mode": "lines",
         "showlegend": false,
         "type": "scatter",
         "x": [
          2190,
          2235
         ],
         "xaxis": "x",
         "y": [
          252,
          252
         ],
         "yaxis": "y2"
        },
        {
         "hoverinfo": "text",
         "marker": {
          "color": [
           "rgba(0,0,0,0)",
           "rgba(0,0,0,0)",
           "rgba(0,0,0,0)",
           "rgba(0,0,0,0)"
          ]
         },
         "mode": "markers",
         "showlegend": false,
         "text": [
          "ID: 18<br>480 sek <br>65 % FTP<br>205 w<br>",
          "ID: 18<br>480 sek <br>65 % FTP<br>205 w<br>",
          "ID: 18<br>480 sek <br>65 % FTP<br>205 w<br>",
          "ID: 18<br>480 sek <br>65 % FTP<br>205 w<br>"
         ],
         "type": "scatter",
         "x": [
          2475,
          2475,
          2475,
          2475
         ],
         "y": [
          13,
          26,
          39,
          52
         ]
        },
        {
         "fill": "tozeroy",
         "fillcolor": "blue",
         "hoverinfo": "text",
         "legendgroup": "blue",
         "line": {
          "color": "black"
         },
         "mode": "lines",
         "showlegend": false,
         "text": "ID: 18<br>480 sek <br>65 % FTP<br>205 w<br>",
         "type": "scatter",
         "x": [
          2235,
          2235,
          2715,
          2715
         ],
         "xaxis": "x",
         "y": [
          0,
          65,
          65,
          0
         ],
         "yaxis": "y"
        },
        {
         "hoverinfo": "none",
         "line": {
          "color": "rgba(0,0,0,0)"
         },
         "mode": "lines",
         "showlegend": false,
         "type": "scatter",
         "x": [
          2235,
          2715
         ],
         "xaxis": "x",
         "y": [
          204.75,
          204.75
         ],
         "yaxis": "y2"
        },
        {
         "hoverinfo": "text",
         "marker": {
          "color": [
           "rgba(0,0,0,0)",
           "rgba(0,0,0,0)",
           "rgba(0,0,0,0)",
           "rgba(0,0,0,0)"
          ]
         },
         "mode": "markers",
         "showlegend": false,
         "text": [
          "ID: 19<br>45 sek <br>80 % FTP<br>252 w<br>",
          "ID: 19<br>45 sek <br>80 % FTP<br>252 w<br>",
          "ID: 19<br>45 sek <br>80 % FTP<br>252 w<br>",
          "ID: 19<br>45 sek <br>80 % FTP<br>252 w<br>"
         ],
         "type": "scatter",
         "x": [
          2737.5,
          2737.5,
          2737.5,
          2737.5
         ],
         "y": [
          16,
          32,
          48,
          64
         ]
        },
        {
         "fill": "tozeroy",
         "fillcolor": "green",
         "hoverinfo": "text",
         "legendgroup": "green",
         "line": {
          "color": "black"
         },
         "mode": "lines",
         "showlegend": false,
         "text": "ID: 19<br>45 sek <br>80 % FTP<br>252 w<br>",
         "type": "scatter",
         "x": [
          2715,
          2715,
          2760,
          2760
         ],
         "xaxis": "x",
         "y": [
          0,
          80,
          80,
          0
         ],
         "yaxis": "y"
        },
        {
         "hoverinfo": "none",
         "line": {
          "color": "rgba(0,0,0,0)"
         },
         "mode": "lines",
         "showlegend": false,
         "type": "scatter",
         "x": [
          2715,
          2760
         ],
         "xaxis": "x",
         "y": [
          252,
          252
         ],
         "yaxis": "y2"
        },
        {
         "hoverinfo": "text",
         "marker": {
          "color": [
           "rgba(0,0,0,0)",
           "rgba(0,0,0,0)",
           "rgba(0,0,0,0)",
           "rgba(0,0,0,0)"
          ]
         },
         "mode": "markers",
         "showlegend": false,
         "text": [
          "ID: 20<br>45 sek <br>90 % FTP<br>284 w<br>",
          "ID: 20<br>45 sek <br>90 % FTP<br>284 w<br>",
          "ID: 20<br>45 sek <br>90 % FTP<br>284 w<br>",
          "ID: 20<br>45 sek <br>90 % FTP<br>284 w<br>"
         ],
         "type": "scatter",
         "x": [
          2782.5,
          2782.5,
          2782.5,
          2782.5
         ],
         "y": [
          18,
          36,
          54,
          72
         ]
        },
        {
         "fill": "tozeroy",
         "fillcolor": "yellow",
         "hoverinfo": "text",
         "legendgroup": "yellow",
         "line": {
          "color": "black"
         },
         "mode": "lines",
         "showlegend": false,
         "text": "ID: 20<br>45 sek <br>90 % FTP<br>284 w<br>",
         "type": "scatter",
         "x": [
          2760,
          2760,
          2805,
          2805
         ],
         "xaxis": "x",
         "y": [
          0,
          90,
          90,
          0
         ],
         "yaxis": "y"
        },
        {
         "hoverinfo": "none",
         "line": {
          "color": "rgba(0,0,0,0)"
         },
         "mode": "lines",
         "showlegend": false,
         "type": "scatter",
         "x": [
          2760,
          2805
         ],
         "xaxis": "x",
         "y": [
          283.5,
          283.5
         ],
         "yaxis": "y2"
        },
        {
         "hoverinfo": "text",
         "marker": {
          "color": [
           "rgba(0,0,0,0)",
           "rgba(0,0,0,0)",
           "rgba(0,0,0,0)",
           "rgba(0,0,0,0)"
          ]
         },
         "mode": "markers",
         "showlegend": false,
         "text": [
          "ID: 21<br>45 sek <br>100 % FTP<br>315 w<br>",
          "ID: 21<br>45 sek <br>100 % FTP<br>315 w<br>",
          "ID: 21<br>45 sek <br>100 % FTP<br>315 w<br>",
          "ID: 21<br>45 sek <br>100 % FTP<br>315 w<br>"
         ],
         "type": "scatter",
         "x": [
          2827.5,
          2827.5,
          2827.5,
          2827.5
         ],
         "y": [
          20,
          40,
          60,
          80
         ]
        },
        {
         "fill": "tozeroy",
         "fillcolor": "yellow",
         "hoverinfo": "text",
         "legendgroup": "yellow",
         "line": {
          "color": "black"
         },
         "mode": "lines",
         "showlegend": false,
         "text": "ID: 21<br>45 sek <br>100 % FTP<br>315 w<br>",
         "type": "scatter",
         "x": [
          2805,
          2805,
          2850,
          2850
         ],
         "xaxis": "x",
         "y": [
          0,
          100,
          100,
          0
         ],
         "yaxis": "y"
        },
        {
         "hoverinfo": "none",
         "line": {
          "color": "rgba(0,0,0,0)"
         },
         "mode": "lines",
         "showlegend": false,
         "type": "scatter",
         "x": [
          2805,
          2850
         ],
         "xaxis": "x",
         "y": [
          315,
          315
         ],
         "yaxis": "y2"
        },
        {
         "hoverinfo": "text",
         "marker": {
          "color": [
           "rgba(0,0,0,0)",
           "rgba(0,0,0,0)",
           "rgba(0,0,0,0)",
           "rgba(0,0,0,0)"
          ]
         },
         "mode": "markers",
         "showlegend": false,
         "text": [
          "ID: 22<br>45 sek <br>90 % FTP<br>284 w<br>",
          "ID: 22<br>45 sek <br>90 % FTP<br>284 w<br>",
          "ID: 22<br>45 sek <br>90 % FTP<br>284 w<br>",
          "ID: 22<br>45 sek <br>90 % FTP<br>284 w<br>"
         ],
         "type": "scatter",
         "x": [
          2872.5,
          2872.5,
          2872.5,
          2872.5
         ],
         "y": [
          18,
          36,
          54,
          72
         ]
        },
        {
         "fill": "tozeroy",
         "fillcolor": "yellow",
         "hoverinfo": "text",
         "legendgroup": "yellow",
         "line": {
          "color": "black"
         },
         "mode": "lines",
         "showlegend": false,
         "text": "ID: 22<br>45 sek <br>90 % FTP<br>284 w<br>",
         "type": "scatter",
         "x": [
          2850,
          2850,
          2895,
          2895
         ],
         "xaxis": "x",
         "y": [
          0,
          90,
          90,
          0
         ],
         "yaxis": "y"
        },
        {
         "hoverinfo": "none",
         "line": {
          "color": "rgba(0,0,0,0)"
         },
         "mode": "lines",
         "showlegend": false,
         "type": "scatter",
         "x": [
          2850,
          2895
         ],
         "xaxis": "x",
         "y": [
          283.5,
          283.5
         ],
         "yaxis": "y2"
        },
        {
         "hoverinfo": "text",
         "marker": {
          "color": [
           "rgba(0,0,0,0)",
           "rgba(0,0,0,0)",
           "rgba(0,0,0,0)",
           "rgba(0,0,0,0)"
          ]
         },
         "mode": "markers",
         "showlegend": false,
         "text": [
          "ID: 23<br>45 sek <br>80 % FTP<br>252 w<br>",
          "ID: 23<br>45 sek <br>80 % FTP<br>252 w<br>",
          "ID: 23<br>45 sek <br>80 % FTP<br>252 w<br>",
          "ID: 23<br>45 sek <br>80 % FTP<br>252 w<br>"
         ],
         "type": "scatter",
         "x": [
          2917.5,
          2917.5,
          2917.5,
          2917.5
         ],
         "y": [
          16,
          32,
          48,
          64
         ]
        },
        {
         "fill": "tozeroy",
         "fillcolor": "green",
         "hoverinfo": "text",
         "legendgroup": "green",
         "line": {
          "color": "black"
         },
         "mode": "lines",
         "showlegend": false,
         "text": "ID: 23<br>45 sek <br>80 % FTP<br>252 w<br>",
         "type": "scatter",
         "x": [
          2895,
          2895,
          2940,
          2940
         ],
         "xaxis": "x",
         "y": [
          0,
          80,
          80,
          0
         ],
         "yaxis": "y"
        },
        {
         "hoverinfo": "none",
         "line": {
          "color": "rgba(0,0,0,0)"
         },
         "mode": "lines",
         "showlegend": false,
         "type": "scatter",
         "x": [
          2895,
          2940
         ],
         "xaxis": "x",
         "y": [
          252,
          252
         ],
         "yaxis": "y2"
        },
        {
         "hoverinfo": "text",
         "marker": {
          "color": [
           "rgba(0,0,0,0)",
           "rgba(0,0,0,0)",
           "rgba(0,0,0,0)",
           "rgba(0,0,0,0)"
          ]
         },
         "mode": "markers",
         "showlegend": false,
         "text": [
          "ID: 24<br>480 sek <br>65 % FTP<br>205 w<br>",
          "ID: 24<br>480 sek <br>65 % FTP<br>205 w<br>",
          "ID: 24<br>480 sek <br>65 % FTP<br>205 w<br>",
          "ID: 24<br>480 sek <br>65 % FTP<br>205 w<br>"
         ],
         "type": "scatter",
         "x": [
          3180,
          3180,
          3180,
          3180
         ],
         "y": [
          13,
          26,
          39,
          52
         ]
        },
        {
         "fill": "tozeroy",
         "fillcolor": "blue",
         "hoverinfo": "text",
         "legendgroup": "blue",
         "line": {
          "color": "black"
         },
         "mode": "lines",
         "showlegend": false,
         "text": "ID: 24<br>480 sek <br>65 % FTP<br>205 w<br>",
         "type": "scatter",
         "x": [
          2940,
          2940,
          3420,
          3420
         ],
         "xaxis": "x",
         "y": [
          0,
          65,
          65,
          0
         ],
         "yaxis": "y"
        },
        {
         "hoverinfo": "none",
         "line": {
          "color": "rgba(0,0,0,0)"
         },
         "mode": "lines",
         "showlegend": false,
         "type": "scatter",
         "x": [
          2940,
          3420
         ],
         "xaxis": "x",
         "y": [
          204.75,
          204.75
         ],
         "yaxis": "y2"
        },
        {
         "hoverinfo": "text",
         "marker": {
          "color": [
           "rgba(0,0,0,0)",
           "rgba(0,0,0,0)",
           "rgba(0,0,0,0)",
           "rgba(0,0,0,0)"
          ]
         },
         "mode": "markers",
         "showlegend": false,
         "text": [
          "ID: 25<br>45 sek <br>80 % FTP<br>252 w<br>",
          "ID: 25<br>45 sek <br>80 % FTP<br>252 w<br>",
          "ID: 25<br>45 sek <br>80 % FTP<br>252 w<br>",
          "ID: 25<br>45 sek <br>80 % FTP<br>252 w<br>"
         ],
         "type": "scatter",
         "x": [
          3442.5,
          3442.5,
          3442.5,
          3442.5
         ],
         "y": [
          16,
          32,
          48,
          64
         ]
        },
        {
         "fill": "tozeroy",
         "fillcolor": "green",
         "hoverinfo": "text",
         "legendgroup": "green",
         "line": {
          "color": "black"
         },
         "mode": "lines",
         "showlegend": false,
         "text": "ID: 25<br>45 sek <br>80 % FTP<br>252 w<br>",
         "type": "scatter",
         "x": [
          3420,
          3420,
          3465,
          3465
         ],
         "xaxis": "x",
         "y": [
          0,
          80,
          80,
          0
         ],
         "yaxis": "y"
        },
        {
         "hoverinfo": "none",
         "line": {
          "color": "rgba(0,0,0,0)"
         },
         "mode": "lines",
         "showlegend": false,
         "type": "scatter",
         "x": [
          3420,
          3465
         ],
         "xaxis": "x",
         "y": [
          252,
          252
         ],
         "yaxis": "y2"
        },
        {
         "hoverinfo": "text",
         "marker": {
          "color": [
           "rgba(0,0,0,0)",
           "rgba(0,0,0,0)",
           "rgba(0,0,0,0)",
           "rgba(0,0,0,0)"
          ]
         },
         "mode": "markers",
         "showlegend": false,
         "text": [
          "ID: 26<br>45 sek <br>90 % FTP<br>284 w<br>",
          "ID: 26<br>45 sek <br>90 % FTP<br>284 w<br>",
          "ID: 26<br>45 sek <br>90 % FTP<br>284 w<br>",
          "ID: 26<br>45 sek <br>90 % FTP<br>284 w<br>"
         ],
         "type": "scatter",
         "x": [
          3487.5,
          3487.5,
          3487.5,
          3487.5
         ],
         "y": [
          18,
          36,
          54,
          72
         ]
        },
        {
         "fill": "tozeroy",
         "fillcolor": "yellow",
         "hoverinfo": "text",
         "legendgroup": "yellow",
         "line": {
          "color": "black"
         },
         "mode": "lines",
         "showlegend": false,
         "text": "ID: 26<br>45 sek <br>90 % FTP<br>284 w<br>",
         "type": "scatter",
         "x": [
          3465,
          3465,
          3510,
          3510
         ],
         "xaxis": "x",
         "y": [
          0,
          90,
          90,
          0
         ],
         "yaxis": "y"
        },
        {
         "hoverinfo": "none",
         "line": {
          "color": "rgba(0,0,0,0)"
         },
         "mode": "lines",
         "showlegend": false,
         "type": "scatter",
         "x": [
          3465,
          3510
         ],
         "xaxis": "x",
         "y": [
          283.5,
          283.5
         ],
         "yaxis": "y2"
        },
        {
         "hoverinfo": "text",
         "marker": {
          "color": [
           "rgba(0,0,0,0)",
           "rgba(0,0,0,0)",
           "rgba(0,0,0,0)",
           "rgba(0,0,0,0)"
          ]
         },
         "mode": "markers",
         "showlegend": false,
         "text": [
          "ID: 27<br>45 sek <br>100 % FTP<br>315 w<br>",
          "ID: 27<br>45 sek <br>100 % FTP<br>315 w<br>",
          "ID: 27<br>45 sek <br>100 % FTP<br>315 w<br>",
          "ID: 27<br>45 sek <br>100 % FTP<br>315 w<br>"
         ],
         "type": "scatter",
         "x": [
          3532.5,
          3532.5,
          3532.5,
          3532.5
         ],
         "y": [
          20,
          40,
          60,
          80
         ]
        },
        {
         "fill": "tozeroy",
         "fillcolor": "yellow",
         "hoverinfo": "text",
         "legendgroup": "yellow",
         "line": {
          "color": "black"
         },
         "mode": "lines",
         "showlegend": false,
         "text": "ID: 27<br>45 sek <br>100 % FTP<br>315 w<br>",
         "type": "scatter",
         "x": [
          3510,
          3510,
          3555,
          3555
         ],
         "xaxis": "x",
         "y": [
          0,
          100,
          100,
          0
         ],
         "yaxis": "y"
        },
        {
         "hoverinfo": "none",
         "line": {
          "color": "rgba(0,0,0,0)"
         },
         "mode": "lines",
         "showlegend": false,
         "type": "scatter",
         "x": [
          3510,
          3555
         ],
         "xaxis": "x",
         "y": [
          315,
          315
         ],
         "yaxis": "y2"
        },
        {
         "hoverinfo": "text",
         "marker": {
          "color": [
           "rgba(0,0,0,0)",
           "rgba(0,0,0,0)",
           "rgba(0,0,0,0)",
           "rgba(0,0,0,0)"
          ]
         },
         "mode": "markers",
         "showlegend": false,
         "text": [
          "ID: 28<br>45 sek <br>90 % FTP<br>284 w<br>",
          "ID: 28<br>45 sek <br>90 % FTP<br>284 w<br>",
          "ID: 28<br>45 sek <br>90 % FTP<br>284 w<br>",
          "ID: 28<br>45 sek <br>90 % FTP<br>284 w<br>"
         ],
         "type": "scatter",
         "x": [
          3577.5,
          3577.5,
          3577.5,
          3577.5
         ],
         "y": [
          18,
          36,
          54,
          72
         ]
        },
        {
         "fill": "tozeroy",
         "fillcolor": "yellow",
         "hoverinfo": "text",
         "legendgroup": "yellow",
         "line": {
          "color": "black"
         },
         "mode": "lines",
         "showlegend": false,
         "text": "ID: 28<br>45 sek <br>90 % FTP<br>284 w<br>",
         "type": "scatter",
         "x": [
          3555,
          3555,
          3600,
          3600
         ],
         "xaxis": "x",
         "y": [
          0,
          90,
          90,
          0
         ],
         "yaxis": "y"
        },
        {
         "hoverinfo": "none",
         "line": {
          "color": "rgba(0,0,0,0)"
         },
         "mode": "lines",
         "showlegend": false,
         "type": "scatter",
         "x": [
          3555,
          3600
         ],
         "xaxis": "x",
         "y": [
          283.5,
          283.5
         ],
         "yaxis": "y2"
        },
        {
         "hoverinfo": "text",
         "marker": {
          "color": [
           "rgba(0,0,0,0)",
           "rgba(0,0,0,0)",
           "rgba(0,0,0,0)",
           "rgba(0,0,0,0)"
          ]
         },
         "mode": "markers",
         "showlegend": false,
         "text": [
          "ID: 29<br>45 sek <br>80 % FTP<br>252 w<br>",
          "ID: 29<br>45 sek <br>80 % FTP<br>252 w<br>",
          "ID: 29<br>45 sek <br>80 % FTP<br>252 w<br>",
          "ID: 29<br>45 sek <br>80 % FTP<br>252 w<br>"
         ],
         "type": "scatter",
         "x": [
          3622.5,
          3622.5,
          3622.5,
          3622.5
         ],
         "y": [
          16,
          32,
          48,
          64
         ]
        },
        {
         "fill": "tozeroy",
         "fillcolor": "green",
         "hoverinfo": "text",
         "legendgroup": "green",
         "line": {
          "color": "black"
         },
         "mode": "lines",
         "showlegend": false,
         "text": "ID: 29<br>45 sek <br>80 % FTP<br>252 w<br>",
         "type": "scatter",
         "x": [
          3600,
          3600,
          3645,
          3645
         ],
         "xaxis": "x",
         "y": [
          0,
          80,
          80,
          0
         ],
         "yaxis": "y"
        },
        {
         "hoverinfo": "none",
         "line": {
          "color": "rgba(0,0,0,0)"
         },
         "mode": "lines",
         "showlegend": false,
         "type": "scatter",
         "x": [
          3600,
          3645
         ],
         "xaxis": "x",
         "y": [
          252,
          252
         ],
         "yaxis": "y2"
        },
        {
         "hoverinfo": "text",
         "marker": {
          "color": [
           "rgba(0,0,0,0)",
           "rgba(0,0,0,0)",
           "rgba(0,0,0,0)",
           "rgba(0,0,0,0)"
          ]
         },
         "mode": "markers",
         "showlegend": false,
         "text": [
          "ID: 30<br>45 sek <br>80 % FTP<br>252 w<br>",
          "ID: 30<br>45 sek <br>80 % FTP<br>252 w<br>",
          "ID: 30<br>45 sek <br>80 % FTP<br>252 w<br>",
          "ID: 30<br>45 sek <br>80 % FTP<br>252 w<br>"
         ],
         "type": "scatter",
         "x": [
          3667.5,
          3667.5,
          3667.5,
          3667.5
         ],
         "y": [
          16,
          32,
          48,
          64
         ]
        },
        {
         "fill": "tozeroy",
         "fillcolor": "green",
         "hoverinfo": "text",
         "legendgroup": "green",
         "line": {
          "color": "black"
         },
         "mode": "lines",
         "showlegend": false,
         "text": "ID: 30<br>45 sek <br>80 % FTP<br>252 w<br>",
         "type": "scatter",
         "x": [
          3645,
          3645,
          3690,
          3690
         ],
         "xaxis": "x",
         "y": [
          0,
          80,
          80,
          0
         ],
         "yaxis": "y"
        },
        {
         "hoverinfo": "none",
         "line": {
          "color": "rgba(0,0,0,0)"
         },
         "mode": "lines",
         "showlegend": false,
         "type": "scatter",
         "x": [
          3645,
          3690
         ],
         "xaxis": "x",
         "y": [
          252,
          252
         ],
         "yaxis": "y2"
        },
        {
         "hoverinfo": "text",
         "marker": {
          "color": [
           "rgba(0,0,0,0)",
           "rgba(0,0,0,0)",
           "rgba(0,0,0,0)",
           "rgba(0,0,0,0)"
          ]
         },
         "mode": "markers",
         "showlegend": false,
         "text": [
          "ID: 31<br>330.0 sek <br>70 bis 59 % FTP<br>220 bis 186 w<br>",
          "ID: 31<br>330.0 sek <br>70 bis 59 % FTP<br>220 bis 186 w<br>",
          "ID: 31<br>330.0 sek <br>70 bis 59 % FTP<br>220 bis 186 w<br>",
          "ID: 31<br>330.0 sek <br>70 bis 59 % FTP<br>220 bis 186 w<br>"
         ],
         "type": "scatter",
         "x": [
          3855,
          3855,
          3855,
          3855
         ],
         "y": [
          11.8,
          23.6,
          35.4,
          47.2
         ]
        },
        {
         "fill": "tozeroy",
         "fillcolor": "blue",
         "hoverinfo": "text",
         "legendgroup": "blue",
         "line": {
          "color": "black"
         },
         "mode": "lines",
         "showlegend": false,
         "text": "ID: 31<br>330.0 sek <br>70 bis 59 % FTP<br>220 bis 186 w<br>",
         "type": "scatter",
         "x": [
          3690,
          3690,
          4020,
          4020
         ],
         "xaxis": "x",
         "y": [
          0,
          70,
          59,
          0
         ],
         "yaxis": "y"
        },
        {
         "hoverinfo": "none",
         "line": {
          "color": "rgba(0,0,0,0)"
         },
         "mode": "lines",
         "showlegend": false,
         "type": "scatter",
         "x": [
          3690,
          4020
         ],
         "xaxis": "x",
         "y": [
          220.5,
          185.85
         ],
         "yaxis": "y2"
        },
        {
         "hoverinfo": "text",
         "marker": {
          "color": [
           "rgba(0,0,0,0)",
           "rgba(0,0,0,0)",
           "rgba(0,0,0,0)",
           "rgba(0,0,0,0)"
          ]
         },
         "mode": "markers",
         "showlegend": false,
         "text": [
          "ID: 31<br>270.0 sek <br>59 bis 50 % FTP<br>186 bis 158 w<br>",
          "ID: 31<br>270.0 sek <br>59 bis 50 % FTP<br>186 bis 158 w<br>",
          "ID: 31<br>270.0 sek <br>59 bis 50 % FTP<br>186 bis 158 w<br>",
          "ID: 31<br>270.0 sek <br>59 bis 50 % FTP<br>186 bis 158 w<br>"
         ],
         "type": "scatter",
         "x": [
          4155,
          4155,
          4155,
          4155
         ],
         "y": [
          10,
          20,
          30,
          40
         ]
        },
        {
         "fill": "tozeroy",
         "fillcolor": "grey",
         "hoverinfo": "text",
         "legendgroup": "grey",
         "line": {
          "color": "black"
         },
         "mode": "lines",
         "showlegend": false,
         "text": "ID: 31<br>270.0 sek <br>59 bis 50 % FTP<br>186 bis 158 w<br>",
         "type": "scatter",
         "x": [
          4020,
          4020,
          4290,
          4290
         ],
         "xaxis": "x",
         "y": [
          0,
          59,
          50,
          0
         ],
         "yaxis": "y"
        },
        {
         "hoverinfo": "none",
         "line": {
          "color": "rgba(0,0,0,0)"
         },
         "mode": "lines",
         "showlegend": false,
         "type": "scatter",
         "x": [
          4020,
          4290
         ],
         "xaxis": "x",
         "y": [
          185.85,
          157.5
         ],
         "yaxis": "y2"
        },
        {
         "hoverinfo": "text",
         "marker": {
          "color": [
           "rgba(0,0,0,0)",
           "rgba(0,0,0,0)",
           "rgba(0,0,0,0)",
           "rgba(0,0,0,0)"
          ]
         },
         "mode": "markers",
         "showlegend": false,
         "text": [
          "ID: 32<br>600 sek <br>Freeride<br>",
          "ID: 32<br>600 sek <br>Freeride<br>",
          "ID: 32<br>600 sek <br>Freeride<br>",
          "ID: 32<br>600 sek <br>Freeride<br>"
         ],
         "type": "scatter",
         "x": [
          4590,
          4590,
          4590,
          4590
         ],
         "y": [
          8,
          16,
          24,
          32
         ]
        },
        {
         "fill": "tozeroy",
         "fillcolor": "rgb(200, 200, 200)",
         "hoverinfo": "text",
         "legendgroup": "rgb(200, 200, 200)",
         "line": {
          "color": "black"
         },
         "mode": "lines",
         "showlegend": false,
         "text": "ID: 32<br>600 sek <br>Freeride<br>",
         "type": "scatter",
         "x": [
          4290,
          4296.060606060606,
          4302.121212121212,
          4308.181818181818,
          4314.242424242424,
          4320.30303030303,
          4326.363636363636,
          4332.424242424242,
          4338.484848484848,
          4344.545454545455,
          4350.606060606061,
          4356.666666666667,
          4362.727272727273,
          4368.787878787879,
          4374.848484848485,
          4380.909090909091,
          4386.969696969697,
          4393.030303030303,
          4399.090909090909,
          4405.151515151515,
          4411.212121212121,
          4417.272727272727,
          4423.333333333333,
          4429.393939393939,
          4435.454545454545,
          4441.515151515152,
          4447.575757575758,
          4453.636363636364,
          4459.69696969697,
          4465.757575757576,
          4471.818181818182,
          4477.878787878788,
          4483.939393939394,
          4490,
          4496.060606060606,
          4502.121212121212,
          4508.181818181818,
          4514.242424242424,
          4520.30303030303,
          4526.363636363636,
          4532.424242424242,
          4538.484848484848,
          4544.545454545455,
          4550.606060606061,
          4556.666666666667,
          4562.727272727273,
          4568.787878787879,
          4574.848484848485,
          4580.909090909091,
          4586.969696969697,
          4593.030303030303,
          4599.090909090909,
          4605.151515151515,
          4611.212121212121,
          4617.272727272727,
          4623.333333333333,
          4629.393939393939,
          4635.454545454545,
          4641.515151515152,
          4647.575757575758,
          4653.636363636364,
          4659.69696969697,
          4665.757575757576,
          4671.818181818182,
          4677.878787878788,
          4683.939393939394,
          4690,
          4696.060606060606,
          4702.121212121212,
          4708.181818181818,
          4714.242424242424,
          4720.30303030303,
          4726.363636363636,
          4732.424242424242,
          4738.484848484848,
          4744.545454545455,
          4750.606060606061,
          4756.666666666667,
          4762.727272727273,
          4768.787878787879,
          4774.848484848485,
          4780.909090909091,
          4786.969696969697,
          4793.030303030303,
          4799.090909090909,
          4805.151515151515,
          4811.212121212121,
          4817.272727272727,
          4823.333333333333,
          4829.393939393939,
          4835.454545454546,
          4841.515151515152,
          4847.575757575758,
          4853.636363636364,
          4859.69696969697,
          4865.757575757576,
          4871.818181818182,
          4877.878787878788,
          4883.939393939394,
          4890
         ],
         "xaxis": "x",
         "y": [
          45.85589176675704,
          45.54802894214734,
          45.30549611408127,
          45.13185230587989,
          45.02964563594782,
          45.000375925669076,
          45.04447269043054,
          45.16128883674216,
          45.34911015794452,
          45.605180489160276,
          45.925742152355085,
          46.30609109800205,
          46.74064593417795,
          47.223029830131615,
          47.74616409243805,
          48.30237204056535,
          48.88349165754243,
          49.480995362647256,
          50.086115148522545,
          50.689971246408284,
          51.28370243140555,
          51.858596055619735,
          52.406215901026314,
          52.918525975894205,
          53.38800843812945,
          53.80777391508413,
          54.17166260095479,
          54.47433464822642,
          54.71134852672175,
          54.879226200383975,
          54.97550416536331,
          54.998769600453706,
          54.94868109939392,
          54.82597368079897,
          54.63244800220424,
          54.37094393649966,
          54.04529889850359,
          53.660291533209545,
          53.221571592046075,
          52.735577026174056,
          52.20943951342687,
          51.65087980522965,
          51.068094429217325,
          50.469635410123836,
          49.86428477396415,
          49.26092567708732,
          48.66841205120171,
          48.09543867725437,
          47.55041359475261,
          47.04133471884309,
          46.57567247571943,
          46.16026017861257,
          45.80119375303094,
          45.50374228272138,
          45.272270689035466,
          45.11017567833519,
          45.019835897370726,
          45.00257702807073,
          45.05865233395762,
          45.187238943657704,
          45.38644992604363,
          45.653361979813184,
          45.98405833117709,
          46.37368621015751,
          46.8165280620677,
          47.30608544918676,
          47.83517441142307,
          48.39603088660629,
          48.98042464342773,
          49.57978005513318,
          50.18530194168516,
          50.78810463373822,
          51.379342364490086,
          51.950339075986875,
          52.4927157350536,
          52.998513290563956,
          53.460309467726745,
          53.87132768550274,
          54.225536498853934,
          54.51773810657011,
          54.74364462587444,
          54.899941014523016,
          54.984333717055215,
          54.995584321340104,
          54.933527731529225,
          54.79907459073889,
          54.59419791791036,
          54.32190415494404,
          53.986189048973635,
          53.59197901718095,
          53.14505885458817,
          52.65198684567167,
          52.119998525483176,
          51.55690050252643,
          50.97095590147491,
          50.3707631067889,
          49.765129586597276,
          49.16294264840183,
          48.57303902318756,
          48.004075191712225
         ],
         "yaxis": "y"
        },
        {
         "hoverinfo": "none",
         "line": {
          "color": "rgba(0,0,0,0)"
         },
         "mode": "lines",
         "showlegend": false,
         "type": "scatter",
         "x": [
          4296.060606060606,
          4302.121212121212
         ],
         "xaxis": "x",
         "y": [
          143.47629116776412,
          142.712312759356
         ],
         "yaxis": "y2"
        },
        {
         "hoverinfo": "text",
         "marker": {
          "color": [
           "rgba(0,0,0,0)",
           "rgba(0,0,0,0)",
           "rgba(0,0,0,0)",
           "rgba(0,0,0,0)"
          ]
         },
         "mode": "markers",
         "showlegend": false,
         "text": [
          "ID: 33<br>225.0 sek <br>60 bis 75 % FTP<br>189 bis 236 w<br>85 rpm",
          "ID: 33<br>225.0 sek <br>60 bis 75 % FTP<br>189 bis 236 w<br>85 rpm",
          "ID: 33<br>225.0 sek <br>60 bis 75 % FTP<br>189 bis 236 w<br>85 rpm",
          "ID: 33<br>225.0 sek <br>60 bis 75 % FTP<br>189 bis 236 w<br>85 rpm"
         ],
         "type": "scatter",
         "x": [
          5002.5,
          5002.5,
          5002.5,
          5002.5
         ],
         "y": [
          15,
          30,
          45,
          60
         ]
        },
        {
         "fill": "tozeroy",
         "fillcolor": "blue",
         "hoverinfo": "text",
         "legendgroup": "blue",
         "line": {
          "color": "black"
         },
         "mode": "lines",
         "showlegend": false,
         "text": "ID: 33<br>225.0 sek <br>60 bis 75 % FTP<br>189 bis 236 w<br>85 rpm",
         "type": "scatter",
         "x": [
          4890,
          4890,
          5115,
          5115
         ],
         "xaxis": "x",
         "y": [
          0,
          60,
          75,
          0
         ],
         "yaxis": "y"
        },
        {
         "hoverinfo": "none",
         "line": {
          "color": "rgba(0,0,0,0)"
         },
         "mode": "lines",
         "showlegend": false,
         "type": "scatter",
         "x": [
          4890,
          5115
         ],
         "xaxis": "x",
         "y": [
          189,
          236.25
         ],
         "yaxis": "y2"
        },
        {
         "hoverinfo": "none",
         "legendgroup": "blue",
         "line": {
          "color": "black"
         },
         "mode": "lines",
         "showlegend": false,
         "type": "scatter",
         "x": [
          4890,
          5115
         ],
         "xaxis": "x",
         "y": [
          0,
          40
         ],
         "yaxis": "y"
        },
        {
         "hoverinfo": "none",
         "legendgroup": "blue",
         "line": {
          "color": "black"
         },
         "mode": "lines",
         "showlegend": false,
         "type": "scatter",
         "x": [
          4890,
          5115
         ],
         "xaxis": "x",
         "y": [
          40,
          0
         ],
         "yaxis": "y"
        },
        {
         "hoverinfo": "text",
         "marker": {
          "color": [
           "rgba(0,0,0,0)",
           "rgba(0,0,0,0)",
           "rgba(0,0,0,0)",
           "rgba(0,0,0,0)"
          ]
         },
         "mode": "markers",
         "showlegend": false,
         "text": [
          "ID: 33<br>75.0 sek <br>75 bis 80 % FTP<br>236 bis 252 w<br>85 rpm",
          "ID: 33<br>75.0 sek <br>75 bis 80 % FTP<br>236 bis 252 w<br>85 rpm",
          "ID: 33<br>75.0 sek <br>75 bis 80 % FTP<br>236 bis 252 w<br>85 rpm",
          "ID: 33<br>75.0 sek <br>75 bis 80 % FTP<br>236 bis 252 w<br>85 rpm"
         ],
         "type": "scatter",
         "x": [
          5152.5,
          5152.5,
          5152.5,
          5152.5
         ],
         "y": [
          16,
          32,
          48,
          64
         ]
        },
        {
         "fill": "tozeroy",
         "fillcolor": "green",
         "hoverinfo": "text",
         "legendgroup": "green",
         "line": {
          "color": "black"
         },
         "mode": "lines",
         "showlegend": false,
         "text": "ID: 33<br>75.0 sek <br>75 bis 80 % FTP<br>236 bis 252 w<br>85 rpm",
         "type": "scatter",
         "x": [
          5115,
          5115,
          5190,
          5190
         ],
         "xaxis": "x",
         "y": [
          0,
          75,
          80,
          0
         ],
         "yaxis": "y"
        },
        {
         "hoverinfo": "none",
         "line": {
          "color": "rgba(0,0,0,0)"
         },
         "mode": "lines",
         "showlegend": false,
         "type": "scatter",
         "x": [
          5115,
          5190
         ],
         "xaxis": "x",
         "y": [
          236.25,
          252
         ],
         "yaxis": "y2"
        },
        {
         "hoverinfo": "none",
         "legendgroup": "green",
         "line": {
          "color": "black"
         },
         "mode": "lines",
         "showlegend": false,
         "type": "scatter",
         "x": [
          5115,
          5190
         ],
         "xaxis": "x",
         "y": [
          0,
          40
         ],
         "yaxis": "y"
        },
        {
         "hoverinfo": "none",
         "legendgroup": "green",
         "line": {
          "color": "black"
         },
         "mode": "lines",
         "showlegend": false,
         "type": "scatter",
         "x": [
          5115,
          5190
         ],
         "xaxis": "x",
         "y": [
          40,
          0
         ],
         "yaxis": "y"
        },
        {
         "hoverinfo": "text",
         "marker": {
          "color": [
           "rgba(0,0,0,0)",
           "rgba(0,0,0,0)",
           "rgba(0,0,0,0)",
           "rgba(0,0,0,0)"
          ]
         },
         "mode": "markers",
         "showlegend": false,
         "text": [
          "ID: 34<br>300 sek <br>60 % FTP<br>189 w<br>85 rpm",
          "ID: 34<br>300 sek <br>60 % FTP<br>189 w<br>85 rpm",
          "ID: 34<br>300 sek <br>60 % FTP<br>189 w<br>85 rpm",
          "ID: 34<br>300 sek <br>60 % FTP<br>189 w<br>85 rpm"
         ],
         "type": "scatter",
         "x": [
          5340,
          5340,
          5340,
          5340
         ],
         "y": [
          12,
          24,
          36,
          48
         ]
        },
        {
         "fill": "tozeroy",
         "fillcolor": "blue",
         "hoverinfo": "text",
         "legendgroup": "blue",
         "line": {
          "color": "black"
         },
         "mode": "lines",
         "showlegend": false,
         "text": "ID: 34<br>300 sek <br>60 % FTP<br>189 w<br>85 rpm",
         "type": "scatter",
         "x": [
          5190,
          5190,
          5490,
          5490
         ],
         "xaxis": "x",
         "y": [
          0,
          60,
          60,
          0
         ],
         "yaxis": "y"
        },
        {
         "hoverinfo": "none",
         "line": {
          "color": "rgba(0,0,0,0)"
         },
         "mode": "lines",
         "showlegend": false,
         "type": "scatter",
         "x": [
          5190,
          5490
         ],
         "xaxis": "x",
         "y": [
          189,
          189
         ],
         "yaxis": "y2"
        },
        {
         "hoverinfo": "none",
         "legendgroup": "blue",
         "line": {
          "color": "black"
         },
         "mode": "lines",
         "showlegend": false,
         "type": "scatter",
         "x": [
          5190,
          5490
         ],
         "xaxis": "x",
         "y": [
          0,
          40
         ],
         "yaxis": "y"
        },
        {
         "hoverinfo": "none",
         "legendgroup": "blue",
         "line": {
          "color": "black"
         },
         "mode": "lines",
         "showlegend": false,
         "type": "scatter",
         "x": [
          5190,
          5490
         ],
         "xaxis": "x",
         "y": [
          40,
          0
         ],
         "yaxis": "y"
        }
       ],
       "layout": {
        "template": {
         "data": {
          "bar": [
           {
            "error_x": {
             "color": "#2a3f5f"
            },
            "error_y": {
             "color": "#2a3f5f"
            },
            "marker": {
             "line": {
              "color": "#E5ECF6",
              "width": 0.5
             }
            },
            "type": "bar"
           }
          ],
          "barpolar": [
           {
            "marker": {
             "line": {
              "color": "#E5ECF6",
              "width": 0.5
             }
            },
            "type": "barpolar"
           }
          ],
          "carpet": [
           {
            "aaxis": {
             "endlinecolor": "#2a3f5f",
             "gridcolor": "white",
             "linecolor": "white",
             "minorgridcolor": "white",
             "startlinecolor": "#2a3f5f"
            },
            "baxis": {
             "endlinecolor": "#2a3f5f",
             "gridcolor": "white",
             "linecolor": "white",
             "minorgridcolor": "white",
             "startlinecolor": "#2a3f5f"
            },
            "type": "carpet"
           }
          ],
          "choropleth": [
           {
            "colorbar": {
             "outlinewidth": 0,
             "ticks": ""
            },
            "type": "choropleth"
           }
          ],
          "contour": [
           {
            "colorbar": {
             "outlinewidth": 0,
             "ticks": ""
            },
            "colorscale": [
             [
              0,
              "#0d0887"
             ],
             [
              0.1111111111111111,
              "#46039f"
             ],
             [
              0.2222222222222222,
              "#7201a8"
             ],
             [
              0.3333333333333333,
              "#9c179e"
             ],
             [
              0.4444444444444444,
              "#bd3786"
             ],
             [
              0.5555555555555556,
              "#d8576b"
             ],
             [
              0.6666666666666666,
              "#ed7953"
             ],
             [
              0.7777777777777778,
              "#fb9f3a"
             ],
             [
              0.8888888888888888,
              "#fdca26"
             ],
             [
              1,
              "#f0f921"
             ]
            ],
            "type": "contour"
           }
          ],
          "contourcarpet": [
           {
            "colorbar": {
             "outlinewidth": 0,
             "ticks": ""
            },
            "type": "contourcarpet"
           }
          ],
          "heatmap": [
           {
            "colorbar": {
             "outlinewidth": 0,
             "ticks": ""
            },
            "colorscale": [
             [
              0,
              "#0d0887"
             ],
             [
              0.1111111111111111,
              "#46039f"
             ],
             [
              0.2222222222222222,
              "#7201a8"
             ],
             [
              0.3333333333333333,
              "#9c179e"
             ],
             [
              0.4444444444444444,
              "#bd3786"
             ],
             [
              0.5555555555555556,
              "#d8576b"
             ],
             [
              0.6666666666666666,
              "#ed7953"
             ],
             [
              0.7777777777777778,
              "#fb9f3a"
             ],
             [
              0.8888888888888888,
              "#fdca26"
             ],
             [
              1,
              "#f0f921"
             ]
            ],
            "type": "heatmap"
           }
          ],
          "heatmapgl": [
           {
            "colorbar": {
             "outlinewidth": 0,
             "ticks": ""
            },
            "colorscale": [
             [
              0,
              "#0d0887"
             ],
             [
              0.1111111111111111,
              "#46039f"
             ],
             [
              0.2222222222222222,
              "#7201a8"
             ],
             [
              0.3333333333333333,
              "#9c179e"
             ],
             [
              0.4444444444444444,
              "#bd3786"
             ],
             [
              0.5555555555555556,
              "#d8576b"
             ],
             [
              0.6666666666666666,
              "#ed7953"
             ],
             [
              0.7777777777777778,
              "#fb9f3a"
             ],
             [
              0.8888888888888888,
              "#fdca26"
             ],
             [
              1,
              "#f0f921"
             ]
            ],
            "type": "heatmapgl"
           }
          ],
          "histogram": [
           {
            "marker": {
             "colorbar": {
              "outlinewidth": 0,
              "ticks": ""
             }
            },
            "type": "histogram"
           }
          ],
          "histogram2d": [
           {
            "colorbar": {
             "outlinewidth": 0,
             "ticks": ""
            },
            "colorscale": [
             [
              0,
              "#0d0887"
             ],
             [
              0.1111111111111111,
              "#46039f"
             ],
             [
              0.2222222222222222,
              "#7201a8"
             ],
             [
              0.3333333333333333,
              "#9c179e"
             ],
             [
              0.4444444444444444,
              "#bd3786"
             ],
             [
              0.5555555555555556,
              "#d8576b"
             ],
             [
              0.6666666666666666,
              "#ed7953"
             ],
             [
              0.7777777777777778,
              "#fb9f3a"
             ],
             [
              0.8888888888888888,
              "#fdca26"
             ],
             [
              1,
              "#f0f921"
             ]
            ],
            "type": "histogram2d"
           }
          ],
          "histogram2dcontour": [
           {
            "colorbar": {
             "outlinewidth": 0,
             "ticks": ""
            },
            "colorscale": [
             [
              0,
              "#0d0887"
             ],
             [
              0.1111111111111111,
              "#46039f"
             ],
             [
              0.2222222222222222,
              "#7201a8"
             ],
             [
              0.3333333333333333,
              "#9c179e"
             ],
             [
              0.4444444444444444,
              "#bd3786"
             ],
             [
              0.5555555555555556,
              "#d8576b"
             ],
             [
              0.6666666666666666,
              "#ed7953"
             ],
             [
              0.7777777777777778,
              "#fb9f3a"
             ],
             [
              0.8888888888888888,
              "#fdca26"
             ],
             [
              1,
              "#f0f921"
             ]
            ],
            "type": "histogram2dcontour"
           }
          ],
          "mesh3d": [
           {
            "colorbar": {
             "outlinewidth": 0,
             "ticks": ""
            },
            "type": "mesh3d"
           }
          ],
          "parcoords": [
           {
            "line": {
             "colorbar": {
              "outlinewidth": 0,
              "ticks": ""
             }
            },
            "type": "parcoords"
           }
          ],
          "pie": [
           {
            "automargin": true,
            "type": "pie"
           }
          ],
          "scatter": [
           {
            "marker": {
             "colorbar": {
              "outlinewidth": 0,
              "ticks": ""
             }
            },
            "type": "scatter"
           }
          ],
          "scatter3d": [
           {
            "line": {
             "colorbar": {
              "outlinewidth": 0,
              "ticks": ""
             }
            },
            "marker": {
             "colorbar": {
              "outlinewidth": 0,
              "ticks": ""
             }
            },
            "type": "scatter3d"
           }
          ],
          "scattercarpet": [
           {
            "marker": {
             "colorbar": {
              "outlinewidth": 0,
              "ticks": ""
             }
            },
            "type": "scattercarpet"
           }
          ],
          "scattergeo": [
           {
            "marker": {
             "colorbar": {
              "outlinewidth": 0,
              "ticks": ""
             }
            },
            "type": "scattergeo"
           }
          ],
          "scattergl": [
           {
            "marker": {
             "colorbar": {
              "outlinewidth": 0,
              "ticks": ""
             }
            },
            "type": "scattergl"
           }
          ],
          "scattermapbox": [
           {
            "marker": {
             "colorbar": {
              "outlinewidth": 0,
              "ticks": ""
             }
            },
            "type": "scattermapbox"
           }
          ],
          "scatterpolar": [
           {
            "marker": {
             "colorbar": {
              "outlinewidth": 0,
              "ticks": ""
             }
            },
            "type": "scatterpolar"
           }
          ],
          "scatterpolargl": [
           {
            "marker": {
             "colorbar": {
              "outlinewidth": 0,
              "ticks": ""
             }
            },
            "type": "scatterpolargl"
           }
          ],
          "scatterternary": [
           {
            "marker": {
             "colorbar": {
              "outlinewidth": 0,
              "ticks": ""
             }
            },
            "type": "scatterternary"
           }
          ],
          "surface": [
           {
            "colorbar": {
             "outlinewidth": 0,
             "ticks": ""
            },
            "colorscale": [
             [
              0,
              "#0d0887"
             ],
             [
              0.1111111111111111,
              "#46039f"
             ],
             [
              0.2222222222222222,
              "#7201a8"
             ],
             [
              0.3333333333333333,
              "#9c179e"
             ],
             [
              0.4444444444444444,
              "#bd3786"
             ],
             [
              0.5555555555555556,
              "#d8576b"
             ],
             [
              0.6666666666666666,
              "#ed7953"
             ],
             [
              0.7777777777777778,
              "#fb9f3a"
             ],
             [
              0.8888888888888888,
              "#fdca26"
             ],
             [
              1,
              "#f0f921"
             ]
            ],
            "type": "surface"
           }
          ],
          "table": [
           {
            "cells": {
             "fill": {
              "color": "#EBF0F8"
             },
             "line": {
              "color": "white"
             }
            },
            "header": {
             "fill": {
              "color": "#C8D4E3"
             },
             "line": {
              "color": "white"
             }
            },
            "type": "table"
           }
          ]
         },
         "layout": {
          "annotationdefaults": {
           "arrowcolor": "#2a3f5f",
           "arrowhead": 0,
           "arrowwidth": 1
          },
          "coloraxis": {
           "colorbar": {
            "outlinewidth": 0,
            "ticks": ""
           }
          },
          "colorscale": {
           "diverging": [
            [
             0,
             "#8e0152"
            ],
            [
             0.1,
             "#c51b7d"
            ],
            [
             0.2,
             "#de77ae"
            ],
            [
             0.3,
             "#f1b6da"
            ],
            [
             0.4,
             "#fde0ef"
            ],
            [
             0.5,
             "#f7f7f7"
            ],
            [
             0.6,
             "#e6f5d0"
            ],
            [
             0.7,
             "#b8e186"
            ],
            [
             0.8,
             "#7fbc41"
            ],
            [
             0.9,
             "#4d9221"
            ],
            [
             1,
             "#276419"
            ]
           ],
           "sequential": [
            [
             0,
             "#0d0887"
            ],
            [
             0.1111111111111111,
             "#46039f"
            ],
            [
             0.2222222222222222,
             "#7201a8"
            ],
            [
             0.3333333333333333,
             "#9c179e"
            ],
            [
             0.4444444444444444,
             "#bd3786"
            ],
            [
             0.5555555555555556,
             "#d8576b"
            ],
            [
             0.6666666666666666,
             "#ed7953"
            ],
            [
             0.7777777777777778,
             "#fb9f3a"
            ],
            [
             0.8888888888888888,
             "#fdca26"
            ],
            [
             1,
             "#f0f921"
            ]
           ],
           "sequentialminus": [
            [
             0,
             "#0d0887"
            ],
            [
             0.1111111111111111,
             "#46039f"
            ],
            [
             0.2222222222222222,
             "#7201a8"
            ],
            [
             0.3333333333333333,
             "#9c179e"
            ],
            [
             0.4444444444444444,
             "#bd3786"
            ],
            [
             0.5555555555555556,
             "#d8576b"
            ],
            [
             0.6666666666666666,
             "#ed7953"
            ],
            [
             0.7777777777777778,
             "#fb9f3a"
            ],
            [
             0.8888888888888888,
             "#fdca26"
            ],
            [
             1,
             "#f0f921"
            ]
           ]
          },
          "colorway": [
           "#636efa",
           "#EF553B",
           "#00cc96",
           "#ab63fa",
           "#FFA15A",
           "#19d3f3",
           "#FF6692",
           "#B6E880",
           "#FF97FF",
           "#FECB52"
          ],
          "font": {
           "color": "#2a3f5f"
          },
          "geo": {
           "bgcolor": "white",
           "lakecolor": "white",
           "landcolor": "#E5ECF6",
           "showlakes": true,
           "showland": true,
           "subunitcolor": "white"
          },
          "hoverlabel": {
           "align": "left"
          },
          "hovermode": "closest",
          "mapbox": {
           "style": "light"
          },
          "paper_bgcolor": "white",
          "plot_bgcolor": "#E5ECF6",
          "polar": {
           "angularaxis": {
            "gridcolor": "white",
            "linecolor": "white",
            "ticks": ""
           },
           "bgcolor": "#E5ECF6",
           "radialaxis": {
            "gridcolor": "white",
            "linecolor": "white",
            "ticks": ""
           }
          },
          "scene": {
           "xaxis": {
            "backgroundcolor": "#E5ECF6",
            "gridcolor": "white",
            "gridwidth": 2,
            "linecolor": "white",
            "showbackground": true,
            "ticks": "",
            "zerolinecolor": "white"
           },
           "yaxis": {
            "backgroundcolor": "#E5ECF6",
            "gridcolor": "white",
            "gridwidth": 2,
            "linecolor": "white",
            "showbackground": true,
            "ticks": "",
            "zerolinecolor": "white"
           },
           "zaxis": {
            "backgroundcolor": "#E5ECF6",
            "gridcolor": "white",
            "gridwidth": 2,
            "linecolor": "white",
            "showbackground": true,
            "ticks": "",
            "zerolinecolor": "white"
           }
          },
          "shapedefaults": {
           "line": {
            "color": "#2a3f5f"
           }
          },
          "ternary": {
           "aaxis": {
            "gridcolor": "white",
            "linecolor": "white",
            "ticks": ""
           },
           "baxis": {
            "gridcolor": "white",
            "linecolor": "white",
            "ticks": ""
           },
           "bgcolor": "#E5ECF6",
           "caxis": {
            "gridcolor": "white",
            "linecolor": "white",
            "ticks": ""
           }
          },
          "title": {
           "x": 0.05
          },
          "xaxis": {
           "automargin": true,
           "gridcolor": "white",
           "linecolor": "white",
           "ticks": "",
           "title": {
            "standoff": 15
           },
           "zerolinecolor": "white",
           "zerolinewidth": 2
          },
          "yaxis": {
           "automargin": true,
           "gridcolor": "white",
           "linecolor": "white",
           "ticks": "",
           "title": {
            "standoff": 15
           },
           "zerolinecolor": "white",
           "zerolinewidth": 2
          }
         }
        },
        "xaxis": {
         "anchor": "y",
         "domain": [
          0,
          0.94
         ],
         "title": {
          "text": "Zeit"
         }
        },
        "yaxis": {
         "anchor": "x",
         "domain": [
          0,
          1
         ],
         "title": {
          "text": "% FTP"
         }
        },
        "yaxis2": {
         "anchor": "x",
         "overlaying": "y",
         "showgrid": false,
         "side": "right",
         "title": {
          "text": "Watt"
         }
        }
       }
      },
      "text/html": [
       "<div>                            <div id=\"f4fecdce-16a7-4966-8447-0e1edb69f70d\" class=\"plotly-graph-div\" style=\"height:525px; width:100%;\"></div>            <script type=\"text/javascript\">                require([\"plotly\"], function(Plotly) {                    window.PLOTLYENV=window.PLOTLYENV || {};                                    if (document.getElementById(\"f4fecdce-16a7-4966-8447-0e1edb69f70d\")) {                    Plotly.newPlot(                        \"f4fecdce-16a7-4966-8447-0e1edb69f70d\",                        [{\"hoverinfo\": \"text\", \"marker\": {\"color\": [\"rgba(0,0,0,0)\", \"rgba(0,0,0,0)\", \"rgba(0,0,0,0)\", \"rgba(0,0,0,0)\"]}, \"mode\": \"markers\", \"showlegend\": false, \"text\": [\"ID: 0<br>270.0 sek <br>50 bis 59 % FTP<br>158 bis 186 w<br>\", \"ID: 0<br>270.0 sek <br>50 bis 59 % FTP<br>158 bis 186 w<br>\", \"ID: 0<br>270.0 sek <br>50 bis 59 % FTP<br>158 bis 186 w<br>\", \"ID: 0<br>270.0 sek <br>50 bis 59 % FTP<br>158 bis 186 w<br>\"], \"type\": \"scatter\", \"x\": [135.0, 135.0, 135.0, 135.0], \"y\": [11.8, 23.6, 35.4, 47.2]}, {\"fill\": \"tozeroy\", \"fillcolor\": \"grey\", \"hoverinfo\": \"text\", \"legendgroup\": \"grey\", \"line\": {\"color\": \"black\"}, \"mode\": \"lines\", \"showlegend\": false, \"text\": \"ID: 0<br>270.0 sek <br>50 bis 59 % FTP<br>158 bis 186 w<br>\", \"type\": \"scatter\", \"x\": [0, 0, 270.0, 270.0], \"xaxis\": \"x\", \"y\": [0, 50, 59, 0], \"yaxis\": \"y\"}, {\"hoverinfo\": \"none\", \"line\": {\"color\": \"rgba(0,0,0,0)\"}, \"mode\": \"lines\", \"showlegend\": false, \"type\": \"scatter\", \"x\": [0, 270.0], \"xaxis\": \"x\", \"y\": [157.5, 185.85], \"yaxis\": \"y2\"}, {\"hoverinfo\": \"text\", \"marker\": {\"color\": [\"rgba(0,0,0,0)\", \"rgba(0,0,0,0)\", \"rgba(0,0,0,0)\", \"rgba(0,0,0,0)\"]}, \"mode\": \"markers\", \"showlegend\": false, \"text\": [\"ID: 0<br>330.0 sek <br>59 bis 70 % FTP<br>186 bis 220 w<br>\", \"ID: 0<br>330.0 sek <br>59 bis 70 % FTP<br>186 bis 220 w<br>\", \"ID: 0<br>330.0 sek <br>59 bis 70 % FTP<br>186 bis 220 w<br>\", \"ID: 0<br>330.0 sek <br>59 bis 70 % FTP<br>186 bis 220 w<br>\"], \"type\": \"scatter\", \"x\": [435.0, 435.0, 435.0, 435.0], \"y\": [14.0, 28.0, 42.0, 56.0]}, {\"fill\": \"tozeroy\", \"fillcolor\": \"blue\", \"hoverinfo\": \"text\", \"legendgroup\": \"blue\", \"line\": {\"color\": \"black\"}, \"mode\": \"lines\", \"showlegend\": false, \"text\": \"ID: 0<br>330.0 sek <br>59 bis 70 % FTP<br>186 bis 220 w<br>\", \"type\": \"scatter\", \"x\": [270.0, 270.0, 600.0, 600.0], \"xaxis\": \"x\", \"y\": [0, 59, 70, 0], \"yaxis\": \"y\"}, {\"hoverinfo\": \"none\", \"line\": {\"color\": \"rgba(0,0,0,0)\"}, \"mode\": \"lines\", \"showlegend\": false, \"type\": \"scatter\", \"x\": [270.0, 600.0], \"xaxis\": \"x\", \"y\": [185.85, 220.5], \"yaxis\": \"y2\"}, {\"hoverinfo\": \"text\", \"marker\": {\"color\": [\"rgba(0,0,0,0)\", \"rgba(0,0,0,0)\", \"rgba(0,0,0,0)\", \"rgba(0,0,0,0)\"]}, \"mode\": \"markers\", \"showlegend\": false, \"text\": [\"ID: 1<br>45 sek <br>80 % FTP<br>252 w<br>\", \"ID: 1<br>45 sek <br>80 % FTP<br>252 w<br>\", \"ID: 1<br>45 sek <br>80 % FTP<br>252 w<br>\", \"ID: 1<br>45 sek <br>80 % FTP<br>252 w<br>\"], \"type\": \"scatter\", \"x\": [622.5, 622.5, 622.5, 622.5], \"y\": [16.0, 32.0, 48.0, 64.0]}, {\"fill\": \"tozeroy\", \"fillcolor\": \"green\", \"hoverinfo\": \"text\", \"legendgroup\": \"green\", \"line\": {\"color\": \"black\"}, \"mode\": \"lines\", \"showlegend\": false, \"text\": \"ID: 1<br>45 sek <br>80 % FTP<br>252 w<br>\", \"type\": \"scatter\", \"x\": [600, 600, 645, 645], \"xaxis\": \"x\", \"y\": [0, 80, 80, 0], \"yaxis\": \"y\"}, {\"hoverinfo\": \"none\", \"line\": {\"color\": \"rgba(0,0,0,0)\"}, \"mode\": \"lines\", \"showlegend\": false, \"type\": \"scatter\", \"x\": [600, 645], \"xaxis\": \"x\", \"y\": [252.0, 252.0], \"yaxis\": \"y2\"}, {\"hoverinfo\": \"text\", \"marker\": {\"color\": [\"rgba(0,0,0,0)\", \"rgba(0,0,0,0)\", \"rgba(0,0,0,0)\", \"rgba(0,0,0,0)\"]}, \"mode\": \"markers\", \"showlegend\": false, \"text\": [\"ID: 2<br>45 sek <br>90 % FTP<br>284 w<br>\", \"ID: 2<br>45 sek <br>90 % FTP<br>284 w<br>\", \"ID: 2<br>45 sek <br>90 % FTP<br>284 w<br>\", \"ID: 2<br>45 sek <br>90 % FTP<br>284 w<br>\"], \"type\": \"scatter\", \"x\": [667.5, 667.5, 667.5, 667.5], \"y\": [18.0, 36.0, 54.0, 72.0]}, {\"fill\": \"tozeroy\", \"fillcolor\": \"yellow\", \"hoverinfo\": \"text\", \"legendgroup\": \"yellow\", \"line\": {\"color\": \"black\"}, \"mode\": \"lines\", \"showlegend\": false, \"text\": \"ID: 2<br>45 sek <br>90 % FTP<br>284 w<br>\", \"type\": \"scatter\", \"x\": [645, 645, 690, 690], \"xaxis\": \"x\", \"y\": [0, 90, 90, 0], \"yaxis\": \"y\"}, {\"hoverinfo\": \"none\", \"line\": {\"color\": \"rgba(0,0,0,0)\"}, \"mode\": \"lines\", \"showlegend\": false, \"type\": \"scatter\", \"x\": [645, 690], \"xaxis\": \"x\", \"y\": [283.5, 283.5], \"yaxis\": \"y2\"}, {\"hoverinfo\": \"text\", \"marker\": {\"color\": [\"rgba(0,0,0,0)\", \"rgba(0,0,0,0)\", \"rgba(0,0,0,0)\", \"rgba(0,0,0,0)\"]}, \"mode\": \"markers\", \"showlegend\": false, \"text\": [\"ID: 3<br>45 sek <br>100 % FTP<br>315 w<br>\", \"ID: 3<br>45 sek <br>100 % FTP<br>315 w<br>\", \"ID: 3<br>45 sek <br>100 % FTP<br>315 w<br>\", \"ID: 3<br>45 sek <br>100 % FTP<br>315 w<br>\"], \"type\": \"scatter\", \"x\": [712.5, 712.5, 712.5, 712.5], \"y\": [20.0, 40.0, 60.0, 80.0]}, {\"fill\": \"tozeroy\", \"fillcolor\": \"yellow\", \"hoverinfo\": \"text\", \"legendgroup\": \"yellow\", \"line\": {\"color\": \"black\"}, \"mode\": \"lines\", \"showlegend\": false, \"text\": \"ID: 3<br>45 sek <br>100 % FTP<br>315 w<br>\", \"type\": \"scatter\", \"x\": [690, 690, 735, 735], \"xaxis\": \"x\", \"y\": [0, 100, 100, 0], \"yaxis\": \"y\"}, {\"hoverinfo\": \"none\", \"line\": {\"color\": \"rgba(0,0,0,0)\"}, \"mode\": \"lines\", \"showlegend\": false, \"type\": \"scatter\", \"x\": [690, 735], \"xaxis\": \"x\", \"y\": [315.0, 315.0], \"yaxis\": \"y2\"}, {\"hoverinfo\": \"text\", \"marker\": {\"color\": [\"rgba(0,0,0,0)\", \"rgba(0,0,0,0)\", \"rgba(0,0,0,0)\", \"rgba(0,0,0,0)\"]}, \"mode\": \"markers\", \"showlegend\": false, \"text\": [\"ID: 4<br>45 sek <br>90 % FTP<br>284 w<br>\", \"ID: 4<br>45 sek <br>90 % FTP<br>284 w<br>\", \"ID: 4<br>45 sek <br>90 % FTP<br>284 w<br>\", \"ID: 4<br>45 sek <br>90 % FTP<br>284 w<br>\"], \"type\": \"scatter\", \"x\": [757.5, 757.5, 757.5, 757.5], \"y\": [18.0, 36.0, 54.0, 72.0]}, {\"fill\": \"tozeroy\", \"fillcolor\": \"yellow\", \"hoverinfo\": \"text\", \"legendgroup\": \"yellow\", \"line\": {\"color\": \"black\"}, \"mode\": \"lines\", \"showlegend\": false, \"text\": \"ID: 4<br>45 sek <br>90 % FTP<br>284 w<br>\", \"type\": \"scatter\", \"x\": [735, 735, 780, 780], \"xaxis\": \"x\", \"y\": [0, 90, 90, 0], \"yaxis\": \"y\"}, {\"hoverinfo\": \"none\", \"line\": {\"color\": \"rgba(0,0,0,0)\"}, \"mode\": \"lines\", \"showlegend\": false, \"type\": \"scatter\", \"x\": [735, 780], \"xaxis\": \"x\", \"y\": [283.5, 283.5], \"yaxis\": \"y2\"}, {\"hoverinfo\": \"text\", \"marker\": {\"color\": [\"rgba(0,0,0,0)\", \"rgba(0,0,0,0)\", \"rgba(0,0,0,0)\", \"rgba(0,0,0,0)\"]}, \"mode\": \"markers\", \"showlegend\": false, \"text\": [\"ID: 5<br>45 sek <br>80 % FTP<br>252 w<br>\", \"ID: 5<br>45 sek <br>80 % FTP<br>252 w<br>\", \"ID: 5<br>45 sek <br>80 % FTP<br>252 w<br>\", \"ID: 5<br>45 sek <br>80 % FTP<br>252 w<br>\"], \"type\": \"scatter\", \"x\": [802.5, 802.5, 802.5, 802.5], \"y\": [16.0, 32.0, 48.0, 64.0]}, {\"fill\": \"tozeroy\", \"fillcolor\": \"green\", \"hoverinfo\": \"text\", \"legendgroup\": \"green\", \"line\": {\"color\": \"black\"}, \"mode\": \"lines\", \"showlegend\": false, \"text\": \"ID: 5<br>45 sek <br>80 % FTP<br>252 w<br>\", \"type\": \"scatter\", \"x\": [780, 780, 825, 825], \"xaxis\": \"x\", \"y\": [0, 80, 80, 0], \"yaxis\": \"y\"}, {\"hoverinfo\": \"none\", \"line\": {\"color\": \"rgba(0,0,0,0)\"}, \"mode\": \"lines\", \"showlegend\": false, \"type\": \"scatter\", \"x\": [780, 825], \"xaxis\": \"x\", \"y\": [252.0, 252.0], \"yaxis\": \"y2\"}, {\"hoverinfo\": \"text\", \"marker\": {\"color\": [\"rgba(0,0,0,0)\", \"rgba(0,0,0,0)\", \"rgba(0,0,0,0)\", \"rgba(0,0,0,0)\"]}, \"mode\": \"markers\", \"showlegend\": false, \"text\": [\"ID: 6<br>480 sek <br>65 % FTP<br>205 w<br>\", \"ID: 6<br>480 sek <br>65 % FTP<br>205 w<br>\", \"ID: 6<br>480 sek <br>65 % FTP<br>205 w<br>\", \"ID: 6<br>480 sek <br>65 % FTP<br>205 w<br>\"], \"type\": \"scatter\", \"x\": [1065.0, 1065.0, 1065.0, 1065.0], \"y\": [13.0, 26.0, 39.0, 52.0]}, {\"fill\": \"tozeroy\", \"fillcolor\": \"blue\", \"hoverinfo\": \"text\", \"legendgroup\": \"blue\", \"line\": {\"color\": \"black\"}, \"mode\": \"lines\", \"showlegend\": false, \"text\": \"ID: 6<br>480 sek <br>65 % FTP<br>205 w<br>\", \"type\": \"scatter\", \"x\": [825, 825, 1305, 1305], \"xaxis\": \"x\", \"y\": [0, 65, 65, 0], \"yaxis\": \"y\"}, {\"hoverinfo\": \"none\", \"line\": {\"color\": \"rgba(0,0,0,0)\"}, \"mode\": \"lines\", \"showlegend\": false, \"type\": \"scatter\", \"x\": [825, 1305], \"xaxis\": \"x\", \"y\": [204.75, 204.75], \"yaxis\": \"y2\"}, {\"hoverinfo\": \"text\", \"marker\": {\"color\": [\"rgba(0,0,0,0)\", \"rgba(0,0,0,0)\", \"rgba(0,0,0,0)\", \"rgba(0,0,0,0)\"]}, \"mode\": \"markers\", \"showlegend\": false, \"text\": [\"ID: 7<br>45 sek <br>80 % FTP<br>252 w<br>\", \"ID: 7<br>45 sek <br>80 % FTP<br>252 w<br>\", \"ID: 7<br>45 sek <br>80 % FTP<br>252 w<br>\", \"ID: 7<br>45 sek <br>80 % FTP<br>252 w<br>\"], \"type\": \"scatter\", \"x\": [1327.5, 1327.5, 1327.5, 1327.5], \"y\": [16.0, 32.0, 48.0, 64.0]}, {\"fill\": \"tozeroy\", \"fillcolor\": \"green\", \"hoverinfo\": \"text\", \"legendgroup\": \"green\", \"line\": {\"color\": \"black\"}, \"mode\": \"lines\", \"showlegend\": false, \"text\": \"ID: 7<br>45 sek <br>80 % FTP<br>252 w<br>\", \"type\": \"scatter\", \"x\": [1305, 1305, 1350, 1350], \"xaxis\": \"x\", \"y\": [0, 80, 80, 0], \"yaxis\": \"y\"}, {\"hoverinfo\": \"none\", \"line\": {\"color\": \"rgba(0,0,0,0)\"}, \"mode\": \"lines\", \"showlegend\": false, \"type\": \"scatter\", \"x\": [1305, 1350], \"xaxis\": \"x\", \"y\": [252.0, 252.0], \"yaxis\": \"y2\"}, {\"hoverinfo\": \"text\", \"marker\": {\"color\": [\"rgba(0,0,0,0)\", \"rgba(0,0,0,0)\", \"rgba(0,0,0,0)\", \"rgba(0,0,0,0)\"]}, \"mode\": \"markers\", \"showlegend\": false, \"text\": [\"ID: 8<br>45 sek <br>90 % FTP<br>284 w<br>\", \"ID: 8<br>45 sek <br>90 % FTP<br>284 w<br>\", \"ID: 8<br>45 sek <br>90 % FTP<br>284 w<br>\", \"ID: 8<br>45 sek <br>90 % FTP<br>284 w<br>\"], \"type\": \"scatter\", \"x\": [1372.5, 1372.5, 1372.5, 1372.5], \"y\": [18.0, 36.0, 54.0, 72.0]}, {\"fill\": \"tozeroy\", \"fillcolor\": \"yellow\", \"hoverinfo\": \"text\", \"legendgroup\": \"yellow\", \"line\": {\"color\": \"black\"}, \"mode\": \"lines\", \"showlegend\": false, \"text\": \"ID: 8<br>45 sek <br>90 % FTP<br>284 w<br>\", \"type\": \"scatter\", \"x\": [1350, 1350, 1395, 1395], \"xaxis\": \"x\", \"y\": [0, 90, 90, 0], \"yaxis\": \"y\"}, {\"hoverinfo\": \"none\", \"line\": {\"color\": \"rgba(0,0,0,0)\"}, \"mode\": \"lines\", \"showlegend\": false, \"type\": \"scatter\", \"x\": [1350, 1395], \"xaxis\": \"x\", \"y\": [283.5, 283.5], \"yaxis\": \"y2\"}, {\"hoverinfo\": \"text\", \"marker\": {\"color\": [\"rgba(0,0,0,0)\", \"rgba(0,0,0,0)\", \"rgba(0,0,0,0)\", \"rgba(0,0,0,0)\"]}, \"mode\": \"markers\", \"showlegend\": false, \"text\": [\"ID: 9<br>45 sek <br>100 % FTP<br>315 w<br>\", \"ID: 9<br>45 sek <br>100 % FTP<br>315 w<br>\", \"ID: 9<br>45 sek <br>100 % FTP<br>315 w<br>\", \"ID: 9<br>45 sek <br>100 % FTP<br>315 w<br>\"], \"type\": \"scatter\", \"x\": [1417.5, 1417.5, 1417.5, 1417.5], \"y\": [20.0, 40.0, 60.0, 80.0]}, {\"fill\": \"tozeroy\", \"fillcolor\": \"yellow\", \"hoverinfo\": \"text\", \"legendgroup\": \"yellow\", \"line\": {\"color\": \"black\"}, \"mode\": \"lines\", \"showlegend\": false, \"text\": \"ID: 9<br>45 sek <br>100 % FTP<br>315 w<br>\", \"type\": \"scatter\", \"x\": [1395, 1395, 1440, 1440], \"xaxis\": \"x\", \"y\": [0, 100, 100, 0], \"yaxis\": \"y\"}, {\"hoverinfo\": \"none\", \"line\": {\"color\": \"rgba(0,0,0,0)\"}, \"mode\": \"lines\", \"showlegend\": false, \"type\": \"scatter\", \"x\": [1395, 1440], \"xaxis\": \"x\", \"y\": [315.0, 315.0], \"yaxis\": \"y2\"}, {\"hoverinfo\": \"text\", \"marker\": {\"color\": [\"rgba(0,0,0,0)\", \"rgba(0,0,0,0)\", \"rgba(0,0,0,0)\", \"rgba(0,0,0,0)\"]}, \"mode\": \"markers\", \"showlegend\": false, \"text\": [\"ID: 10<br>45 sek <br>90 % FTP<br>284 w<br>\", \"ID: 10<br>45 sek <br>90 % FTP<br>284 w<br>\", \"ID: 10<br>45 sek <br>90 % FTP<br>284 w<br>\", \"ID: 10<br>45 sek <br>90 % FTP<br>284 w<br>\"], \"type\": \"scatter\", \"x\": [1462.5, 1462.5, 1462.5, 1462.5], \"y\": [18.0, 36.0, 54.0, 72.0]}, {\"fill\": \"tozeroy\", \"fillcolor\": \"yellow\", \"hoverinfo\": \"text\", \"legendgroup\": \"yellow\", \"line\": {\"color\": \"black\"}, \"mode\": \"lines\", \"showlegend\": false, \"text\": \"ID: 10<br>45 sek <br>90 % FTP<br>284 w<br>\", \"type\": \"scatter\", \"x\": [1440, 1440, 1485, 1485], \"xaxis\": \"x\", \"y\": [0, 90, 90, 0], \"yaxis\": \"y\"}, {\"hoverinfo\": \"none\", \"line\": {\"color\": \"rgba(0,0,0,0)\"}, \"mode\": \"lines\", \"showlegend\": false, \"type\": \"scatter\", \"x\": [1440, 1485], \"xaxis\": \"x\", \"y\": [283.5, 283.5], \"yaxis\": \"y2\"}, {\"hoverinfo\": \"text\", \"marker\": {\"color\": [\"rgba(0,0,0,0)\", \"rgba(0,0,0,0)\", \"rgba(0,0,0,0)\", \"rgba(0,0,0,0)\"]}, \"mode\": \"markers\", \"showlegend\": false, \"text\": [\"ID: 11<br>45 sek <br>80 % FTP<br>252 w<br>\", \"ID: 11<br>45 sek <br>80 % FTP<br>252 w<br>\", \"ID: 11<br>45 sek <br>80 % FTP<br>252 w<br>\", \"ID: 11<br>45 sek <br>80 % FTP<br>252 w<br>\"], \"type\": \"scatter\", \"x\": [1507.5, 1507.5, 1507.5, 1507.5], \"y\": [16.0, 32.0, 48.0, 64.0]}, {\"fill\": \"tozeroy\", \"fillcolor\": \"green\", \"hoverinfo\": \"text\", \"legendgroup\": \"green\", \"line\": {\"color\": \"black\"}, \"mode\": \"lines\", \"showlegend\": false, \"text\": \"ID: 11<br>45 sek <br>80 % FTP<br>252 w<br>\", \"type\": \"scatter\", \"x\": [1485, 1485, 1530, 1530], \"xaxis\": \"x\", \"y\": [0, 80, 80, 0], \"yaxis\": \"y\"}, {\"hoverinfo\": \"none\", \"line\": {\"color\": \"rgba(0,0,0,0)\"}, \"mode\": \"lines\", \"showlegend\": false, \"type\": \"scatter\", \"x\": [1485, 1530], \"xaxis\": \"x\", \"y\": [252.0, 252.0], \"yaxis\": \"y2\"}, {\"hoverinfo\": \"text\", \"marker\": {\"color\": [\"rgba(0,0,0,0)\", \"rgba(0,0,0,0)\", \"rgba(0,0,0,0)\", \"rgba(0,0,0,0)\"]}, \"mode\": \"markers\", \"showlegend\": false, \"text\": [\"ID: 12<br>480 sek <br>65 % FTP<br>205 w<br>\", \"ID: 12<br>480 sek <br>65 % FTP<br>205 w<br>\", \"ID: 12<br>480 sek <br>65 % FTP<br>205 w<br>\", \"ID: 12<br>480 sek <br>65 % FTP<br>205 w<br>\"], \"type\": \"scatter\", \"x\": [1770.0, 1770.0, 1770.0, 1770.0], \"y\": [13.0, 26.0, 39.0, 52.0]}, {\"fill\": \"tozeroy\", \"fillcolor\": \"blue\", \"hoverinfo\": \"text\", \"legendgroup\": \"blue\", \"line\": {\"color\": \"black\"}, \"mode\": \"lines\", \"showlegend\": false, \"text\": \"ID: 12<br>480 sek <br>65 % FTP<br>205 w<br>\", \"type\": \"scatter\", \"x\": [1530, 1530, 2010, 2010], \"xaxis\": \"x\", \"y\": [0, 65, 65, 0], \"yaxis\": \"y\"}, {\"hoverinfo\": \"none\", \"line\": {\"color\": \"rgba(0,0,0,0)\"}, \"mode\": \"lines\", \"showlegend\": false, \"type\": \"scatter\", \"x\": [1530, 2010], \"xaxis\": \"x\", \"y\": [204.75, 204.75], \"yaxis\": \"y2\"}, {\"hoverinfo\": \"text\", \"marker\": {\"color\": [\"rgba(0,0,0,0)\", \"rgba(0,0,0,0)\", \"rgba(0,0,0,0)\", \"rgba(0,0,0,0)\"]}, \"mode\": \"markers\", \"showlegend\": false, \"text\": [\"ID: 13<br>45 sek <br>80 % FTP<br>252 w<br>\", \"ID: 13<br>45 sek <br>80 % FTP<br>252 w<br>\", \"ID: 13<br>45 sek <br>80 % FTP<br>252 w<br>\", \"ID: 13<br>45 sek <br>80 % FTP<br>252 w<br>\"], \"type\": \"scatter\", \"x\": [2032.5, 2032.5, 2032.5, 2032.5], \"y\": [16.0, 32.0, 48.0, 64.0]}, {\"fill\": \"tozeroy\", \"fillcolor\": \"green\", \"hoverinfo\": \"text\", \"legendgroup\": \"green\", \"line\": {\"color\": \"black\"}, \"mode\": \"lines\", \"showlegend\": false, \"text\": \"ID: 13<br>45 sek <br>80 % FTP<br>252 w<br>\", \"type\": \"scatter\", \"x\": [2010, 2010, 2055, 2055], \"xaxis\": \"x\", \"y\": [0, 80, 80, 0], \"yaxis\": \"y\"}, {\"hoverinfo\": \"none\", \"line\": {\"color\": \"rgba(0,0,0,0)\"}, \"mode\": \"lines\", \"showlegend\": false, \"type\": \"scatter\", \"x\": [2010, 2055], \"xaxis\": \"x\", \"y\": [252.0, 252.0], \"yaxis\": \"y2\"}, {\"hoverinfo\": \"text\", \"marker\": {\"color\": [\"rgba(0,0,0,0)\", \"rgba(0,0,0,0)\", \"rgba(0,0,0,0)\", \"rgba(0,0,0,0)\"]}, \"mode\": \"markers\", \"showlegend\": false, \"text\": [\"ID: 14<br>45 sek <br>90 % FTP<br>284 w<br>\", \"ID: 14<br>45 sek <br>90 % FTP<br>284 w<br>\", \"ID: 14<br>45 sek <br>90 % FTP<br>284 w<br>\", \"ID: 14<br>45 sek <br>90 % FTP<br>284 w<br>\"], \"type\": \"scatter\", \"x\": [2077.5, 2077.5, 2077.5, 2077.5], \"y\": [18.0, 36.0, 54.0, 72.0]}, {\"fill\": \"tozeroy\", \"fillcolor\": \"yellow\", \"hoverinfo\": \"text\", \"legendgroup\": \"yellow\", \"line\": {\"color\": \"black\"}, \"mode\": \"lines\", \"showlegend\": false, \"text\": \"ID: 14<br>45 sek <br>90 % FTP<br>284 w<br>\", \"type\": \"scatter\", \"x\": [2055, 2055, 2100, 2100], \"xaxis\": \"x\", \"y\": [0, 90, 90, 0], \"yaxis\": \"y\"}, {\"hoverinfo\": \"none\", \"line\": {\"color\": \"rgba(0,0,0,0)\"}, \"mode\": \"lines\", \"showlegend\": false, \"type\": \"scatter\", \"x\": [2055, 2100], \"xaxis\": \"x\", \"y\": [283.5, 283.5], \"yaxis\": \"y2\"}, {\"hoverinfo\": \"text\", \"marker\": {\"color\": [\"rgba(0,0,0,0)\", \"rgba(0,0,0,0)\", \"rgba(0,0,0,0)\", \"rgba(0,0,0,0)\"]}, \"mode\": \"markers\", \"showlegend\": false, \"text\": [\"ID: 15<br>45 sek <br>100 % FTP<br>315 w<br>\", \"ID: 15<br>45 sek <br>100 % FTP<br>315 w<br>\", \"ID: 15<br>45 sek <br>100 % FTP<br>315 w<br>\", \"ID: 15<br>45 sek <br>100 % FTP<br>315 w<br>\"], \"type\": \"scatter\", \"x\": [2122.5, 2122.5, 2122.5, 2122.5], \"y\": [20.0, 40.0, 60.0, 80.0]}, {\"fill\": \"tozeroy\", \"fillcolor\": \"yellow\", \"hoverinfo\": \"text\", \"legendgroup\": \"yellow\", \"line\": {\"color\": \"black\"}, \"mode\": \"lines\", \"showlegend\": false, \"text\": \"ID: 15<br>45 sek <br>100 % FTP<br>315 w<br>\", \"type\": \"scatter\", \"x\": [2100, 2100, 2145, 2145], \"xaxis\": \"x\", \"y\": [0, 100, 100, 0], \"yaxis\": \"y\"}, {\"hoverinfo\": \"none\", \"line\": {\"color\": \"rgba(0,0,0,0)\"}, \"mode\": \"lines\", \"showlegend\": false, \"type\": \"scatter\", \"x\": [2100, 2145], \"xaxis\": \"x\", \"y\": [315.0, 315.0], \"yaxis\": \"y2\"}, {\"hoverinfo\": \"text\", \"marker\": {\"color\": [\"rgba(0,0,0,0)\", \"rgba(0,0,0,0)\", \"rgba(0,0,0,0)\", \"rgba(0,0,0,0)\"]}, \"mode\": \"markers\", \"showlegend\": false, \"text\": [\"ID: 16<br>45 sek <br>90 % FTP<br>284 w<br>\", \"ID: 16<br>45 sek <br>90 % FTP<br>284 w<br>\", \"ID: 16<br>45 sek <br>90 % FTP<br>284 w<br>\", \"ID: 16<br>45 sek <br>90 % FTP<br>284 w<br>\"], \"type\": \"scatter\", \"x\": [2167.5, 2167.5, 2167.5, 2167.5], \"y\": [18.0, 36.0, 54.0, 72.0]}, {\"fill\": \"tozeroy\", \"fillcolor\": \"yellow\", \"hoverinfo\": \"text\", \"legendgroup\": \"yellow\", \"line\": {\"color\": \"black\"}, \"mode\": \"lines\", \"showlegend\": false, \"text\": \"ID: 16<br>45 sek <br>90 % FTP<br>284 w<br>\", \"type\": \"scatter\", \"x\": [2145, 2145, 2190, 2190], \"xaxis\": \"x\", \"y\": [0, 90, 90, 0], \"yaxis\": \"y\"}, {\"hoverinfo\": \"none\", \"line\": {\"color\": \"rgba(0,0,0,0)\"}, \"mode\": \"lines\", \"showlegend\": false, \"type\": \"scatter\", \"x\": [2145, 2190], \"xaxis\": \"x\", \"y\": [283.5, 283.5], \"yaxis\": \"y2\"}, {\"hoverinfo\": \"text\", \"marker\": {\"color\": [\"rgba(0,0,0,0)\", \"rgba(0,0,0,0)\", \"rgba(0,0,0,0)\", \"rgba(0,0,0,0)\"]}, \"mode\": \"markers\", \"showlegend\": false, \"text\": [\"ID: 17<br>45 sek <br>80 % FTP<br>252 w<br>\", \"ID: 17<br>45 sek <br>80 % FTP<br>252 w<br>\", \"ID: 17<br>45 sek <br>80 % FTP<br>252 w<br>\", \"ID: 17<br>45 sek <br>80 % FTP<br>252 w<br>\"], \"type\": \"scatter\", \"x\": [2212.5, 2212.5, 2212.5, 2212.5], \"y\": [16.0, 32.0, 48.0, 64.0]}, {\"fill\": \"tozeroy\", \"fillcolor\": \"green\", \"hoverinfo\": \"text\", \"legendgroup\": \"green\", \"line\": {\"color\": \"black\"}, \"mode\": \"lines\", \"showlegend\": false, \"text\": \"ID: 17<br>45 sek <br>80 % FTP<br>252 w<br>\", \"type\": \"scatter\", \"x\": [2190, 2190, 2235, 2235], \"xaxis\": \"x\", \"y\": [0, 80, 80, 0], \"yaxis\": \"y\"}, {\"hoverinfo\": \"none\", \"line\": {\"color\": \"rgba(0,0,0,0)\"}, \"mode\": \"lines\", \"showlegend\": false, \"type\": \"scatter\", \"x\": [2190, 2235], \"xaxis\": \"x\", \"y\": [252.0, 252.0], \"yaxis\": \"y2\"}, {\"hoverinfo\": \"text\", \"marker\": {\"color\": [\"rgba(0,0,0,0)\", \"rgba(0,0,0,0)\", \"rgba(0,0,0,0)\", \"rgba(0,0,0,0)\"]}, \"mode\": \"markers\", \"showlegend\": false, \"text\": [\"ID: 18<br>480 sek <br>65 % FTP<br>205 w<br>\", \"ID: 18<br>480 sek <br>65 % FTP<br>205 w<br>\", \"ID: 18<br>480 sek <br>65 % FTP<br>205 w<br>\", \"ID: 18<br>480 sek <br>65 % FTP<br>205 w<br>\"], \"type\": \"scatter\", \"x\": [2475.0, 2475.0, 2475.0, 2475.0], \"y\": [13.0, 26.0, 39.0, 52.0]}, {\"fill\": \"tozeroy\", \"fillcolor\": \"blue\", \"hoverinfo\": \"text\", \"legendgroup\": \"blue\", \"line\": {\"color\": \"black\"}, \"mode\": \"lines\", \"showlegend\": false, \"text\": \"ID: 18<br>480 sek <br>65 % FTP<br>205 w<br>\", \"type\": \"scatter\", \"x\": [2235, 2235, 2715, 2715], \"xaxis\": \"x\", \"y\": [0, 65, 65, 0], \"yaxis\": \"y\"}, {\"hoverinfo\": \"none\", \"line\": {\"color\": \"rgba(0,0,0,0)\"}, \"mode\": \"lines\", \"showlegend\": false, \"type\": \"scatter\", \"x\": [2235, 2715], \"xaxis\": \"x\", \"y\": [204.75, 204.75], \"yaxis\": \"y2\"}, {\"hoverinfo\": \"text\", \"marker\": {\"color\": [\"rgba(0,0,0,0)\", \"rgba(0,0,0,0)\", \"rgba(0,0,0,0)\", \"rgba(0,0,0,0)\"]}, \"mode\": \"markers\", \"showlegend\": false, \"text\": [\"ID: 19<br>45 sek <br>80 % FTP<br>252 w<br>\", \"ID: 19<br>45 sek <br>80 % FTP<br>252 w<br>\", \"ID: 19<br>45 sek <br>80 % FTP<br>252 w<br>\", \"ID: 19<br>45 sek <br>80 % FTP<br>252 w<br>\"], \"type\": \"scatter\", \"x\": [2737.5, 2737.5, 2737.5, 2737.5], \"y\": [16.0, 32.0, 48.0, 64.0]}, {\"fill\": \"tozeroy\", \"fillcolor\": \"green\", \"hoverinfo\": \"text\", \"legendgroup\": \"green\", \"line\": {\"color\": \"black\"}, \"mode\": \"lines\", \"showlegend\": false, \"text\": \"ID: 19<br>45 sek <br>80 % FTP<br>252 w<br>\", \"type\": \"scatter\", \"x\": [2715, 2715, 2760, 2760], \"xaxis\": \"x\", \"y\": [0, 80, 80, 0], \"yaxis\": \"y\"}, {\"hoverinfo\": \"none\", \"line\": {\"color\": \"rgba(0,0,0,0)\"}, \"mode\": \"lines\", \"showlegend\": false, \"type\": \"scatter\", \"x\": [2715, 2760], \"xaxis\": \"x\", \"y\": [252.0, 252.0], \"yaxis\": \"y2\"}, {\"hoverinfo\": \"text\", \"marker\": {\"color\": [\"rgba(0,0,0,0)\", \"rgba(0,0,0,0)\", \"rgba(0,0,0,0)\", \"rgba(0,0,0,0)\"]}, \"mode\": \"markers\", \"showlegend\": false, \"text\": [\"ID: 20<br>45 sek <br>90 % FTP<br>284 w<br>\", \"ID: 20<br>45 sek <br>90 % FTP<br>284 w<br>\", \"ID: 20<br>45 sek <br>90 % FTP<br>284 w<br>\", \"ID: 20<br>45 sek <br>90 % FTP<br>284 w<br>\"], \"type\": \"scatter\", \"x\": [2782.5, 2782.5, 2782.5, 2782.5], \"y\": [18.0, 36.0, 54.0, 72.0]}, {\"fill\": \"tozeroy\", \"fillcolor\": \"yellow\", \"hoverinfo\": \"text\", \"legendgroup\": \"yellow\", \"line\": {\"color\": \"black\"}, \"mode\": \"lines\", \"showlegend\": false, \"text\": \"ID: 20<br>45 sek <br>90 % FTP<br>284 w<br>\", \"type\": \"scatter\", \"x\": [2760, 2760, 2805, 2805], \"xaxis\": \"x\", \"y\": [0, 90, 90, 0], \"yaxis\": \"y\"}, {\"hoverinfo\": \"none\", \"line\": {\"color\": \"rgba(0,0,0,0)\"}, \"mode\": \"lines\", \"showlegend\": false, \"type\": \"scatter\", \"x\": [2760, 2805], \"xaxis\": \"x\", \"y\": [283.5, 283.5], \"yaxis\": \"y2\"}, {\"hoverinfo\": \"text\", \"marker\": {\"color\": [\"rgba(0,0,0,0)\", \"rgba(0,0,0,0)\", \"rgba(0,0,0,0)\", \"rgba(0,0,0,0)\"]}, \"mode\": \"markers\", \"showlegend\": false, \"text\": [\"ID: 21<br>45 sek <br>100 % FTP<br>315 w<br>\", \"ID: 21<br>45 sek <br>100 % FTP<br>315 w<br>\", \"ID: 21<br>45 sek <br>100 % FTP<br>315 w<br>\", \"ID: 21<br>45 sek <br>100 % FTP<br>315 w<br>\"], \"type\": \"scatter\", \"x\": [2827.5, 2827.5, 2827.5, 2827.5], \"y\": [20.0, 40.0, 60.0, 80.0]}, {\"fill\": \"tozeroy\", \"fillcolor\": \"yellow\", \"hoverinfo\": \"text\", \"legendgroup\": \"yellow\", \"line\": {\"color\": \"black\"}, \"mode\": \"lines\", \"showlegend\": false, \"text\": \"ID: 21<br>45 sek <br>100 % FTP<br>315 w<br>\", \"type\": \"scatter\", \"x\": [2805, 2805, 2850, 2850], \"xaxis\": \"x\", \"y\": [0, 100, 100, 0], \"yaxis\": \"y\"}, {\"hoverinfo\": \"none\", \"line\": {\"color\": \"rgba(0,0,0,0)\"}, \"mode\": \"lines\", \"showlegend\": false, \"type\": \"scatter\", \"x\": [2805, 2850], \"xaxis\": \"x\", \"y\": [315.0, 315.0], \"yaxis\": \"y2\"}, {\"hoverinfo\": \"text\", \"marker\": {\"color\": [\"rgba(0,0,0,0)\", \"rgba(0,0,0,0)\", \"rgba(0,0,0,0)\", \"rgba(0,0,0,0)\"]}, \"mode\": \"markers\", \"showlegend\": false, \"text\": [\"ID: 22<br>45 sek <br>90 % FTP<br>284 w<br>\", \"ID: 22<br>45 sek <br>90 % FTP<br>284 w<br>\", \"ID: 22<br>45 sek <br>90 % FTP<br>284 w<br>\", \"ID: 22<br>45 sek <br>90 % FTP<br>284 w<br>\"], \"type\": \"scatter\", \"x\": [2872.5, 2872.5, 2872.5, 2872.5], \"y\": [18.0, 36.0, 54.0, 72.0]}, {\"fill\": \"tozeroy\", \"fillcolor\": \"yellow\", \"hoverinfo\": \"text\", \"legendgroup\": \"yellow\", \"line\": {\"color\": \"black\"}, \"mode\": \"lines\", \"showlegend\": false, \"text\": \"ID: 22<br>45 sek <br>90 % FTP<br>284 w<br>\", \"type\": \"scatter\", \"x\": [2850, 2850, 2895, 2895], \"xaxis\": \"x\", \"y\": [0, 90, 90, 0], \"yaxis\": \"y\"}, {\"hoverinfo\": \"none\", \"line\": {\"color\": \"rgba(0,0,0,0)\"}, \"mode\": \"lines\", \"showlegend\": false, \"type\": \"scatter\", \"x\": [2850, 2895], \"xaxis\": \"x\", \"y\": [283.5, 283.5], \"yaxis\": \"y2\"}, {\"hoverinfo\": \"text\", \"marker\": {\"color\": [\"rgba(0,0,0,0)\", \"rgba(0,0,0,0)\", \"rgba(0,0,0,0)\", \"rgba(0,0,0,0)\"]}, \"mode\": \"markers\", \"showlegend\": false, \"text\": [\"ID: 23<br>45 sek <br>80 % FTP<br>252 w<br>\", \"ID: 23<br>45 sek <br>80 % FTP<br>252 w<br>\", \"ID: 23<br>45 sek <br>80 % FTP<br>252 w<br>\", \"ID: 23<br>45 sek <br>80 % FTP<br>252 w<br>\"], \"type\": \"scatter\", \"x\": [2917.5, 2917.5, 2917.5, 2917.5], \"y\": [16.0, 32.0, 48.0, 64.0]}, {\"fill\": \"tozeroy\", \"fillcolor\": \"green\", \"hoverinfo\": \"text\", \"legendgroup\": \"green\", \"line\": {\"color\": \"black\"}, \"mode\": \"lines\", \"showlegend\": false, \"text\": \"ID: 23<br>45 sek <br>80 % FTP<br>252 w<br>\", \"type\": \"scatter\", \"x\": [2895, 2895, 2940, 2940], \"xaxis\": \"x\", \"y\": [0, 80, 80, 0], \"yaxis\": \"y\"}, {\"hoverinfo\": \"none\", \"line\": {\"color\": \"rgba(0,0,0,0)\"}, \"mode\": \"lines\", \"showlegend\": false, \"type\": \"scatter\", \"x\": [2895, 2940], \"xaxis\": \"x\", \"y\": [252.0, 252.0], \"yaxis\": \"y2\"}, {\"hoverinfo\": \"text\", \"marker\": {\"color\": [\"rgba(0,0,0,0)\", \"rgba(0,0,0,0)\", \"rgba(0,0,0,0)\", \"rgba(0,0,0,0)\"]}, \"mode\": \"markers\", \"showlegend\": false, \"text\": [\"ID: 24<br>480 sek <br>65 % FTP<br>205 w<br>\", \"ID: 24<br>480 sek <br>65 % FTP<br>205 w<br>\", \"ID: 24<br>480 sek <br>65 % FTP<br>205 w<br>\", \"ID: 24<br>480 sek <br>65 % FTP<br>205 w<br>\"], \"type\": \"scatter\", \"x\": [3180.0, 3180.0, 3180.0, 3180.0], \"y\": [13.0, 26.0, 39.0, 52.0]}, {\"fill\": \"tozeroy\", \"fillcolor\": \"blue\", \"hoverinfo\": \"text\", \"legendgroup\": \"blue\", \"line\": {\"color\": \"black\"}, \"mode\": \"lines\", \"showlegend\": false, \"text\": \"ID: 24<br>480 sek <br>65 % FTP<br>205 w<br>\", \"type\": \"scatter\", \"x\": [2940, 2940, 3420, 3420], \"xaxis\": \"x\", \"y\": [0, 65, 65, 0], \"yaxis\": \"y\"}, {\"hoverinfo\": \"none\", \"line\": {\"color\": \"rgba(0,0,0,0)\"}, \"mode\": \"lines\", \"showlegend\": false, \"type\": \"scatter\", \"x\": [2940, 3420], \"xaxis\": \"x\", \"y\": [204.75, 204.75], \"yaxis\": \"y2\"}, {\"hoverinfo\": \"text\", \"marker\": {\"color\": [\"rgba(0,0,0,0)\", \"rgba(0,0,0,0)\", \"rgba(0,0,0,0)\", \"rgba(0,0,0,0)\"]}, \"mode\": \"markers\", \"showlegend\": false, \"text\": [\"ID: 25<br>45 sek <br>80 % FTP<br>252 w<br>\", \"ID: 25<br>45 sek <br>80 % FTP<br>252 w<br>\", \"ID: 25<br>45 sek <br>80 % FTP<br>252 w<br>\", \"ID: 25<br>45 sek <br>80 % FTP<br>252 w<br>\"], \"type\": \"scatter\", \"x\": [3442.5, 3442.5, 3442.5, 3442.5], \"y\": [16.0, 32.0, 48.0, 64.0]}, {\"fill\": \"tozeroy\", \"fillcolor\": \"green\", \"hoverinfo\": \"text\", \"legendgroup\": \"green\", \"line\": {\"color\": \"black\"}, \"mode\": \"lines\", \"showlegend\": false, \"text\": \"ID: 25<br>45 sek <br>80 % FTP<br>252 w<br>\", \"type\": \"scatter\", \"x\": [3420, 3420, 3465, 3465], \"xaxis\": \"x\", \"y\": [0, 80, 80, 0], \"yaxis\": \"y\"}, {\"hoverinfo\": \"none\", \"line\": {\"color\": \"rgba(0,0,0,0)\"}, \"mode\": \"lines\", \"showlegend\": false, \"type\": \"scatter\", \"x\": [3420, 3465], \"xaxis\": \"x\", \"y\": [252.0, 252.0], \"yaxis\": \"y2\"}, {\"hoverinfo\": \"text\", \"marker\": {\"color\": [\"rgba(0,0,0,0)\", \"rgba(0,0,0,0)\", \"rgba(0,0,0,0)\", \"rgba(0,0,0,0)\"]}, \"mode\": \"markers\", \"showlegend\": false, \"text\": [\"ID: 26<br>45 sek <br>90 % FTP<br>284 w<br>\", \"ID: 26<br>45 sek <br>90 % FTP<br>284 w<br>\", \"ID: 26<br>45 sek <br>90 % FTP<br>284 w<br>\", \"ID: 26<br>45 sek <br>90 % FTP<br>284 w<br>\"], \"type\": \"scatter\", \"x\": [3487.5, 3487.5, 3487.5, 3487.5], \"y\": [18.0, 36.0, 54.0, 72.0]}, {\"fill\": \"tozeroy\", \"fillcolor\": \"yellow\", \"hoverinfo\": \"text\", \"legendgroup\": \"yellow\", \"line\": {\"color\": \"black\"}, \"mode\": \"lines\", \"showlegend\": false, \"text\": \"ID: 26<br>45 sek <br>90 % FTP<br>284 w<br>\", \"type\": \"scatter\", \"x\": [3465, 3465, 3510, 3510], \"xaxis\": \"x\", \"y\": [0, 90, 90, 0], \"yaxis\": \"y\"}, {\"hoverinfo\": \"none\", \"line\": {\"color\": \"rgba(0,0,0,0)\"}, \"mode\": \"lines\", \"showlegend\": false, \"type\": \"scatter\", \"x\": [3465, 3510], \"xaxis\": \"x\", \"y\": [283.5, 283.5], \"yaxis\": \"y2\"}, {\"hoverinfo\": \"text\", \"marker\": {\"color\": [\"rgba(0,0,0,0)\", \"rgba(0,0,0,0)\", \"rgba(0,0,0,0)\", \"rgba(0,0,0,0)\"]}, \"mode\": \"markers\", \"showlegend\": false, \"text\": [\"ID: 27<br>45 sek <br>100 % FTP<br>315 w<br>\", \"ID: 27<br>45 sek <br>100 % FTP<br>315 w<br>\", \"ID: 27<br>45 sek <br>100 % FTP<br>315 w<br>\", \"ID: 27<br>45 sek <br>100 % FTP<br>315 w<br>\"], \"type\": \"scatter\", \"x\": [3532.5, 3532.5, 3532.5, 3532.5], \"y\": [20.0, 40.0, 60.0, 80.0]}, {\"fill\": \"tozeroy\", \"fillcolor\": \"yellow\", \"hoverinfo\": \"text\", \"legendgroup\": \"yellow\", \"line\": {\"color\": \"black\"}, \"mode\": \"lines\", \"showlegend\": false, \"text\": \"ID: 27<br>45 sek <br>100 % FTP<br>315 w<br>\", \"type\": \"scatter\", \"x\": [3510, 3510, 3555, 3555], \"xaxis\": \"x\", \"y\": [0, 100, 100, 0], \"yaxis\": \"y\"}, {\"hoverinfo\": \"none\", \"line\": {\"color\": \"rgba(0,0,0,0)\"}, \"mode\": \"lines\", \"showlegend\": false, \"type\": \"scatter\", \"x\": [3510, 3555], \"xaxis\": \"x\", \"y\": [315.0, 315.0], \"yaxis\": \"y2\"}, {\"hoverinfo\": \"text\", \"marker\": {\"color\": [\"rgba(0,0,0,0)\", \"rgba(0,0,0,0)\", \"rgba(0,0,0,0)\", \"rgba(0,0,0,0)\"]}, \"mode\": \"markers\", \"showlegend\": false, \"text\": [\"ID: 28<br>45 sek <br>90 % FTP<br>284 w<br>\", \"ID: 28<br>45 sek <br>90 % FTP<br>284 w<br>\", \"ID: 28<br>45 sek <br>90 % FTP<br>284 w<br>\", \"ID: 28<br>45 sek <br>90 % FTP<br>284 w<br>\"], \"type\": \"scatter\", \"x\": [3577.5, 3577.5, 3577.5, 3577.5], \"y\": [18.0, 36.0, 54.0, 72.0]}, {\"fill\": \"tozeroy\", \"fillcolor\": \"yellow\", \"hoverinfo\": \"text\", \"legendgroup\": \"yellow\", \"line\": {\"color\": \"black\"}, \"mode\": \"lines\", \"showlegend\": false, \"text\": \"ID: 28<br>45 sek <br>90 % FTP<br>284 w<br>\", \"type\": \"scatter\", \"x\": [3555, 3555, 3600, 3600], \"xaxis\": \"x\", \"y\": [0, 90, 90, 0], \"yaxis\": \"y\"}, {\"hoverinfo\": \"none\", \"line\": {\"color\": \"rgba(0,0,0,0)\"}, \"mode\": \"lines\", \"showlegend\": false, \"type\": \"scatter\", \"x\": [3555, 3600], \"xaxis\": \"x\", \"y\": [283.5, 283.5], \"yaxis\": \"y2\"}, {\"hoverinfo\": \"text\", \"marker\": {\"color\": [\"rgba(0,0,0,0)\", \"rgba(0,0,0,0)\", \"rgba(0,0,0,0)\", \"rgba(0,0,0,0)\"]}, \"mode\": \"markers\", \"showlegend\": false, \"text\": [\"ID: 29<br>45 sek <br>80 % FTP<br>252 w<br>\", \"ID: 29<br>45 sek <br>80 % FTP<br>252 w<br>\", \"ID: 29<br>45 sek <br>80 % FTP<br>252 w<br>\", \"ID: 29<br>45 sek <br>80 % FTP<br>252 w<br>\"], \"type\": \"scatter\", \"x\": [3622.5, 3622.5, 3622.5, 3622.5], \"y\": [16.0, 32.0, 48.0, 64.0]}, {\"fill\": \"tozeroy\", \"fillcolor\": \"green\", \"hoverinfo\": \"text\", \"legendgroup\": \"green\", \"line\": {\"color\": \"black\"}, \"mode\": \"lines\", \"showlegend\": false, \"text\": \"ID: 29<br>45 sek <br>80 % FTP<br>252 w<br>\", \"type\": \"scatter\", \"x\": [3600, 3600, 3645, 3645], \"xaxis\": \"x\", \"y\": [0, 80, 80, 0], \"yaxis\": \"y\"}, {\"hoverinfo\": \"none\", \"line\": {\"color\": \"rgba(0,0,0,0)\"}, \"mode\": \"lines\", \"showlegend\": false, \"type\": \"scatter\", \"x\": [3600, 3645], \"xaxis\": \"x\", \"y\": [252.0, 252.0], \"yaxis\": \"y2\"}, {\"hoverinfo\": \"text\", \"marker\": {\"color\": [\"rgba(0,0,0,0)\", \"rgba(0,0,0,0)\", \"rgba(0,0,0,0)\", \"rgba(0,0,0,0)\"]}, \"mode\": \"markers\", \"showlegend\": false, \"text\": [\"ID: 30<br>45 sek <br>80 % FTP<br>252 w<br>\", \"ID: 30<br>45 sek <br>80 % FTP<br>252 w<br>\", \"ID: 30<br>45 sek <br>80 % FTP<br>252 w<br>\", \"ID: 30<br>45 sek <br>80 % FTP<br>252 w<br>\"], \"type\": \"scatter\", \"x\": [3667.5, 3667.5, 3667.5, 3667.5], \"y\": [16.0, 32.0, 48.0, 64.0]}, {\"fill\": \"tozeroy\", \"fillcolor\": \"green\", \"hoverinfo\": \"text\", \"legendgroup\": \"green\", \"line\": {\"color\": \"black\"}, \"mode\": \"lines\", \"showlegend\": false, \"text\": \"ID: 30<br>45 sek <br>80 % FTP<br>252 w<br>\", \"type\": \"scatter\", \"x\": [3645, 3645, 3690, 3690], \"xaxis\": \"x\", \"y\": [0, 80, 80, 0], \"yaxis\": \"y\"}, {\"hoverinfo\": \"none\", \"line\": {\"color\": \"rgba(0,0,0,0)\"}, \"mode\": \"lines\", \"showlegend\": false, \"type\": \"scatter\", \"x\": [3645, 3690], \"xaxis\": \"x\", \"y\": [252.0, 252.0], \"yaxis\": \"y2\"}, {\"hoverinfo\": \"text\", \"marker\": {\"color\": [\"rgba(0,0,0,0)\", \"rgba(0,0,0,0)\", \"rgba(0,0,0,0)\", \"rgba(0,0,0,0)\"]}, \"mode\": \"markers\", \"showlegend\": false, \"text\": [\"ID: 31<br>330.0 sek <br>70 bis 59 % FTP<br>220 bis 186 w<br>\", \"ID: 31<br>330.0 sek <br>70 bis 59 % FTP<br>220 bis 186 w<br>\", \"ID: 31<br>330.0 sek <br>70 bis 59 % FTP<br>220 bis 186 w<br>\", \"ID: 31<br>330.0 sek <br>70 bis 59 % FTP<br>220 bis 186 w<br>\"], \"type\": \"scatter\", \"x\": [3855.0, 3855.0, 3855.0, 3855.0], \"y\": [11.8, 23.6, 35.4, 47.2]}, {\"fill\": \"tozeroy\", \"fillcolor\": \"blue\", \"hoverinfo\": \"text\", \"legendgroup\": \"blue\", \"line\": {\"color\": \"black\"}, \"mode\": \"lines\", \"showlegend\": false, \"text\": \"ID: 31<br>330.0 sek <br>70 bis 59 % FTP<br>220 bis 186 w<br>\", \"type\": \"scatter\", \"x\": [3690, 3690, 4020.0, 4020.0], \"xaxis\": \"x\", \"y\": [0, 70, 59, 0], \"yaxis\": \"y\"}, {\"hoverinfo\": \"none\", \"line\": {\"color\": \"rgba(0,0,0,0)\"}, \"mode\": \"lines\", \"showlegend\": false, \"type\": \"scatter\", \"x\": [3690, 4020.0], \"xaxis\": \"x\", \"y\": [220.5, 185.85], \"yaxis\": \"y2\"}, {\"hoverinfo\": \"text\", \"marker\": {\"color\": [\"rgba(0,0,0,0)\", \"rgba(0,0,0,0)\", \"rgba(0,0,0,0)\", \"rgba(0,0,0,0)\"]}, \"mode\": \"markers\", \"showlegend\": false, \"text\": [\"ID: 31<br>270.0 sek <br>59 bis 50 % FTP<br>186 bis 158 w<br>\", \"ID: 31<br>270.0 sek <br>59 bis 50 % FTP<br>186 bis 158 w<br>\", \"ID: 31<br>270.0 sek <br>59 bis 50 % FTP<br>186 bis 158 w<br>\", \"ID: 31<br>270.0 sek <br>59 bis 50 % FTP<br>186 bis 158 w<br>\"], \"type\": \"scatter\", \"x\": [4155.0, 4155.0, 4155.0, 4155.0], \"y\": [10.0, 20.0, 30.0, 40.0]}, {\"fill\": \"tozeroy\", \"fillcolor\": \"grey\", \"hoverinfo\": \"text\", \"legendgroup\": \"grey\", \"line\": {\"color\": \"black\"}, \"mode\": \"lines\", \"showlegend\": false, \"text\": \"ID: 31<br>270.0 sek <br>59 bis 50 % FTP<br>186 bis 158 w<br>\", \"type\": \"scatter\", \"x\": [4020.0, 4020.0, 4290.0, 4290.0], \"xaxis\": \"x\", \"y\": [0, 59, 50, 0], \"yaxis\": \"y\"}, {\"hoverinfo\": \"none\", \"line\": {\"color\": \"rgba(0,0,0,0)\"}, \"mode\": \"lines\", \"showlegend\": false, \"type\": \"scatter\", \"x\": [4020.0, 4290.0], \"xaxis\": \"x\", \"y\": [185.85, 157.5], \"yaxis\": \"y2\"}, {\"hoverinfo\": \"text\", \"marker\": {\"color\": [\"rgba(0,0,0,0)\", \"rgba(0,0,0,0)\", \"rgba(0,0,0,0)\", \"rgba(0,0,0,0)\"]}, \"mode\": \"markers\", \"showlegend\": false, \"text\": [\"ID: 32<br>600 sek <br>Freeride<br>\", \"ID: 32<br>600 sek <br>Freeride<br>\", \"ID: 32<br>600 sek <br>Freeride<br>\", \"ID: 32<br>600 sek <br>Freeride<br>\"], \"type\": \"scatter\", \"x\": [4590.0, 4590.0, 4590.0, 4590.0], \"y\": [8.0, 16.0, 24.0, 32.0]}, {\"fill\": \"tozeroy\", \"fillcolor\": \"rgb(200, 200, 200)\", \"hoverinfo\": \"text\", \"legendgroup\": \"rgb(200, 200, 200)\", \"line\": {\"color\": \"black\"}, \"mode\": \"lines\", \"showlegend\": false, \"text\": \"ID: 32<br>600 sek <br>Freeride<br>\", \"type\": \"scatter\", \"x\": [4290.0, 4296.060606060606, 4302.121212121212, 4308.181818181818, 4314.242424242424, 4320.30303030303, 4326.363636363636, 4332.424242424242, 4338.484848484848, 4344.545454545455, 4350.606060606061, 4356.666666666667, 4362.727272727273, 4368.787878787879, 4374.848484848485, 4380.909090909091, 4386.969696969697, 4393.030303030303, 4399.090909090909, 4405.151515151515, 4411.212121212121, 4417.272727272727, 4423.333333333333, 4429.393939393939, 4435.454545454545, 4441.515151515152, 4447.575757575758, 4453.636363636364, 4459.69696969697, 4465.757575757576, 4471.818181818182, 4477.878787878788, 4483.939393939394, 4490.0, 4496.060606060606, 4502.121212121212, 4508.181818181818, 4514.242424242424, 4520.30303030303, 4526.363636363636, 4532.424242424242, 4538.484848484848, 4544.545454545455, 4550.606060606061, 4556.666666666667, 4562.727272727273, 4568.787878787879, 4574.848484848485, 4580.909090909091, 4586.969696969697, 4593.030303030303, 4599.090909090909, 4605.151515151515, 4611.212121212121, 4617.272727272727, 4623.333333333333, 4629.393939393939, 4635.454545454545, 4641.515151515152, 4647.575757575758, 4653.636363636364, 4659.69696969697, 4665.757575757576, 4671.818181818182, 4677.878787878788, 4683.939393939394, 4690.0, 4696.060606060606, 4702.121212121212, 4708.181818181818, 4714.242424242424, 4720.30303030303, 4726.363636363636, 4732.424242424242, 4738.484848484848, 4744.545454545455, 4750.606060606061, 4756.666666666667, 4762.727272727273, 4768.787878787879, 4774.848484848485, 4780.909090909091, 4786.969696969697, 4793.030303030303, 4799.090909090909, 4805.151515151515, 4811.212121212121, 4817.272727272727, 4823.333333333333, 4829.393939393939, 4835.454545454546, 4841.515151515152, 4847.575757575758, 4853.636363636364, 4859.69696969697, 4865.757575757576, 4871.818181818182, 4877.878787878788, 4883.939393939394, 4890.0], \"xaxis\": \"x\", \"y\": [45.85589176675704, 45.54802894214734, 45.30549611408127, 45.13185230587989, 45.02964563594782, 45.000375925669076, 45.04447269043054, 45.16128883674216, 45.34911015794452, 45.605180489160276, 45.925742152355085, 46.30609109800205, 46.74064593417795, 47.223029830131615, 47.74616409243805, 48.30237204056535, 48.88349165754243, 49.480995362647256, 50.086115148522545, 50.689971246408284, 51.28370243140555, 51.858596055619735, 52.406215901026314, 52.918525975894205, 53.38800843812945, 53.80777391508413, 54.17166260095479, 54.47433464822642, 54.71134852672175, 54.879226200383975, 54.97550416536331, 54.998769600453706, 54.94868109939392, 54.82597368079897, 54.63244800220424, 54.37094393649966, 54.04529889850359, 53.660291533209545, 53.221571592046075, 52.735577026174056, 52.20943951342687, 51.65087980522965, 51.068094429217325, 50.469635410123836, 49.86428477396415, 49.26092567708732, 48.66841205120171, 48.09543867725437, 47.55041359475261, 47.04133471884309, 46.57567247571943, 46.16026017861257, 45.80119375303094, 45.50374228272138, 45.272270689035466, 45.11017567833519, 45.019835897370726, 45.00257702807073, 45.05865233395762, 45.187238943657704, 45.38644992604363, 45.653361979813184, 45.98405833117709, 46.37368621015751, 46.8165280620677, 47.30608544918676, 47.83517441142307, 48.39603088660629, 48.98042464342773, 49.57978005513318, 50.18530194168516, 50.78810463373822, 51.379342364490086, 51.950339075986875, 52.4927157350536, 52.998513290563956, 53.460309467726745, 53.87132768550274, 54.225536498853934, 54.51773810657011, 54.74364462587444, 54.899941014523016, 54.984333717055215, 54.995584321340104, 54.933527731529225, 54.79907459073889, 54.59419791791036, 54.32190415494404, 53.986189048973635, 53.59197901718095, 53.14505885458817, 52.65198684567167, 52.119998525483176, 51.55690050252643, 50.97095590147491, 50.3707631067889, 49.765129586597276, 49.16294264840183, 48.57303902318756, 48.004075191712225], \"yaxis\": \"y\"}, {\"hoverinfo\": \"none\", \"line\": {\"color\": \"rgba(0,0,0,0)\"}, \"mode\": \"lines\", \"showlegend\": false, \"type\": \"scatter\", \"x\": [4296.060606060606, 4302.121212121212], \"xaxis\": \"x\", \"y\": [143.47629116776412, 142.712312759356], \"yaxis\": \"y2\"}, {\"hoverinfo\": \"text\", \"marker\": {\"color\": [\"rgba(0,0,0,0)\", \"rgba(0,0,0,0)\", \"rgba(0,0,0,0)\", \"rgba(0,0,0,0)\"]}, \"mode\": \"markers\", \"showlegend\": false, \"text\": [\"ID: 33<br>225.0 sek <br>60 bis 75 % FTP<br>189 bis 236 w<br>85 rpm\", \"ID: 33<br>225.0 sek <br>60 bis 75 % FTP<br>189 bis 236 w<br>85 rpm\", \"ID: 33<br>225.0 sek <br>60 bis 75 % FTP<br>189 bis 236 w<br>85 rpm\", \"ID: 33<br>225.0 sek <br>60 bis 75 % FTP<br>189 bis 236 w<br>85 rpm\"], \"type\": \"scatter\", \"x\": [5002.5, 5002.5, 5002.5, 5002.5], \"y\": [15.0, 30.0, 45.0, 60.0]}, {\"fill\": \"tozeroy\", \"fillcolor\": \"blue\", \"hoverinfo\": \"text\", \"legendgroup\": \"blue\", \"line\": {\"color\": \"black\"}, \"mode\": \"lines\", \"showlegend\": false, \"text\": \"ID: 33<br>225.0 sek <br>60 bis 75 % FTP<br>189 bis 236 w<br>85 rpm\", \"type\": \"scatter\", \"x\": [4890, 4890, 5115.0, 5115.0], \"xaxis\": \"x\", \"y\": [0, 60, 75, 0], \"yaxis\": \"y\"}, {\"hoverinfo\": \"none\", \"line\": {\"color\": \"rgba(0,0,0,0)\"}, \"mode\": \"lines\", \"showlegend\": false, \"type\": \"scatter\", \"x\": [4890, 5115.0], \"xaxis\": \"x\", \"y\": [189.0, 236.25], \"yaxis\": \"y2\"}, {\"hoverinfo\": \"none\", \"legendgroup\": \"blue\", \"line\": {\"color\": \"black\"}, \"mode\": \"lines\", \"showlegend\": false, \"type\": \"scatter\", \"x\": [4890, 5115.0], \"xaxis\": \"x\", \"y\": [0, 40], \"yaxis\": \"y\"}, {\"hoverinfo\": \"none\", \"legendgroup\": \"blue\", \"line\": {\"color\": \"black\"}, \"mode\": \"lines\", \"showlegend\": false, \"type\": \"scatter\", \"x\": [4890, 5115.0], \"xaxis\": \"x\", \"y\": [40, 0], \"yaxis\": \"y\"}, {\"hoverinfo\": \"text\", \"marker\": {\"color\": [\"rgba(0,0,0,0)\", \"rgba(0,0,0,0)\", \"rgba(0,0,0,0)\", \"rgba(0,0,0,0)\"]}, \"mode\": \"markers\", \"showlegend\": false, \"text\": [\"ID: 33<br>75.0 sek <br>75 bis 80 % FTP<br>236 bis 252 w<br>85 rpm\", \"ID: 33<br>75.0 sek <br>75 bis 80 % FTP<br>236 bis 252 w<br>85 rpm\", \"ID: 33<br>75.0 sek <br>75 bis 80 % FTP<br>236 bis 252 w<br>85 rpm\", \"ID: 33<br>75.0 sek <br>75 bis 80 % FTP<br>236 bis 252 w<br>85 rpm\"], \"type\": \"scatter\", \"x\": [5152.5, 5152.5, 5152.5, 5152.5], \"y\": [16.0, 32.0, 48.0, 64.0]}, {\"fill\": \"tozeroy\", \"fillcolor\": \"green\", \"hoverinfo\": \"text\", \"legendgroup\": \"green\", \"line\": {\"color\": \"black\"}, \"mode\": \"lines\", \"showlegend\": false, \"text\": \"ID: 33<br>75.0 sek <br>75 bis 80 % FTP<br>236 bis 252 w<br>85 rpm\", \"type\": \"scatter\", \"x\": [5115.0, 5115.0, 5190.0, 5190.0], \"xaxis\": \"x\", \"y\": [0, 75, 80, 0], \"yaxis\": \"y\"}, {\"hoverinfo\": \"none\", \"line\": {\"color\": \"rgba(0,0,0,0)\"}, \"mode\": \"lines\", \"showlegend\": false, \"type\": \"scatter\", \"x\": [5115.0, 5190.0], \"xaxis\": \"x\", \"y\": [236.25, 252.0], \"yaxis\": \"y2\"}, {\"hoverinfo\": \"none\", \"legendgroup\": \"green\", \"line\": {\"color\": \"black\"}, \"mode\": \"lines\", \"showlegend\": false, \"type\": \"scatter\", \"x\": [5115.0, 5190.0], \"xaxis\": \"x\", \"y\": [0, 40], \"yaxis\": \"y\"}, {\"hoverinfo\": \"none\", \"legendgroup\": \"green\", \"line\": {\"color\": \"black\"}, \"mode\": \"lines\", \"showlegend\": false, \"type\": \"scatter\", \"x\": [5115.0, 5190.0], \"xaxis\": \"x\", \"y\": [40, 0], \"yaxis\": \"y\"}, {\"hoverinfo\": \"text\", \"marker\": {\"color\": [\"rgba(0,0,0,0)\", \"rgba(0,0,0,0)\", \"rgba(0,0,0,0)\", \"rgba(0,0,0,0)\"]}, \"mode\": \"markers\", \"showlegend\": false, \"text\": [\"ID: 34<br>300 sek <br>60 % FTP<br>189 w<br>85 rpm\", \"ID: 34<br>300 sek <br>60 % FTP<br>189 w<br>85 rpm\", \"ID: 34<br>300 sek <br>60 % FTP<br>189 w<br>85 rpm\", \"ID: 34<br>300 sek <br>60 % FTP<br>189 w<br>85 rpm\"], \"type\": \"scatter\", \"x\": [5340.0, 5340.0, 5340.0, 5340.0], \"y\": [12.0, 24.0, 36.0, 48.0]}, {\"fill\": \"tozeroy\", \"fillcolor\": \"blue\", \"hoverinfo\": \"text\", \"legendgroup\": \"blue\", \"line\": {\"color\": \"black\"}, \"mode\": \"lines\", \"showlegend\": false, \"text\": \"ID: 34<br>300 sek <br>60 % FTP<br>189 w<br>85 rpm\", \"type\": \"scatter\", \"x\": [5190, 5190, 5490, 5490], \"xaxis\": \"x\", \"y\": [0, 60, 60, 0], \"yaxis\": \"y\"}, {\"hoverinfo\": \"none\", \"line\": {\"color\": \"rgba(0,0,0,0)\"}, \"mode\": \"lines\", \"showlegend\": false, \"type\": \"scatter\", \"x\": [5190, 5490], \"xaxis\": \"x\", \"y\": [189.0, 189.0], \"yaxis\": \"y2\"}, {\"hoverinfo\": \"none\", \"legendgroup\": \"blue\", \"line\": {\"color\": \"black\"}, \"mode\": \"lines\", \"showlegend\": false, \"type\": \"scatter\", \"x\": [5190, 5490], \"xaxis\": \"x\", \"y\": [0, 40], \"yaxis\": \"y\"}, {\"hoverinfo\": \"none\", \"legendgroup\": \"blue\", \"line\": {\"color\": \"black\"}, \"mode\": \"lines\", \"showlegend\": false, \"type\": \"scatter\", \"x\": [5190, 5490], \"xaxis\": \"x\", \"y\": [40, 0], \"yaxis\": \"y\"}],                        {\"template\": {\"data\": {\"bar\": [{\"error_x\": {\"color\": \"#2a3f5f\"}, \"error_y\": {\"color\": \"#2a3f5f\"}, \"marker\": {\"line\": {\"color\": \"#E5ECF6\", \"width\": 0.5}}, \"type\": \"bar\"}], \"barpolar\": [{\"marker\": {\"line\": {\"color\": \"#E5ECF6\", \"width\": 0.5}}, \"type\": \"barpolar\"}], \"carpet\": [{\"aaxis\": {\"endlinecolor\": \"#2a3f5f\", \"gridcolor\": \"white\", \"linecolor\": \"white\", \"minorgridcolor\": \"white\", \"startlinecolor\": \"#2a3f5f\"}, \"baxis\": {\"endlinecolor\": \"#2a3f5f\", \"gridcolor\": \"white\", \"linecolor\": \"white\", \"minorgridcolor\": \"white\", \"startlinecolor\": \"#2a3f5f\"}, \"type\": \"carpet\"}], \"choropleth\": [{\"colorbar\": {\"outlinewidth\": 0, \"ticks\": \"\"}, \"type\": \"choropleth\"}], \"contour\": [{\"colorbar\": {\"outlinewidth\": 0, \"ticks\": \"\"}, \"colorscale\": [[0.0, \"#0d0887\"], [0.1111111111111111, \"#46039f\"], [0.2222222222222222, \"#7201a8\"], [0.3333333333333333, \"#9c179e\"], [0.4444444444444444, \"#bd3786\"], [0.5555555555555556, \"#d8576b\"], [0.6666666666666666, \"#ed7953\"], [0.7777777777777778, \"#fb9f3a\"], [0.8888888888888888, \"#fdca26\"], [1.0, \"#f0f921\"]], \"type\": \"contour\"}], \"contourcarpet\": [{\"colorbar\": {\"outlinewidth\": 0, \"ticks\": \"\"}, \"type\": \"contourcarpet\"}], \"heatmap\": [{\"colorbar\": {\"outlinewidth\": 0, \"ticks\": \"\"}, \"colorscale\": [[0.0, \"#0d0887\"], [0.1111111111111111, \"#46039f\"], [0.2222222222222222, \"#7201a8\"], [0.3333333333333333, \"#9c179e\"], [0.4444444444444444, \"#bd3786\"], [0.5555555555555556, \"#d8576b\"], [0.6666666666666666, \"#ed7953\"], [0.7777777777777778, \"#fb9f3a\"], [0.8888888888888888, \"#fdca26\"], [1.0, \"#f0f921\"]], \"type\": \"heatmap\"}], \"heatmapgl\": [{\"colorbar\": {\"outlinewidth\": 0, \"ticks\": \"\"}, \"colorscale\": [[0.0, \"#0d0887\"], [0.1111111111111111, \"#46039f\"], [0.2222222222222222, \"#7201a8\"], [0.3333333333333333, \"#9c179e\"], [0.4444444444444444, \"#bd3786\"], [0.5555555555555556, \"#d8576b\"], [0.6666666666666666, \"#ed7953\"], [0.7777777777777778, \"#fb9f3a\"], [0.8888888888888888, \"#fdca26\"], [1.0, \"#f0f921\"]], \"type\": \"heatmapgl\"}], \"histogram\": [{\"marker\": {\"colorbar\": {\"outlinewidth\": 0, \"ticks\": \"\"}}, \"type\": \"histogram\"}], \"histogram2d\": [{\"colorbar\": {\"outlinewidth\": 0, \"ticks\": \"\"}, \"colorscale\": [[0.0, \"#0d0887\"], [0.1111111111111111, \"#46039f\"], [0.2222222222222222, \"#7201a8\"], [0.3333333333333333, \"#9c179e\"], [0.4444444444444444, \"#bd3786\"], [0.5555555555555556, \"#d8576b\"], [0.6666666666666666, \"#ed7953\"], [0.7777777777777778, \"#fb9f3a\"], [0.8888888888888888, \"#fdca26\"], [1.0, \"#f0f921\"]], \"type\": \"histogram2d\"}], \"histogram2dcontour\": [{\"colorbar\": {\"outlinewidth\": 0, \"ticks\": \"\"}, \"colorscale\": [[0.0, \"#0d0887\"], [0.1111111111111111, \"#46039f\"], [0.2222222222222222, \"#7201a8\"], [0.3333333333333333, \"#9c179e\"], [0.4444444444444444, \"#bd3786\"], [0.5555555555555556, \"#d8576b\"], [0.6666666666666666, \"#ed7953\"], [0.7777777777777778, \"#fb9f3a\"], [0.8888888888888888, \"#fdca26\"], [1.0, \"#f0f921\"]], \"type\": \"histogram2dcontour\"}], \"mesh3d\": [{\"colorbar\": {\"outlinewidth\": 0, \"ticks\": \"\"}, \"type\": \"mesh3d\"}], \"parcoords\": [{\"line\": {\"colorbar\": {\"outlinewidth\": 0, \"ticks\": \"\"}}, \"type\": \"parcoords\"}], \"pie\": [{\"automargin\": true, \"type\": \"pie\"}], \"scatter\": [{\"marker\": {\"colorbar\": {\"outlinewidth\": 0, \"ticks\": \"\"}}, \"type\": \"scatter\"}], \"scatter3d\": [{\"line\": {\"colorbar\": {\"outlinewidth\": 0, \"ticks\": \"\"}}, \"marker\": {\"colorbar\": {\"outlinewidth\": 0, \"ticks\": \"\"}}, \"type\": \"scatter3d\"}], \"scattercarpet\": [{\"marker\": {\"colorbar\": {\"outlinewidth\": 0, \"ticks\": \"\"}}, \"type\": \"scattercarpet\"}], \"scattergeo\": [{\"marker\": {\"colorbar\": {\"outlinewidth\": 0, \"ticks\": \"\"}}, \"type\": \"scattergeo\"}], \"scattergl\": [{\"marker\": {\"colorbar\": {\"outlinewidth\": 0, \"ticks\": \"\"}}, \"type\": \"scattergl\"}], \"scattermapbox\": [{\"marker\": {\"colorbar\": {\"outlinewidth\": 0, \"ticks\": \"\"}}, \"type\": \"scattermapbox\"}], \"scatterpolar\": [{\"marker\": {\"colorbar\": {\"outlinewidth\": 0, \"ticks\": \"\"}}, \"type\": \"scatterpolar\"}], \"scatterpolargl\": [{\"marker\": {\"colorbar\": {\"outlinewidth\": 0, \"ticks\": \"\"}}, \"type\": \"scatterpolargl\"}], \"scatterternary\": [{\"marker\": {\"colorbar\": {\"outlinewidth\": 0, \"ticks\": \"\"}}, \"type\": \"scatterternary\"}], \"surface\": [{\"colorbar\": {\"outlinewidth\": 0, \"ticks\": \"\"}, \"colorscale\": [[0.0, \"#0d0887\"], [0.1111111111111111, \"#46039f\"], [0.2222222222222222, \"#7201a8\"], [0.3333333333333333, \"#9c179e\"], [0.4444444444444444, \"#bd3786\"], [0.5555555555555556, \"#d8576b\"], [0.6666666666666666, \"#ed7953\"], [0.7777777777777778, \"#fb9f3a\"], [0.8888888888888888, \"#fdca26\"], [1.0, \"#f0f921\"]], \"type\": \"surface\"}], \"table\": [{\"cells\": {\"fill\": {\"color\": \"#EBF0F8\"}, \"line\": {\"color\": \"white\"}}, \"header\": {\"fill\": {\"color\": \"#C8D4E3\"}, \"line\": {\"color\": \"white\"}}, \"type\": \"table\"}]}, \"layout\": {\"annotationdefaults\": {\"arrowcolor\": \"#2a3f5f\", \"arrowhead\": 0, \"arrowwidth\": 1}, \"coloraxis\": {\"colorbar\": {\"outlinewidth\": 0, \"ticks\": \"\"}}, \"colorscale\": {\"diverging\": [[0, \"#8e0152\"], [0.1, \"#c51b7d\"], [0.2, \"#de77ae\"], [0.3, \"#f1b6da\"], [0.4, \"#fde0ef\"], [0.5, \"#f7f7f7\"], [0.6, \"#e6f5d0\"], [0.7, \"#b8e186\"], [0.8, \"#7fbc41\"], [0.9, \"#4d9221\"], [1, \"#276419\"]], \"sequential\": [[0.0, \"#0d0887\"], [0.1111111111111111, \"#46039f\"], [0.2222222222222222, \"#7201a8\"], [0.3333333333333333, \"#9c179e\"], [0.4444444444444444, \"#bd3786\"], [0.5555555555555556, \"#d8576b\"], [0.6666666666666666, \"#ed7953\"], [0.7777777777777778, \"#fb9f3a\"], [0.8888888888888888, \"#fdca26\"], [1.0, \"#f0f921\"]], \"sequentialminus\": [[0.0, \"#0d0887\"], [0.1111111111111111, \"#46039f\"], [0.2222222222222222, \"#7201a8\"], [0.3333333333333333, \"#9c179e\"], [0.4444444444444444, \"#bd3786\"], [0.5555555555555556, \"#d8576b\"], [0.6666666666666666, \"#ed7953\"], [0.7777777777777778, \"#fb9f3a\"], [0.8888888888888888, \"#fdca26\"], [1.0, \"#f0f921\"]]}, \"colorway\": [\"#636efa\", \"#EF553B\", \"#00cc96\", \"#ab63fa\", \"#FFA15A\", \"#19d3f3\", \"#FF6692\", \"#B6E880\", \"#FF97FF\", \"#FECB52\"], \"font\": {\"color\": \"#2a3f5f\"}, \"geo\": {\"bgcolor\": \"white\", \"lakecolor\": \"white\", \"landcolor\": \"#E5ECF6\", \"showlakes\": true, \"showland\": true, \"subunitcolor\": \"white\"}, \"hoverlabel\": {\"align\": \"left\"}, \"hovermode\": \"closest\", \"mapbox\": {\"style\": \"light\"}, \"paper_bgcolor\": \"white\", \"plot_bgcolor\": \"#E5ECF6\", \"polar\": {\"angularaxis\": {\"gridcolor\": \"white\", \"linecolor\": \"white\", \"ticks\": \"\"}, \"bgcolor\": \"#E5ECF6\", \"radialaxis\": {\"gridcolor\": \"white\", \"linecolor\": \"white\", \"ticks\": \"\"}}, \"scene\": {\"xaxis\": {\"backgroundcolor\": \"#E5ECF6\", \"gridcolor\": \"white\", \"gridwidth\": 2, \"linecolor\": \"white\", \"showbackground\": true, \"ticks\": \"\", \"zerolinecolor\": \"white\"}, \"yaxis\": {\"backgroundcolor\": \"#E5ECF6\", \"gridcolor\": \"white\", \"gridwidth\": 2, \"linecolor\": \"white\", \"showbackground\": true, \"ticks\": \"\", \"zerolinecolor\": \"white\"}, \"zaxis\": {\"backgroundcolor\": \"#E5ECF6\", \"gridcolor\": \"white\", \"gridwidth\": 2, \"linecolor\": \"white\", \"showbackground\": true, \"ticks\": \"\", \"zerolinecolor\": \"white\"}}, \"shapedefaults\": {\"line\": {\"color\": \"#2a3f5f\"}}, \"ternary\": {\"aaxis\": {\"gridcolor\": \"white\", \"linecolor\": \"white\", \"ticks\": \"\"}, \"baxis\": {\"gridcolor\": \"white\", \"linecolor\": \"white\", \"ticks\": \"\"}, \"bgcolor\": \"#E5ECF6\", \"caxis\": {\"gridcolor\": \"white\", \"linecolor\": \"white\", \"ticks\": \"\"}}, \"title\": {\"x\": 0.05}, \"xaxis\": {\"automargin\": true, \"gridcolor\": \"white\", \"linecolor\": \"white\", \"ticks\": \"\", \"title\": {\"standoff\": 15}, \"zerolinecolor\": \"white\", \"zerolinewidth\": 2}, \"yaxis\": {\"automargin\": true, \"gridcolor\": \"white\", \"linecolor\": \"white\", \"ticks\": \"\", \"title\": {\"standoff\": 15}, \"zerolinecolor\": \"white\", \"zerolinewidth\": 2}}}, \"xaxis\": {\"anchor\": \"y\", \"domain\": [0.0, 0.94], \"title\": {\"text\": \"Zeit\"}}, \"yaxis\": {\"anchor\": \"x\", \"domain\": [0.0, 1.0], \"title\": {\"text\": \"% FTP\"}}, \"yaxis2\": {\"anchor\": \"x\", \"overlaying\": \"y\", \"showgrid\": false, \"side\": \"right\", \"title\": {\"text\": \"Watt\"}}},                        {\"responsive\": true}                    ).then(function(){\n",
       "                            \n",
       "var gd = document.getElementById('f4fecdce-16a7-4966-8447-0e1edb69f70d');\n",
       "var x = new MutationObserver(function (mutations, observer) {{\n",
       "        var display = window.getComputedStyle(gd).display;\n",
       "        if (!display || display === 'none') {{\n",
       "            console.log([gd, 'removed!']);\n",
       "            Plotly.purge(gd);\n",
       "            observer.disconnect();\n",
       "        }}\n",
       "}});\n",
       "\n",
       "// Listen for the removal of the full notebook cells\n",
       "var notebookContainer = gd.closest('#notebook-container');\n",
       "if (notebookContainer) {{\n",
       "    x.observe(notebookContainer, {childList: true});\n",
       "}}\n",
       "\n",
       "// Listen for the clearing of the current output cell\n",
       "var outputEl = gd.closest('.output');\n",
       "if (outputEl) {{\n",
       "    x.observe(outputEl, {childList: true});\n",
       "}}\n",
       "\n",
       "                        })                };                });            </script>        </div>"
      ]
     },
     "metadata": {},
     "output_type": "display_data"
    }
   ],
   "source": [
    "e.add(600, [0,0])\n",
    "\n",
    "e.add(300, [60,  80], cadence = 85)\n",
    "e.add(300, [60,  60], cadence = 85)\n",
    "\n",
    "e.plot()"
   ]
  },
  {
   "cell_type": "code",
   "execution_count": 240,
   "metadata": {},
   "outputs": [
    {
     "data": {
      "application/vnd.plotly.v1+json": {
       "config": {
        "plotlyServerURL": "https://plot.ly"
       },
       "data": [
        {
         "hoverinfo": "text",
         "marker": {
          "color": [
           "grey",
           "grey",
           "grey",
           "grey"
          ]
         },
         "mode": "markers",
         "showlegend": false,
         "text": [
          "ID: 0<br>540.0 sek <br>50 bis 59 % FTP<br>158 bis 186 w<br>",
          "ID: 0<br>540.0 sek <br>50 bis 59 % FTP<br>158 bis 186 w<br>",
          "ID: 0<br>540.0 sek <br>50 bis 59 % FTP<br>158 bis 186 w<br>",
          "ID: 0<br>540.0 sek <br>50 bis 59 % FTP<br>158 bis 186 w<br>"
         ],
         "type": "scatter",
         "x": [
          270,
          270,
          270,
          270
         ],
         "y": [
          11.8,
          23.6,
          35.4,
          47.2
         ]
        },
        {
         "fill": "tozeroy",
         "fillcolor": "grey",
         "hoverinfo": "text",
         "legendgroup": "grey",
         "line": {
          "color": "black"
         },
         "mode": "lines",
         "showlegend": false,
         "text": "ID: 0<br>540.0 sek <br>50 bis 59 % FTP<br>158 bis 186 w<br>",
         "type": "scatter",
         "x": [
          0,
          0,
          540,
          540
         ],
         "xaxis": "x",
         "y": [
          0,
          50,
          59,
          0
         ],
         "yaxis": "y"
        },
        {
         "hoverinfo": "none",
         "line": {
          "color": "rgba(0,0,0,0)"
         },
         "mode": "lines",
         "showlegend": false,
         "type": "scatter",
         "x": [
          0,
          540
         ],
         "xaxis": "x",
         "y": [
          157.5,
          185.85
         ],
         "yaxis": "y2"
        },
        {
         "hoverinfo": "text",
         "marker": {
          "color": [
           "blue",
           "blue",
           "blue",
           "blue"
          ]
         },
         "mode": "markers",
         "showlegend": false,
         "text": [
          "ID: 0<br>360.0 sek <br>59 bis 65 % FTP<br>186 bis 205 w<br>",
          "ID: 0<br>360.0 sek <br>59 bis 65 % FTP<br>186 bis 205 w<br>",
          "ID: 0<br>360.0 sek <br>59 bis 65 % FTP<br>186 bis 205 w<br>",
          "ID: 0<br>360.0 sek <br>59 bis 65 % FTP<br>186 bis 205 w<br>"
         ],
         "type": "scatter",
         "x": [
          720,
          720,
          720,
          720
         ],
         "y": [
          13,
          26,
          39,
          52
         ]
        },
        {
         "fill": "tozeroy",
         "fillcolor": "blue",
         "hoverinfo": "text",
         "legendgroup": "blue",
         "line": {
          "color": "black"
         },
         "mode": "lines",
         "showlegend": false,
         "text": "ID: 0<br>360.0 sek <br>59 bis 65 % FTP<br>186 bis 205 w<br>",
         "type": "scatter",
         "x": [
          540,
          540,
          900,
          900
         ],
         "xaxis": "x",
         "y": [
          0,
          59,
          65,
          0
         ],
         "yaxis": "y"
        },
        {
         "hoverinfo": "none",
         "line": {
          "color": "rgba(0,0,0,0)"
         },
         "mode": "lines",
         "showlegend": false,
         "type": "scatter",
         "x": [
          540,
          900
         ],
         "xaxis": "x",
         "y": [
          185.85,
          204.75
         ],
         "yaxis": "y2"
        },
        {
         "hoverinfo": "text",
         "marker": {
          "color": [
           "rgb(200, 200, 200)",
           "rgb(200, 200, 200)",
           "rgb(200, 200, 200)",
           "rgb(200, 200, 200)"
          ]
         },
         "mode": "markers",
         "showlegend": false,
         "text": [
          "ID: 1<br>300 sek <br>Freeride<br>95 rpm",
          "ID: 1<br>300 sek <br>Freeride<br>95 rpm",
          "ID: 1<br>300 sek <br>Freeride<br>95 rpm",
          "ID: 1<br>300 sek <br>Freeride<br>95 rpm"
         ],
         "type": "scatter",
         "x": [
          1050,
          1050,
          1050,
          1050
         ],
         "y": [
          0,
          0,
          0,
          0
         ]
        },
        {
         "fill": "tozeroy",
         "fillcolor": "rgb(200, 200, 200)",
         "hoverinfo": "text",
         "legendgroup": "rgb(200, 200, 200)",
         "line": {
          "color": "black"
         },
         "mode": "lines",
         "showlegend": false,
         "text": "ID: 1<br>300 sek <br>Freeride<br>95 rpm",
         "type": "scatter",
         "x": [
          900,
          903.030303030303,
          906.060606060606,
          909.0909090909091,
          912.1212121212121,
          915.1515151515151,
          918.1818181818181,
          921.2121212121212,
          924.2424242424242,
          927.2727272727273,
          930.3030303030303,
          933.3333333333334,
          936.3636363636364,
          939.3939393939394,
          942.4242424242424,
          945.4545454545455,
          948.4848484848485,
          951.5151515151515,
          954.5454545454545,
          957.5757575757576,
          960.6060606060606,
          963.6363636363636,
          966.6666666666666,
          969.6969696969697,
          972.7272727272727,
          975.7575757575758,
          978.7878787878788,
          981.8181818181818,
          984.8484848484849,
          987.8787878787879,
          990.9090909090909,
          993.939393939394,
          996.969696969697,
          1000,
          1003.030303030303,
          1006.060606060606,
          1009.0909090909091,
          1012.1212121212121,
          1015.1515151515151,
          1018.1818181818182,
          1021.2121212121212,
          1024.2424242424242,
          1027.2727272727273,
          1030.3030303030303,
          1033.3333333333333,
          1036.3636363636365,
          1039.3939393939395,
          1042.4242424242425,
          1045.4545454545455,
          1048.4848484848485,
          1051.5151515151515,
          1054.5454545454545,
          1057.5757575757575,
          1060.6060606060605,
          1063.6363636363635,
          1066.6666666666667,
          1069.6969696969697,
          1072.7272727272727,
          1075.7575757575758,
          1078.7878787878788,
          1081.8181818181818,
          1084.8484848484848,
          1087.878787878788,
          1090.909090909091,
          1093.939393939394,
          1096.969696969697,
          1100,
          1103.030303030303,
          1106.060606060606,
          1109.090909090909,
          1112.121212121212,
          1115.1515151515152,
          1118.1818181818182,
          1121.2121212121212,
          1124.2424242424242,
          1127.2727272727273,
          1130.3030303030303,
          1133.3333333333333,
          1136.3636363636365,
          1139.3939393939395,
          1142.4242424242425,
          1145.4545454545455,
          1148.4848484848485,
          1151.5151515151515,
          1154.5454545454545,
          1157.5757575757575,
          1160.6060606060605,
          1163.6363636363635,
          1166.6666666666667,
          1169.6969696969697,
          1172.7272727272727,
          1175.7575757575758,
          1178.7878787878788,
          1181.8181818181818,
          1184.848484848485,
          1187.878787878788,
          1190.909090909091,
          1193.939393939394,
          1196.969696969697,
          1200
         ],
         "xaxis": "x",
         "y": [
          40.08221146556885,
          40.000252290046795,
          40.06503339536652,
          40.27560415778596,
          40.628874578066075,
          41.119660625350406,
          41.7407603096987,
          42.483059366956034,
          43.33566500509495,
          44.28606574938473,
          45.32031504075451,
          46.423235893156566,
          47.57864360670412,
          48.76958326840439,
          49.97857855530486,
          51.187888189017045,
          52.37976627830215,
          53.53672272934755,
          54.64177990236937,
          55.678721748261395,
          56.632331769358146,
          57.48861631238285,
          58.23500991688897,
          58.86055970583202,
          59.35608611244962,
          59.714317584880575,
          59.92999729181322,
          59.99996026332178,
          59.92317983489578,
          59.7007827131239,
          59.33603244195288,
          58.83428151214356,
          58.2028928166897,
          57.45113160479349,
          56.590029519908185,
          55.632222717008446,
          54.59176643461882,
          53.48392874264577,
          52.324966492638154,
          51.13188675827255,
          49.92219726678037,
          48.713649483584575,
          47.52397812022605,
          46.3706408881424,
          45.27056231725672,
          44.239885398684486,
          43.293734696052454,
          42.445994401627104,
          41.70910459414782,
          41.093878688156124,
          40.60934475364386,
          40.26261303455823,
          40.058771610249906,
          40.000811730970184,
          40.08958392307331,
          40.323785508054016,
          40.69997971857066,
          41.21264613093824,
          41.8542616740243,
          42.615411025791126,
          43.48492477748151,
          44.45004333797183,
          45.496604173094376,
          46.60924963230428,
          47.77165231296135,
          48.966754655139255,
          50.17701925105413,
          51.38468619597139,
          52.572033704122084,
          53.721638165245466,
          54.81662982558634,
          55.84094034138054,
          56.779538572131656,
          57.618651153553586,
          58.345964613404156,
          58.95080606428119,
          59.42429982182338,
          59.75949765003776,
          59.95148072248228,
          59.997431803084105,
          59.89667658738398,
          59.65069359754836,
          59.263092485946274,
          58.739561065672646,
          58.08778184531363,
          57.317319292755386,
          56.43947948237305,
          55.46714418519181,
          54.41458183664805,
          53.29723815588498,
          52.13150948911721,
          50.934502203115926,
          49.72378165956963,
          48.51711445396986,
          47.332207701512594,
          46.186449195837525,
          45.096652253617656,
          44.078808989254384,
          43.147855640220705,
          42.31745338676333
         ],
         "yaxis": "y"
        },
        {
         "hoverinfo": "none",
         "line": {
          "color": "rgba(0,0,0,0)"
         },
         "mode": "lines",
         "showlegend": false,
         "type": "scatter",
         "x": [
          903.030303030303,
          906.060606060606
         ],
         "xaxis": "x",
         "y": [
          126.0007947136474,
          126.20485519540453
         ],
         "yaxis": "y2"
        },
        {
         "hoverinfo": "none",
         "legendgroup": "rgb(200, 200, 200)",
         "line": {
          "color": "black"
         },
         "mode": "lines",
         "showlegend": false,
         "type": "scatter",
         "x": [
          900,
          1200
         ],
         "xaxis": "x",
         "y": [
          0,
          40
         ],
         "yaxis": "y"
        },
        {
         "hoverinfo": "none",
         "legendgroup": "rgb(200, 200, 200)",
         "line": {
          "color": "black"
         },
         "mode": "lines",
         "showlegend": false,
         "type": "scatter",
         "x": [
          900,
          1200
         ],
         "xaxis": "x",
         "y": [
          40,
          0
         ],
         "yaxis": "y"
        },
        {
         "hoverinfo": "text",
         "marker": {
          "color": [
           "orange",
           "orange",
           "orange",
           "orange"
          ]
         },
         "mode": "markers",
         "showlegend": false,
         "text": [
          "ID: 2<br>40 sek <br>115 % FTP<br>362 w<br>",
          "ID: 2<br>40 sek <br>115 % FTP<br>362 w<br>",
          "ID: 2<br>40 sek <br>115 % FTP<br>362 w<br>",
          "ID: 2<br>40 sek <br>115 % FTP<br>362 w<br>"
         ],
         "type": "scatter",
         "x": [
          1220,
          1220,
          1220,
          1220
         ],
         "y": [
          23,
          46,
          69,
          92
         ]
        },
        {
         "fill": "tozeroy",
         "fillcolor": "orange",
         "hoverinfo": "text",
         "legendgroup": "orange",
         "line": {
          "color": "black"
         },
         "mode": "lines",
         "showlegend": false,
         "text": "ID: 2<br>40 sek <br>115 % FTP<br>362 w<br>",
         "type": "scatter",
         "x": [
          1200,
          1200,
          1240,
          1240
         ],
         "xaxis": "x",
         "y": [
          0,
          115,
          115,
          0
         ],
         "yaxis": "y"
        },
        {
         "hoverinfo": "none",
         "line": {
          "color": "rgba(0,0,0,0)"
         },
         "mode": "lines",
         "showlegend": false,
         "type": "scatter",
         "x": [
          1200,
          1240
         ],
         "xaxis": "x",
         "y": [
          362.25,
          362.25
         ],
         "yaxis": "y2"
        },
        {
         "hoverinfo": "text",
         "marker": {
          "color": [
           "blue",
           "blue",
           "blue",
           "blue"
          ]
         },
         "mode": "markers",
         "showlegend": false,
         "text": [
          "ID: 3<br>20 sek <br>70 % FTP<br>220 w<br>",
          "ID: 3<br>20 sek <br>70 % FTP<br>220 w<br>",
          "ID: 3<br>20 sek <br>70 % FTP<br>220 w<br>",
          "ID: 3<br>20 sek <br>70 % FTP<br>220 w<br>"
         ],
         "type": "scatter",
         "x": [
          1250,
          1250,
          1250,
          1250
         ],
         "y": [
          14,
          28,
          42,
          56
         ]
        },
        {
         "fill": "tozeroy",
         "fillcolor": "blue",
         "hoverinfo": "text",
         "legendgroup": "blue",
         "line": {
          "color": "black"
         },
         "mode": "lines",
         "showlegend": false,
         "text": "ID: 3<br>20 sek <br>70 % FTP<br>220 w<br>",
         "type": "scatter",
         "x": [
          1240,
          1240,
          1260,
          1260
         ],
         "xaxis": "x",
         "y": [
          0,
          70,
          70,
          0
         ],
         "yaxis": "y"
        },
        {
         "hoverinfo": "none",
         "line": {
          "color": "rgba(0,0,0,0)"
         },
         "mode": "lines",
         "showlegend": false,
         "type": "scatter",
         "x": [
          1240,
          1260
         ],
         "xaxis": "x",
         "y": [
          220.5,
          220.5
         ],
         "yaxis": "y2"
        },
        {
         "hoverinfo": "text",
         "marker": {
          "color": [
           "orange",
           "orange",
           "orange",
           "orange"
          ]
         },
         "mode": "markers",
         "showlegend": false,
         "text": [
          "ID: 4<br>40 sek <br>115 % FTP<br>362 w<br>",
          "ID: 4<br>40 sek <br>115 % FTP<br>362 w<br>",
          "ID: 4<br>40 sek <br>115 % FTP<br>362 w<br>",
          "ID: 4<br>40 sek <br>115 % FTP<br>362 w<br>"
         ],
         "type": "scatter",
         "x": [
          1280,
          1280,
          1280,
          1280
         ],
         "y": [
          23,
          46,
          69,
          92
         ]
        },
        {
         "fill": "tozeroy",
         "fillcolor": "orange",
         "hoverinfo": "text",
         "legendgroup": "orange",
         "line": {
          "color": "black"
         },
         "mode": "lines",
         "showlegend": false,
         "text": "ID: 4<br>40 sek <br>115 % FTP<br>362 w<br>",
         "type": "scatter",
         "x": [
          1260,
          1260,
          1300,
          1300
         ],
         "xaxis": "x",
         "y": [
          0,
          115,
          115,
          0
         ],
         "yaxis": "y"
        },
        {
         "hoverinfo": "none",
         "line": {
          "color": "rgba(0,0,0,0)"
         },
         "mode": "lines",
         "showlegend": false,
         "type": "scatter",
         "x": [
          1260,
          1300
         ],
         "xaxis": "x",
         "y": [
          362.25,
          362.25
         ],
         "yaxis": "y2"
        },
        {
         "hoverinfo": "text",
         "marker": {
          "color": [
           "blue",
           "blue",
           "blue",
           "blue"
          ]
         },
         "mode": "markers",
         "showlegend": false,
         "text": [
          "ID: 5<br>20 sek <br>70 % FTP<br>220 w<br>",
          "ID: 5<br>20 sek <br>70 % FTP<br>220 w<br>",
          "ID: 5<br>20 sek <br>70 % FTP<br>220 w<br>",
          "ID: 5<br>20 sek <br>70 % FTP<br>220 w<br>"
         ],
         "type": "scatter",
         "x": [
          1310,
          1310,
          1310,
          1310
         ],
         "y": [
          14,
          28,
          42,
          56
         ]
        },
        {
         "fill": "tozeroy",
         "fillcolor": "blue",
         "hoverinfo": "text",
         "legendgroup": "blue",
         "line": {
          "color": "black"
         },
         "mode": "lines",
         "showlegend": false,
         "text": "ID: 5<br>20 sek <br>70 % FTP<br>220 w<br>",
         "type": "scatter",
         "x": [
          1300,
          1300,
          1320,
          1320
         ],
         "xaxis": "x",
         "y": [
          0,
          70,
          70,
          0
         ],
         "yaxis": "y"
        },
        {
         "hoverinfo": "none",
         "line": {
          "color": "rgba(0,0,0,0)"
         },
         "mode": "lines",
         "showlegend": false,
         "type": "scatter",
         "x": [
          1300,
          1320
         ],
         "xaxis": "x",
         "y": [
          220.5,
          220.5
         ],
         "yaxis": "y2"
        },
        {
         "hoverinfo": "text",
         "marker": {
          "color": [
           "orange",
           "orange",
           "orange",
           "orange"
          ]
         },
         "mode": "markers",
         "showlegend": false,
         "text": [
          "ID: 6<br>40 sek <br>115 % FTP<br>362 w<br>",
          "ID: 6<br>40 sek <br>115 % FTP<br>362 w<br>",
          "ID: 6<br>40 sek <br>115 % FTP<br>362 w<br>",
          "ID: 6<br>40 sek <br>115 % FTP<br>362 w<br>"
         ],
         "type": "scatter",
         "x": [
          1340,
          1340,
          1340,
          1340
         ],
         "y": [
          23,
          46,
          69,
          92
         ]
        },
        {
         "fill": "tozeroy",
         "fillcolor": "orange",
         "hoverinfo": "text",
         "legendgroup": "orange",
         "line": {
          "color": "black"
         },
         "mode": "lines",
         "showlegend": false,
         "text": "ID: 6<br>40 sek <br>115 % FTP<br>362 w<br>",
         "type": "scatter",
         "x": [
          1320,
          1320,
          1360,
          1360
         ],
         "xaxis": "x",
         "y": [
          0,
          115,
          115,
          0
         ],
         "yaxis": "y"
        },
        {
         "hoverinfo": "none",
         "line": {
          "color": "rgba(0,0,0,0)"
         },
         "mode": "lines",
         "showlegend": false,
         "type": "scatter",
         "x": [
          1320,
          1360
         ],
         "xaxis": "x",
         "y": [
          362.25,
          362.25
         ],
         "yaxis": "y2"
        },
        {
         "hoverinfo": "text",
         "marker": {
          "color": [
           "blue",
           "blue",
           "blue",
           "blue"
          ]
         },
         "mode": "markers",
         "showlegend": false,
         "text": [
          "ID: 7<br>20 sek <br>70 % FTP<br>220 w<br>",
          "ID: 7<br>20 sek <br>70 % FTP<br>220 w<br>",
          "ID: 7<br>20 sek <br>70 % FTP<br>220 w<br>",
          "ID: 7<br>20 sek <br>70 % FTP<br>220 w<br>"
         ],
         "type": "scatter",
         "x": [
          1370,
          1370,
          1370,
          1370
         ],
         "y": [
          14,
          28,
          42,
          56
         ]
        },
        {
         "fill": "tozeroy",
         "fillcolor": "blue",
         "hoverinfo": "text",
         "legendgroup": "blue",
         "line": {
          "color": "black"
         },
         "mode": "lines",
         "showlegend": false,
         "text": "ID: 7<br>20 sek <br>70 % FTP<br>220 w<br>",
         "type": "scatter",
         "x": [
          1360,
          1360,
          1380,
          1380
         ],
         "xaxis": "x",
         "y": [
          0,
          70,
          70,
          0
         ],
         "yaxis": "y"
        },
        {
         "hoverinfo": "none",
         "line": {
          "color": "rgba(0,0,0,0)"
         },
         "mode": "lines",
         "showlegend": false,
         "type": "scatter",
         "x": [
          1360,
          1380
         ],
         "xaxis": "x",
         "y": [
          220.5,
          220.5
         ],
         "yaxis": "y2"
        },
        {
         "hoverinfo": "text",
         "marker": {
          "color": [
           "orange",
           "orange",
           "orange",
           "orange"
          ]
         },
         "mode": "markers",
         "showlegend": false,
         "text": [
          "ID: 8<br>40 sek <br>115 % FTP<br>362 w<br>",
          "ID: 8<br>40 sek <br>115 % FTP<br>362 w<br>",
          "ID: 8<br>40 sek <br>115 % FTP<br>362 w<br>",
          "ID: 8<br>40 sek <br>115 % FTP<br>362 w<br>"
         ],
         "type": "scatter",
         "x": [
          1400,
          1400,
          1400,
          1400
         ],
         "y": [
          23,
          46,
          69,
          92
         ]
        },
        {
         "fill": "tozeroy",
         "fillcolor": "orange",
         "hoverinfo": "text",
         "legendgroup": "orange",
         "line": {
          "color": "black"
         },
         "mode": "lines",
         "showlegend": false,
         "text": "ID: 8<br>40 sek <br>115 % FTP<br>362 w<br>",
         "type": "scatter",
         "x": [
          1380,
          1380,
          1420,
          1420
         ],
         "xaxis": "x",
         "y": [
          0,
          115,
          115,
          0
         ],
         "yaxis": "y"
        },
        {
         "hoverinfo": "none",
         "line": {
          "color": "rgba(0,0,0,0)"
         },
         "mode": "lines",
         "showlegend": false,
         "type": "scatter",
         "x": [
          1380,
          1420
         ],
         "xaxis": "x",
         "y": [
          362.25,
          362.25
         ],
         "yaxis": "y2"
        },
        {
         "hoverinfo": "text",
         "marker": {
          "color": [
           "blue",
           "blue",
           "blue",
           "blue"
          ]
         },
         "mode": "markers",
         "showlegend": false,
         "text": [
          "ID: 9<br>20 sek <br>70 % FTP<br>220 w<br>",
          "ID: 9<br>20 sek <br>70 % FTP<br>220 w<br>",
          "ID: 9<br>20 sek <br>70 % FTP<br>220 w<br>",
          "ID: 9<br>20 sek <br>70 % FTP<br>220 w<br>"
         ],
         "type": "scatter",
         "x": [
          1430,
          1430,
          1430,
          1430
         ],
         "y": [
          14,
          28,
          42,
          56
         ]
        },
        {
         "fill": "tozeroy",
         "fillcolor": "blue",
         "hoverinfo": "text",
         "legendgroup": "blue",
         "line": {
          "color": "black"
         },
         "mode": "lines",
         "showlegend": false,
         "text": "ID: 9<br>20 sek <br>70 % FTP<br>220 w<br>",
         "type": "scatter",
         "x": [
          1420,
          1420,
          1440,
          1440
         ],
         "xaxis": "x",
         "y": [
          0,
          70,
          70,
          0
         ],
         "yaxis": "y"
        },
        {
         "hoverinfo": "none",
         "line": {
          "color": "rgba(0,0,0,0)"
         },
         "mode": "lines",
         "showlegend": false,
         "type": "scatter",
         "x": [
          1420,
          1440
         ],
         "xaxis": "x",
         "y": [
          220.5,
          220.5
         ],
         "yaxis": "y2"
        },
        {
         "hoverinfo": "text",
         "marker": {
          "color": [
           "orange",
           "orange",
           "orange",
           "orange"
          ]
         },
         "mode": "markers",
         "showlegend": false,
         "text": [
          "ID: 10<br>40 sek <br>115 % FTP<br>362 w<br>",
          "ID: 10<br>40 sek <br>115 % FTP<br>362 w<br>",
          "ID: 10<br>40 sek <br>115 % FTP<br>362 w<br>",
          "ID: 10<br>40 sek <br>115 % FTP<br>362 w<br>"
         ],
         "type": "scatter",
         "x": [
          1460,
          1460,
          1460,
          1460
         ],
         "y": [
          23,
          46,
          69,
          92
         ]
        },
        {
         "fill": "tozeroy",
         "fillcolor": "orange",
         "hoverinfo": "text",
         "legendgroup": "orange",
         "line": {
          "color": "black"
         },
         "mode": "lines",
         "showlegend": false,
         "text": "ID: 10<br>40 sek <br>115 % FTP<br>362 w<br>",
         "type": "scatter",
         "x": [
          1440,
          1440,
          1480,
          1480
         ],
         "xaxis": "x",
         "y": [
          0,
          115,
          115,
          0
         ],
         "yaxis": "y"
        },
        {
         "hoverinfo": "none",
         "line": {
          "color": "rgba(0,0,0,0)"
         },
         "mode": "lines",
         "showlegend": false,
         "type": "scatter",
         "x": [
          1440,
          1480
         ],
         "xaxis": "x",
         "y": [
          362.25,
          362.25
         ],
         "yaxis": "y2"
        },
        {
         "hoverinfo": "text",
         "marker": {
          "color": [
           "blue",
           "blue",
           "blue",
           "blue"
          ]
         },
         "mode": "markers",
         "showlegend": false,
         "text": [
          "ID: 11<br>20 sek <br>70 % FTP<br>220 w<br>",
          "ID: 11<br>20 sek <br>70 % FTP<br>220 w<br>",
          "ID: 11<br>20 sek <br>70 % FTP<br>220 w<br>",
          "ID: 11<br>20 sek <br>70 % FTP<br>220 w<br>"
         ],
         "type": "scatter",
         "x": [
          1490,
          1490,
          1490,
          1490
         ],
         "y": [
          14,
          28,
          42,
          56
         ]
        },
        {
         "fill": "tozeroy",
         "fillcolor": "blue",
         "hoverinfo": "text",
         "legendgroup": "blue",
         "line": {
          "color": "black"
         },
         "mode": "lines",
         "showlegend": false,
         "text": "ID: 11<br>20 sek <br>70 % FTP<br>220 w<br>",
         "type": "scatter",
         "x": [
          1480,
          1480,
          1500,
          1500
         ],
         "xaxis": "x",
         "y": [
          0,
          70,
          70,
          0
         ],
         "yaxis": "y"
        },
        {
         "hoverinfo": "none",
         "line": {
          "color": "rgba(0,0,0,0)"
         },
         "mode": "lines",
         "showlegend": false,
         "type": "scatter",
         "x": [
          1480,
          1500
         ],
         "xaxis": "x",
         "y": [
          220.5,
          220.5
         ],
         "yaxis": "y2"
        },
        {
         "hoverinfo": "text",
         "marker": {
          "color": [
           "orange",
           "orange",
           "orange",
           "orange"
          ]
         },
         "mode": "markers",
         "showlegend": false,
         "text": [
          "ID: 12<br>40 sek <br>115 % FTP<br>362 w<br>",
          "ID: 12<br>40 sek <br>115 % FTP<br>362 w<br>",
          "ID: 12<br>40 sek <br>115 % FTP<br>362 w<br>",
          "ID: 12<br>40 sek <br>115 % FTP<br>362 w<br>"
         ],
         "type": "scatter",
         "x": [
          1520,
          1520,
          1520,
          1520
         ],
         "y": [
          23,
          46,
          69,
          92
         ]
        },
        {
         "fill": "tozeroy",
         "fillcolor": "orange",
         "hoverinfo": "text",
         "legendgroup": "orange",
         "line": {
          "color": "black"
         },
         "mode": "lines",
         "showlegend": false,
         "text": "ID: 12<br>40 sek <br>115 % FTP<br>362 w<br>",
         "type": "scatter",
         "x": [
          1500,
          1500,
          1540,
          1540
         ],
         "xaxis": "x",
         "y": [
          0,
          115,
          115,
          0
         ],
         "yaxis": "y"
        },
        {
         "hoverinfo": "none",
         "line": {
          "color": "rgba(0,0,0,0)"
         },
         "mode": "lines",
         "showlegend": false,
         "type": "scatter",
         "x": [
          1500,
          1540
         ],
         "xaxis": "x",
         "y": [
          362.25,
          362.25
         ],
         "yaxis": "y2"
        },
        {
         "hoverinfo": "text",
         "marker": {
          "color": [
           "blue",
           "blue",
           "blue",
           "blue"
          ]
         },
         "mode": "markers",
         "showlegend": false,
         "text": [
          "ID: 13<br>20 sek <br>70 % FTP<br>220 w<br>",
          "ID: 13<br>20 sek <br>70 % FTP<br>220 w<br>",
          "ID: 13<br>20 sek <br>70 % FTP<br>220 w<br>",
          "ID: 13<br>20 sek <br>70 % FTP<br>220 w<br>"
         ],
         "type": "scatter",
         "x": [
          1550,
          1550,
          1550,
          1550
         ],
         "y": [
          14,
          28,
          42,
          56
         ]
        },
        {
         "fill": "tozeroy",
         "fillcolor": "blue",
         "hoverinfo": "text",
         "legendgroup": "blue",
         "line": {
          "color": "black"
         },
         "mode": "lines",
         "showlegend": false,
         "text": "ID: 13<br>20 sek <br>70 % FTP<br>220 w<br>",
         "type": "scatter",
         "x": [
          1540,
          1540,
          1560,
          1560
         ],
         "xaxis": "x",
         "y": [
          0,
          70,
          70,
          0
         ],
         "yaxis": "y"
        },
        {
         "hoverinfo": "none",
         "line": {
          "color": "rgba(0,0,0,0)"
         },
         "mode": "lines",
         "showlegend": false,
         "type": "scatter",
         "x": [
          1540,
          1560
         ],
         "xaxis": "x",
         "y": [
          220.5,
          220.5
         ],
         "yaxis": "y2"
        },
        {
         "hoverinfo": "text",
         "marker": {
          "color": [
           "blue",
           "blue",
           "blue",
           "blue"
          ]
         },
         "mode": "markers",
         "showlegend": false,
         "text": [
          "ID: 14<br>600 sek <br>65 % FTP<br>205 w<br>",
          "ID: 14<br>600 sek <br>65 % FTP<br>205 w<br>",
          "ID: 14<br>600 sek <br>65 % FTP<br>205 w<br>",
          "ID: 14<br>600 sek <br>65 % FTP<br>205 w<br>"
         ],
         "type": "scatter",
         "x": [
          1860,
          1860,
          1860,
          1860
         ],
         "y": [
          13,
          26,
          39,
          52
         ]
        },
        {
         "fill": "tozeroy",
         "fillcolor": "blue",
         "hoverinfo": "text",
         "legendgroup": "blue",
         "line": {
          "color": "black"
         },
         "mode": "lines",
         "showlegend": false,
         "text": "ID: 14<br>600 sek <br>65 % FTP<br>205 w<br>",
         "type": "scatter",
         "x": [
          1560,
          1560,
          2160,
          2160
         ],
         "xaxis": "x",
         "y": [
          0,
          65,
          65,
          0
         ],
         "yaxis": "y"
        },
        {
         "hoverinfo": "none",
         "line": {
          "color": "rgba(0,0,0,0)"
         },
         "mode": "lines",
         "showlegend": false,
         "type": "scatter",
         "x": [
          1560,
          2160
         ],
         "xaxis": "x",
         "y": [
          204.75,
          204.75
         ],
         "yaxis": "y2"
        },
        {
         "hoverinfo": "text",
         "marker": {
          "color": [
           "orange",
           "orange",
           "orange",
           "orange"
          ]
         },
         "mode": "markers",
         "showlegend": false,
         "text": [
          "ID: 15<br>40 sek <br>115 % FTP<br>362 w<br>",
          "ID: 15<br>40 sek <br>115 % FTP<br>362 w<br>",
          "ID: 15<br>40 sek <br>115 % FTP<br>362 w<br>",
          "ID: 15<br>40 sek <br>115 % FTP<br>362 w<br>"
         ],
         "type": "scatter",
         "x": [
          2180,
          2180,
          2180,
          2180
         ],
         "y": [
          23,
          46,
          69,
          92
         ]
        },
        {
         "fill": "tozeroy",
         "fillcolor": "orange",
         "hoverinfo": "text",
         "legendgroup": "orange",
         "line": {
          "color": "black"
         },
         "mode": "lines",
         "showlegend": false,
         "text": "ID: 15<br>40 sek <br>115 % FTP<br>362 w<br>",
         "type": "scatter",
         "x": [
          2160,
          2160,
          2200,
          2200
         ],
         "xaxis": "x",
         "y": [
          0,
          115,
          115,
          0
         ],
         "yaxis": "y"
        },
        {
         "hoverinfo": "none",
         "line": {
          "color": "rgba(0,0,0,0)"
         },
         "mode": "lines",
         "showlegend": false,
         "type": "scatter",
         "x": [
          2160,
          2200
         ],
         "xaxis": "x",
         "y": [
          362.25,
          362.25
         ],
         "yaxis": "y2"
        },
        {
         "hoverinfo": "text",
         "marker": {
          "color": [
           "blue",
           "blue",
           "blue",
           "blue"
          ]
         },
         "mode": "markers",
         "showlegend": false,
         "text": [
          "ID: 16<br>20 sek <br>70 % FTP<br>220 w<br>",
          "ID: 16<br>20 sek <br>70 % FTP<br>220 w<br>",
          "ID: 16<br>20 sek <br>70 % FTP<br>220 w<br>",
          "ID: 16<br>20 sek <br>70 % FTP<br>220 w<br>"
         ],
         "type": "scatter",
         "x": [
          2210,
          2210,
          2210,
          2210
         ],
         "y": [
          14,
          28,
          42,
          56
         ]
        },
        {
         "fill": "tozeroy",
         "fillcolor": "blue",
         "hoverinfo": "text",
         "legendgroup": "blue",
         "line": {
          "color": "black"
         },
         "mode": "lines",
         "showlegend": false,
         "text": "ID: 16<br>20 sek <br>70 % FTP<br>220 w<br>",
         "type": "scatter",
         "x": [
          2200,
          2200,
          2220,
          2220
         ],
         "xaxis": "x",
         "y": [
          0,
          70,
          70,
          0
         ],
         "yaxis": "y"
        },
        {
         "hoverinfo": "none",
         "line": {
          "color": "rgba(0,0,0,0)"
         },
         "mode": "lines",
         "showlegend": false,
         "type": "scatter",
         "x": [
          2200,
          2220
         ],
         "xaxis": "x",
         "y": [
          220.5,
          220.5
         ],
         "yaxis": "y2"
        },
        {
         "hoverinfo": "text",
         "marker": {
          "color": [
           "orange",
           "orange",
           "orange",
           "orange"
          ]
         },
         "mode": "markers",
         "showlegend": false,
         "text": [
          "ID: 17<br>40 sek <br>115 % FTP<br>362 w<br>",
          "ID: 17<br>40 sek <br>115 % FTP<br>362 w<br>",
          "ID: 17<br>40 sek <br>115 % FTP<br>362 w<br>",
          "ID: 17<br>40 sek <br>115 % FTP<br>362 w<br>"
         ],
         "type": "scatter",
         "x": [
          2240,
          2240,
          2240,
          2240
         ],
         "y": [
          23,
          46,
          69,
          92
         ]
        },
        {
         "fill": "tozeroy",
         "fillcolor": "orange",
         "hoverinfo": "text",
         "legendgroup": "orange",
         "line": {
          "color": "black"
         },
         "mode": "lines",
         "showlegend": false,
         "text": "ID: 17<br>40 sek <br>115 % FTP<br>362 w<br>",
         "type": "scatter",
         "x": [
          2220,
          2220,
          2260,
          2260
         ],
         "xaxis": "x",
         "y": [
          0,
          115,
          115,
          0
         ],
         "yaxis": "y"
        },
        {
         "hoverinfo": "none",
         "line": {
          "color": "rgba(0,0,0,0)"
         },
         "mode": "lines",
         "showlegend": false,
         "type": "scatter",
         "x": [
          2220,
          2260
         ],
         "xaxis": "x",
         "y": [
          362.25,
          362.25
         ],
         "yaxis": "y2"
        },
        {
         "hoverinfo": "text",
         "marker": {
          "color": [
           "blue",
           "blue",
           "blue",
           "blue"
          ]
         },
         "mode": "markers",
         "showlegend": false,
         "text": [
          "ID: 18<br>20 sek <br>70 % FTP<br>220 w<br>",
          "ID: 18<br>20 sek <br>70 % FTP<br>220 w<br>",
          "ID: 18<br>20 sek <br>70 % FTP<br>220 w<br>",
          "ID: 18<br>20 sek <br>70 % FTP<br>220 w<br>"
         ],
         "type": "scatter",
         "x": [
          2270,
          2270,
          2270,
          2270
         ],
         "y": [
          14,
          28,
          42,
          56
         ]
        },
        {
         "fill": "tozeroy",
         "fillcolor": "blue",
         "hoverinfo": "text",
         "legendgroup": "blue",
         "line": {
          "color": "black"
         },
         "mode": "lines",
         "showlegend": false,
         "text": "ID: 18<br>20 sek <br>70 % FTP<br>220 w<br>",
         "type": "scatter",
         "x": [
          2260,
          2260,
          2280,
          2280
         ],
         "xaxis": "x",
         "y": [
          0,
          70,
          70,
          0
         ],
         "yaxis": "y"
        },
        {
         "hoverinfo": "none",
         "line": {
          "color": "rgba(0,0,0,0)"
         },
         "mode": "lines",
         "showlegend": false,
         "type": "scatter",
         "x": [
          2260,
          2280
         ],
         "xaxis": "x",
         "y": [
          220.5,
          220.5
         ],
         "yaxis": "y2"
        },
        {
         "hoverinfo": "text",
         "marker": {
          "color": [
           "orange",
           "orange",
           "orange",
           "orange"
          ]
         },
         "mode": "markers",
         "showlegend": false,
         "text": [
          "ID: 19<br>40 sek <br>115 % FTP<br>362 w<br>",
          "ID: 19<br>40 sek <br>115 % FTP<br>362 w<br>",
          "ID: 19<br>40 sek <br>115 % FTP<br>362 w<br>",
          "ID: 19<br>40 sek <br>115 % FTP<br>362 w<br>"
         ],
         "type": "scatter",
         "x": [
          2300,
          2300,
          2300,
          2300
         ],
         "y": [
          23,
          46,
          69,
          92
         ]
        },
        {
         "fill": "tozeroy",
         "fillcolor": "orange",
         "hoverinfo": "text",
         "legendgroup": "orange",
         "line": {
          "color": "black"
         },
         "mode": "lines",
         "showlegend": false,
         "text": "ID: 19<br>40 sek <br>115 % FTP<br>362 w<br>",
         "type": "scatter",
         "x": [
          2280,
          2280,
          2320,
          2320
         ],
         "xaxis": "x",
         "y": [
          0,
          115,
          115,
          0
         ],
         "yaxis": "y"
        },
        {
         "hoverinfo": "none",
         "line": {
          "color": "rgba(0,0,0,0)"
         },
         "mode": "lines",
         "showlegend": false,
         "type": "scatter",
         "x": [
          2280,
          2320
         ],
         "xaxis": "x",
         "y": [
          362.25,
          362.25
         ],
         "yaxis": "y2"
        },
        {
         "hoverinfo": "text",
         "marker": {
          "color": [
           "blue",
           "blue",
           "blue",
           "blue"
          ]
         },
         "mode": "markers",
         "showlegend": false,
         "text": [
          "ID: 20<br>20 sek <br>70 % FTP<br>220 w<br>",
          "ID: 20<br>20 sek <br>70 % FTP<br>220 w<br>",
          "ID: 20<br>20 sek <br>70 % FTP<br>220 w<br>",
          "ID: 20<br>20 sek <br>70 % FTP<br>220 w<br>"
         ],
         "type": "scatter",
         "x": [
          2330,
          2330,
          2330,
          2330
         ],
         "y": [
          14,
          28,
          42,
          56
         ]
        },
        {
         "fill": "tozeroy",
         "fillcolor": "blue",
         "hoverinfo": "text",
         "legendgroup": "blue",
         "line": {
          "color": "black"
         },
         "mode": "lines",
         "showlegend": false,
         "text": "ID: 20<br>20 sek <br>70 % FTP<br>220 w<br>",
         "type": "scatter",
         "x": [
          2320,
          2320,
          2340,
          2340
         ],
         "xaxis": "x",
         "y": [
          0,
          70,
          70,
          0
         ],
         "yaxis": "y"
        },
        {
         "hoverinfo": "none",
         "line": {
          "color": "rgba(0,0,0,0)"
         },
         "mode": "lines",
         "showlegend": false,
         "type": "scatter",
         "x": [
          2320,
          2340
         ],
         "xaxis": "x",
         "y": [
          220.5,
          220.5
         ],
         "yaxis": "y2"
        },
        {
         "hoverinfo": "text",
         "marker": {
          "color": [
           "orange",
           "orange",
           "orange",
           "orange"
          ]
         },
         "mode": "markers",
         "showlegend": false,
         "text": [
          "ID: 21<br>40 sek <br>115 % FTP<br>362 w<br>",
          "ID: 21<br>40 sek <br>115 % FTP<br>362 w<br>",
          "ID: 21<br>40 sek <br>115 % FTP<br>362 w<br>",
          "ID: 21<br>40 sek <br>115 % FTP<br>362 w<br>"
         ],
         "type": "scatter",
         "x": [
          2360,
          2360,
          2360,
          2360
         ],
         "y": [
          23,
          46,
          69,
          92
         ]
        },
        {
         "fill": "tozeroy",
         "fillcolor": "orange",
         "hoverinfo": "text",
         "legendgroup": "orange",
         "line": {
          "color": "black"
         },
         "mode": "lines",
         "showlegend": false,
         "text": "ID: 21<br>40 sek <br>115 % FTP<br>362 w<br>",
         "type": "scatter",
         "x": [
          2340,
          2340,
          2380,
          2380
         ],
         "xaxis": "x",
         "y": [
          0,
          115,
          115,
          0
         ],
         "yaxis": "y"
        },
        {
         "hoverinfo": "none",
         "line": {
          "color": "rgba(0,0,0,0)"
         },
         "mode": "lines",
         "showlegend": false,
         "type": "scatter",
         "x": [
          2340,
          2380
         ],
         "xaxis": "x",
         "y": [
          362.25,
          362.25
         ],
         "yaxis": "y2"
        },
        {
         "hoverinfo": "text",
         "marker": {
          "color": [
           "blue",
           "blue",
           "blue",
           "blue"
          ]
         },
         "mode": "markers",
         "showlegend": false,
         "text": [
          "ID: 22<br>20 sek <br>70 % FTP<br>220 w<br>",
          "ID: 22<br>20 sek <br>70 % FTP<br>220 w<br>",
          "ID: 22<br>20 sek <br>70 % FTP<br>220 w<br>",
          "ID: 22<br>20 sek <br>70 % FTP<br>220 w<br>"
         ],
         "type": "scatter",
         "x": [
          2390,
          2390,
          2390,
          2390
         ],
         "y": [
          14,
          28,
          42,
          56
         ]
        },
        {
         "fill": "tozeroy",
         "fillcolor": "blue",
         "hoverinfo": "text",
         "legendgroup": "blue",
         "line": {
          "color": "black"
         },
         "mode": "lines",
         "showlegend": false,
         "text": "ID: 22<br>20 sek <br>70 % FTP<br>220 w<br>",
         "type": "scatter",
         "x": [
          2380,
          2380,
          2400,
          2400
         ],
         "xaxis": "x",
         "y": [
          0,
          70,
          70,
          0
         ],
         "yaxis": "y"
        },
        {
         "hoverinfo": "none",
         "line": {
          "color": "rgba(0,0,0,0)"
         },
         "mode": "lines",
         "showlegend": false,
         "type": "scatter",
         "x": [
          2380,
          2400
         ],
         "xaxis": "x",
         "y": [
          220.5,
          220.5
         ],
         "yaxis": "y2"
        },
        {
         "hoverinfo": "text",
         "marker": {
          "color": [
           "orange",
           "orange",
           "orange",
           "orange"
          ]
         },
         "mode": "markers",
         "showlegend": false,
         "text": [
          "ID: 23<br>40 sek <br>115 % FTP<br>362 w<br>",
          "ID: 23<br>40 sek <br>115 % FTP<br>362 w<br>",
          "ID: 23<br>40 sek <br>115 % FTP<br>362 w<br>",
          "ID: 23<br>40 sek <br>115 % FTP<br>362 w<br>"
         ],
         "type": "scatter",
         "x": [
          2420,
          2420,
          2420,
          2420
         ],
         "y": [
          23,
          46,
          69,
          92
         ]
        },
        {
         "fill": "tozeroy",
         "fillcolor": "orange",
         "hoverinfo": "text",
         "legendgroup": "orange",
         "line": {
          "color": "black"
         },
         "mode": "lines",
         "showlegend": false,
         "text": "ID: 23<br>40 sek <br>115 % FTP<br>362 w<br>",
         "type": "scatter",
         "x": [
          2400,
          2400,
          2440,
          2440
         ],
         "xaxis": "x",
         "y": [
          0,
          115,
          115,
          0
         ],
         "yaxis": "y"
        },
        {
         "hoverinfo": "none",
         "line": {
          "color": "rgba(0,0,0,0)"
         },
         "mode": "lines",
         "showlegend": false,
         "type": "scatter",
         "x": [
          2400,
          2440
         ],
         "xaxis": "x",
         "y": [
          362.25,
          362.25
         ],
         "yaxis": "y2"
        },
        {
         "hoverinfo": "text",
         "marker": {
          "color": [
           "blue",
           "blue",
           "blue",
           "blue"
          ]
         },
         "mode": "markers",
         "showlegend": false,
         "text": [
          "ID: 24<br>20 sek <br>70 % FTP<br>220 w<br>",
          "ID: 24<br>20 sek <br>70 % FTP<br>220 w<br>",
          "ID: 24<br>20 sek <br>70 % FTP<br>220 w<br>",
          "ID: 24<br>20 sek <br>70 % FTP<br>220 w<br>"
         ],
         "type": "scatter",
         "x": [
          2450,
          2450,
          2450,
          2450
         ],
         "y": [
          14,
          28,
          42,
          56
         ]
        },
        {
         "fill": "tozeroy",
         "fillcolor": "blue",
         "hoverinfo": "text",
         "legendgroup": "blue",
         "line": {
          "color": "black"
         },
         "mode": "lines",
         "showlegend": false,
         "text": "ID: 24<br>20 sek <br>70 % FTP<br>220 w<br>",
         "type": "scatter",
         "x": [
          2440,
          2440,
          2460,
          2460
         ],
         "xaxis": "x",
         "y": [
          0,
          70,
          70,
          0
         ],
         "yaxis": "y"
        },
        {
         "hoverinfo": "none",
         "line": {
          "color": "rgba(0,0,0,0)"
         },
         "mode": "lines",
         "showlegend": false,
         "type": "scatter",
         "x": [
          2440,
          2460
         ],
         "xaxis": "x",
         "y": [
          220.5,
          220.5
         ],
         "yaxis": "y2"
        },
        {
         "hoverinfo": "text",
         "marker": {
          "color": [
           "orange",
           "orange",
           "orange",
           "orange"
          ]
         },
         "mode": "markers",
         "showlegend": false,
         "text": [
          "ID: 25<br>40 sek <br>115 % FTP<br>362 w<br>",
          "ID: 25<br>40 sek <br>115 % FTP<br>362 w<br>",
          "ID: 25<br>40 sek <br>115 % FTP<br>362 w<br>",
          "ID: 25<br>40 sek <br>115 % FTP<br>362 w<br>"
         ],
         "type": "scatter",
         "x": [
          2480,
          2480,
          2480,
          2480
         ],
         "y": [
          23,
          46,
          69,
          92
         ]
        },
        {
         "fill": "tozeroy",
         "fillcolor": "orange",
         "hoverinfo": "text",
         "legendgroup": "orange",
         "line": {
          "color": "black"
         },
         "mode": "lines",
         "showlegend": false,
         "text": "ID: 25<br>40 sek <br>115 % FTP<br>362 w<br>",
         "type": "scatter",
         "x": [
          2460,
          2460,
          2500,
          2500
         ],
         "xaxis": "x",
         "y": [
          0,
          115,
          115,
          0
         ],
         "yaxis": "y"
        },
        {
         "hoverinfo": "none",
         "line": {
          "color": "rgba(0,0,0,0)"
         },
         "mode": "lines",
         "showlegend": false,
         "type": "scatter",
         "x": [
          2460,
          2500
         ],
         "xaxis": "x",
         "y": [
          362.25,
          362.25
         ],
         "yaxis": "y2"
        },
        {
         "hoverinfo": "text",
         "marker": {
          "color": [
           "blue",
           "blue",
           "blue",
           "blue"
          ]
         },
         "mode": "markers",
         "showlegend": false,
         "text": [
          "ID: 26<br>20 sek <br>70 % FTP<br>220 w<br>",
          "ID: 26<br>20 sek <br>70 % FTP<br>220 w<br>",
          "ID: 26<br>20 sek <br>70 % FTP<br>220 w<br>",
          "ID: 26<br>20 sek <br>70 % FTP<br>220 w<br>"
         ],
         "type": "scatter",
         "x": [
          2510,
          2510,
          2510,
          2510
         ],
         "y": [
          14,
          28,
          42,
          56
         ]
        },
        {
         "fill": "tozeroy",
         "fillcolor": "blue",
         "hoverinfo": "text",
         "legendgroup": "blue",
         "line": {
          "color": "black"
         },
         "mode": "lines",
         "showlegend": false,
         "text": "ID: 26<br>20 sek <br>70 % FTP<br>220 w<br>",
         "type": "scatter",
         "x": [
          2500,
          2500,
          2520,
          2520
         ],
         "xaxis": "x",
         "y": [
          0,
          70,
          70,
          0
         ],
         "yaxis": "y"
        },
        {
         "hoverinfo": "none",
         "line": {
          "color": "rgba(0,0,0,0)"
         },
         "mode": "lines",
         "showlegend": false,
         "type": "scatter",
         "x": [
          2500,
          2520
         ],
         "xaxis": "x",
         "y": [
          220.5,
          220.5
         ],
         "yaxis": "y2"
        },
        {
         "hoverinfo": "text",
         "marker": {
          "color": [
           "blue",
           "blue",
           "blue",
           "blue"
          ]
         },
         "mode": "markers",
         "showlegend": false,
         "text": [
          "ID: 27<br>600 sek <br>65 % FTP<br>205 w<br>",
          "ID: 27<br>600 sek <br>65 % FTP<br>205 w<br>",
          "ID: 27<br>600 sek <br>65 % FTP<br>205 w<br>",
          "ID: 27<br>600 sek <br>65 % FTP<br>205 w<br>"
         ],
         "type": "scatter",
         "x": [
          2820,
          2820,
          2820,
          2820
         ],
         "y": [
          13,
          26,
          39,
          52
         ]
        },
        {
         "fill": "tozeroy",
         "fillcolor": "blue",
         "hoverinfo": "text",
         "legendgroup": "blue",
         "line": {
          "color": "black"
         },
         "mode": "lines",
         "showlegend": false,
         "text": "ID: 27<br>600 sek <br>65 % FTP<br>205 w<br>",
         "type": "scatter",
         "x": [
          2520,
          2520,
          3120,
          3120
         ],
         "xaxis": "x",
         "y": [
          0,
          65,
          65,
          0
         ],
         "yaxis": "y"
        },
        {
         "hoverinfo": "none",
         "line": {
          "color": "rgba(0,0,0,0)"
         },
         "mode": "lines",
         "showlegend": false,
         "type": "scatter",
         "x": [
          2520,
          3120
         ],
         "xaxis": "x",
         "y": [
          204.75,
          204.75
         ],
         "yaxis": "y2"
        },
        {
         "hoverinfo": "text",
         "marker": {
          "color": [
           "orange",
           "orange",
           "orange",
           "orange"
          ]
         },
         "mode": "markers",
         "showlegend": false,
         "text": [
          "ID: 28<br>40 sek <br>115 % FTP<br>362 w<br>",
          "ID: 28<br>40 sek <br>115 % FTP<br>362 w<br>",
          "ID: 28<br>40 sek <br>115 % FTP<br>362 w<br>",
          "ID: 28<br>40 sek <br>115 % FTP<br>362 w<br>"
         ],
         "type": "scatter",
         "x": [
          3140,
          3140,
          3140,
          3140
         ],
         "y": [
          23,
          46,
          69,
          92
         ]
        },
        {
         "fill": "tozeroy",
         "fillcolor": "orange",
         "hoverinfo": "text",
         "legendgroup": "orange",
         "line": {
          "color": "black"
         },
         "mode": "lines",
         "showlegend": false,
         "text": "ID: 28<br>40 sek <br>115 % FTP<br>362 w<br>",
         "type": "scatter",
         "x": [
          3120,
          3120,
          3160,
          3160
         ],
         "xaxis": "x",
         "y": [
          0,
          115,
          115,
          0
         ],
         "yaxis": "y"
        },
        {
         "hoverinfo": "none",
         "line": {
          "color": "rgba(0,0,0,0)"
         },
         "mode": "lines",
         "showlegend": false,
         "type": "scatter",
         "x": [
          3120,
          3160
         ],
         "xaxis": "x",
         "y": [
          362.25,
          362.25
         ],
         "yaxis": "y2"
        },
        {
         "hoverinfo": "text",
         "marker": {
          "color": [
           "blue",
           "blue",
           "blue",
           "blue"
          ]
         },
         "mode": "markers",
         "showlegend": false,
         "text": [
          "ID: 29<br>20 sek <br>70 % FTP<br>220 w<br>",
          "ID: 29<br>20 sek <br>70 % FTP<br>220 w<br>",
          "ID: 29<br>20 sek <br>70 % FTP<br>220 w<br>",
          "ID: 29<br>20 sek <br>70 % FTP<br>220 w<br>"
         ],
         "type": "scatter",
         "x": [
          3170,
          3170,
          3170,
          3170
         ],
         "y": [
          14,
          28,
          42,
          56
         ]
        },
        {
         "fill": "tozeroy",
         "fillcolor": "blue",
         "hoverinfo": "text",
         "legendgroup": "blue",
         "line": {
          "color": "black"
         },
         "mode": "lines",
         "showlegend": false,
         "text": "ID: 29<br>20 sek <br>70 % FTP<br>220 w<br>",
         "type": "scatter",
         "x": [
          3160,
          3160,
          3180,
          3180
         ],
         "xaxis": "x",
         "y": [
          0,
          70,
          70,
          0
         ],
         "yaxis": "y"
        },
        {
         "hoverinfo": "none",
         "line": {
          "color": "rgba(0,0,0,0)"
         },
         "mode": "lines",
         "showlegend": false,
         "type": "scatter",
         "x": [
          3160,
          3180
         ],
         "xaxis": "x",
         "y": [
          220.5,
          220.5
         ],
         "yaxis": "y2"
        },
        {
         "hoverinfo": "text",
         "marker": {
          "color": [
           "orange",
           "orange",
           "orange",
           "orange"
          ]
         },
         "mode": "markers",
         "showlegend": false,
         "text": [
          "ID: 30<br>40 sek <br>115 % FTP<br>362 w<br>",
          "ID: 30<br>40 sek <br>115 % FTP<br>362 w<br>",
          "ID: 30<br>40 sek <br>115 % FTP<br>362 w<br>",
          "ID: 30<br>40 sek <br>115 % FTP<br>362 w<br>"
         ],
         "type": "scatter",
         "x": [
          3200,
          3200,
          3200,
          3200
         ],
         "y": [
          23,
          46,
          69,
          92
         ]
        },
        {
         "fill": "tozeroy",
         "fillcolor": "orange",
         "hoverinfo": "text",
         "legendgroup": "orange",
         "line": {
          "color": "black"
         },
         "mode": "lines",
         "showlegend": false,
         "text": "ID: 30<br>40 sek <br>115 % FTP<br>362 w<br>",
         "type": "scatter",
         "x": [
          3180,
          3180,
          3220,
          3220
         ],
         "xaxis": "x",
         "y": [
          0,
          115,
          115,
          0
         ],
         "yaxis": "y"
        },
        {
         "hoverinfo": "none",
         "line": {
          "color": "rgba(0,0,0,0)"
         },
         "mode": "lines",
         "showlegend": false,
         "type": "scatter",
         "x": [
          3180,
          3220
         ],
         "xaxis": "x",
         "y": [
          362.25,
          362.25
         ],
         "yaxis": "y2"
        },
        {
         "hoverinfo": "text",
         "marker": {
          "color": [
           "blue",
           "blue",
           "blue",
           "blue"
          ]
         },
         "mode": "markers",
         "showlegend": false,
         "text": [
          "ID: 31<br>20 sek <br>70 % FTP<br>220 w<br>",
          "ID: 31<br>20 sek <br>70 % FTP<br>220 w<br>",
          "ID: 31<br>20 sek <br>70 % FTP<br>220 w<br>",
          "ID: 31<br>20 sek <br>70 % FTP<br>220 w<br>"
         ],
         "type": "scatter",
         "x": [
          3230,
          3230,
          3230,
          3230
         ],
         "y": [
          14,
          28,
          42,
          56
         ]
        },
        {
         "fill": "tozeroy",
         "fillcolor": "blue",
         "hoverinfo": "text",
         "legendgroup": "blue",
         "line": {
          "color": "black"
         },
         "mode": "lines",
         "showlegend": false,
         "text": "ID: 31<br>20 sek <br>70 % FTP<br>220 w<br>",
         "type": "scatter",
         "x": [
          3220,
          3220,
          3240,
          3240
         ],
         "xaxis": "x",
         "y": [
          0,
          70,
          70,
          0
         ],
         "yaxis": "y"
        },
        {
         "hoverinfo": "none",
         "line": {
          "color": "rgba(0,0,0,0)"
         },
         "mode": "lines",
         "showlegend": false,
         "type": "scatter",
         "x": [
          3220,
          3240
         ],
         "xaxis": "x",
         "y": [
          220.5,
          220.5
         ],
         "yaxis": "y2"
        },
        {
         "hoverinfo": "text",
         "marker": {
          "color": [
           "orange",
           "orange",
           "orange",
           "orange"
          ]
         },
         "mode": "markers",
         "showlegend": false,
         "text": [
          "ID: 32<br>40 sek <br>115 % FTP<br>362 w<br>",
          "ID: 32<br>40 sek <br>115 % FTP<br>362 w<br>",
          "ID: 32<br>40 sek <br>115 % FTP<br>362 w<br>",
          "ID: 32<br>40 sek <br>115 % FTP<br>362 w<br>"
         ],
         "type": "scatter",
         "x": [
          3260,
          3260,
          3260,
          3260
         ],
         "y": [
          23,
          46,
          69,
          92
         ]
        },
        {
         "fill": "tozeroy",
         "fillcolor": "orange",
         "hoverinfo": "text",
         "legendgroup": "orange",
         "line": {
          "color": "black"
         },
         "mode": "lines",
         "showlegend": false,
         "text": "ID: 32<br>40 sek <br>115 % FTP<br>362 w<br>",
         "type": "scatter",
         "x": [
          3240,
          3240,
          3280,
          3280
         ],
         "xaxis": "x",
         "y": [
          0,
          115,
          115,
          0
         ],
         "yaxis": "y"
        },
        {
         "hoverinfo": "none",
         "line": {
          "color": "rgba(0,0,0,0)"
         },
         "mode": "lines",
         "showlegend": false,
         "type": "scatter",
         "x": [
          3240,
          3280
         ],
         "xaxis": "x",
         "y": [
          362.25,
          362.25
         ],
         "yaxis": "y2"
        },
        {
         "hoverinfo": "text",
         "marker": {
          "color": [
           "blue",
           "blue",
           "blue",
           "blue"
          ]
         },
         "mode": "markers",
         "showlegend": false,
         "text": [
          "ID: 33<br>20 sek <br>70 % FTP<br>220 w<br>",
          "ID: 33<br>20 sek <br>70 % FTP<br>220 w<br>",
          "ID: 33<br>20 sek <br>70 % FTP<br>220 w<br>",
          "ID: 33<br>20 sek <br>70 % FTP<br>220 w<br>"
         ],
         "type": "scatter",
         "x": [
          3290,
          3290,
          3290,
          3290
         ],
         "y": [
          14,
          28,
          42,
          56
         ]
        },
        {
         "fill": "tozeroy",
         "fillcolor": "blue",
         "hoverinfo": "text",
         "legendgroup": "blue",
         "line": {
          "color": "black"
         },
         "mode": "lines",
         "showlegend": false,
         "text": "ID: 33<br>20 sek <br>70 % FTP<br>220 w<br>",
         "type": "scatter",
         "x": [
          3280,
          3280,
          3300,
          3300
         ],
         "xaxis": "x",
         "y": [
          0,
          70,
          70,
          0
         ],
         "yaxis": "y"
        },
        {
         "hoverinfo": "none",
         "line": {
          "color": "rgba(0,0,0,0)"
         },
         "mode": "lines",
         "showlegend": false,
         "type": "scatter",
         "x": [
          3280,
          3300
         ],
         "xaxis": "x",
         "y": [
          220.5,
          220.5
         ],
         "yaxis": "y2"
        },
        {
         "hoverinfo": "text",
         "marker": {
          "color": [
           "orange",
           "orange",
           "orange",
           "orange"
          ]
         },
         "mode": "markers",
         "showlegend": false,
         "text": [
          "ID: 34<br>40 sek <br>115 % FTP<br>362 w<br>",
          "ID: 34<br>40 sek <br>115 % FTP<br>362 w<br>",
          "ID: 34<br>40 sek <br>115 % FTP<br>362 w<br>",
          "ID: 34<br>40 sek <br>115 % FTP<br>362 w<br>"
         ],
         "type": "scatter",
         "x": [
          3320,
          3320,
          3320,
          3320
         ],
         "y": [
          23,
          46,
          69,
          92
         ]
        },
        {
         "fill": "tozeroy",
         "fillcolor": "orange",
         "hoverinfo": "text",
         "legendgroup": "orange",
         "line": {
          "color": "black"
         },
         "mode": "lines",
         "showlegend": false,
         "text": "ID: 34<br>40 sek <br>115 % FTP<br>362 w<br>",
         "type": "scatter",
         "x": [
          3300,
          3300,
          3340,
          3340
         ],
         "xaxis": "x",
         "y": [
          0,
          115,
          115,
          0
         ],
         "yaxis": "y"
        },
        {
         "hoverinfo": "none",
         "line": {
          "color": "rgba(0,0,0,0)"
         },
         "mode": "lines",
         "showlegend": false,
         "type": "scatter",
         "x": [
          3300,
          3340
         ],
         "xaxis": "x",
         "y": [
          362.25,
          362.25
         ],
         "yaxis": "y2"
        },
        {
         "hoverinfo": "text",
         "marker": {
          "color": [
           "blue",
           "blue",
           "blue",
           "blue"
          ]
         },
         "mode": "markers",
         "showlegend": false,
         "text": [
          "ID: 35<br>20 sek <br>70 % FTP<br>220 w<br>",
          "ID: 35<br>20 sek <br>70 % FTP<br>220 w<br>",
          "ID: 35<br>20 sek <br>70 % FTP<br>220 w<br>",
          "ID: 35<br>20 sek <br>70 % FTP<br>220 w<br>"
         ],
         "type": "scatter",
         "x": [
          3350,
          3350,
          3350,
          3350
         ],
         "y": [
          14,
          28,
          42,
          56
         ]
        },
        {
         "fill": "tozeroy",
         "fillcolor": "blue",
         "hoverinfo": "text",
         "legendgroup": "blue",
         "line": {
          "color": "black"
         },
         "mode": "lines",
         "showlegend": false,
         "text": "ID: 35<br>20 sek <br>70 % FTP<br>220 w<br>",
         "type": "scatter",
         "x": [
          3340,
          3340,
          3360,
          3360
         ],
         "xaxis": "x",
         "y": [
          0,
          70,
          70,
          0
         ],
         "yaxis": "y"
        },
        {
         "hoverinfo": "none",
         "line": {
          "color": "rgba(0,0,0,0)"
         },
         "mode": "lines",
         "showlegend": false,
         "type": "scatter",
         "x": [
          3340,
          3360
         ],
         "xaxis": "x",
         "y": [
          220.5,
          220.5
         ],
         "yaxis": "y2"
        },
        {
         "hoverinfo": "text",
         "marker": {
          "color": [
           "orange",
           "orange",
           "orange",
           "orange"
          ]
         },
         "mode": "markers",
         "showlegend": false,
         "text": [
          "ID: 36<br>40 sek <br>115 % FTP<br>362 w<br>",
          "ID: 36<br>40 sek <br>115 % FTP<br>362 w<br>",
          "ID: 36<br>40 sek <br>115 % FTP<br>362 w<br>",
          "ID: 36<br>40 sek <br>115 % FTP<br>362 w<br>"
         ],
         "type": "scatter",
         "x": [
          3380,
          3380,
          3380,
          3380
         ],
         "y": [
          23,
          46,
          69,
          92
         ]
        },
        {
         "fill": "tozeroy",
         "fillcolor": "orange",
         "hoverinfo": "text",
         "legendgroup": "orange",
         "line": {
          "color": "black"
         },
         "mode": "lines",
         "showlegend": false,
         "text": "ID: 36<br>40 sek <br>115 % FTP<br>362 w<br>",
         "type": "scatter",
         "x": [
          3360,
          3360,
          3400,
          3400
         ],
         "xaxis": "x",
         "y": [
          0,
          115,
          115,
          0
         ],
         "yaxis": "y"
        },
        {
         "hoverinfo": "none",
         "line": {
          "color": "rgba(0,0,0,0)"
         },
         "mode": "lines",
         "showlegend": false,
         "type": "scatter",
         "x": [
          3360,
          3400
         ],
         "xaxis": "x",
         "y": [
          362.25,
          362.25
         ],
         "yaxis": "y2"
        },
        {
         "hoverinfo": "text",
         "marker": {
          "color": [
           "blue",
           "blue",
           "blue",
           "blue"
          ]
         },
         "mode": "markers",
         "showlegend": false,
         "text": [
          "ID: 37<br>20 sek <br>70 % FTP<br>220 w<br>",
          "ID: 37<br>20 sek <br>70 % FTP<br>220 w<br>",
          "ID: 37<br>20 sek <br>70 % FTP<br>220 w<br>",
          "ID: 37<br>20 sek <br>70 % FTP<br>220 w<br>"
         ],
         "type": "scatter",
         "x": [
          3410,
          3410,
          3410,
          3410
         ],
         "y": [
          14,
          28,
          42,
          56
         ]
        },
        {
         "fill": "tozeroy",
         "fillcolor": "blue",
         "hoverinfo": "text",
         "legendgroup": "blue",
         "line": {
          "color": "black"
         },
         "mode": "lines",
         "showlegend": false,
         "text": "ID: 37<br>20 sek <br>70 % FTP<br>220 w<br>",
         "type": "scatter",
         "x": [
          3400,
          3400,
          3420,
          3420
         ],
         "xaxis": "x",
         "y": [
          0,
          70,
          70,
          0
         ],
         "yaxis": "y"
        },
        {
         "hoverinfo": "none",
         "line": {
          "color": "rgba(0,0,0,0)"
         },
         "mode": "lines",
         "showlegend": false,
         "type": "scatter",
         "x": [
          3400,
          3420
         ],
         "xaxis": "x",
         "y": [
          220.5,
          220.5
         ],
         "yaxis": "y2"
        },
        {
         "hoverinfo": "text",
         "marker": {
          "color": [
           "orange",
           "orange",
           "orange",
           "orange"
          ]
         },
         "mode": "markers",
         "showlegend": false,
         "text": [
          "ID: 38<br>40 sek <br>115 % FTP<br>362 w<br>",
          "ID: 38<br>40 sek <br>115 % FTP<br>362 w<br>",
          "ID: 38<br>40 sek <br>115 % FTP<br>362 w<br>",
          "ID: 38<br>40 sek <br>115 % FTP<br>362 w<br>"
         ],
         "type": "scatter",
         "x": [
          3440,
          3440,
          3440,
          3440
         ],
         "y": [
          23,
          46,
          69,
          92
         ]
        },
        {
         "fill": "tozeroy",
         "fillcolor": "orange",
         "hoverinfo": "text",
         "legendgroup": "orange",
         "line": {
          "color": "black"
         },
         "mode": "lines",
         "showlegend": false,
         "text": "ID: 38<br>40 sek <br>115 % FTP<br>362 w<br>",
         "type": "scatter",
         "x": [
          3420,
          3420,
          3460,
          3460
         ],
         "xaxis": "x",
         "y": [
          0,
          115,
          115,
          0
         ],
         "yaxis": "y"
        },
        {
         "hoverinfo": "none",
         "line": {
          "color": "rgba(0,0,0,0)"
         },
         "mode": "lines",
         "showlegend": false,
         "type": "scatter",
         "x": [
          3420,
          3460
         ],
         "xaxis": "x",
         "y": [
          362.25,
          362.25
         ],
         "yaxis": "y2"
        },
        {
         "hoverinfo": "text",
         "marker": {
          "color": [
           "blue",
           "blue",
           "blue",
           "blue"
          ]
         },
         "mode": "markers",
         "showlegend": false,
         "text": [
          "ID: 39<br>20 sek <br>70 % FTP<br>220 w<br>",
          "ID: 39<br>20 sek <br>70 % FTP<br>220 w<br>",
          "ID: 39<br>20 sek <br>70 % FTP<br>220 w<br>",
          "ID: 39<br>20 sek <br>70 % FTP<br>220 w<br>"
         ],
         "type": "scatter",
         "x": [
          3470,
          3470,
          3470,
          3470
         ],
         "y": [
          14,
          28,
          42,
          56
         ]
        },
        {
         "fill": "tozeroy",
         "fillcolor": "blue",
         "hoverinfo": "text",
         "legendgroup": "blue",
         "line": {
          "color": "black"
         },
         "mode": "lines",
         "showlegend": false,
         "text": "ID: 39<br>20 sek <br>70 % FTP<br>220 w<br>",
         "type": "scatter",
         "x": [
          3460,
          3460,
          3480,
          3480
         ],
         "xaxis": "x",
         "y": [
          0,
          70,
          70,
          0
         ],
         "yaxis": "y"
        },
        {
         "hoverinfo": "none",
         "line": {
          "color": "rgba(0,0,0,0)"
         },
         "mode": "lines",
         "showlegend": false,
         "type": "scatter",
         "x": [
          3460,
          3480
         ],
         "xaxis": "x",
         "y": [
          220.5,
          220.5
         ],
         "yaxis": "y2"
        },
        {
         "hoverinfo": "text",
         "marker": {
          "color": [
           "blue",
           "blue",
           "blue",
           "blue"
          ]
         },
         "mode": "markers",
         "showlegend": false,
         "text": [
          "ID: 40<br>600 sek <br>65 % FTP<br>205 w<br>",
          "ID: 40<br>600 sek <br>65 % FTP<br>205 w<br>",
          "ID: 40<br>600 sek <br>65 % FTP<br>205 w<br>",
          "ID: 40<br>600 sek <br>65 % FTP<br>205 w<br>"
         ],
         "type": "scatter",
         "x": [
          3780,
          3780,
          3780,
          3780
         ],
         "y": [
          13,
          26,
          39,
          52
         ]
        },
        {
         "fill": "tozeroy",
         "fillcolor": "blue",
         "hoverinfo": "text",
         "legendgroup": "blue",
         "line": {
          "color": "black"
         },
         "mode": "lines",
         "showlegend": false,
         "text": "ID: 40<br>600 sek <br>65 % FTP<br>205 w<br>",
         "type": "scatter",
         "x": [
          3480,
          3480,
          4080,
          4080
         ],
         "xaxis": "x",
         "y": [
          0,
          65,
          65,
          0
         ],
         "yaxis": "y"
        },
        {
         "hoverinfo": "none",
         "line": {
          "color": "rgba(0,0,0,0)"
         },
         "mode": "lines",
         "showlegend": false,
         "type": "scatter",
         "x": [
          3480,
          4080
         ],
         "xaxis": "x",
         "y": [
          204.75,
          204.75
         ],
         "yaxis": "y2"
        },
        {
         "hoverinfo": "text",
         "marker": {
          "color": [
           "orange",
           "orange",
           "orange",
           "orange"
          ]
         },
         "mode": "markers",
         "showlegend": false,
         "text": [
          "ID: 41<br>40 sek <br>115 % FTP<br>362 w<br>",
          "ID: 41<br>40 sek <br>115 % FTP<br>362 w<br>",
          "ID: 41<br>40 sek <br>115 % FTP<br>362 w<br>",
          "ID: 41<br>40 sek <br>115 % FTP<br>362 w<br>"
         ],
         "type": "scatter",
         "x": [
          4100,
          4100,
          4100,
          4100
         ],
         "y": [
          23,
          46,
          69,
          92
         ]
        },
        {
         "fill": "tozeroy",
         "fillcolor": "orange",
         "hoverinfo": "text",
         "legendgroup": "orange",
         "line": {
          "color": "black"
         },
         "mode": "lines",
         "showlegend": false,
         "text": "ID: 41<br>40 sek <br>115 % FTP<br>362 w<br>",
         "type": "scatter",
         "x": [
          4080,
          4080,
          4120,
          4120
         ],
         "xaxis": "x",
         "y": [
          0,
          115,
          115,
          0
         ],
         "yaxis": "y"
        },
        {
         "hoverinfo": "none",
         "line": {
          "color": "rgba(0,0,0,0)"
         },
         "mode": "lines",
         "showlegend": false,
         "type": "scatter",
         "x": [
          4080,
          4120
         ],
         "xaxis": "x",
         "y": [
          362.25,
          362.25
         ],
         "yaxis": "y2"
        },
        {
         "hoverinfo": "text",
         "marker": {
          "color": [
           "blue",
           "blue",
           "blue",
           "blue"
          ]
         },
         "mode": "markers",
         "showlegend": false,
         "text": [
          "ID: 42<br>20 sek <br>70 % FTP<br>220 w<br>",
          "ID: 42<br>20 sek <br>70 % FTP<br>220 w<br>",
          "ID: 42<br>20 sek <br>70 % FTP<br>220 w<br>",
          "ID: 42<br>20 sek <br>70 % FTP<br>220 w<br>"
         ],
         "type": "scatter",
         "x": [
          4130,
          4130,
          4130,
          4130
         ],
         "y": [
          14,
          28,
          42,
          56
         ]
        },
        {
         "fill": "tozeroy",
         "fillcolor": "blue",
         "hoverinfo": "text",
         "legendgroup": "blue",
         "line": {
          "color": "black"
         },
         "mode": "lines",
         "showlegend": false,
         "text": "ID: 42<br>20 sek <br>70 % FTP<br>220 w<br>",
         "type": "scatter",
         "x": [
          4120,
          4120,
          4140,
          4140
         ],
         "xaxis": "x",
         "y": [
          0,
          70,
          70,
          0
         ],
         "yaxis": "y"
        },
        {
         "hoverinfo": "none",
         "line": {
          "color": "rgba(0,0,0,0)"
         },
         "mode": "lines",
         "showlegend": false,
         "type": "scatter",
         "x": [
          4120,
          4140
         ],
         "xaxis": "x",
         "y": [
          220.5,
          220.5
         ],
         "yaxis": "y2"
        },
        {
         "hoverinfo": "text",
         "marker": {
          "color": [
           "orange",
           "orange",
           "orange",
           "orange"
          ]
         },
         "mode": "markers",
         "showlegend": false,
         "text": [
          "ID: 43<br>40 sek <br>115 % FTP<br>362 w<br>",
          "ID: 43<br>40 sek <br>115 % FTP<br>362 w<br>",
          "ID: 43<br>40 sek <br>115 % FTP<br>362 w<br>",
          "ID: 43<br>40 sek <br>115 % FTP<br>362 w<br>"
         ],
         "type": "scatter",
         "x": [
          4160,
          4160,
          4160,
          4160
         ],
         "y": [
          23,
          46,
          69,
          92
         ]
        },
        {
         "fill": "tozeroy",
         "fillcolor": "orange",
         "hoverinfo": "text",
         "legendgroup": "orange",
         "line": {
          "color": "black"
         },
         "mode": "lines",
         "showlegend": false,
         "text": "ID: 43<br>40 sek <br>115 % FTP<br>362 w<br>",
         "type": "scatter",
         "x": [
          4140,
          4140,
          4180,
          4180
         ],
         "xaxis": "x",
         "y": [
          0,
          115,
          115,
          0
         ],
         "yaxis": "y"
        },
        {
         "hoverinfo": "none",
         "line": {
          "color": "rgba(0,0,0,0)"
         },
         "mode": "lines",
         "showlegend": false,
         "type": "scatter",
         "x": [
          4140,
          4180
         ],
         "xaxis": "x",
         "y": [
          362.25,
          362.25
         ],
         "yaxis": "y2"
        },
        {
         "hoverinfo": "text",
         "marker": {
          "color": [
           "blue",
           "blue",
           "blue",
           "blue"
          ]
         },
         "mode": "markers",
         "showlegend": false,
         "text": [
          "ID: 44<br>20 sek <br>70 % FTP<br>220 w<br>",
          "ID: 44<br>20 sek <br>70 % FTP<br>220 w<br>",
          "ID: 44<br>20 sek <br>70 % FTP<br>220 w<br>",
          "ID: 44<br>20 sek <br>70 % FTP<br>220 w<br>"
         ],
         "type": "scatter",
         "x": [
          4190,
          4190,
          4190,
          4190
         ],
         "y": [
          14,
          28,
          42,
          56
         ]
        },
        {
         "fill": "tozeroy",
         "fillcolor": "blue",
         "hoverinfo": "text",
         "legendgroup": "blue",
         "line": {
          "color": "black"
         },
         "mode": "lines",
         "showlegend": false,
         "text": "ID: 44<br>20 sek <br>70 % FTP<br>220 w<br>",
         "type": "scatter",
         "x": [
          4180,
          4180,
          4200,
          4200
         ],
         "xaxis": "x",
         "y": [
          0,
          70,
          70,
          0
         ],
         "yaxis": "y"
        },
        {
         "hoverinfo": "none",
         "line": {
          "color": "rgba(0,0,0,0)"
         },
         "mode": "lines",
         "showlegend": false,
         "type": "scatter",
         "x": [
          4180,
          4200
         ],
         "xaxis": "x",
         "y": [
          220.5,
          220.5
         ],
         "yaxis": "y2"
        },
        {
         "hoverinfo": "text",
         "marker": {
          "color": [
           "orange",
           "orange",
           "orange",
           "orange"
          ]
         },
         "mode": "markers",
         "showlegend": false,
         "text": [
          "ID: 45<br>40 sek <br>115 % FTP<br>362 w<br>",
          "ID: 45<br>40 sek <br>115 % FTP<br>362 w<br>",
          "ID: 45<br>40 sek <br>115 % FTP<br>362 w<br>",
          "ID: 45<br>40 sek <br>115 % FTP<br>362 w<br>"
         ],
         "type": "scatter",
         "x": [
          4220,
          4220,
          4220,
          4220
         ],
         "y": [
          23,
          46,
          69,
          92
         ]
        },
        {
         "fill": "tozeroy",
         "fillcolor": "orange",
         "hoverinfo": "text",
         "legendgroup": "orange",
         "line": {
          "color": "black"
         },
         "mode": "lines",
         "showlegend": false,
         "text": "ID: 45<br>40 sek <br>115 % FTP<br>362 w<br>",
         "type": "scatter",
         "x": [
          4200,
          4200,
          4240,
          4240
         ],
         "xaxis": "x",
         "y": [
          0,
          115,
          115,
          0
         ],
         "yaxis": "y"
        },
        {
         "hoverinfo": "none",
         "line": {
          "color": "rgba(0,0,0,0)"
         },
         "mode": "lines",
         "showlegend": false,
         "type": "scatter",
         "x": [
          4200,
          4240
         ],
         "xaxis": "x",
         "y": [
          362.25,
          362.25
         ],
         "yaxis": "y2"
        },
        {
         "hoverinfo": "text",
         "marker": {
          "color": [
           "blue",
           "blue",
           "blue",
           "blue"
          ]
         },
         "mode": "markers",
         "showlegend": false,
         "text": [
          "ID: 46<br>20 sek <br>70 % FTP<br>220 w<br>",
          "ID: 46<br>20 sek <br>70 % FTP<br>220 w<br>",
          "ID: 46<br>20 sek <br>70 % FTP<br>220 w<br>",
          "ID: 46<br>20 sek <br>70 % FTP<br>220 w<br>"
         ],
         "type": "scatter",
         "x": [
          4250,
          4250,
          4250,
          4250
         ],
         "y": [
          14,
          28,
          42,
          56
         ]
        },
        {
         "fill": "tozeroy",
         "fillcolor": "blue",
         "hoverinfo": "text",
         "legendgroup": "blue",
         "line": {
          "color": "black"
         },
         "mode": "lines",
         "showlegend": false,
         "text": "ID: 46<br>20 sek <br>70 % FTP<br>220 w<br>",
         "type": "scatter",
         "x": [
          4240,
          4240,
          4260,
          4260
         ],
         "xaxis": "x",
         "y": [
          0,
          70,
          70,
          0
         ],
         "yaxis": "y"
        },
        {
         "hoverinfo": "none",
         "line": {
          "color": "rgba(0,0,0,0)"
         },
         "mode": "lines",
         "showlegend": false,
         "type": "scatter",
         "x": [
          4240,
          4260
         ],
         "xaxis": "x",
         "y": [
          220.5,
          220.5
         ],
         "yaxis": "y2"
        },
        {
         "hoverinfo": "text",
         "marker": {
          "color": [
           "orange",
           "orange",
           "orange",
           "orange"
          ]
         },
         "mode": "markers",
         "showlegend": false,
         "text": [
          "ID: 47<br>40 sek <br>115 % FTP<br>362 w<br>",
          "ID: 47<br>40 sek <br>115 % FTP<br>362 w<br>",
          "ID: 47<br>40 sek <br>115 % FTP<br>362 w<br>",
          "ID: 47<br>40 sek <br>115 % FTP<br>362 w<br>"
         ],
         "type": "scatter",
         "x": [
          4280,
          4280,
          4280,
          4280
         ],
         "y": [
          23,
          46,
          69,
          92
         ]
        },
        {
         "fill": "tozeroy",
         "fillcolor": "orange",
         "hoverinfo": "text",
         "legendgroup": "orange",
         "line": {
          "color": "black"
         },
         "mode": "lines",
         "showlegend": false,
         "text": "ID: 47<br>40 sek <br>115 % FTP<br>362 w<br>",
         "type": "scatter",
         "x": [
          4260,
          4260,
          4300,
          4300
         ],
         "xaxis": "x",
         "y": [
          0,
          115,
          115,
          0
         ],
         "yaxis": "y"
        },
        {
         "hoverinfo": "none",
         "line": {
          "color": "rgba(0,0,0,0)"
         },
         "mode": "lines",
         "showlegend": false,
         "type": "scatter",
         "x": [
          4260,
          4300
         ],
         "xaxis": "x",
         "y": [
          362.25,
          362.25
         ],
         "yaxis": "y2"
        },
        {
         "hoverinfo": "text",
         "marker": {
          "color": [
           "blue",
           "blue",
           "blue",
           "blue"
          ]
         },
         "mode": "markers",
         "showlegend": false,
         "text": [
          "ID: 48<br>20 sek <br>70 % FTP<br>220 w<br>",
          "ID: 48<br>20 sek <br>70 % FTP<br>220 w<br>",
          "ID: 48<br>20 sek <br>70 % FTP<br>220 w<br>",
          "ID: 48<br>20 sek <br>70 % FTP<br>220 w<br>"
         ],
         "type": "scatter",
         "x": [
          4310,
          4310,
          4310,
          4310
         ],
         "y": [
          14,
          28,
          42,
          56
         ]
        },
        {
         "fill": "tozeroy",
         "fillcolor": "blue",
         "hoverinfo": "text",
         "legendgroup": "blue",
         "line": {
          "color": "black"
         },
         "mode": "lines",
         "showlegend": false,
         "text": "ID: 48<br>20 sek <br>70 % FTP<br>220 w<br>",
         "type": "scatter",
         "x": [
          4300,
          4300,
          4320,
          4320
         ],
         "xaxis": "x",
         "y": [
          0,
          70,
          70,
          0
         ],
         "yaxis": "y"
        },
        {
         "hoverinfo": "none",
         "line": {
          "color": "rgba(0,0,0,0)"
         },
         "mode": "lines",
         "showlegend": false,
         "type": "scatter",
         "x": [
          4300,
          4320
         ],
         "xaxis": "x",
         "y": [
          220.5,
          220.5
         ],
         "yaxis": "y2"
        },
        {
         "hoverinfo": "text",
         "marker": {
          "color": [
           "orange",
           "orange",
           "orange",
           "orange"
          ]
         },
         "mode": "markers",
         "showlegend": false,
         "text": [
          "ID: 49<br>40 sek <br>115 % FTP<br>362 w<br>",
          "ID: 49<br>40 sek <br>115 % FTP<br>362 w<br>",
          "ID: 49<br>40 sek <br>115 % FTP<br>362 w<br>",
          "ID: 49<br>40 sek <br>115 % FTP<br>362 w<br>"
         ],
         "type": "scatter",
         "x": [
          4340,
          4340,
          4340,
          4340
         ],
         "y": [
          23,
          46,
          69,
          92
         ]
        },
        {
         "fill": "tozeroy",
         "fillcolor": "orange",
         "hoverinfo": "text",
         "legendgroup": "orange",
         "line": {
          "color": "black"
         },
         "mode": "lines",
         "showlegend": false,
         "text": "ID: 49<br>40 sek <br>115 % FTP<br>362 w<br>",
         "type": "scatter",
         "x": [
          4320,
          4320,
          4360,
          4360
         ],
         "xaxis": "x",
         "y": [
          0,
          115,
          115,
          0
         ],
         "yaxis": "y"
        },
        {
         "hoverinfo": "none",
         "line": {
          "color": "rgba(0,0,0,0)"
         },
         "mode": "lines",
         "showlegend": false,
         "type": "scatter",
         "x": [
          4320,
          4360
         ],
         "xaxis": "x",
         "y": [
          362.25,
          362.25
         ],
         "yaxis": "y2"
        },
        {
         "hoverinfo": "text",
         "marker": {
          "color": [
           "blue",
           "blue",
           "blue",
           "blue"
          ]
         },
         "mode": "markers",
         "showlegend": false,
         "text": [
          "ID: 50<br>20 sek <br>70 % FTP<br>220 w<br>",
          "ID: 50<br>20 sek <br>70 % FTP<br>220 w<br>",
          "ID: 50<br>20 sek <br>70 % FTP<br>220 w<br>",
          "ID: 50<br>20 sek <br>70 % FTP<br>220 w<br>"
         ],
         "type": "scatter",
         "x": [
          4370,
          4370,
          4370,
          4370
         ],
         "y": [
          14,
          28,
          42,
          56
         ]
        },
        {
         "fill": "tozeroy",
         "fillcolor": "blue",
         "hoverinfo": "text",
         "legendgroup": "blue",
         "line": {
          "color": "black"
         },
         "mode": "lines",
         "showlegend": false,
         "text": "ID: 50<br>20 sek <br>70 % FTP<br>220 w<br>",
         "type": "scatter",
         "x": [
          4360,
          4360,
          4380,
          4380
         ],
         "xaxis": "x",
         "y": [
          0,
          70,
          70,
          0
         ],
         "yaxis": "y"
        },
        {
         "hoverinfo": "none",
         "line": {
          "color": "rgba(0,0,0,0)"
         },
         "mode": "lines",
         "showlegend": false,
         "type": "scatter",
         "x": [
          4360,
          4380
         ],
         "xaxis": "x",
         "y": [
          220.5,
          220.5
         ],
         "yaxis": "y2"
        },
        {
         "hoverinfo": "text",
         "marker": {
          "color": [
           "orange",
           "orange",
           "orange",
           "orange"
          ]
         },
         "mode": "markers",
         "showlegend": false,
         "text": [
          "ID: 51<br>40 sek <br>115 % FTP<br>362 w<br>",
          "ID: 51<br>40 sek <br>115 % FTP<br>362 w<br>",
          "ID: 51<br>40 sek <br>115 % FTP<br>362 w<br>",
          "ID: 51<br>40 sek <br>115 % FTP<br>362 w<br>"
         ],
         "type": "scatter",
         "x": [
          4400,
          4400,
          4400,
          4400
         ],
         "y": [
          23,
          46,
          69,
          92
         ]
        },
        {
         "fill": "tozeroy",
         "fillcolor": "orange",
         "hoverinfo": "text",
         "legendgroup": "orange",
         "line": {
          "color": "black"
         },
         "mode": "lines",
         "showlegend": false,
         "text": "ID: 51<br>40 sek <br>115 % FTP<br>362 w<br>",
         "type": "scatter",
         "x": [
          4380,
          4380,
          4420,
          4420
         ],
         "xaxis": "x",
         "y": [
          0,
          115,
          115,
          0
         ],
         "yaxis": "y"
        },
        {
         "hoverinfo": "none",
         "line": {
          "color": "rgba(0,0,0,0)"
         },
         "mode": "lines",
         "showlegend": false,
         "type": "scatter",
         "x": [
          4380,
          4420
         ],
         "xaxis": "x",
         "y": [
          362.25,
          362.25
         ],
         "yaxis": "y2"
        },
        {
         "hoverinfo": "text",
         "marker": {
          "color": [
           "blue",
           "blue",
           "blue",
           "blue"
          ]
         },
         "mode": "markers",
         "showlegend": false,
         "text": [
          "ID: 52<br>20 sek <br>70 % FTP<br>220 w<br>",
          "ID: 52<br>20 sek <br>70 % FTP<br>220 w<br>",
          "ID: 52<br>20 sek <br>70 % FTP<br>220 w<br>",
          "ID: 52<br>20 sek <br>70 % FTP<br>220 w<br>"
         ],
         "type": "scatter",
         "x": [
          4430,
          4430,
          4430,
          4430
         ],
         "y": [
          14,
          28,
          42,
          56
         ]
        },
        {
         "fill": "tozeroy",
         "fillcolor": "blue",
         "hoverinfo": "text",
         "legendgroup": "blue",
         "line": {
          "color": "black"
         },
         "mode": "lines",
         "showlegend": false,
         "text": "ID: 52<br>20 sek <br>70 % FTP<br>220 w<br>",
         "type": "scatter",
         "x": [
          4420,
          4420,
          4440,
          4440
         ],
         "xaxis": "x",
         "y": [
          0,
          70,
          70,
          0
         ],
         "yaxis": "y"
        },
        {
         "hoverinfo": "none",
         "line": {
          "color": "rgba(0,0,0,0)"
         },
         "mode": "lines",
         "showlegend": false,
         "type": "scatter",
         "x": [
          4420,
          4440
         ],
         "xaxis": "x",
         "y": [
          220.5,
          220.5
         ],
         "yaxis": "y2"
        },
        {
         "hoverinfo": "text",
         "marker": {
          "color": [
           "blue",
           "blue",
           "blue",
           "blue"
          ]
         },
         "mode": "markers",
         "showlegend": false,
         "text": [
          "ID: 53<br>240.0 sek <br>65 bis 59 % FTP<br>205 bis 186 w<br>",
          "ID: 53<br>240.0 sek <br>65 bis 59 % FTP<br>205 bis 186 w<br>",
          "ID: 53<br>240.0 sek <br>65 bis 59 % FTP<br>205 bis 186 w<br>",
          "ID: 53<br>240.0 sek <br>65 bis 59 % FTP<br>205 bis 186 w<br>"
         ],
         "type": "scatter",
         "x": [
          4560,
          4560,
          4560,
          4560
         ],
         "y": [
          11.8,
          23.6,
          35.4,
          47.2
         ]
        },
        {
         "fill": "tozeroy",
         "fillcolor": "blue",
         "hoverinfo": "text",
         "legendgroup": "blue",
         "line": {
          "color": "black"
         },
         "mode": "lines",
         "showlegend": false,
         "text": "ID: 53<br>240.0 sek <br>65 bis 59 % FTP<br>205 bis 186 w<br>",
         "type": "scatter",
         "x": [
          4440,
          4440,
          4680,
          4680
         ],
         "xaxis": "x",
         "y": [
          0,
          65,
          59,
          0
         ],
         "yaxis": "y"
        },
        {
         "hoverinfo": "none",
         "line": {
          "color": "rgba(0,0,0,0)"
         },
         "mode": "lines",
         "showlegend": false,
         "type": "scatter",
         "x": [
          4440,
          4680
         ],
         "xaxis": "x",
         "y": [
          204.75,
          185.85
         ],
         "yaxis": "y2"
        },
        {
         "hoverinfo": "text",
         "marker": {
          "color": [
           "grey",
           "grey",
           "grey",
           "grey"
          ]
         },
         "mode": "markers",
         "showlegend": false,
         "text": [
          "ID: 53<br>360.0 sek <br>59 bis 50 % FTP<br>186 bis 158 w<br>",
          "ID: 53<br>360.0 sek <br>59 bis 50 % FTP<br>186 bis 158 w<br>",
          "ID: 53<br>360.0 sek <br>59 bis 50 % FTP<br>186 bis 158 w<br>",
          "ID: 53<br>360.0 sek <br>59 bis 50 % FTP<br>186 bis 158 w<br>"
         ],
         "type": "scatter",
         "x": [
          4860,
          4860,
          4860,
          4860
         ],
         "y": [
          10,
          20,
          30,
          40
         ]
        },
        {
         "fill": "tozeroy",
         "fillcolor": "grey",
         "hoverinfo": "text",
         "legendgroup": "grey",
         "line": {
          "color": "black"
         },
         "mode": "lines",
         "showlegend": false,
         "text": "ID: 53<br>360.0 sek <br>59 bis 50 % FTP<br>186 bis 158 w<br>",
         "type": "scatter",
         "x": [
          4680,
          4680,
          5040,
          5040
         ],
         "xaxis": "x",
         "y": [
          0,
          59,
          50,
          0
         ],
         "yaxis": "y"
        },
        {
         "hoverinfo": "none",
         "line": {
          "color": "rgba(0,0,0,0)"
         },
         "mode": "lines",
         "showlegend": false,
         "type": "scatter",
         "x": [
          4680,
          5040
         ],
         "xaxis": "x",
         "y": [
          185.85,
          157.5
         ],
         "yaxis": "y2"
        }
       ],
       "layout": {
        "template": {
         "data": {
          "bar": [
           {
            "error_x": {
             "color": "#2a3f5f"
            },
            "error_y": {
             "color": "#2a3f5f"
            },
            "marker": {
             "line": {
              "color": "#E5ECF6",
              "width": 0.5
             }
            },
            "type": "bar"
           }
          ],
          "barpolar": [
           {
            "marker": {
             "line": {
              "color": "#E5ECF6",
              "width": 0.5
             }
            },
            "type": "barpolar"
           }
          ],
          "carpet": [
           {
            "aaxis": {
             "endlinecolor": "#2a3f5f",
             "gridcolor": "white",
             "linecolor": "white",
             "minorgridcolor": "white",
             "startlinecolor": "#2a3f5f"
            },
            "baxis": {
             "endlinecolor": "#2a3f5f",
             "gridcolor": "white",
             "linecolor": "white",
             "minorgridcolor": "white",
             "startlinecolor": "#2a3f5f"
            },
            "type": "carpet"
           }
          ],
          "choropleth": [
           {
            "colorbar": {
             "outlinewidth": 0,
             "ticks": ""
            },
            "type": "choropleth"
           }
          ],
          "contour": [
           {
            "colorbar": {
             "outlinewidth": 0,
             "ticks": ""
            },
            "colorscale": [
             [
              0,
              "#0d0887"
             ],
             [
              0.1111111111111111,
              "#46039f"
             ],
             [
              0.2222222222222222,
              "#7201a8"
             ],
             [
              0.3333333333333333,
              "#9c179e"
             ],
             [
              0.4444444444444444,
              "#bd3786"
             ],
             [
              0.5555555555555556,
              "#d8576b"
             ],
             [
              0.6666666666666666,
              "#ed7953"
             ],
             [
              0.7777777777777778,
              "#fb9f3a"
             ],
             [
              0.8888888888888888,
              "#fdca26"
             ],
             [
              1,
              "#f0f921"
             ]
            ],
            "type": "contour"
           }
          ],
          "contourcarpet": [
           {
            "colorbar": {
             "outlinewidth": 0,
             "ticks": ""
            },
            "type": "contourcarpet"
           }
          ],
          "heatmap": [
           {
            "colorbar": {
             "outlinewidth": 0,
             "ticks": ""
            },
            "colorscale": [
             [
              0,
              "#0d0887"
             ],
             [
              0.1111111111111111,
              "#46039f"
             ],
             [
              0.2222222222222222,
              "#7201a8"
             ],
             [
              0.3333333333333333,
              "#9c179e"
             ],
             [
              0.4444444444444444,
              "#bd3786"
             ],
             [
              0.5555555555555556,
              "#d8576b"
             ],
             [
              0.6666666666666666,
              "#ed7953"
             ],
             [
              0.7777777777777778,
              "#fb9f3a"
             ],
             [
              0.8888888888888888,
              "#fdca26"
             ],
             [
              1,
              "#f0f921"
             ]
            ],
            "type": "heatmap"
           }
          ],
          "heatmapgl": [
           {
            "colorbar": {
             "outlinewidth": 0,
             "ticks": ""
            },
            "colorscale": [
             [
              0,
              "#0d0887"
             ],
             [
              0.1111111111111111,
              "#46039f"
             ],
             [
              0.2222222222222222,
              "#7201a8"
             ],
             [
              0.3333333333333333,
              "#9c179e"
             ],
             [
              0.4444444444444444,
              "#bd3786"
             ],
             [
              0.5555555555555556,
              "#d8576b"
             ],
             [
              0.6666666666666666,
              "#ed7953"
             ],
             [
              0.7777777777777778,
              "#fb9f3a"
             ],
             [
              0.8888888888888888,
              "#fdca26"
             ],
             [
              1,
              "#f0f921"
             ]
            ],
            "type": "heatmapgl"
           }
          ],
          "histogram": [
           {
            "marker": {
             "colorbar": {
              "outlinewidth": 0,
              "ticks": ""
             }
            },
            "type": "histogram"
           }
          ],
          "histogram2d": [
           {
            "colorbar": {
             "outlinewidth": 0,
             "ticks": ""
            },
            "colorscale": [
             [
              0,
              "#0d0887"
             ],
             [
              0.1111111111111111,
              "#46039f"
             ],
             [
              0.2222222222222222,
              "#7201a8"
             ],
             [
              0.3333333333333333,
              "#9c179e"
             ],
             [
              0.4444444444444444,
              "#bd3786"
             ],
             [
              0.5555555555555556,
              "#d8576b"
             ],
             [
              0.6666666666666666,
              "#ed7953"
             ],
             [
              0.7777777777777778,
              "#fb9f3a"
             ],
             [
              0.8888888888888888,
              "#fdca26"
             ],
             [
              1,
              "#f0f921"
             ]
            ],
            "type": "histogram2d"
           }
          ],
          "histogram2dcontour": [
           {
            "colorbar": {
             "outlinewidth": 0,
             "ticks": ""
            },
            "colorscale": [
             [
              0,
              "#0d0887"
             ],
             [
              0.1111111111111111,
              "#46039f"
             ],
             [
              0.2222222222222222,
              "#7201a8"
             ],
             [
              0.3333333333333333,
              "#9c179e"
             ],
             [
              0.4444444444444444,
              "#bd3786"
             ],
             [
              0.5555555555555556,
              "#d8576b"
             ],
             [
              0.6666666666666666,
              "#ed7953"
             ],
             [
              0.7777777777777778,
              "#fb9f3a"
             ],
             [
              0.8888888888888888,
              "#fdca26"
             ],
             [
              1,
              "#f0f921"
             ]
            ],
            "type": "histogram2dcontour"
           }
          ],
          "mesh3d": [
           {
            "colorbar": {
             "outlinewidth": 0,
             "ticks": ""
            },
            "type": "mesh3d"
           }
          ],
          "parcoords": [
           {
            "line": {
             "colorbar": {
              "outlinewidth": 0,
              "ticks": ""
             }
            },
            "type": "parcoords"
           }
          ],
          "pie": [
           {
            "automargin": true,
            "type": "pie"
           }
          ],
          "scatter": [
           {
            "marker": {
             "colorbar": {
              "outlinewidth": 0,
              "ticks": ""
             }
            },
            "type": "scatter"
           }
          ],
          "scatter3d": [
           {
            "line": {
             "colorbar": {
              "outlinewidth": 0,
              "ticks": ""
             }
            },
            "marker": {
             "colorbar": {
              "outlinewidth": 0,
              "ticks": ""
             }
            },
            "type": "scatter3d"
           }
          ],
          "scattercarpet": [
           {
            "marker": {
             "colorbar": {
              "outlinewidth": 0,
              "ticks": ""
             }
            },
            "type": "scattercarpet"
           }
          ],
          "scattergeo": [
           {
            "marker": {
             "colorbar": {
              "outlinewidth": 0,
              "ticks": ""
             }
            },
            "type": "scattergeo"
           }
          ],
          "scattergl": [
           {
            "marker": {
             "colorbar": {
              "outlinewidth": 0,
              "ticks": ""
             }
            },
            "type": "scattergl"
           }
          ],
          "scattermapbox": [
           {
            "marker": {
             "colorbar": {
              "outlinewidth": 0,
              "ticks": ""
             }
            },
            "type": "scattermapbox"
           }
          ],
          "scatterpolar": [
           {
            "marker": {
             "colorbar": {
              "outlinewidth": 0,
              "ticks": ""
             }
            },
            "type": "scatterpolar"
           }
          ],
          "scatterpolargl": [
           {
            "marker": {
             "colorbar": {
              "outlinewidth": 0,
              "ticks": ""
             }
            },
            "type": "scatterpolargl"
           }
          ],
          "scatterternary": [
           {
            "marker": {
             "colorbar": {
              "outlinewidth": 0,
              "ticks": ""
             }
            },
            "type": "scatterternary"
           }
          ],
          "surface": [
           {
            "colorbar": {
             "outlinewidth": 0,
             "ticks": ""
            },
            "colorscale": [
             [
              0,
              "#0d0887"
             ],
             [
              0.1111111111111111,
              "#46039f"
             ],
             [
              0.2222222222222222,
              "#7201a8"
             ],
             [
              0.3333333333333333,
              "#9c179e"
             ],
             [
              0.4444444444444444,
              "#bd3786"
             ],
             [
              0.5555555555555556,
              "#d8576b"
             ],
             [
              0.6666666666666666,
              "#ed7953"
             ],
             [
              0.7777777777777778,
              "#fb9f3a"
             ],
             [
              0.8888888888888888,
              "#fdca26"
             ],
             [
              1,
              "#f0f921"
             ]
            ],
            "type": "surface"
           }
          ],
          "table": [
           {
            "cells": {
             "fill": {
              "color": "#EBF0F8"
             },
             "line": {
              "color": "white"
             }
            },
            "header": {
             "fill": {
              "color": "#C8D4E3"
             },
             "line": {
              "color": "white"
             }
            },
            "type": "table"
           }
          ]
         },
         "layout": {
          "annotationdefaults": {
           "arrowcolor": "#2a3f5f",
           "arrowhead": 0,
           "arrowwidth": 1
          },
          "coloraxis": {
           "colorbar": {
            "outlinewidth": 0,
            "ticks": ""
           }
          },
          "colorscale": {
           "diverging": [
            [
             0,
             "#8e0152"
            ],
            [
             0.1,
             "#c51b7d"
            ],
            [
             0.2,
             "#de77ae"
            ],
            [
             0.3,
             "#f1b6da"
            ],
            [
             0.4,
             "#fde0ef"
            ],
            [
             0.5,
             "#f7f7f7"
            ],
            [
             0.6,
             "#e6f5d0"
            ],
            [
             0.7,
             "#b8e186"
            ],
            [
             0.8,
             "#7fbc41"
            ],
            [
             0.9,
             "#4d9221"
            ],
            [
             1,
             "#276419"
            ]
           ],
           "sequential": [
            [
             0,
             "#0d0887"
            ],
            [
             0.1111111111111111,
             "#46039f"
            ],
            [
             0.2222222222222222,
             "#7201a8"
            ],
            [
             0.3333333333333333,
             "#9c179e"
            ],
            [
             0.4444444444444444,
             "#bd3786"
            ],
            [
             0.5555555555555556,
             "#d8576b"
            ],
            [
             0.6666666666666666,
             "#ed7953"
            ],
            [
             0.7777777777777778,
             "#fb9f3a"
            ],
            [
             0.8888888888888888,
             "#fdca26"
            ],
            [
             1,
             "#f0f921"
            ]
           ],
           "sequentialminus": [
            [
             0,
             "#0d0887"
            ],
            [
             0.1111111111111111,
             "#46039f"
            ],
            [
             0.2222222222222222,
             "#7201a8"
            ],
            [
             0.3333333333333333,
             "#9c179e"
            ],
            [
             0.4444444444444444,
             "#bd3786"
            ],
            [
             0.5555555555555556,
             "#d8576b"
            ],
            [
             0.6666666666666666,
             "#ed7953"
            ],
            [
             0.7777777777777778,
             "#fb9f3a"
            ],
            [
             0.8888888888888888,
             "#fdca26"
            ],
            [
             1,
             "#f0f921"
            ]
           ]
          },
          "colorway": [
           "#636efa",
           "#EF553B",
           "#00cc96",
           "#ab63fa",
           "#FFA15A",
           "#19d3f3",
           "#FF6692",
           "#B6E880",
           "#FF97FF",
           "#FECB52"
          ],
          "font": {
           "color": "#2a3f5f"
          },
          "geo": {
           "bgcolor": "white",
           "lakecolor": "white",
           "landcolor": "#E5ECF6",
           "showlakes": true,
           "showland": true,
           "subunitcolor": "white"
          },
          "hoverlabel": {
           "align": "left"
          },
          "hovermode": "closest",
          "mapbox": {
           "style": "light"
          },
          "paper_bgcolor": "white",
          "plot_bgcolor": "#E5ECF6",
          "polar": {
           "angularaxis": {
            "gridcolor": "white",
            "linecolor": "white",
            "ticks": ""
           },
           "bgcolor": "#E5ECF6",
           "radialaxis": {
            "gridcolor": "white",
            "linecolor": "white",
            "ticks": ""
           }
          },
          "scene": {
           "xaxis": {
            "backgroundcolor": "#E5ECF6",
            "gridcolor": "white",
            "gridwidth": 2,
            "linecolor": "white",
            "showbackground": true,
            "ticks": "",
            "zerolinecolor": "white"
           },
           "yaxis": {
            "backgroundcolor": "#E5ECF6",
            "gridcolor": "white",
            "gridwidth": 2,
            "linecolor": "white",
            "showbackground": true,
            "ticks": "",
            "zerolinecolor": "white"
           },
           "zaxis": {
            "backgroundcolor": "#E5ECF6",
            "gridcolor": "white",
            "gridwidth": 2,
            "linecolor": "white",
            "showbackground": true,
            "ticks": "",
            "zerolinecolor": "white"
           }
          },
          "shapedefaults": {
           "line": {
            "color": "#2a3f5f"
           }
          },
          "ternary": {
           "aaxis": {
            "gridcolor": "white",
            "linecolor": "white",
            "ticks": ""
           },
           "baxis": {
            "gridcolor": "white",
            "linecolor": "white",
            "ticks": ""
           },
           "bgcolor": "#E5ECF6",
           "caxis": {
            "gridcolor": "white",
            "linecolor": "white",
            "ticks": ""
           }
          },
          "title": {
           "x": 0.05
          },
          "xaxis": {
           "automargin": true,
           "gridcolor": "white",
           "linecolor": "white",
           "ticks": "",
           "title": {
            "standoff": 15
           },
           "zerolinecolor": "white",
           "zerolinewidth": 2
          },
          "yaxis": {
           "automargin": true,
           "gridcolor": "white",
           "linecolor": "white",
           "ticks": "",
           "title": {
            "standoff": 15
           },
           "zerolinecolor": "white",
           "zerolinewidth": 2
          }
         }
        },
        "xaxis": {
         "anchor": "y",
         "domain": [
          0,
          0.94
         ],
         "title": {
          "text": "Zeit"
         }
        },
        "yaxis": {
         "anchor": "x",
         "domain": [
          0,
          1
         ],
         "title": {
          "text": "% FTP"
         }
        },
        "yaxis2": {
         "anchor": "x",
         "overlaying": "y",
         "showgrid": false,
         "side": "right",
         "title": {
          "text": "Watt"
         }
        }
       }
      },
      "text/html": [
       "<div>                            <div id=\"31ea3ad9-19aa-4e49-926b-c09e693cac91\" class=\"plotly-graph-div\" style=\"height:525px; width:100%;\"></div>            <script type=\"text/javascript\">                require([\"plotly\"], function(Plotly) {                    window.PLOTLYENV=window.PLOTLYENV || {};                                    if (document.getElementById(\"31ea3ad9-19aa-4e49-926b-c09e693cac91\")) {                    Plotly.newPlot(                        \"31ea3ad9-19aa-4e49-926b-c09e693cac91\",                        [{\"hoverinfo\": \"text\", \"marker\": {\"color\": [\"grey\", \"grey\", \"grey\", \"grey\"]}, \"mode\": \"markers\", \"showlegend\": false, \"text\": [\"ID: 0<br>540.0 sek <br>50 bis 59 % FTP<br>158 bis 186 w<br>\", \"ID: 0<br>540.0 sek <br>50 bis 59 % FTP<br>158 bis 186 w<br>\", \"ID: 0<br>540.0 sek <br>50 bis 59 % FTP<br>158 bis 186 w<br>\", \"ID: 0<br>540.0 sek <br>50 bis 59 % FTP<br>158 bis 186 w<br>\"], \"type\": \"scatter\", \"x\": [270.0, 270.0, 270.0, 270.0], \"y\": [11.8, 23.6, 35.4, 47.2]}, {\"fill\": \"tozeroy\", \"fillcolor\": \"grey\", \"hoverinfo\": \"text\", \"legendgroup\": \"grey\", \"line\": {\"color\": \"black\"}, \"mode\": \"lines\", \"showlegend\": false, \"text\": \"ID: 0<br>540.0 sek <br>50 bis 59 % FTP<br>158 bis 186 w<br>\", \"type\": \"scatter\", \"x\": [0, 0, 540.0, 540.0], \"xaxis\": \"x\", \"y\": [0, 50, 59, 0], \"yaxis\": \"y\"}, {\"hoverinfo\": \"none\", \"line\": {\"color\": \"rgba(0,0,0,0)\"}, \"mode\": \"lines\", \"showlegend\": false, \"type\": \"scatter\", \"x\": [0, 540.0], \"xaxis\": \"x\", \"y\": [157.5, 185.85], \"yaxis\": \"y2\"}, {\"hoverinfo\": \"text\", \"marker\": {\"color\": [\"blue\", \"blue\", \"blue\", \"blue\"]}, \"mode\": \"markers\", \"showlegend\": false, \"text\": [\"ID: 0<br>360.0 sek <br>59 bis 65 % FTP<br>186 bis 205 w<br>\", \"ID: 0<br>360.0 sek <br>59 bis 65 % FTP<br>186 bis 205 w<br>\", \"ID: 0<br>360.0 sek <br>59 bis 65 % FTP<br>186 bis 205 w<br>\", \"ID: 0<br>360.0 sek <br>59 bis 65 % FTP<br>186 bis 205 w<br>\"], \"type\": \"scatter\", \"x\": [720.0, 720.0, 720.0, 720.0], \"y\": [13.0, 26.0, 39.0, 52.0]}, {\"fill\": \"tozeroy\", \"fillcolor\": \"blue\", \"hoverinfo\": \"text\", \"legendgroup\": \"blue\", \"line\": {\"color\": \"black\"}, \"mode\": \"lines\", \"showlegend\": false, \"text\": \"ID: 0<br>360.0 sek <br>59 bis 65 % FTP<br>186 bis 205 w<br>\", \"type\": \"scatter\", \"x\": [540.0, 540.0, 900.0, 900.0], \"xaxis\": \"x\", \"y\": [0, 59, 65, 0], \"yaxis\": \"y\"}, {\"hoverinfo\": \"none\", \"line\": {\"color\": \"rgba(0,0,0,0)\"}, \"mode\": \"lines\", \"showlegend\": false, \"type\": \"scatter\", \"x\": [540.0, 900.0], \"xaxis\": \"x\", \"y\": [185.85, 204.75], \"yaxis\": \"y2\"}, {\"hoverinfo\": \"text\", \"marker\": {\"color\": [\"rgb(200, 200, 200)\", \"rgb(200, 200, 200)\", \"rgb(200, 200, 200)\", \"rgb(200, 200, 200)\"]}, \"mode\": \"markers\", \"showlegend\": false, \"text\": [\"ID: 1<br>300 sek <br>Freeride<br>95 rpm\", \"ID: 1<br>300 sek <br>Freeride<br>95 rpm\", \"ID: 1<br>300 sek <br>Freeride<br>95 rpm\", \"ID: 1<br>300 sek <br>Freeride<br>95 rpm\"], \"type\": \"scatter\", \"x\": [1050.0, 1050.0, 1050.0, 1050.0], \"y\": [0.0, 0.0, 0.0, 0.0]}, {\"fill\": \"tozeroy\", \"fillcolor\": \"rgb(200, 200, 200)\", \"hoverinfo\": \"text\", \"legendgroup\": \"rgb(200, 200, 200)\", \"line\": {\"color\": \"black\"}, \"mode\": \"lines\", \"showlegend\": false, \"text\": \"ID: 1<br>300 sek <br>Freeride<br>95 rpm\", \"type\": \"scatter\", \"x\": [900.0, 903.030303030303, 906.060606060606, 909.0909090909091, 912.1212121212121, 915.1515151515151, 918.1818181818181, 921.2121212121212, 924.2424242424242, 927.2727272727273, 930.3030303030303, 933.3333333333334, 936.3636363636364, 939.3939393939394, 942.4242424242424, 945.4545454545455, 948.4848484848485, 951.5151515151515, 954.5454545454545, 957.5757575757576, 960.6060606060606, 963.6363636363636, 966.6666666666666, 969.6969696969697, 972.7272727272727, 975.7575757575758, 978.7878787878788, 981.8181818181818, 984.8484848484849, 987.8787878787879, 990.9090909090909, 993.939393939394, 996.969696969697, 1000.0, 1003.030303030303, 1006.060606060606, 1009.0909090909091, 1012.1212121212121, 1015.1515151515151, 1018.1818181818182, 1021.2121212121212, 1024.2424242424242, 1027.2727272727273, 1030.3030303030303, 1033.3333333333333, 1036.3636363636365, 1039.3939393939395, 1042.4242424242425, 1045.4545454545455, 1048.4848484848485, 1051.5151515151515, 1054.5454545454545, 1057.5757575757575, 1060.6060606060605, 1063.6363636363635, 1066.6666666666667, 1069.6969696969697, 1072.7272727272727, 1075.7575757575758, 1078.7878787878788, 1081.8181818181818, 1084.8484848484848, 1087.878787878788, 1090.909090909091, 1093.939393939394, 1096.969696969697, 1100.0, 1103.030303030303, 1106.060606060606, 1109.090909090909, 1112.121212121212, 1115.1515151515152, 1118.1818181818182, 1121.2121212121212, 1124.2424242424242, 1127.2727272727273, 1130.3030303030303, 1133.3333333333333, 1136.3636363636365, 1139.3939393939395, 1142.4242424242425, 1145.4545454545455, 1148.4848484848485, 1151.5151515151515, 1154.5454545454545, 1157.5757575757575, 1160.6060606060605, 1163.6363636363635, 1166.6666666666667, 1169.6969696969697, 1172.7272727272727, 1175.7575757575758, 1178.7878787878788, 1181.8181818181818, 1184.848484848485, 1187.878787878788, 1190.909090909091, 1193.939393939394, 1196.969696969697, 1200.0], \"xaxis\": \"x\", \"y\": [40.08221146556885, 40.000252290046795, 40.06503339536652, 40.27560415778596, 40.628874578066075, 41.119660625350406, 41.7407603096987, 42.483059366956034, 43.33566500509495, 44.28606574938473, 45.32031504075451, 46.423235893156566, 47.57864360670412, 48.76958326840439, 49.97857855530486, 51.187888189017045, 52.37976627830215, 53.53672272934755, 54.64177990236937, 55.678721748261395, 56.632331769358146, 57.48861631238285, 58.23500991688897, 58.86055970583202, 59.35608611244962, 59.714317584880575, 59.92999729181322, 59.99996026332178, 59.92317983489578, 59.7007827131239, 59.33603244195288, 58.83428151214356, 58.2028928166897, 57.45113160479349, 56.590029519908185, 55.632222717008446, 54.59176643461882, 53.48392874264577, 52.324966492638154, 51.13188675827255, 49.92219726678037, 48.713649483584575, 47.52397812022605, 46.3706408881424, 45.27056231725672, 44.239885398684486, 43.293734696052454, 42.445994401627104, 41.70910459414782, 41.093878688156124, 40.60934475364386, 40.26261303455823, 40.058771610249906, 40.000811730970184, 40.08958392307331, 40.323785508054016, 40.69997971857066, 41.21264613093824, 41.8542616740243, 42.615411025791126, 43.48492477748151, 44.45004333797183, 45.496604173094376, 46.60924963230428, 47.77165231296135, 48.966754655139255, 50.17701925105413, 51.38468619597139, 52.572033704122084, 53.721638165245466, 54.81662982558634, 55.84094034138054, 56.779538572131656, 57.618651153553586, 58.345964613404156, 58.95080606428119, 59.42429982182338, 59.75949765003776, 59.95148072248228, 59.997431803084105, 59.89667658738398, 59.65069359754836, 59.263092485946274, 58.739561065672646, 58.08778184531363, 57.317319292755386, 56.43947948237305, 55.46714418519181, 54.41458183664805, 53.29723815588498, 52.13150948911721, 50.934502203115926, 49.72378165956963, 48.51711445396986, 47.332207701512594, 46.186449195837525, 45.096652253617656, 44.078808989254384, 43.147855640220705, 42.31745338676333], \"yaxis\": \"y\"}, {\"hoverinfo\": \"none\", \"line\": {\"color\": \"rgba(0,0,0,0)\"}, \"mode\": \"lines\", \"showlegend\": false, \"type\": \"scatter\", \"x\": [903.030303030303, 906.060606060606], \"xaxis\": \"x\", \"y\": [126.0007947136474, 126.20485519540453], \"yaxis\": \"y2\"}, {\"hoverinfo\": \"none\", \"legendgroup\": \"rgb(200, 200, 200)\", \"line\": {\"color\": \"black\"}, \"mode\": \"lines\", \"showlegend\": false, \"type\": \"scatter\", \"x\": [900, 1200], \"xaxis\": \"x\", \"y\": [0, 40], \"yaxis\": \"y\"}, {\"hoverinfo\": \"none\", \"legendgroup\": \"rgb(200, 200, 200)\", \"line\": {\"color\": \"black\"}, \"mode\": \"lines\", \"showlegend\": false, \"type\": \"scatter\", \"x\": [900, 1200], \"xaxis\": \"x\", \"y\": [40, 0], \"yaxis\": \"y\"}, {\"hoverinfo\": \"text\", \"marker\": {\"color\": [\"orange\", \"orange\", \"orange\", \"orange\"]}, \"mode\": \"markers\", \"showlegend\": false, \"text\": [\"ID: 2<br>40 sek <br>115 % FTP<br>362 w<br>\", \"ID: 2<br>40 sek <br>115 % FTP<br>362 w<br>\", \"ID: 2<br>40 sek <br>115 % FTP<br>362 w<br>\", \"ID: 2<br>40 sek <br>115 % FTP<br>362 w<br>\"], \"type\": \"scatter\", \"x\": [1220.0, 1220.0, 1220.0, 1220.0], \"y\": [23.0, 46.0, 69.0, 92.0]}, {\"fill\": \"tozeroy\", \"fillcolor\": \"orange\", \"hoverinfo\": \"text\", \"legendgroup\": \"orange\", \"line\": {\"color\": \"black\"}, \"mode\": \"lines\", \"showlegend\": false, \"text\": \"ID: 2<br>40 sek <br>115 % FTP<br>362 w<br>\", \"type\": \"scatter\", \"x\": [1200, 1200, 1240, 1240], \"xaxis\": \"x\", \"y\": [0, 115, 115, 0], \"yaxis\": \"y\"}, {\"hoverinfo\": \"none\", \"line\": {\"color\": \"rgba(0,0,0,0)\"}, \"mode\": \"lines\", \"showlegend\": false, \"type\": \"scatter\", \"x\": [1200, 1240], \"xaxis\": \"x\", \"y\": [362.25, 362.25], \"yaxis\": \"y2\"}, {\"hoverinfo\": \"text\", \"marker\": {\"color\": [\"blue\", \"blue\", \"blue\", \"blue\"]}, \"mode\": \"markers\", \"showlegend\": false, \"text\": [\"ID: 3<br>20 sek <br>70 % FTP<br>220 w<br>\", \"ID: 3<br>20 sek <br>70 % FTP<br>220 w<br>\", \"ID: 3<br>20 sek <br>70 % FTP<br>220 w<br>\", \"ID: 3<br>20 sek <br>70 % FTP<br>220 w<br>\"], \"type\": \"scatter\", \"x\": [1250.0, 1250.0, 1250.0, 1250.0], \"y\": [14.0, 28.0, 42.0, 56.0]}, {\"fill\": \"tozeroy\", \"fillcolor\": \"blue\", \"hoverinfo\": \"text\", \"legendgroup\": \"blue\", \"line\": {\"color\": \"black\"}, \"mode\": \"lines\", \"showlegend\": false, \"text\": \"ID: 3<br>20 sek <br>70 % FTP<br>220 w<br>\", \"type\": \"scatter\", \"x\": [1240, 1240, 1260, 1260], \"xaxis\": \"x\", \"y\": [0, 70, 70, 0], \"yaxis\": \"y\"}, {\"hoverinfo\": \"none\", \"line\": {\"color\": \"rgba(0,0,0,0)\"}, \"mode\": \"lines\", \"showlegend\": false, \"type\": \"scatter\", \"x\": [1240, 1260], \"xaxis\": \"x\", \"y\": [220.5, 220.5], \"yaxis\": \"y2\"}, {\"hoverinfo\": \"text\", \"marker\": {\"color\": [\"orange\", \"orange\", \"orange\", \"orange\"]}, \"mode\": \"markers\", \"showlegend\": false, \"text\": [\"ID: 4<br>40 sek <br>115 % FTP<br>362 w<br>\", \"ID: 4<br>40 sek <br>115 % FTP<br>362 w<br>\", \"ID: 4<br>40 sek <br>115 % FTP<br>362 w<br>\", \"ID: 4<br>40 sek <br>115 % FTP<br>362 w<br>\"], \"type\": \"scatter\", \"x\": [1280.0, 1280.0, 1280.0, 1280.0], \"y\": [23.0, 46.0, 69.0, 92.0]}, {\"fill\": \"tozeroy\", \"fillcolor\": \"orange\", \"hoverinfo\": \"text\", \"legendgroup\": \"orange\", \"line\": {\"color\": \"black\"}, \"mode\": \"lines\", \"showlegend\": false, \"text\": \"ID: 4<br>40 sek <br>115 % FTP<br>362 w<br>\", \"type\": \"scatter\", \"x\": [1260, 1260, 1300, 1300], \"xaxis\": \"x\", \"y\": [0, 115, 115, 0], \"yaxis\": \"y\"}, {\"hoverinfo\": \"none\", \"line\": {\"color\": \"rgba(0,0,0,0)\"}, \"mode\": \"lines\", \"showlegend\": false, \"type\": \"scatter\", \"x\": [1260, 1300], \"xaxis\": \"x\", \"y\": [362.25, 362.25], \"yaxis\": \"y2\"}, {\"hoverinfo\": \"text\", \"marker\": {\"color\": [\"blue\", \"blue\", \"blue\", \"blue\"]}, \"mode\": \"markers\", \"showlegend\": false, \"text\": [\"ID: 5<br>20 sek <br>70 % FTP<br>220 w<br>\", \"ID: 5<br>20 sek <br>70 % FTP<br>220 w<br>\", \"ID: 5<br>20 sek <br>70 % FTP<br>220 w<br>\", \"ID: 5<br>20 sek <br>70 % FTP<br>220 w<br>\"], \"type\": \"scatter\", \"x\": [1310.0, 1310.0, 1310.0, 1310.0], \"y\": [14.0, 28.0, 42.0, 56.0]}, {\"fill\": \"tozeroy\", \"fillcolor\": \"blue\", \"hoverinfo\": \"text\", \"legendgroup\": \"blue\", \"line\": {\"color\": \"black\"}, \"mode\": \"lines\", \"showlegend\": false, \"text\": \"ID: 5<br>20 sek <br>70 % FTP<br>220 w<br>\", \"type\": \"scatter\", \"x\": [1300, 1300, 1320, 1320], \"xaxis\": \"x\", \"y\": [0, 70, 70, 0], \"yaxis\": \"y\"}, {\"hoverinfo\": \"none\", \"line\": {\"color\": \"rgba(0,0,0,0)\"}, \"mode\": \"lines\", \"showlegend\": false, \"type\": \"scatter\", \"x\": [1300, 1320], \"xaxis\": \"x\", \"y\": [220.5, 220.5], \"yaxis\": \"y2\"}, {\"hoverinfo\": \"text\", \"marker\": {\"color\": [\"orange\", \"orange\", \"orange\", \"orange\"]}, \"mode\": \"markers\", \"showlegend\": false, \"text\": [\"ID: 6<br>40 sek <br>115 % FTP<br>362 w<br>\", \"ID: 6<br>40 sek <br>115 % FTP<br>362 w<br>\", \"ID: 6<br>40 sek <br>115 % FTP<br>362 w<br>\", \"ID: 6<br>40 sek <br>115 % FTP<br>362 w<br>\"], \"type\": \"scatter\", \"x\": [1340.0, 1340.0, 1340.0, 1340.0], \"y\": [23.0, 46.0, 69.0, 92.0]}, {\"fill\": \"tozeroy\", \"fillcolor\": \"orange\", \"hoverinfo\": \"text\", \"legendgroup\": \"orange\", \"line\": {\"color\": \"black\"}, \"mode\": \"lines\", \"showlegend\": false, \"text\": \"ID: 6<br>40 sek <br>115 % FTP<br>362 w<br>\", \"type\": \"scatter\", \"x\": [1320, 1320, 1360, 1360], \"xaxis\": \"x\", \"y\": [0, 115, 115, 0], \"yaxis\": \"y\"}, {\"hoverinfo\": \"none\", \"line\": {\"color\": \"rgba(0,0,0,0)\"}, \"mode\": \"lines\", \"showlegend\": false, \"type\": \"scatter\", \"x\": [1320, 1360], \"xaxis\": \"x\", \"y\": [362.25, 362.25], \"yaxis\": \"y2\"}, {\"hoverinfo\": \"text\", \"marker\": {\"color\": [\"blue\", \"blue\", \"blue\", \"blue\"]}, \"mode\": \"markers\", \"showlegend\": false, \"text\": [\"ID: 7<br>20 sek <br>70 % FTP<br>220 w<br>\", \"ID: 7<br>20 sek <br>70 % FTP<br>220 w<br>\", \"ID: 7<br>20 sek <br>70 % FTP<br>220 w<br>\", \"ID: 7<br>20 sek <br>70 % FTP<br>220 w<br>\"], \"type\": \"scatter\", \"x\": [1370.0, 1370.0, 1370.0, 1370.0], \"y\": [14.0, 28.0, 42.0, 56.0]}, {\"fill\": \"tozeroy\", \"fillcolor\": \"blue\", \"hoverinfo\": \"text\", \"legendgroup\": \"blue\", \"line\": {\"color\": \"black\"}, \"mode\": \"lines\", \"showlegend\": false, \"text\": \"ID: 7<br>20 sek <br>70 % FTP<br>220 w<br>\", \"type\": \"scatter\", \"x\": [1360, 1360, 1380, 1380], \"xaxis\": \"x\", \"y\": [0, 70, 70, 0], \"yaxis\": \"y\"}, {\"hoverinfo\": \"none\", \"line\": {\"color\": \"rgba(0,0,0,0)\"}, \"mode\": \"lines\", \"showlegend\": false, \"type\": \"scatter\", \"x\": [1360, 1380], \"xaxis\": \"x\", \"y\": [220.5, 220.5], \"yaxis\": \"y2\"}, {\"hoverinfo\": \"text\", \"marker\": {\"color\": [\"orange\", \"orange\", \"orange\", \"orange\"]}, \"mode\": \"markers\", \"showlegend\": false, \"text\": [\"ID: 8<br>40 sek <br>115 % FTP<br>362 w<br>\", \"ID: 8<br>40 sek <br>115 % FTP<br>362 w<br>\", \"ID: 8<br>40 sek <br>115 % FTP<br>362 w<br>\", \"ID: 8<br>40 sek <br>115 % FTP<br>362 w<br>\"], \"type\": \"scatter\", \"x\": [1400.0, 1400.0, 1400.0, 1400.0], \"y\": [23.0, 46.0, 69.0, 92.0]}, {\"fill\": \"tozeroy\", \"fillcolor\": \"orange\", \"hoverinfo\": \"text\", \"legendgroup\": \"orange\", \"line\": {\"color\": \"black\"}, \"mode\": \"lines\", \"showlegend\": false, \"text\": \"ID: 8<br>40 sek <br>115 % FTP<br>362 w<br>\", \"type\": \"scatter\", \"x\": [1380, 1380, 1420, 1420], \"xaxis\": \"x\", \"y\": [0, 115, 115, 0], \"yaxis\": \"y\"}, {\"hoverinfo\": \"none\", \"line\": {\"color\": \"rgba(0,0,0,0)\"}, \"mode\": \"lines\", \"showlegend\": false, \"type\": \"scatter\", \"x\": [1380, 1420], \"xaxis\": \"x\", \"y\": [362.25, 362.25], \"yaxis\": \"y2\"}, {\"hoverinfo\": \"text\", \"marker\": {\"color\": [\"blue\", \"blue\", \"blue\", \"blue\"]}, \"mode\": \"markers\", \"showlegend\": false, \"text\": [\"ID: 9<br>20 sek <br>70 % FTP<br>220 w<br>\", \"ID: 9<br>20 sek <br>70 % FTP<br>220 w<br>\", \"ID: 9<br>20 sek <br>70 % FTP<br>220 w<br>\", \"ID: 9<br>20 sek <br>70 % FTP<br>220 w<br>\"], \"type\": \"scatter\", \"x\": [1430.0, 1430.0, 1430.0, 1430.0], \"y\": [14.0, 28.0, 42.0, 56.0]}, {\"fill\": \"tozeroy\", \"fillcolor\": \"blue\", \"hoverinfo\": \"text\", \"legendgroup\": \"blue\", \"line\": {\"color\": \"black\"}, \"mode\": \"lines\", \"showlegend\": false, \"text\": \"ID: 9<br>20 sek <br>70 % FTP<br>220 w<br>\", \"type\": \"scatter\", \"x\": [1420, 1420, 1440, 1440], \"xaxis\": \"x\", \"y\": [0, 70, 70, 0], \"yaxis\": \"y\"}, {\"hoverinfo\": \"none\", \"line\": {\"color\": \"rgba(0,0,0,0)\"}, \"mode\": \"lines\", \"showlegend\": false, \"type\": \"scatter\", \"x\": [1420, 1440], \"xaxis\": \"x\", \"y\": [220.5, 220.5], \"yaxis\": \"y2\"}, {\"hoverinfo\": \"text\", \"marker\": {\"color\": [\"orange\", \"orange\", \"orange\", \"orange\"]}, \"mode\": \"markers\", \"showlegend\": false, \"text\": [\"ID: 10<br>40 sek <br>115 % FTP<br>362 w<br>\", \"ID: 10<br>40 sek <br>115 % FTP<br>362 w<br>\", \"ID: 10<br>40 sek <br>115 % FTP<br>362 w<br>\", \"ID: 10<br>40 sek <br>115 % FTP<br>362 w<br>\"], \"type\": \"scatter\", \"x\": [1460.0, 1460.0, 1460.0, 1460.0], \"y\": [23.0, 46.0, 69.0, 92.0]}, {\"fill\": \"tozeroy\", \"fillcolor\": \"orange\", \"hoverinfo\": \"text\", \"legendgroup\": \"orange\", \"line\": {\"color\": \"black\"}, \"mode\": \"lines\", \"showlegend\": false, \"text\": \"ID: 10<br>40 sek <br>115 % FTP<br>362 w<br>\", \"type\": \"scatter\", \"x\": [1440, 1440, 1480, 1480], \"xaxis\": \"x\", \"y\": [0, 115, 115, 0], \"yaxis\": \"y\"}, {\"hoverinfo\": \"none\", \"line\": {\"color\": \"rgba(0,0,0,0)\"}, \"mode\": \"lines\", \"showlegend\": false, \"type\": \"scatter\", \"x\": [1440, 1480], \"xaxis\": \"x\", \"y\": [362.25, 362.25], \"yaxis\": \"y2\"}, {\"hoverinfo\": \"text\", \"marker\": {\"color\": [\"blue\", \"blue\", \"blue\", \"blue\"]}, \"mode\": \"markers\", \"showlegend\": false, \"text\": [\"ID: 11<br>20 sek <br>70 % FTP<br>220 w<br>\", \"ID: 11<br>20 sek <br>70 % FTP<br>220 w<br>\", \"ID: 11<br>20 sek <br>70 % FTP<br>220 w<br>\", \"ID: 11<br>20 sek <br>70 % FTP<br>220 w<br>\"], \"type\": \"scatter\", \"x\": [1490.0, 1490.0, 1490.0, 1490.0], \"y\": [14.0, 28.0, 42.0, 56.0]}, {\"fill\": \"tozeroy\", \"fillcolor\": \"blue\", \"hoverinfo\": \"text\", \"legendgroup\": \"blue\", \"line\": {\"color\": \"black\"}, \"mode\": \"lines\", \"showlegend\": false, \"text\": \"ID: 11<br>20 sek <br>70 % FTP<br>220 w<br>\", \"type\": \"scatter\", \"x\": [1480, 1480, 1500, 1500], \"xaxis\": \"x\", \"y\": [0, 70, 70, 0], \"yaxis\": \"y\"}, {\"hoverinfo\": \"none\", \"line\": {\"color\": \"rgba(0,0,0,0)\"}, \"mode\": \"lines\", \"showlegend\": false, \"type\": \"scatter\", \"x\": [1480, 1500], \"xaxis\": \"x\", \"y\": [220.5, 220.5], \"yaxis\": \"y2\"}, {\"hoverinfo\": \"text\", \"marker\": {\"color\": [\"orange\", \"orange\", \"orange\", \"orange\"]}, \"mode\": \"markers\", \"showlegend\": false, \"text\": [\"ID: 12<br>40 sek <br>115 % FTP<br>362 w<br>\", \"ID: 12<br>40 sek <br>115 % FTP<br>362 w<br>\", \"ID: 12<br>40 sek <br>115 % FTP<br>362 w<br>\", \"ID: 12<br>40 sek <br>115 % FTP<br>362 w<br>\"], \"type\": \"scatter\", \"x\": [1520.0, 1520.0, 1520.0, 1520.0], \"y\": [23.0, 46.0, 69.0, 92.0]}, {\"fill\": \"tozeroy\", \"fillcolor\": \"orange\", \"hoverinfo\": \"text\", \"legendgroup\": \"orange\", \"line\": {\"color\": \"black\"}, \"mode\": \"lines\", \"showlegend\": false, \"text\": \"ID: 12<br>40 sek <br>115 % FTP<br>362 w<br>\", \"type\": \"scatter\", \"x\": [1500, 1500, 1540, 1540], \"xaxis\": \"x\", \"y\": [0, 115, 115, 0], \"yaxis\": \"y\"}, {\"hoverinfo\": \"none\", \"line\": {\"color\": \"rgba(0,0,0,0)\"}, \"mode\": \"lines\", \"showlegend\": false, \"type\": \"scatter\", \"x\": [1500, 1540], \"xaxis\": \"x\", \"y\": [362.25, 362.25], \"yaxis\": \"y2\"}, {\"hoverinfo\": \"text\", \"marker\": {\"color\": [\"blue\", \"blue\", \"blue\", \"blue\"]}, \"mode\": \"markers\", \"showlegend\": false, \"text\": [\"ID: 13<br>20 sek <br>70 % FTP<br>220 w<br>\", \"ID: 13<br>20 sek <br>70 % FTP<br>220 w<br>\", \"ID: 13<br>20 sek <br>70 % FTP<br>220 w<br>\", \"ID: 13<br>20 sek <br>70 % FTP<br>220 w<br>\"], \"type\": \"scatter\", \"x\": [1550.0, 1550.0, 1550.0, 1550.0], \"y\": [14.0, 28.0, 42.0, 56.0]}, {\"fill\": \"tozeroy\", \"fillcolor\": \"blue\", \"hoverinfo\": \"text\", \"legendgroup\": \"blue\", \"line\": {\"color\": \"black\"}, \"mode\": \"lines\", \"showlegend\": false, \"text\": \"ID: 13<br>20 sek <br>70 % FTP<br>220 w<br>\", \"type\": \"scatter\", \"x\": [1540, 1540, 1560, 1560], \"xaxis\": \"x\", \"y\": [0, 70, 70, 0], \"yaxis\": \"y\"}, {\"hoverinfo\": \"none\", \"line\": {\"color\": \"rgba(0,0,0,0)\"}, \"mode\": \"lines\", \"showlegend\": false, \"type\": \"scatter\", \"x\": [1540, 1560], \"xaxis\": \"x\", \"y\": [220.5, 220.5], \"yaxis\": \"y2\"}, {\"hoverinfo\": \"text\", \"marker\": {\"color\": [\"blue\", \"blue\", \"blue\", \"blue\"]}, \"mode\": \"markers\", \"showlegend\": false, \"text\": [\"ID: 14<br>600 sek <br>65 % FTP<br>205 w<br>\", \"ID: 14<br>600 sek <br>65 % FTP<br>205 w<br>\", \"ID: 14<br>600 sek <br>65 % FTP<br>205 w<br>\", \"ID: 14<br>600 sek <br>65 % FTP<br>205 w<br>\"], \"type\": \"scatter\", \"x\": [1860.0, 1860.0, 1860.0, 1860.0], \"y\": [13.0, 26.0, 39.0, 52.0]}, {\"fill\": \"tozeroy\", \"fillcolor\": \"blue\", \"hoverinfo\": \"text\", \"legendgroup\": \"blue\", \"line\": {\"color\": \"black\"}, \"mode\": \"lines\", \"showlegend\": false, \"text\": \"ID: 14<br>600 sek <br>65 % FTP<br>205 w<br>\", \"type\": \"scatter\", \"x\": [1560, 1560, 2160, 2160], \"xaxis\": \"x\", \"y\": [0, 65, 65, 0], \"yaxis\": \"y\"}, {\"hoverinfo\": \"none\", \"line\": {\"color\": \"rgba(0,0,0,0)\"}, \"mode\": \"lines\", \"showlegend\": false, \"type\": \"scatter\", \"x\": [1560, 2160], \"xaxis\": \"x\", \"y\": [204.75, 204.75], \"yaxis\": \"y2\"}, {\"hoverinfo\": \"text\", \"marker\": {\"color\": [\"orange\", \"orange\", \"orange\", \"orange\"]}, \"mode\": \"markers\", \"showlegend\": false, \"text\": [\"ID: 15<br>40 sek <br>115 % FTP<br>362 w<br>\", \"ID: 15<br>40 sek <br>115 % FTP<br>362 w<br>\", \"ID: 15<br>40 sek <br>115 % FTP<br>362 w<br>\", \"ID: 15<br>40 sek <br>115 % FTP<br>362 w<br>\"], \"type\": \"scatter\", \"x\": [2180.0, 2180.0, 2180.0, 2180.0], \"y\": [23.0, 46.0, 69.0, 92.0]}, {\"fill\": \"tozeroy\", \"fillcolor\": \"orange\", \"hoverinfo\": \"text\", \"legendgroup\": \"orange\", \"line\": {\"color\": \"black\"}, \"mode\": \"lines\", \"showlegend\": false, \"text\": \"ID: 15<br>40 sek <br>115 % FTP<br>362 w<br>\", \"type\": \"scatter\", \"x\": [2160, 2160, 2200, 2200], \"xaxis\": \"x\", \"y\": [0, 115, 115, 0], \"yaxis\": \"y\"}, {\"hoverinfo\": \"none\", \"line\": {\"color\": \"rgba(0,0,0,0)\"}, \"mode\": \"lines\", \"showlegend\": false, \"type\": \"scatter\", \"x\": [2160, 2200], \"xaxis\": \"x\", \"y\": [362.25, 362.25], \"yaxis\": \"y2\"}, {\"hoverinfo\": \"text\", \"marker\": {\"color\": [\"blue\", \"blue\", \"blue\", \"blue\"]}, \"mode\": \"markers\", \"showlegend\": false, \"text\": [\"ID: 16<br>20 sek <br>70 % FTP<br>220 w<br>\", \"ID: 16<br>20 sek <br>70 % FTP<br>220 w<br>\", \"ID: 16<br>20 sek <br>70 % FTP<br>220 w<br>\", \"ID: 16<br>20 sek <br>70 % FTP<br>220 w<br>\"], \"type\": \"scatter\", \"x\": [2210.0, 2210.0, 2210.0, 2210.0], \"y\": [14.0, 28.0, 42.0, 56.0]}, {\"fill\": \"tozeroy\", \"fillcolor\": \"blue\", \"hoverinfo\": \"text\", \"legendgroup\": \"blue\", \"line\": {\"color\": \"black\"}, \"mode\": \"lines\", \"showlegend\": false, \"text\": \"ID: 16<br>20 sek <br>70 % FTP<br>220 w<br>\", \"type\": \"scatter\", \"x\": [2200, 2200, 2220, 2220], \"xaxis\": \"x\", \"y\": [0, 70, 70, 0], \"yaxis\": \"y\"}, {\"hoverinfo\": \"none\", \"line\": {\"color\": \"rgba(0,0,0,0)\"}, \"mode\": \"lines\", \"showlegend\": false, \"type\": \"scatter\", \"x\": [2200, 2220], \"xaxis\": \"x\", \"y\": [220.5, 220.5], \"yaxis\": \"y2\"}, {\"hoverinfo\": \"text\", \"marker\": {\"color\": [\"orange\", \"orange\", \"orange\", \"orange\"]}, \"mode\": \"markers\", \"showlegend\": false, \"text\": [\"ID: 17<br>40 sek <br>115 % FTP<br>362 w<br>\", \"ID: 17<br>40 sek <br>115 % FTP<br>362 w<br>\", \"ID: 17<br>40 sek <br>115 % FTP<br>362 w<br>\", \"ID: 17<br>40 sek <br>115 % FTP<br>362 w<br>\"], \"type\": \"scatter\", \"x\": [2240.0, 2240.0, 2240.0, 2240.0], \"y\": [23.0, 46.0, 69.0, 92.0]}, {\"fill\": \"tozeroy\", \"fillcolor\": \"orange\", \"hoverinfo\": \"text\", \"legendgroup\": \"orange\", \"line\": {\"color\": \"black\"}, \"mode\": \"lines\", \"showlegend\": false, \"text\": \"ID: 17<br>40 sek <br>115 % FTP<br>362 w<br>\", \"type\": \"scatter\", \"x\": [2220, 2220, 2260, 2260], \"xaxis\": \"x\", \"y\": [0, 115, 115, 0], \"yaxis\": \"y\"}, {\"hoverinfo\": \"none\", \"line\": {\"color\": \"rgba(0,0,0,0)\"}, \"mode\": \"lines\", \"showlegend\": false, \"type\": \"scatter\", \"x\": [2220, 2260], \"xaxis\": \"x\", \"y\": [362.25, 362.25], \"yaxis\": \"y2\"}, {\"hoverinfo\": \"text\", \"marker\": {\"color\": [\"blue\", \"blue\", \"blue\", \"blue\"]}, \"mode\": \"markers\", \"showlegend\": false, \"text\": [\"ID: 18<br>20 sek <br>70 % FTP<br>220 w<br>\", \"ID: 18<br>20 sek <br>70 % FTP<br>220 w<br>\", \"ID: 18<br>20 sek <br>70 % FTP<br>220 w<br>\", \"ID: 18<br>20 sek <br>70 % FTP<br>220 w<br>\"], \"type\": \"scatter\", \"x\": [2270.0, 2270.0, 2270.0, 2270.0], \"y\": [14.0, 28.0, 42.0, 56.0]}, {\"fill\": \"tozeroy\", \"fillcolor\": \"blue\", \"hoverinfo\": \"text\", \"legendgroup\": \"blue\", \"line\": {\"color\": \"black\"}, \"mode\": \"lines\", \"showlegend\": false, \"text\": \"ID: 18<br>20 sek <br>70 % FTP<br>220 w<br>\", \"type\": \"scatter\", \"x\": [2260, 2260, 2280, 2280], \"xaxis\": \"x\", \"y\": [0, 70, 70, 0], \"yaxis\": \"y\"}, {\"hoverinfo\": \"none\", \"line\": {\"color\": \"rgba(0,0,0,0)\"}, \"mode\": \"lines\", \"showlegend\": false, \"type\": \"scatter\", \"x\": [2260, 2280], \"xaxis\": \"x\", \"y\": [220.5, 220.5], \"yaxis\": \"y2\"}, {\"hoverinfo\": \"text\", \"marker\": {\"color\": [\"orange\", \"orange\", \"orange\", \"orange\"]}, \"mode\": \"markers\", \"showlegend\": false, \"text\": [\"ID: 19<br>40 sek <br>115 % FTP<br>362 w<br>\", \"ID: 19<br>40 sek <br>115 % FTP<br>362 w<br>\", \"ID: 19<br>40 sek <br>115 % FTP<br>362 w<br>\", \"ID: 19<br>40 sek <br>115 % FTP<br>362 w<br>\"], \"type\": \"scatter\", \"x\": [2300.0, 2300.0, 2300.0, 2300.0], \"y\": [23.0, 46.0, 69.0, 92.0]}, {\"fill\": \"tozeroy\", \"fillcolor\": \"orange\", \"hoverinfo\": \"text\", \"legendgroup\": \"orange\", \"line\": {\"color\": \"black\"}, \"mode\": \"lines\", \"showlegend\": false, \"text\": \"ID: 19<br>40 sek <br>115 % FTP<br>362 w<br>\", \"type\": \"scatter\", \"x\": [2280, 2280, 2320, 2320], \"xaxis\": \"x\", \"y\": [0, 115, 115, 0], \"yaxis\": \"y\"}, {\"hoverinfo\": \"none\", \"line\": {\"color\": \"rgba(0,0,0,0)\"}, \"mode\": \"lines\", \"showlegend\": false, \"type\": \"scatter\", \"x\": [2280, 2320], \"xaxis\": \"x\", \"y\": [362.25, 362.25], \"yaxis\": \"y2\"}, {\"hoverinfo\": \"text\", \"marker\": {\"color\": [\"blue\", \"blue\", \"blue\", \"blue\"]}, \"mode\": \"markers\", \"showlegend\": false, \"text\": [\"ID: 20<br>20 sek <br>70 % FTP<br>220 w<br>\", \"ID: 20<br>20 sek <br>70 % FTP<br>220 w<br>\", \"ID: 20<br>20 sek <br>70 % FTP<br>220 w<br>\", \"ID: 20<br>20 sek <br>70 % FTP<br>220 w<br>\"], \"type\": \"scatter\", \"x\": [2330.0, 2330.0, 2330.0, 2330.0], \"y\": [14.0, 28.0, 42.0, 56.0]}, {\"fill\": \"tozeroy\", \"fillcolor\": \"blue\", \"hoverinfo\": \"text\", \"legendgroup\": \"blue\", \"line\": {\"color\": \"black\"}, \"mode\": \"lines\", \"showlegend\": false, \"text\": \"ID: 20<br>20 sek <br>70 % FTP<br>220 w<br>\", \"type\": \"scatter\", \"x\": [2320, 2320, 2340, 2340], \"xaxis\": \"x\", \"y\": [0, 70, 70, 0], \"yaxis\": \"y\"}, {\"hoverinfo\": \"none\", \"line\": {\"color\": \"rgba(0,0,0,0)\"}, \"mode\": \"lines\", \"showlegend\": false, \"type\": \"scatter\", \"x\": [2320, 2340], \"xaxis\": \"x\", \"y\": [220.5, 220.5], \"yaxis\": \"y2\"}, {\"hoverinfo\": \"text\", \"marker\": {\"color\": [\"orange\", \"orange\", \"orange\", \"orange\"]}, \"mode\": \"markers\", \"showlegend\": false, \"text\": [\"ID: 21<br>40 sek <br>115 % FTP<br>362 w<br>\", \"ID: 21<br>40 sek <br>115 % FTP<br>362 w<br>\", \"ID: 21<br>40 sek <br>115 % FTP<br>362 w<br>\", \"ID: 21<br>40 sek <br>115 % FTP<br>362 w<br>\"], \"type\": \"scatter\", \"x\": [2360.0, 2360.0, 2360.0, 2360.0], \"y\": [23.0, 46.0, 69.0, 92.0]}, {\"fill\": \"tozeroy\", \"fillcolor\": \"orange\", \"hoverinfo\": \"text\", \"legendgroup\": \"orange\", \"line\": {\"color\": \"black\"}, \"mode\": \"lines\", \"showlegend\": false, \"text\": \"ID: 21<br>40 sek <br>115 % FTP<br>362 w<br>\", \"type\": \"scatter\", \"x\": [2340, 2340, 2380, 2380], \"xaxis\": \"x\", \"y\": [0, 115, 115, 0], \"yaxis\": \"y\"}, {\"hoverinfo\": \"none\", \"line\": {\"color\": \"rgba(0,0,0,0)\"}, \"mode\": \"lines\", \"showlegend\": false, \"type\": \"scatter\", \"x\": [2340, 2380], \"xaxis\": \"x\", \"y\": [362.25, 362.25], \"yaxis\": \"y2\"}, {\"hoverinfo\": \"text\", \"marker\": {\"color\": [\"blue\", \"blue\", \"blue\", \"blue\"]}, \"mode\": \"markers\", \"showlegend\": false, \"text\": [\"ID: 22<br>20 sek <br>70 % FTP<br>220 w<br>\", \"ID: 22<br>20 sek <br>70 % FTP<br>220 w<br>\", \"ID: 22<br>20 sek <br>70 % FTP<br>220 w<br>\", \"ID: 22<br>20 sek <br>70 % FTP<br>220 w<br>\"], \"type\": \"scatter\", \"x\": [2390.0, 2390.0, 2390.0, 2390.0], \"y\": [14.0, 28.0, 42.0, 56.0]}, {\"fill\": \"tozeroy\", \"fillcolor\": \"blue\", \"hoverinfo\": \"text\", \"legendgroup\": \"blue\", \"line\": {\"color\": \"black\"}, \"mode\": \"lines\", \"showlegend\": false, \"text\": \"ID: 22<br>20 sek <br>70 % FTP<br>220 w<br>\", \"type\": \"scatter\", \"x\": [2380, 2380, 2400, 2400], \"xaxis\": \"x\", \"y\": [0, 70, 70, 0], \"yaxis\": \"y\"}, {\"hoverinfo\": \"none\", \"line\": {\"color\": \"rgba(0,0,0,0)\"}, \"mode\": \"lines\", \"showlegend\": false, \"type\": \"scatter\", \"x\": [2380, 2400], \"xaxis\": \"x\", \"y\": [220.5, 220.5], \"yaxis\": \"y2\"}, {\"hoverinfo\": \"text\", \"marker\": {\"color\": [\"orange\", \"orange\", \"orange\", \"orange\"]}, \"mode\": \"markers\", \"showlegend\": false, \"text\": [\"ID: 23<br>40 sek <br>115 % FTP<br>362 w<br>\", \"ID: 23<br>40 sek <br>115 % FTP<br>362 w<br>\", \"ID: 23<br>40 sek <br>115 % FTP<br>362 w<br>\", \"ID: 23<br>40 sek <br>115 % FTP<br>362 w<br>\"], \"type\": \"scatter\", \"x\": [2420.0, 2420.0, 2420.0, 2420.0], \"y\": [23.0, 46.0, 69.0, 92.0]}, {\"fill\": \"tozeroy\", \"fillcolor\": \"orange\", \"hoverinfo\": \"text\", \"legendgroup\": \"orange\", \"line\": {\"color\": \"black\"}, \"mode\": \"lines\", \"showlegend\": false, \"text\": \"ID: 23<br>40 sek <br>115 % FTP<br>362 w<br>\", \"type\": \"scatter\", \"x\": [2400, 2400, 2440, 2440], \"xaxis\": \"x\", \"y\": [0, 115, 115, 0], \"yaxis\": \"y\"}, {\"hoverinfo\": \"none\", \"line\": {\"color\": \"rgba(0,0,0,0)\"}, \"mode\": \"lines\", \"showlegend\": false, \"type\": \"scatter\", \"x\": [2400, 2440], \"xaxis\": \"x\", \"y\": [362.25, 362.25], \"yaxis\": \"y2\"}, {\"hoverinfo\": \"text\", \"marker\": {\"color\": [\"blue\", \"blue\", \"blue\", \"blue\"]}, \"mode\": \"markers\", \"showlegend\": false, \"text\": [\"ID: 24<br>20 sek <br>70 % FTP<br>220 w<br>\", \"ID: 24<br>20 sek <br>70 % FTP<br>220 w<br>\", \"ID: 24<br>20 sek <br>70 % FTP<br>220 w<br>\", \"ID: 24<br>20 sek <br>70 % FTP<br>220 w<br>\"], \"type\": \"scatter\", \"x\": [2450.0, 2450.0, 2450.0, 2450.0], \"y\": [14.0, 28.0, 42.0, 56.0]}, {\"fill\": \"tozeroy\", \"fillcolor\": \"blue\", \"hoverinfo\": \"text\", \"legendgroup\": \"blue\", \"line\": {\"color\": \"black\"}, \"mode\": \"lines\", \"showlegend\": false, \"text\": \"ID: 24<br>20 sek <br>70 % FTP<br>220 w<br>\", \"type\": \"scatter\", \"x\": [2440, 2440, 2460, 2460], \"xaxis\": \"x\", \"y\": [0, 70, 70, 0], \"yaxis\": \"y\"}, {\"hoverinfo\": \"none\", \"line\": {\"color\": \"rgba(0,0,0,0)\"}, \"mode\": \"lines\", \"showlegend\": false, \"type\": \"scatter\", \"x\": [2440, 2460], \"xaxis\": \"x\", \"y\": [220.5, 220.5], \"yaxis\": \"y2\"}, {\"hoverinfo\": \"text\", \"marker\": {\"color\": [\"orange\", \"orange\", \"orange\", \"orange\"]}, \"mode\": \"markers\", \"showlegend\": false, \"text\": [\"ID: 25<br>40 sek <br>115 % FTP<br>362 w<br>\", \"ID: 25<br>40 sek <br>115 % FTP<br>362 w<br>\", \"ID: 25<br>40 sek <br>115 % FTP<br>362 w<br>\", \"ID: 25<br>40 sek <br>115 % FTP<br>362 w<br>\"], \"type\": \"scatter\", \"x\": [2480.0, 2480.0, 2480.0, 2480.0], \"y\": [23.0, 46.0, 69.0, 92.0]}, {\"fill\": \"tozeroy\", \"fillcolor\": \"orange\", \"hoverinfo\": \"text\", \"legendgroup\": \"orange\", \"line\": {\"color\": \"black\"}, \"mode\": \"lines\", \"showlegend\": false, \"text\": \"ID: 25<br>40 sek <br>115 % FTP<br>362 w<br>\", \"type\": \"scatter\", \"x\": [2460, 2460, 2500, 2500], \"xaxis\": \"x\", \"y\": [0, 115, 115, 0], \"yaxis\": \"y\"}, {\"hoverinfo\": \"none\", \"line\": {\"color\": \"rgba(0,0,0,0)\"}, \"mode\": \"lines\", \"showlegend\": false, \"type\": \"scatter\", \"x\": [2460, 2500], \"xaxis\": \"x\", \"y\": [362.25, 362.25], \"yaxis\": \"y2\"}, {\"hoverinfo\": \"text\", \"marker\": {\"color\": [\"blue\", \"blue\", \"blue\", \"blue\"]}, \"mode\": \"markers\", \"showlegend\": false, \"text\": [\"ID: 26<br>20 sek <br>70 % FTP<br>220 w<br>\", \"ID: 26<br>20 sek <br>70 % FTP<br>220 w<br>\", \"ID: 26<br>20 sek <br>70 % FTP<br>220 w<br>\", \"ID: 26<br>20 sek <br>70 % FTP<br>220 w<br>\"], \"type\": \"scatter\", \"x\": [2510.0, 2510.0, 2510.0, 2510.0], \"y\": [14.0, 28.0, 42.0, 56.0]}, {\"fill\": \"tozeroy\", \"fillcolor\": \"blue\", \"hoverinfo\": \"text\", \"legendgroup\": \"blue\", \"line\": {\"color\": \"black\"}, \"mode\": \"lines\", \"showlegend\": false, \"text\": \"ID: 26<br>20 sek <br>70 % FTP<br>220 w<br>\", \"type\": \"scatter\", \"x\": [2500, 2500, 2520, 2520], \"xaxis\": \"x\", \"y\": [0, 70, 70, 0], \"yaxis\": \"y\"}, {\"hoverinfo\": \"none\", \"line\": {\"color\": \"rgba(0,0,0,0)\"}, \"mode\": \"lines\", \"showlegend\": false, \"type\": \"scatter\", \"x\": [2500, 2520], \"xaxis\": \"x\", \"y\": [220.5, 220.5], \"yaxis\": \"y2\"}, {\"hoverinfo\": \"text\", \"marker\": {\"color\": [\"blue\", \"blue\", \"blue\", \"blue\"]}, \"mode\": \"markers\", \"showlegend\": false, \"text\": [\"ID: 27<br>600 sek <br>65 % FTP<br>205 w<br>\", \"ID: 27<br>600 sek <br>65 % FTP<br>205 w<br>\", \"ID: 27<br>600 sek <br>65 % FTP<br>205 w<br>\", \"ID: 27<br>600 sek <br>65 % FTP<br>205 w<br>\"], \"type\": \"scatter\", \"x\": [2820.0, 2820.0, 2820.0, 2820.0], \"y\": [13.0, 26.0, 39.0, 52.0]}, {\"fill\": \"tozeroy\", \"fillcolor\": \"blue\", \"hoverinfo\": \"text\", \"legendgroup\": \"blue\", \"line\": {\"color\": \"black\"}, \"mode\": \"lines\", \"showlegend\": false, \"text\": \"ID: 27<br>600 sek <br>65 % FTP<br>205 w<br>\", \"type\": \"scatter\", \"x\": [2520, 2520, 3120, 3120], \"xaxis\": \"x\", \"y\": [0, 65, 65, 0], \"yaxis\": \"y\"}, {\"hoverinfo\": \"none\", \"line\": {\"color\": \"rgba(0,0,0,0)\"}, \"mode\": \"lines\", \"showlegend\": false, \"type\": \"scatter\", \"x\": [2520, 3120], \"xaxis\": \"x\", \"y\": [204.75, 204.75], \"yaxis\": \"y2\"}, {\"hoverinfo\": \"text\", \"marker\": {\"color\": [\"orange\", \"orange\", \"orange\", \"orange\"]}, \"mode\": \"markers\", \"showlegend\": false, \"text\": [\"ID: 28<br>40 sek <br>115 % FTP<br>362 w<br>\", \"ID: 28<br>40 sek <br>115 % FTP<br>362 w<br>\", \"ID: 28<br>40 sek <br>115 % FTP<br>362 w<br>\", \"ID: 28<br>40 sek <br>115 % FTP<br>362 w<br>\"], \"type\": \"scatter\", \"x\": [3140.0, 3140.0, 3140.0, 3140.0], \"y\": [23.0, 46.0, 69.0, 92.0]}, {\"fill\": \"tozeroy\", \"fillcolor\": \"orange\", \"hoverinfo\": \"text\", \"legendgroup\": \"orange\", \"line\": {\"color\": \"black\"}, \"mode\": \"lines\", \"showlegend\": false, \"text\": \"ID: 28<br>40 sek <br>115 % FTP<br>362 w<br>\", \"type\": \"scatter\", \"x\": [3120, 3120, 3160, 3160], \"xaxis\": \"x\", \"y\": [0, 115, 115, 0], \"yaxis\": \"y\"}, {\"hoverinfo\": \"none\", \"line\": {\"color\": \"rgba(0,0,0,0)\"}, \"mode\": \"lines\", \"showlegend\": false, \"type\": \"scatter\", \"x\": [3120, 3160], \"xaxis\": \"x\", \"y\": [362.25, 362.25], \"yaxis\": \"y2\"}, {\"hoverinfo\": \"text\", \"marker\": {\"color\": [\"blue\", \"blue\", \"blue\", \"blue\"]}, \"mode\": \"markers\", \"showlegend\": false, \"text\": [\"ID: 29<br>20 sek <br>70 % FTP<br>220 w<br>\", \"ID: 29<br>20 sek <br>70 % FTP<br>220 w<br>\", \"ID: 29<br>20 sek <br>70 % FTP<br>220 w<br>\", \"ID: 29<br>20 sek <br>70 % FTP<br>220 w<br>\"], \"type\": \"scatter\", \"x\": [3170.0, 3170.0, 3170.0, 3170.0], \"y\": [14.0, 28.0, 42.0, 56.0]}, {\"fill\": \"tozeroy\", \"fillcolor\": \"blue\", \"hoverinfo\": \"text\", \"legendgroup\": \"blue\", \"line\": {\"color\": \"black\"}, \"mode\": \"lines\", \"showlegend\": false, \"text\": \"ID: 29<br>20 sek <br>70 % FTP<br>220 w<br>\", \"type\": \"scatter\", \"x\": [3160, 3160, 3180, 3180], \"xaxis\": \"x\", \"y\": [0, 70, 70, 0], \"yaxis\": \"y\"}, {\"hoverinfo\": \"none\", \"line\": {\"color\": \"rgba(0,0,0,0)\"}, \"mode\": \"lines\", \"showlegend\": false, \"type\": \"scatter\", \"x\": [3160, 3180], \"xaxis\": \"x\", \"y\": [220.5, 220.5], \"yaxis\": \"y2\"}, {\"hoverinfo\": \"text\", \"marker\": {\"color\": [\"orange\", \"orange\", \"orange\", \"orange\"]}, \"mode\": \"markers\", \"showlegend\": false, \"text\": [\"ID: 30<br>40 sek <br>115 % FTP<br>362 w<br>\", \"ID: 30<br>40 sek <br>115 % FTP<br>362 w<br>\", \"ID: 30<br>40 sek <br>115 % FTP<br>362 w<br>\", \"ID: 30<br>40 sek <br>115 % FTP<br>362 w<br>\"], \"type\": \"scatter\", \"x\": [3200.0, 3200.0, 3200.0, 3200.0], \"y\": [23.0, 46.0, 69.0, 92.0]}, {\"fill\": \"tozeroy\", \"fillcolor\": \"orange\", \"hoverinfo\": \"text\", \"legendgroup\": \"orange\", \"line\": {\"color\": \"black\"}, \"mode\": \"lines\", \"showlegend\": false, \"text\": \"ID: 30<br>40 sek <br>115 % FTP<br>362 w<br>\", \"type\": \"scatter\", \"x\": [3180, 3180, 3220, 3220], \"xaxis\": \"x\", \"y\": [0, 115, 115, 0], \"yaxis\": \"y\"}, {\"hoverinfo\": \"none\", \"line\": {\"color\": \"rgba(0,0,0,0)\"}, \"mode\": \"lines\", \"showlegend\": false, \"type\": \"scatter\", \"x\": [3180, 3220], \"xaxis\": \"x\", \"y\": [362.25, 362.25], \"yaxis\": \"y2\"}, {\"hoverinfo\": \"text\", \"marker\": {\"color\": [\"blue\", \"blue\", \"blue\", \"blue\"]}, \"mode\": \"markers\", \"showlegend\": false, \"text\": [\"ID: 31<br>20 sek <br>70 % FTP<br>220 w<br>\", \"ID: 31<br>20 sek <br>70 % FTP<br>220 w<br>\", \"ID: 31<br>20 sek <br>70 % FTP<br>220 w<br>\", \"ID: 31<br>20 sek <br>70 % FTP<br>220 w<br>\"], \"type\": \"scatter\", \"x\": [3230.0, 3230.0, 3230.0, 3230.0], \"y\": [14.0, 28.0, 42.0, 56.0]}, {\"fill\": \"tozeroy\", \"fillcolor\": \"blue\", \"hoverinfo\": \"text\", \"legendgroup\": \"blue\", \"line\": {\"color\": \"black\"}, \"mode\": \"lines\", \"showlegend\": false, \"text\": \"ID: 31<br>20 sek <br>70 % FTP<br>220 w<br>\", \"type\": \"scatter\", \"x\": [3220, 3220, 3240, 3240], \"xaxis\": \"x\", \"y\": [0, 70, 70, 0], \"yaxis\": \"y\"}, {\"hoverinfo\": \"none\", \"line\": {\"color\": \"rgba(0,0,0,0)\"}, \"mode\": \"lines\", \"showlegend\": false, \"type\": \"scatter\", \"x\": [3220, 3240], \"xaxis\": \"x\", \"y\": [220.5, 220.5], \"yaxis\": \"y2\"}, {\"hoverinfo\": \"text\", \"marker\": {\"color\": [\"orange\", \"orange\", \"orange\", \"orange\"]}, \"mode\": \"markers\", \"showlegend\": false, \"text\": [\"ID: 32<br>40 sek <br>115 % FTP<br>362 w<br>\", \"ID: 32<br>40 sek <br>115 % FTP<br>362 w<br>\", \"ID: 32<br>40 sek <br>115 % FTP<br>362 w<br>\", \"ID: 32<br>40 sek <br>115 % FTP<br>362 w<br>\"], \"type\": \"scatter\", \"x\": [3260.0, 3260.0, 3260.0, 3260.0], \"y\": [23.0, 46.0, 69.0, 92.0]}, {\"fill\": \"tozeroy\", \"fillcolor\": \"orange\", \"hoverinfo\": \"text\", \"legendgroup\": \"orange\", \"line\": {\"color\": \"black\"}, \"mode\": \"lines\", \"showlegend\": false, \"text\": \"ID: 32<br>40 sek <br>115 % FTP<br>362 w<br>\", \"type\": \"scatter\", \"x\": [3240, 3240, 3280, 3280], \"xaxis\": \"x\", \"y\": [0, 115, 115, 0], \"yaxis\": \"y\"}, {\"hoverinfo\": \"none\", \"line\": {\"color\": \"rgba(0,0,0,0)\"}, \"mode\": \"lines\", \"showlegend\": false, \"type\": \"scatter\", \"x\": [3240, 3280], \"xaxis\": \"x\", \"y\": [362.25, 362.25], \"yaxis\": \"y2\"}, {\"hoverinfo\": \"text\", \"marker\": {\"color\": [\"blue\", \"blue\", \"blue\", \"blue\"]}, \"mode\": \"markers\", \"showlegend\": false, \"text\": [\"ID: 33<br>20 sek <br>70 % FTP<br>220 w<br>\", \"ID: 33<br>20 sek <br>70 % FTP<br>220 w<br>\", \"ID: 33<br>20 sek <br>70 % FTP<br>220 w<br>\", \"ID: 33<br>20 sek <br>70 % FTP<br>220 w<br>\"], \"type\": \"scatter\", \"x\": [3290.0, 3290.0, 3290.0, 3290.0], \"y\": [14.0, 28.0, 42.0, 56.0]}, {\"fill\": \"tozeroy\", \"fillcolor\": \"blue\", \"hoverinfo\": \"text\", \"legendgroup\": \"blue\", \"line\": {\"color\": \"black\"}, \"mode\": \"lines\", \"showlegend\": false, \"text\": \"ID: 33<br>20 sek <br>70 % FTP<br>220 w<br>\", \"type\": \"scatter\", \"x\": [3280, 3280, 3300, 3300], \"xaxis\": \"x\", \"y\": [0, 70, 70, 0], \"yaxis\": \"y\"}, {\"hoverinfo\": \"none\", \"line\": {\"color\": \"rgba(0,0,0,0)\"}, \"mode\": \"lines\", \"showlegend\": false, \"type\": \"scatter\", \"x\": [3280, 3300], \"xaxis\": \"x\", \"y\": [220.5, 220.5], \"yaxis\": \"y2\"}, {\"hoverinfo\": \"text\", \"marker\": {\"color\": [\"orange\", \"orange\", \"orange\", \"orange\"]}, \"mode\": \"markers\", \"showlegend\": false, \"text\": [\"ID: 34<br>40 sek <br>115 % FTP<br>362 w<br>\", \"ID: 34<br>40 sek <br>115 % FTP<br>362 w<br>\", \"ID: 34<br>40 sek <br>115 % FTP<br>362 w<br>\", \"ID: 34<br>40 sek <br>115 % FTP<br>362 w<br>\"], \"type\": \"scatter\", \"x\": [3320.0, 3320.0, 3320.0, 3320.0], \"y\": [23.0, 46.0, 69.0, 92.0]}, {\"fill\": \"tozeroy\", \"fillcolor\": \"orange\", \"hoverinfo\": \"text\", \"legendgroup\": \"orange\", \"line\": {\"color\": \"black\"}, \"mode\": \"lines\", \"showlegend\": false, \"text\": \"ID: 34<br>40 sek <br>115 % FTP<br>362 w<br>\", \"type\": \"scatter\", \"x\": [3300, 3300, 3340, 3340], \"xaxis\": \"x\", \"y\": [0, 115, 115, 0], \"yaxis\": \"y\"}, {\"hoverinfo\": \"none\", \"line\": {\"color\": \"rgba(0,0,0,0)\"}, \"mode\": \"lines\", \"showlegend\": false, \"type\": \"scatter\", \"x\": [3300, 3340], \"xaxis\": \"x\", \"y\": [362.25, 362.25], \"yaxis\": \"y2\"}, {\"hoverinfo\": \"text\", \"marker\": {\"color\": [\"blue\", \"blue\", \"blue\", \"blue\"]}, \"mode\": \"markers\", \"showlegend\": false, \"text\": [\"ID: 35<br>20 sek <br>70 % FTP<br>220 w<br>\", \"ID: 35<br>20 sek <br>70 % FTP<br>220 w<br>\", \"ID: 35<br>20 sek <br>70 % FTP<br>220 w<br>\", \"ID: 35<br>20 sek <br>70 % FTP<br>220 w<br>\"], \"type\": \"scatter\", \"x\": [3350.0, 3350.0, 3350.0, 3350.0], \"y\": [14.0, 28.0, 42.0, 56.0]}, {\"fill\": \"tozeroy\", \"fillcolor\": \"blue\", \"hoverinfo\": \"text\", \"legendgroup\": \"blue\", \"line\": {\"color\": \"black\"}, \"mode\": \"lines\", \"showlegend\": false, \"text\": \"ID: 35<br>20 sek <br>70 % FTP<br>220 w<br>\", \"type\": \"scatter\", \"x\": [3340, 3340, 3360, 3360], \"xaxis\": \"x\", \"y\": [0, 70, 70, 0], \"yaxis\": \"y\"}, {\"hoverinfo\": \"none\", \"line\": {\"color\": \"rgba(0,0,0,0)\"}, \"mode\": \"lines\", \"showlegend\": false, \"type\": \"scatter\", \"x\": [3340, 3360], \"xaxis\": \"x\", \"y\": [220.5, 220.5], \"yaxis\": \"y2\"}, {\"hoverinfo\": \"text\", \"marker\": {\"color\": [\"orange\", \"orange\", \"orange\", \"orange\"]}, \"mode\": \"markers\", \"showlegend\": false, \"text\": [\"ID: 36<br>40 sek <br>115 % FTP<br>362 w<br>\", \"ID: 36<br>40 sek <br>115 % FTP<br>362 w<br>\", \"ID: 36<br>40 sek <br>115 % FTP<br>362 w<br>\", \"ID: 36<br>40 sek <br>115 % FTP<br>362 w<br>\"], \"type\": \"scatter\", \"x\": [3380.0, 3380.0, 3380.0, 3380.0], \"y\": [23.0, 46.0, 69.0, 92.0]}, {\"fill\": \"tozeroy\", \"fillcolor\": \"orange\", \"hoverinfo\": \"text\", \"legendgroup\": \"orange\", \"line\": {\"color\": \"black\"}, \"mode\": \"lines\", \"showlegend\": false, \"text\": \"ID: 36<br>40 sek <br>115 % FTP<br>362 w<br>\", \"type\": \"scatter\", \"x\": [3360, 3360, 3400, 3400], \"xaxis\": \"x\", \"y\": [0, 115, 115, 0], \"yaxis\": \"y\"}, {\"hoverinfo\": \"none\", \"line\": {\"color\": \"rgba(0,0,0,0)\"}, \"mode\": \"lines\", \"showlegend\": false, \"type\": \"scatter\", \"x\": [3360, 3400], \"xaxis\": \"x\", \"y\": [362.25, 362.25], \"yaxis\": \"y2\"}, {\"hoverinfo\": \"text\", \"marker\": {\"color\": [\"blue\", \"blue\", \"blue\", \"blue\"]}, \"mode\": \"markers\", \"showlegend\": false, \"text\": [\"ID: 37<br>20 sek <br>70 % FTP<br>220 w<br>\", \"ID: 37<br>20 sek <br>70 % FTP<br>220 w<br>\", \"ID: 37<br>20 sek <br>70 % FTP<br>220 w<br>\", \"ID: 37<br>20 sek <br>70 % FTP<br>220 w<br>\"], \"type\": \"scatter\", \"x\": [3410.0, 3410.0, 3410.0, 3410.0], \"y\": [14.0, 28.0, 42.0, 56.0]}, {\"fill\": \"tozeroy\", \"fillcolor\": \"blue\", \"hoverinfo\": \"text\", \"legendgroup\": \"blue\", \"line\": {\"color\": \"black\"}, \"mode\": \"lines\", \"showlegend\": false, \"text\": \"ID: 37<br>20 sek <br>70 % FTP<br>220 w<br>\", \"type\": \"scatter\", \"x\": [3400, 3400, 3420, 3420], \"xaxis\": \"x\", \"y\": [0, 70, 70, 0], \"yaxis\": \"y\"}, {\"hoverinfo\": \"none\", \"line\": {\"color\": \"rgba(0,0,0,0)\"}, \"mode\": \"lines\", \"showlegend\": false, \"type\": \"scatter\", \"x\": [3400, 3420], \"xaxis\": \"x\", \"y\": [220.5, 220.5], \"yaxis\": \"y2\"}, {\"hoverinfo\": \"text\", \"marker\": {\"color\": [\"orange\", \"orange\", \"orange\", \"orange\"]}, \"mode\": \"markers\", \"showlegend\": false, \"text\": [\"ID: 38<br>40 sek <br>115 % FTP<br>362 w<br>\", \"ID: 38<br>40 sek <br>115 % FTP<br>362 w<br>\", \"ID: 38<br>40 sek <br>115 % FTP<br>362 w<br>\", \"ID: 38<br>40 sek <br>115 % FTP<br>362 w<br>\"], \"type\": \"scatter\", \"x\": [3440.0, 3440.0, 3440.0, 3440.0], \"y\": [23.0, 46.0, 69.0, 92.0]}, {\"fill\": \"tozeroy\", \"fillcolor\": \"orange\", \"hoverinfo\": \"text\", \"legendgroup\": \"orange\", \"line\": {\"color\": \"black\"}, \"mode\": \"lines\", \"showlegend\": false, \"text\": \"ID: 38<br>40 sek <br>115 % FTP<br>362 w<br>\", \"type\": \"scatter\", \"x\": [3420, 3420, 3460, 3460], \"xaxis\": \"x\", \"y\": [0, 115, 115, 0], \"yaxis\": \"y\"}, {\"hoverinfo\": \"none\", \"line\": {\"color\": \"rgba(0,0,0,0)\"}, \"mode\": \"lines\", \"showlegend\": false, \"type\": \"scatter\", \"x\": [3420, 3460], \"xaxis\": \"x\", \"y\": [362.25, 362.25], \"yaxis\": \"y2\"}, {\"hoverinfo\": \"text\", \"marker\": {\"color\": [\"blue\", \"blue\", \"blue\", \"blue\"]}, \"mode\": \"markers\", \"showlegend\": false, \"text\": [\"ID: 39<br>20 sek <br>70 % FTP<br>220 w<br>\", \"ID: 39<br>20 sek <br>70 % FTP<br>220 w<br>\", \"ID: 39<br>20 sek <br>70 % FTP<br>220 w<br>\", \"ID: 39<br>20 sek <br>70 % FTP<br>220 w<br>\"], \"type\": \"scatter\", \"x\": [3470.0, 3470.0, 3470.0, 3470.0], \"y\": [14.0, 28.0, 42.0, 56.0]}, {\"fill\": \"tozeroy\", \"fillcolor\": \"blue\", \"hoverinfo\": \"text\", \"legendgroup\": \"blue\", \"line\": {\"color\": \"black\"}, \"mode\": \"lines\", \"showlegend\": false, \"text\": \"ID: 39<br>20 sek <br>70 % FTP<br>220 w<br>\", \"type\": \"scatter\", \"x\": [3460, 3460, 3480, 3480], \"xaxis\": \"x\", \"y\": [0, 70, 70, 0], \"yaxis\": \"y\"}, {\"hoverinfo\": \"none\", \"line\": {\"color\": \"rgba(0,0,0,0)\"}, \"mode\": \"lines\", \"showlegend\": false, \"type\": \"scatter\", \"x\": [3460, 3480], \"xaxis\": \"x\", \"y\": [220.5, 220.5], \"yaxis\": \"y2\"}, {\"hoverinfo\": \"text\", \"marker\": {\"color\": [\"blue\", \"blue\", \"blue\", \"blue\"]}, \"mode\": \"markers\", \"showlegend\": false, \"text\": [\"ID: 40<br>600 sek <br>65 % FTP<br>205 w<br>\", \"ID: 40<br>600 sek <br>65 % FTP<br>205 w<br>\", \"ID: 40<br>600 sek <br>65 % FTP<br>205 w<br>\", \"ID: 40<br>600 sek <br>65 % FTP<br>205 w<br>\"], \"type\": \"scatter\", \"x\": [3780.0, 3780.0, 3780.0, 3780.0], \"y\": [13.0, 26.0, 39.0, 52.0]}, {\"fill\": \"tozeroy\", \"fillcolor\": \"blue\", \"hoverinfo\": \"text\", \"legendgroup\": \"blue\", \"line\": {\"color\": \"black\"}, \"mode\": \"lines\", \"showlegend\": false, \"text\": \"ID: 40<br>600 sek <br>65 % FTP<br>205 w<br>\", \"type\": \"scatter\", \"x\": [3480, 3480, 4080, 4080], \"xaxis\": \"x\", \"y\": [0, 65, 65, 0], \"yaxis\": \"y\"}, {\"hoverinfo\": \"none\", \"line\": {\"color\": \"rgba(0,0,0,0)\"}, \"mode\": \"lines\", \"showlegend\": false, \"type\": \"scatter\", \"x\": [3480, 4080], \"xaxis\": \"x\", \"y\": [204.75, 204.75], \"yaxis\": \"y2\"}, {\"hoverinfo\": \"text\", \"marker\": {\"color\": [\"orange\", \"orange\", \"orange\", \"orange\"]}, \"mode\": \"markers\", \"showlegend\": false, \"text\": [\"ID: 41<br>40 sek <br>115 % FTP<br>362 w<br>\", \"ID: 41<br>40 sek <br>115 % FTP<br>362 w<br>\", \"ID: 41<br>40 sek <br>115 % FTP<br>362 w<br>\", \"ID: 41<br>40 sek <br>115 % FTP<br>362 w<br>\"], \"type\": \"scatter\", \"x\": [4100.0, 4100.0, 4100.0, 4100.0], \"y\": [23.0, 46.0, 69.0, 92.0]}, {\"fill\": \"tozeroy\", \"fillcolor\": \"orange\", \"hoverinfo\": \"text\", \"legendgroup\": \"orange\", \"line\": {\"color\": \"black\"}, \"mode\": \"lines\", \"showlegend\": false, \"text\": \"ID: 41<br>40 sek <br>115 % FTP<br>362 w<br>\", \"type\": \"scatter\", \"x\": [4080, 4080, 4120, 4120], \"xaxis\": \"x\", \"y\": [0, 115, 115, 0], \"yaxis\": \"y\"}, {\"hoverinfo\": \"none\", \"line\": {\"color\": \"rgba(0,0,0,0)\"}, \"mode\": \"lines\", \"showlegend\": false, \"type\": \"scatter\", \"x\": [4080, 4120], \"xaxis\": \"x\", \"y\": [362.25, 362.25], \"yaxis\": \"y2\"}, {\"hoverinfo\": \"text\", \"marker\": {\"color\": [\"blue\", \"blue\", \"blue\", \"blue\"]}, \"mode\": \"markers\", \"showlegend\": false, \"text\": [\"ID: 42<br>20 sek <br>70 % FTP<br>220 w<br>\", \"ID: 42<br>20 sek <br>70 % FTP<br>220 w<br>\", \"ID: 42<br>20 sek <br>70 % FTP<br>220 w<br>\", \"ID: 42<br>20 sek <br>70 % FTP<br>220 w<br>\"], \"type\": \"scatter\", \"x\": [4130.0, 4130.0, 4130.0, 4130.0], \"y\": [14.0, 28.0, 42.0, 56.0]}, {\"fill\": \"tozeroy\", \"fillcolor\": \"blue\", \"hoverinfo\": \"text\", \"legendgroup\": \"blue\", \"line\": {\"color\": \"black\"}, \"mode\": \"lines\", \"showlegend\": false, \"text\": \"ID: 42<br>20 sek <br>70 % FTP<br>220 w<br>\", \"type\": \"scatter\", \"x\": [4120, 4120, 4140, 4140], \"xaxis\": \"x\", \"y\": [0, 70, 70, 0], \"yaxis\": \"y\"}, {\"hoverinfo\": \"none\", \"line\": {\"color\": \"rgba(0,0,0,0)\"}, \"mode\": \"lines\", \"showlegend\": false, \"type\": \"scatter\", \"x\": [4120, 4140], \"xaxis\": \"x\", \"y\": [220.5, 220.5], \"yaxis\": \"y2\"}, {\"hoverinfo\": \"text\", \"marker\": {\"color\": [\"orange\", \"orange\", \"orange\", \"orange\"]}, \"mode\": \"markers\", \"showlegend\": false, \"text\": [\"ID: 43<br>40 sek <br>115 % FTP<br>362 w<br>\", \"ID: 43<br>40 sek <br>115 % FTP<br>362 w<br>\", \"ID: 43<br>40 sek <br>115 % FTP<br>362 w<br>\", \"ID: 43<br>40 sek <br>115 % FTP<br>362 w<br>\"], \"type\": \"scatter\", \"x\": [4160.0, 4160.0, 4160.0, 4160.0], \"y\": [23.0, 46.0, 69.0, 92.0]}, {\"fill\": \"tozeroy\", \"fillcolor\": \"orange\", \"hoverinfo\": \"text\", \"legendgroup\": \"orange\", \"line\": {\"color\": \"black\"}, \"mode\": \"lines\", \"showlegend\": false, \"text\": \"ID: 43<br>40 sek <br>115 % FTP<br>362 w<br>\", \"type\": \"scatter\", \"x\": [4140, 4140, 4180, 4180], \"xaxis\": \"x\", \"y\": [0, 115, 115, 0], \"yaxis\": \"y\"}, {\"hoverinfo\": \"none\", \"line\": {\"color\": \"rgba(0,0,0,0)\"}, \"mode\": \"lines\", \"showlegend\": false, \"type\": \"scatter\", \"x\": [4140, 4180], \"xaxis\": \"x\", \"y\": [362.25, 362.25], \"yaxis\": \"y2\"}, {\"hoverinfo\": \"text\", \"marker\": {\"color\": [\"blue\", \"blue\", \"blue\", \"blue\"]}, \"mode\": \"markers\", \"showlegend\": false, \"text\": [\"ID: 44<br>20 sek <br>70 % FTP<br>220 w<br>\", \"ID: 44<br>20 sek <br>70 % FTP<br>220 w<br>\", \"ID: 44<br>20 sek <br>70 % FTP<br>220 w<br>\", \"ID: 44<br>20 sek <br>70 % FTP<br>220 w<br>\"], \"type\": \"scatter\", \"x\": [4190.0, 4190.0, 4190.0, 4190.0], \"y\": [14.0, 28.0, 42.0, 56.0]}, {\"fill\": \"tozeroy\", \"fillcolor\": \"blue\", \"hoverinfo\": \"text\", \"legendgroup\": \"blue\", \"line\": {\"color\": \"black\"}, \"mode\": \"lines\", \"showlegend\": false, \"text\": \"ID: 44<br>20 sek <br>70 % FTP<br>220 w<br>\", \"type\": \"scatter\", \"x\": [4180, 4180, 4200, 4200], \"xaxis\": \"x\", \"y\": [0, 70, 70, 0], \"yaxis\": \"y\"}, {\"hoverinfo\": \"none\", \"line\": {\"color\": \"rgba(0,0,0,0)\"}, \"mode\": \"lines\", \"showlegend\": false, \"type\": \"scatter\", \"x\": [4180, 4200], \"xaxis\": \"x\", \"y\": [220.5, 220.5], \"yaxis\": \"y2\"}, {\"hoverinfo\": \"text\", \"marker\": {\"color\": [\"orange\", \"orange\", \"orange\", \"orange\"]}, \"mode\": \"markers\", \"showlegend\": false, \"text\": [\"ID: 45<br>40 sek <br>115 % FTP<br>362 w<br>\", \"ID: 45<br>40 sek <br>115 % FTP<br>362 w<br>\", \"ID: 45<br>40 sek <br>115 % FTP<br>362 w<br>\", \"ID: 45<br>40 sek <br>115 % FTP<br>362 w<br>\"], \"type\": \"scatter\", \"x\": [4220.0, 4220.0, 4220.0, 4220.0], \"y\": [23.0, 46.0, 69.0, 92.0]}, {\"fill\": \"tozeroy\", \"fillcolor\": \"orange\", \"hoverinfo\": \"text\", \"legendgroup\": \"orange\", \"line\": {\"color\": \"black\"}, \"mode\": \"lines\", \"showlegend\": false, \"text\": \"ID: 45<br>40 sek <br>115 % FTP<br>362 w<br>\", \"type\": \"scatter\", \"x\": [4200, 4200, 4240, 4240], \"xaxis\": \"x\", \"y\": [0, 115, 115, 0], \"yaxis\": \"y\"}, {\"hoverinfo\": \"none\", \"line\": {\"color\": \"rgba(0,0,0,0)\"}, \"mode\": \"lines\", \"showlegend\": false, \"type\": \"scatter\", \"x\": [4200, 4240], \"xaxis\": \"x\", \"y\": [362.25, 362.25], \"yaxis\": \"y2\"}, {\"hoverinfo\": \"text\", \"marker\": {\"color\": [\"blue\", \"blue\", \"blue\", \"blue\"]}, \"mode\": \"markers\", \"showlegend\": false, \"text\": [\"ID: 46<br>20 sek <br>70 % FTP<br>220 w<br>\", \"ID: 46<br>20 sek <br>70 % FTP<br>220 w<br>\", \"ID: 46<br>20 sek <br>70 % FTP<br>220 w<br>\", \"ID: 46<br>20 sek <br>70 % FTP<br>220 w<br>\"], \"type\": \"scatter\", \"x\": [4250.0, 4250.0, 4250.0, 4250.0], \"y\": [14.0, 28.0, 42.0, 56.0]}, {\"fill\": \"tozeroy\", \"fillcolor\": \"blue\", \"hoverinfo\": \"text\", \"legendgroup\": \"blue\", \"line\": {\"color\": \"black\"}, \"mode\": \"lines\", \"showlegend\": false, \"text\": \"ID: 46<br>20 sek <br>70 % FTP<br>220 w<br>\", \"type\": \"scatter\", \"x\": [4240, 4240, 4260, 4260], \"xaxis\": \"x\", \"y\": [0, 70, 70, 0], \"yaxis\": \"y\"}, {\"hoverinfo\": \"none\", \"line\": {\"color\": \"rgba(0,0,0,0)\"}, \"mode\": \"lines\", \"showlegend\": false, \"type\": \"scatter\", \"x\": [4240, 4260], \"xaxis\": \"x\", \"y\": [220.5, 220.5], \"yaxis\": \"y2\"}, {\"hoverinfo\": \"text\", \"marker\": {\"color\": [\"orange\", \"orange\", \"orange\", \"orange\"]}, \"mode\": \"markers\", \"showlegend\": false, \"text\": [\"ID: 47<br>40 sek <br>115 % FTP<br>362 w<br>\", \"ID: 47<br>40 sek <br>115 % FTP<br>362 w<br>\", \"ID: 47<br>40 sek <br>115 % FTP<br>362 w<br>\", \"ID: 47<br>40 sek <br>115 % FTP<br>362 w<br>\"], \"type\": \"scatter\", \"x\": [4280.0, 4280.0, 4280.0, 4280.0], \"y\": [23.0, 46.0, 69.0, 92.0]}, {\"fill\": \"tozeroy\", \"fillcolor\": \"orange\", \"hoverinfo\": \"text\", \"legendgroup\": \"orange\", \"line\": {\"color\": \"black\"}, \"mode\": \"lines\", \"showlegend\": false, \"text\": \"ID: 47<br>40 sek <br>115 % FTP<br>362 w<br>\", \"type\": \"scatter\", \"x\": [4260, 4260, 4300, 4300], \"xaxis\": \"x\", \"y\": [0, 115, 115, 0], \"yaxis\": \"y\"}, {\"hoverinfo\": \"none\", \"line\": {\"color\": \"rgba(0,0,0,0)\"}, \"mode\": \"lines\", \"showlegend\": false, \"type\": \"scatter\", \"x\": [4260, 4300], \"xaxis\": \"x\", \"y\": [362.25, 362.25], \"yaxis\": \"y2\"}, {\"hoverinfo\": \"text\", \"marker\": {\"color\": [\"blue\", \"blue\", \"blue\", \"blue\"]}, \"mode\": \"markers\", \"showlegend\": false, \"text\": [\"ID: 48<br>20 sek <br>70 % FTP<br>220 w<br>\", \"ID: 48<br>20 sek <br>70 % FTP<br>220 w<br>\", \"ID: 48<br>20 sek <br>70 % FTP<br>220 w<br>\", \"ID: 48<br>20 sek <br>70 % FTP<br>220 w<br>\"], \"type\": \"scatter\", \"x\": [4310.0, 4310.0, 4310.0, 4310.0], \"y\": [14.0, 28.0, 42.0, 56.0]}, {\"fill\": \"tozeroy\", \"fillcolor\": \"blue\", \"hoverinfo\": \"text\", \"legendgroup\": \"blue\", \"line\": {\"color\": \"black\"}, \"mode\": \"lines\", \"showlegend\": false, \"text\": \"ID: 48<br>20 sek <br>70 % FTP<br>220 w<br>\", \"type\": \"scatter\", \"x\": [4300, 4300, 4320, 4320], \"xaxis\": \"x\", \"y\": [0, 70, 70, 0], \"yaxis\": \"y\"}, {\"hoverinfo\": \"none\", \"line\": {\"color\": \"rgba(0,0,0,0)\"}, \"mode\": \"lines\", \"showlegend\": false, \"type\": \"scatter\", \"x\": [4300, 4320], \"xaxis\": \"x\", \"y\": [220.5, 220.5], \"yaxis\": \"y2\"}, {\"hoverinfo\": \"text\", \"marker\": {\"color\": [\"orange\", \"orange\", \"orange\", \"orange\"]}, \"mode\": \"markers\", \"showlegend\": false, \"text\": [\"ID: 49<br>40 sek <br>115 % FTP<br>362 w<br>\", \"ID: 49<br>40 sek <br>115 % FTP<br>362 w<br>\", \"ID: 49<br>40 sek <br>115 % FTP<br>362 w<br>\", \"ID: 49<br>40 sek <br>115 % FTP<br>362 w<br>\"], \"type\": \"scatter\", \"x\": [4340.0, 4340.0, 4340.0, 4340.0], \"y\": [23.0, 46.0, 69.0, 92.0]}, {\"fill\": \"tozeroy\", \"fillcolor\": \"orange\", \"hoverinfo\": \"text\", \"legendgroup\": \"orange\", \"line\": {\"color\": \"black\"}, \"mode\": \"lines\", \"showlegend\": false, \"text\": \"ID: 49<br>40 sek <br>115 % FTP<br>362 w<br>\", \"type\": \"scatter\", \"x\": [4320, 4320, 4360, 4360], \"xaxis\": \"x\", \"y\": [0, 115, 115, 0], \"yaxis\": \"y\"}, {\"hoverinfo\": \"none\", \"line\": {\"color\": \"rgba(0,0,0,0)\"}, \"mode\": \"lines\", \"showlegend\": false, \"type\": \"scatter\", \"x\": [4320, 4360], \"xaxis\": \"x\", \"y\": [362.25, 362.25], \"yaxis\": \"y2\"}, {\"hoverinfo\": \"text\", \"marker\": {\"color\": [\"blue\", \"blue\", \"blue\", \"blue\"]}, \"mode\": \"markers\", \"showlegend\": false, \"text\": [\"ID: 50<br>20 sek <br>70 % FTP<br>220 w<br>\", \"ID: 50<br>20 sek <br>70 % FTP<br>220 w<br>\", \"ID: 50<br>20 sek <br>70 % FTP<br>220 w<br>\", \"ID: 50<br>20 sek <br>70 % FTP<br>220 w<br>\"], \"type\": \"scatter\", \"x\": [4370.0, 4370.0, 4370.0, 4370.0], \"y\": [14.0, 28.0, 42.0, 56.0]}, {\"fill\": \"tozeroy\", \"fillcolor\": \"blue\", \"hoverinfo\": \"text\", \"legendgroup\": \"blue\", \"line\": {\"color\": \"black\"}, \"mode\": \"lines\", \"showlegend\": false, \"text\": \"ID: 50<br>20 sek <br>70 % FTP<br>220 w<br>\", \"type\": \"scatter\", \"x\": [4360, 4360, 4380, 4380], \"xaxis\": \"x\", \"y\": [0, 70, 70, 0], \"yaxis\": \"y\"}, {\"hoverinfo\": \"none\", \"line\": {\"color\": \"rgba(0,0,0,0)\"}, \"mode\": \"lines\", \"showlegend\": false, \"type\": \"scatter\", \"x\": [4360, 4380], \"xaxis\": \"x\", \"y\": [220.5, 220.5], \"yaxis\": \"y2\"}, {\"hoverinfo\": \"text\", \"marker\": {\"color\": [\"orange\", \"orange\", \"orange\", \"orange\"]}, \"mode\": \"markers\", \"showlegend\": false, \"text\": [\"ID: 51<br>40 sek <br>115 % FTP<br>362 w<br>\", \"ID: 51<br>40 sek <br>115 % FTP<br>362 w<br>\", \"ID: 51<br>40 sek <br>115 % FTP<br>362 w<br>\", \"ID: 51<br>40 sek <br>115 % FTP<br>362 w<br>\"], \"type\": \"scatter\", \"x\": [4400.0, 4400.0, 4400.0, 4400.0], \"y\": [23.0, 46.0, 69.0, 92.0]}, {\"fill\": \"tozeroy\", \"fillcolor\": \"orange\", \"hoverinfo\": \"text\", \"legendgroup\": \"orange\", \"line\": {\"color\": \"black\"}, \"mode\": \"lines\", \"showlegend\": false, \"text\": \"ID: 51<br>40 sek <br>115 % FTP<br>362 w<br>\", \"type\": \"scatter\", \"x\": [4380, 4380, 4420, 4420], \"xaxis\": \"x\", \"y\": [0, 115, 115, 0], \"yaxis\": \"y\"}, {\"hoverinfo\": \"none\", \"line\": {\"color\": \"rgba(0,0,0,0)\"}, \"mode\": \"lines\", \"showlegend\": false, \"type\": \"scatter\", \"x\": [4380, 4420], \"xaxis\": \"x\", \"y\": [362.25, 362.25], \"yaxis\": \"y2\"}, {\"hoverinfo\": \"text\", \"marker\": {\"color\": [\"blue\", \"blue\", \"blue\", \"blue\"]}, \"mode\": \"markers\", \"showlegend\": false, \"text\": [\"ID: 52<br>20 sek <br>70 % FTP<br>220 w<br>\", \"ID: 52<br>20 sek <br>70 % FTP<br>220 w<br>\", \"ID: 52<br>20 sek <br>70 % FTP<br>220 w<br>\", \"ID: 52<br>20 sek <br>70 % FTP<br>220 w<br>\"], \"type\": \"scatter\", \"x\": [4430.0, 4430.0, 4430.0, 4430.0], \"y\": [14.0, 28.0, 42.0, 56.0]}, {\"fill\": \"tozeroy\", \"fillcolor\": \"blue\", \"hoverinfo\": \"text\", \"legendgroup\": \"blue\", \"line\": {\"color\": \"black\"}, \"mode\": \"lines\", \"showlegend\": false, \"text\": \"ID: 52<br>20 sek <br>70 % FTP<br>220 w<br>\", \"type\": \"scatter\", \"x\": [4420, 4420, 4440, 4440], \"xaxis\": \"x\", \"y\": [0, 70, 70, 0], \"yaxis\": \"y\"}, {\"hoverinfo\": \"none\", \"line\": {\"color\": \"rgba(0,0,0,0)\"}, \"mode\": \"lines\", \"showlegend\": false, \"type\": \"scatter\", \"x\": [4420, 4440], \"xaxis\": \"x\", \"y\": [220.5, 220.5], \"yaxis\": \"y2\"}, {\"hoverinfo\": \"text\", \"marker\": {\"color\": [\"blue\", \"blue\", \"blue\", \"blue\"]}, \"mode\": \"markers\", \"showlegend\": false, \"text\": [\"ID: 53<br>240.0 sek <br>65 bis 59 % FTP<br>205 bis 186 w<br>\", \"ID: 53<br>240.0 sek <br>65 bis 59 % FTP<br>205 bis 186 w<br>\", \"ID: 53<br>240.0 sek <br>65 bis 59 % FTP<br>205 bis 186 w<br>\", \"ID: 53<br>240.0 sek <br>65 bis 59 % FTP<br>205 bis 186 w<br>\"], \"type\": \"scatter\", \"x\": [4560.0, 4560.0, 4560.0, 4560.0], \"y\": [11.8, 23.6, 35.4, 47.2]}, {\"fill\": \"tozeroy\", \"fillcolor\": \"blue\", \"hoverinfo\": \"text\", \"legendgroup\": \"blue\", \"line\": {\"color\": \"black\"}, \"mode\": \"lines\", \"showlegend\": false, \"text\": \"ID: 53<br>240.0 sek <br>65 bis 59 % FTP<br>205 bis 186 w<br>\", \"type\": \"scatter\", \"x\": [4440, 4440, 4680.0, 4680.0], \"xaxis\": \"x\", \"y\": [0, 65, 59, 0], \"yaxis\": \"y\"}, {\"hoverinfo\": \"none\", \"line\": {\"color\": \"rgba(0,0,0,0)\"}, \"mode\": \"lines\", \"showlegend\": false, \"type\": \"scatter\", \"x\": [4440, 4680.0], \"xaxis\": \"x\", \"y\": [204.75, 185.85], \"yaxis\": \"y2\"}, {\"hoverinfo\": \"text\", \"marker\": {\"color\": [\"grey\", \"grey\", \"grey\", \"grey\"]}, \"mode\": \"markers\", \"showlegend\": false, \"text\": [\"ID: 53<br>360.0 sek <br>59 bis 50 % FTP<br>186 bis 158 w<br>\", \"ID: 53<br>360.0 sek <br>59 bis 50 % FTP<br>186 bis 158 w<br>\", \"ID: 53<br>360.0 sek <br>59 bis 50 % FTP<br>186 bis 158 w<br>\", \"ID: 53<br>360.0 sek <br>59 bis 50 % FTP<br>186 bis 158 w<br>\"], \"type\": \"scatter\", \"x\": [4860.0, 4860.0, 4860.0, 4860.0], \"y\": [10.0, 20.0, 30.0, 40.0]}, {\"fill\": \"tozeroy\", \"fillcolor\": \"grey\", \"hoverinfo\": \"text\", \"legendgroup\": \"grey\", \"line\": {\"color\": \"black\"}, \"mode\": \"lines\", \"showlegend\": false, \"text\": \"ID: 53<br>360.0 sek <br>59 bis 50 % FTP<br>186 bis 158 w<br>\", \"type\": \"scatter\", \"x\": [4680.0, 4680.0, 5040.0, 5040.0], \"xaxis\": \"x\", \"y\": [0, 59, 50, 0], \"yaxis\": \"y\"}, {\"hoverinfo\": \"none\", \"line\": {\"color\": \"rgba(0,0,0,0)\"}, \"mode\": \"lines\", \"showlegend\": false, \"type\": \"scatter\", \"x\": [4680.0, 5040.0], \"xaxis\": \"x\", \"y\": [185.85, 157.5], \"yaxis\": \"y2\"}],                        {\"template\": {\"data\": {\"bar\": [{\"error_x\": {\"color\": \"#2a3f5f\"}, \"error_y\": {\"color\": \"#2a3f5f\"}, \"marker\": {\"line\": {\"color\": \"#E5ECF6\", \"width\": 0.5}}, \"type\": \"bar\"}], \"barpolar\": [{\"marker\": {\"line\": {\"color\": \"#E5ECF6\", \"width\": 0.5}}, \"type\": \"barpolar\"}], \"carpet\": [{\"aaxis\": {\"endlinecolor\": \"#2a3f5f\", \"gridcolor\": \"white\", \"linecolor\": \"white\", \"minorgridcolor\": \"white\", \"startlinecolor\": \"#2a3f5f\"}, \"baxis\": {\"endlinecolor\": \"#2a3f5f\", \"gridcolor\": \"white\", \"linecolor\": \"white\", \"minorgridcolor\": \"white\", \"startlinecolor\": \"#2a3f5f\"}, \"type\": \"carpet\"}], \"choropleth\": [{\"colorbar\": {\"outlinewidth\": 0, \"ticks\": \"\"}, \"type\": \"choropleth\"}], \"contour\": [{\"colorbar\": {\"outlinewidth\": 0, \"ticks\": \"\"}, \"colorscale\": [[0.0, \"#0d0887\"], [0.1111111111111111, \"#46039f\"], [0.2222222222222222, \"#7201a8\"], [0.3333333333333333, \"#9c179e\"], [0.4444444444444444, \"#bd3786\"], [0.5555555555555556, \"#d8576b\"], [0.6666666666666666, \"#ed7953\"], [0.7777777777777778, \"#fb9f3a\"], [0.8888888888888888, \"#fdca26\"], [1.0, \"#f0f921\"]], \"type\": \"contour\"}], \"contourcarpet\": [{\"colorbar\": {\"outlinewidth\": 0, \"ticks\": \"\"}, \"type\": \"contourcarpet\"}], \"heatmap\": [{\"colorbar\": {\"outlinewidth\": 0, \"ticks\": \"\"}, \"colorscale\": [[0.0, \"#0d0887\"], [0.1111111111111111, \"#46039f\"], [0.2222222222222222, \"#7201a8\"], [0.3333333333333333, \"#9c179e\"], [0.4444444444444444, \"#bd3786\"], [0.5555555555555556, \"#d8576b\"], [0.6666666666666666, \"#ed7953\"], [0.7777777777777778, \"#fb9f3a\"], [0.8888888888888888, \"#fdca26\"], [1.0, \"#f0f921\"]], \"type\": \"heatmap\"}], \"heatmapgl\": [{\"colorbar\": {\"outlinewidth\": 0, \"ticks\": \"\"}, \"colorscale\": [[0.0, \"#0d0887\"], [0.1111111111111111, \"#46039f\"], [0.2222222222222222, \"#7201a8\"], [0.3333333333333333, \"#9c179e\"], [0.4444444444444444, \"#bd3786\"], [0.5555555555555556, \"#d8576b\"], [0.6666666666666666, \"#ed7953\"], [0.7777777777777778, \"#fb9f3a\"], [0.8888888888888888, \"#fdca26\"], [1.0, \"#f0f921\"]], \"type\": \"heatmapgl\"}], \"histogram\": [{\"marker\": {\"colorbar\": {\"outlinewidth\": 0, \"ticks\": \"\"}}, \"type\": \"histogram\"}], \"histogram2d\": [{\"colorbar\": {\"outlinewidth\": 0, \"ticks\": \"\"}, \"colorscale\": [[0.0, \"#0d0887\"], [0.1111111111111111, \"#46039f\"], [0.2222222222222222, \"#7201a8\"], [0.3333333333333333, \"#9c179e\"], [0.4444444444444444, \"#bd3786\"], [0.5555555555555556, \"#d8576b\"], [0.6666666666666666, \"#ed7953\"], [0.7777777777777778, \"#fb9f3a\"], [0.8888888888888888, \"#fdca26\"], [1.0, \"#f0f921\"]], \"type\": \"histogram2d\"}], \"histogram2dcontour\": [{\"colorbar\": {\"outlinewidth\": 0, \"ticks\": \"\"}, \"colorscale\": [[0.0, \"#0d0887\"], [0.1111111111111111, \"#46039f\"], [0.2222222222222222, \"#7201a8\"], [0.3333333333333333, \"#9c179e\"], [0.4444444444444444, \"#bd3786\"], [0.5555555555555556, \"#d8576b\"], [0.6666666666666666, \"#ed7953\"], [0.7777777777777778, \"#fb9f3a\"], [0.8888888888888888, \"#fdca26\"], [1.0, \"#f0f921\"]], \"type\": \"histogram2dcontour\"}], \"mesh3d\": [{\"colorbar\": {\"outlinewidth\": 0, \"ticks\": \"\"}, \"type\": \"mesh3d\"}], \"parcoords\": [{\"line\": {\"colorbar\": {\"outlinewidth\": 0, \"ticks\": \"\"}}, \"type\": \"parcoords\"}], \"pie\": [{\"automargin\": true, \"type\": \"pie\"}], \"scatter\": [{\"marker\": {\"colorbar\": {\"outlinewidth\": 0, \"ticks\": \"\"}}, \"type\": \"scatter\"}], \"scatter3d\": [{\"line\": {\"colorbar\": {\"outlinewidth\": 0, \"ticks\": \"\"}}, \"marker\": {\"colorbar\": {\"outlinewidth\": 0, \"ticks\": \"\"}}, \"type\": \"scatter3d\"}], \"scattercarpet\": [{\"marker\": {\"colorbar\": {\"outlinewidth\": 0, \"ticks\": \"\"}}, \"type\": \"scattercarpet\"}], \"scattergeo\": [{\"marker\": {\"colorbar\": {\"outlinewidth\": 0, \"ticks\": \"\"}}, \"type\": \"scattergeo\"}], \"scattergl\": [{\"marker\": {\"colorbar\": {\"outlinewidth\": 0, \"ticks\": \"\"}}, \"type\": \"scattergl\"}], \"scattermapbox\": [{\"marker\": {\"colorbar\": {\"outlinewidth\": 0, \"ticks\": \"\"}}, \"type\": \"scattermapbox\"}], \"scatterpolar\": [{\"marker\": {\"colorbar\": {\"outlinewidth\": 0, \"ticks\": \"\"}}, \"type\": \"scatterpolar\"}], \"scatterpolargl\": [{\"marker\": {\"colorbar\": {\"outlinewidth\": 0, \"ticks\": \"\"}}, \"type\": \"scatterpolargl\"}], \"scatterternary\": [{\"marker\": {\"colorbar\": {\"outlinewidth\": 0, \"ticks\": \"\"}}, \"type\": \"scatterternary\"}], \"surface\": [{\"colorbar\": {\"outlinewidth\": 0, \"ticks\": \"\"}, \"colorscale\": [[0.0, \"#0d0887\"], [0.1111111111111111, \"#46039f\"], [0.2222222222222222, \"#7201a8\"], [0.3333333333333333, \"#9c179e\"], [0.4444444444444444, \"#bd3786\"], [0.5555555555555556, \"#d8576b\"], [0.6666666666666666, \"#ed7953\"], [0.7777777777777778, \"#fb9f3a\"], [0.8888888888888888, \"#fdca26\"], [1.0, \"#f0f921\"]], \"type\": \"surface\"}], \"table\": [{\"cells\": {\"fill\": {\"color\": \"#EBF0F8\"}, \"line\": {\"color\": \"white\"}}, \"header\": {\"fill\": {\"color\": \"#C8D4E3\"}, \"line\": {\"color\": \"white\"}}, \"type\": \"table\"}]}, \"layout\": {\"annotationdefaults\": {\"arrowcolor\": \"#2a3f5f\", \"arrowhead\": 0, \"arrowwidth\": 1}, \"coloraxis\": {\"colorbar\": {\"outlinewidth\": 0, \"ticks\": \"\"}}, \"colorscale\": {\"diverging\": [[0, \"#8e0152\"], [0.1, \"#c51b7d\"], [0.2, \"#de77ae\"], [0.3, \"#f1b6da\"], [0.4, \"#fde0ef\"], [0.5, \"#f7f7f7\"], [0.6, \"#e6f5d0\"], [0.7, \"#b8e186\"], [0.8, \"#7fbc41\"], [0.9, \"#4d9221\"], [1, \"#276419\"]], \"sequential\": [[0.0, \"#0d0887\"], [0.1111111111111111, \"#46039f\"], [0.2222222222222222, \"#7201a8\"], [0.3333333333333333, \"#9c179e\"], [0.4444444444444444, \"#bd3786\"], [0.5555555555555556, \"#d8576b\"], [0.6666666666666666, \"#ed7953\"], [0.7777777777777778, \"#fb9f3a\"], [0.8888888888888888, \"#fdca26\"], [1.0, \"#f0f921\"]], \"sequentialminus\": [[0.0, \"#0d0887\"], [0.1111111111111111, \"#46039f\"], [0.2222222222222222, \"#7201a8\"], [0.3333333333333333, \"#9c179e\"], [0.4444444444444444, \"#bd3786\"], [0.5555555555555556, \"#d8576b\"], [0.6666666666666666, \"#ed7953\"], [0.7777777777777778, \"#fb9f3a\"], [0.8888888888888888, \"#fdca26\"], [1.0, \"#f0f921\"]]}, \"colorway\": [\"#636efa\", \"#EF553B\", \"#00cc96\", \"#ab63fa\", \"#FFA15A\", \"#19d3f3\", \"#FF6692\", \"#B6E880\", \"#FF97FF\", \"#FECB52\"], \"font\": {\"color\": \"#2a3f5f\"}, \"geo\": {\"bgcolor\": \"white\", \"lakecolor\": \"white\", \"landcolor\": \"#E5ECF6\", \"showlakes\": true, \"showland\": true, \"subunitcolor\": \"white\"}, \"hoverlabel\": {\"align\": \"left\"}, \"hovermode\": \"closest\", \"mapbox\": {\"style\": \"light\"}, \"paper_bgcolor\": \"white\", \"plot_bgcolor\": \"#E5ECF6\", \"polar\": {\"angularaxis\": {\"gridcolor\": \"white\", \"linecolor\": \"white\", \"ticks\": \"\"}, \"bgcolor\": \"#E5ECF6\", \"radialaxis\": {\"gridcolor\": \"white\", \"linecolor\": \"white\", \"ticks\": \"\"}}, \"scene\": {\"xaxis\": {\"backgroundcolor\": \"#E5ECF6\", \"gridcolor\": \"white\", \"gridwidth\": 2, \"linecolor\": \"white\", \"showbackground\": true, \"ticks\": \"\", \"zerolinecolor\": \"white\"}, \"yaxis\": {\"backgroundcolor\": \"#E5ECF6\", \"gridcolor\": \"white\", \"gridwidth\": 2, \"linecolor\": \"white\", \"showbackground\": true, \"ticks\": \"\", \"zerolinecolor\": \"white\"}, \"zaxis\": {\"backgroundcolor\": \"#E5ECF6\", \"gridcolor\": \"white\", \"gridwidth\": 2, \"linecolor\": \"white\", \"showbackground\": true, \"ticks\": \"\", \"zerolinecolor\": \"white\"}}, \"shapedefaults\": {\"line\": {\"color\": \"#2a3f5f\"}}, \"ternary\": {\"aaxis\": {\"gridcolor\": \"white\", \"linecolor\": \"white\", \"ticks\": \"\"}, \"baxis\": {\"gridcolor\": \"white\", \"linecolor\": \"white\", \"ticks\": \"\"}, \"bgcolor\": \"#E5ECF6\", \"caxis\": {\"gridcolor\": \"white\", \"linecolor\": \"white\", \"ticks\": \"\"}}, \"title\": {\"x\": 0.05}, \"xaxis\": {\"automargin\": true, \"gridcolor\": \"white\", \"linecolor\": \"white\", \"ticks\": \"\", \"title\": {\"standoff\": 15}, \"zerolinecolor\": \"white\", \"zerolinewidth\": 2}, \"yaxis\": {\"automargin\": true, \"gridcolor\": \"white\", \"linecolor\": \"white\", \"ticks\": \"\", \"title\": {\"standoff\": 15}, \"zerolinecolor\": \"white\", \"zerolinewidth\": 2}}}, \"xaxis\": {\"anchor\": \"y\", \"domain\": [0.0, 0.94], \"title\": {\"text\": \"Zeit\"}}, \"yaxis\": {\"anchor\": \"x\", \"domain\": [0.0, 1.0], \"title\": {\"text\": \"% FTP\"}}, \"yaxis2\": {\"anchor\": \"x\", \"overlaying\": \"y\", \"showgrid\": false, \"side\": \"right\", \"title\": {\"text\": \"Watt\"}}},                        {\"responsive\": true}                    ).then(function(){\n",
       "                            \n",
       "var gd = document.getElementById('31ea3ad9-19aa-4e49-926b-c09e693cac91');\n",
       "var x = new MutationObserver(function (mutations, observer) {{\n",
       "        var display = window.getComputedStyle(gd).display;\n",
       "        if (!display || display === 'none') {{\n",
       "            console.log([gd, 'removed!']);\n",
       "            Plotly.purge(gd);\n",
       "            observer.disconnect();\n",
       "        }}\n",
       "}});\n",
       "\n",
       "// Listen for the removal of the full notebook cells\n",
       "var notebookContainer = gd.closest('#notebook-container');\n",
       "if (notebookContainer) {{\n",
       "    x.observe(notebookContainer, {childList: true});\n",
       "}}\n",
       "\n",
       "// Listen for the clearing of the current output cell\n",
       "var outputEl = gd.closest('.output');\n",
       "if (outputEl) {{\n",
       "    x.observe(outputEl, {childList: true});\n",
       "}}\n",
       "\n",
       "                        })                };                });            </script>        </div>"
      ]
     },
     "metadata": {},
     "output_type": "display_data"
    },
    {
     "data": {
      "application/vnd.plotly.v1+json": {
       "config": {
        "plotlyServerURL": "https://plot.ly"
       },
       "data": [
        {
         "hoverinfo": "text",
         "marker": {
          "color": [
           "grey",
           "grey",
           "grey",
           "grey"
          ]
         },
         "mode": "markers",
         "showlegend": false,
         "text": [
          "ID: 0<br>540.0 sek <br>50 bis 59 % FTP<br>158 bis 186 w<br>",
          "ID: 0<br>540.0 sek <br>50 bis 59 % FTP<br>158 bis 186 w<br>",
          "ID: 0<br>540.0 sek <br>50 bis 59 % FTP<br>158 bis 186 w<br>",
          "ID: 0<br>540.0 sek <br>50 bis 59 % FTP<br>158 bis 186 w<br>"
         ],
         "type": "scatter",
         "x": [
          270,
          270,
          270,
          270
         ],
         "y": [
          11.8,
          23.6,
          35.4,
          47.2
         ]
        },
        {
         "fill": "tozeroy",
         "fillcolor": "grey",
         "hoverinfo": "text",
         "legendgroup": "grey",
         "line": {
          "color": "black"
         },
         "mode": "lines",
         "showlegend": false,
         "text": "ID: 0<br>540.0 sek <br>50 bis 59 % FTP<br>158 bis 186 w<br>",
         "type": "scatter",
         "x": [
          0,
          0,
          540,
          540
         ],
         "xaxis": "x",
         "y": [
          0,
          50,
          59,
          0
         ],
         "yaxis": "y"
        },
        {
         "hoverinfo": "none",
         "line": {
          "color": "rgba(0,0,0,0)"
         },
         "mode": "lines",
         "showlegend": false,
         "type": "scatter",
         "x": [
          0,
          540
         ],
         "xaxis": "x",
         "y": [
          157.5,
          185.85
         ],
         "yaxis": "y2"
        },
        {
         "hoverinfo": "text",
         "marker": {
          "color": [
           "blue",
           "blue",
           "blue",
           "blue"
          ]
         },
         "mode": "markers",
         "showlegend": false,
         "text": [
          "ID: 0<br>360.0 sek <br>59 bis 65 % FTP<br>186 bis 205 w<br>",
          "ID: 0<br>360.0 sek <br>59 bis 65 % FTP<br>186 bis 205 w<br>",
          "ID: 0<br>360.0 sek <br>59 bis 65 % FTP<br>186 bis 205 w<br>",
          "ID: 0<br>360.0 sek <br>59 bis 65 % FTP<br>186 bis 205 w<br>"
         ],
         "type": "scatter",
         "x": [
          720,
          720,
          720,
          720
         ],
         "y": [
          13,
          26,
          39,
          52
         ]
        },
        {
         "fill": "tozeroy",
         "fillcolor": "blue",
         "hoverinfo": "text",
         "legendgroup": "blue",
         "line": {
          "color": "black"
         },
         "mode": "lines",
         "showlegend": false,
         "text": "ID: 0<br>360.0 sek <br>59 bis 65 % FTP<br>186 bis 205 w<br>",
         "type": "scatter",
         "x": [
          540,
          540,
          900,
          900
         ],
         "xaxis": "x",
         "y": [
          0,
          59,
          65,
          0
         ],
         "yaxis": "y"
        },
        {
         "hoverinfo": "none",
         "line": {
          "color": "rgba(0,0,0,0)"
         },
         "mode": "lines",
         "showlegend": false,
         "type": "scatter",
         "x": [
          540,
          900
         ],
         "xaxis": "x",
         "y": [
          185.85,
          204.75
         ],
         "yaxis": "y2"
        },
        {
         "hoverinfo": "text",
         "marker": {
          "color": [
           "rgb(200, 200, 200)",
           "rgb(200, 200, 200)",
           "rgb(200, 200, 200)",
           "rgb(200, 200, 200)"
          ]
         },
         "mode": "markers",
         "showlegend": false,
         "text": [
          "ID: 1<br>300 sek <br>Freeride<br>95 rpm",
          "ID: 1<br>300 sek <br>Freeride<br>95 rpm",
          "ID: 1<br>300 sek <br>Freeride<br>95 rpm",
          "ID: 1<br>300 sek <br>Freeride<br>95 rpm"
         ],
         "type": "scatter",
         "x": [
          1050,
          1050,
          1050,
          1050
         ],
         "y": [
          0,
          0,
          0,
          0
         ]
        },
        {
         "fill": "tozeroy",
         "fillcolor": "rgb(200, 200, 200)",
         "hoverinfo": "text",
         "legendgroup": "rgb(200, 200, 200)",
         "line": {
          "color": "black"
         },
         "mode": "lines",
         "showlegend": false,
         "text": "ID: 1<br>300 sek <br>Freeride<br>95 rpm",
         "type": "scatter",
         "x": [
          900,
          903.030303030303,
          906.060606060606,
          909.0909090909091,
          912.1212121212121,
          915.1515151515151,
          918.1818181818181,
          921.2121212121212,
          924.2424242424242,
          927.2727272727273,
          930.3030303030303,
          933.3333333333334,
          936.3636363636364,
          939.3939393939394,
          942.4242424242424,
          945.4545454545455,
          948.4848484848485,
          951.5151515151515,
          954.5454545454545,
          957.5757575757576,
          960.6060606060606,
          963.6363636363636,
          966.6666666666666,
          969.6969696969697,
          972.7272727272727,
          975.7575757575758,
          978.7878787878788,
          981.8181818181818,
          984.8484848484849,
          987.8787878787879,
          990.9090909090909,
          993.939393939394,
          996.969696969697,
          1000,
          1003.030303030303,
          1006.060606060606,
          1009.0909090909091,
          1012.1212121212121,
          1015.1515151515151,
          1018.1818181818182,
          1021.2121212121212,
          1024.2424242424242,
          1027.2727272727273,
          1030.3030303030303,
          1033.3333333333333,
          1036.3636363636365,
          1039.3939393939395,
          1042.4242424242425,
          1045.4545454545455,
          1048.4848484848485,
          1051.5151515151515,
          1054.5454545454545,
          1057.5757575757575,
          1060.6060606060605,
          1063.6363636363635,
          1066.6666666666667,
          1069.6969696969697,
          1072.7272727272727,
          1075.7575757575758,
          1078.7878787878788,
          1081.8181818181818,
          1084.8484848484848,
          1087.878787878788,
          1090.909090909091,
          1093.939393939394,
          1096.969696969697,
          1100,
          1103.030303030303,
          1106.060606060606,
          1109.090909090909,
          1112.121212121212,
          1115.1515151515152,
          1118.1818181818182,
          1121.2121212121212,
          1124.2424242424242,
          1127.2727272727273,
          1130.3030303030303,
          1133.3333333333333,
          1136.3636363636365,
          1139.3939393939395,
          1142.4242424242425,
          1145.4545454545455,
          1148.4848484848485,
          1151.5151515151515,
          1154.5454545454545,
          1157.5757575757575,
          1160.6060606060605,
          1163.6363636363635,
          1166.6666666666667,
          1169.6969696969697,
          1172.7272727272727,
          1175.7575757575758,
          1178.7878787878788,
          1181.8181818181818,
          1184.848484848485,
          1187.878787878788,
          1190.909090909091,
          1193.939393939394,
          1196.969696969697,
          1200
         ],
         "xaxis": "x",
         "y": [
          40.08221146556885,
          40.000252290046795,
          40.06503339536652,
          40.27560415778596,
          40.628874578066075,
          41.119660625350406,
          41.7407603096987,
          42.483059366956034,
          43.33566500509495,
          44.28606574938473,
          45.32031504075451,
          46.423235893156566,
          47.57864360670412,
          48.76958326840439,
          49.97857855530486,
          51.187888189017045,
          52.37976627830215,
          53.53672272934755,
          54.64177990236937,
          55.678721748261395,
          56.632331769358146,
          57.48861631238285,
          58.23500991688897,
          58.86055970583202,
          59.35608611244962,
          59.714317584880575,
          59.92999729181322,
          59.99996026332178,
          59.92317983489578,
          59.7007827131239,
          59.33603244195288,
          58.83428151214356,
          58.2028928166897,
          57.45113160479349,
          56.590029519908185,
          55.632222717008446,
          54.59176643461882,
          53.48392874264577,
          52.324966492638154,
          51.13188675827255,
          49.92219726678037,
          48.713649483584575,
          47.52397812022605,
          46.3706408881424,
          45.27056231725672,
          44.239885398684486,
          43.293734696052454,
          42.445994401627104,
          41.70910459414782,
          41.093878688156124,
          40.60934475364386,
          40.26261303455823,
          40.058771610249906,
          40.000811730970184,
          40.08958392307331,
          40.323785508054016,
          40.69997971857066,
          41.21264613093824,
          41.8542616740243,
          42.615411025791126,
          43.48492477748151,
          44.45004333797183,
          45.496604173094376,
          46.60924963230428,
          47.77165231296135,
          48.966754655139255,
          50.17701925105413,
          51.38468619597139,
          52.572033704122084,
          53.721638165245466,
          54.81662982558634,
          55.84094034138054,
          56.779538572131656,
          57.618651153553586,
          58.345964613404156,
          58.95080606428119,
          59.42429982182338,
          59.75949765003776,
          59.95148072248228,
          59.997431803084105,
          59.89667658738398,
          59.65069359754836,
          59.263092485946274,
          58.739561065672646,
          58.08778184531363,
          57.317319292755386,
          56.43947948237305,
          55.46714418519181,
          54.41458183664805,
          53.29723815588498,
          52.13150948911721,
          50.934502203115926,
          49.72378165956963,
          48.51711445396986,
          47.332207701512594,
          46.186449195837525,
          45.096652253617656,
          44.078808989254384,
          43.147855640220705,
          42.31745338676333
         ],
         "yaxis": "y"
        },
        {
         "hoverinfo": "none",
         "line": {
          "color": "rgba(0,0,0,0)"
         },
         "mode": "lines",
         "showlegend": false,
         "type": "scatter",
         "x": [
          903.030303030303,
          906.060606060606
         ],
         "xaxis": "x",
         "y": [
          126.0007947136474,
          126.20485519540453
         ],
         "yaxis": "y2"
        },
        {
         "hoverinfo": "none",
         "legendgroup": "rgb(200, 200, 200)",
         "line": {
          "color": "black"
         },
         "mode": "lines",
         "showlegend": false,
         "type": "scatter",
         "x": [
          900,
          1200
         ],
         "xaxis": "x",
         "y": [
          0,
          40
         ],
         "yaxis": "y"
        },
        {
         "hoverinfo": "none",
         "legendgroup": "rgb(200, 200, 200)",
         "line": {
          "color": "black"
         },
         "mode": "lines",
         "showlegend": false,
         "type": "scatter",
         "x": [
          900,
          1200
         ],
         "xaxis": "x",
         "y": [
          40,
          0
         ],
         "yaxis": "y"
        },
        {
         "hoverinfo": "text",
         "marker": {
          "color": [
           "orange",
           "orange",
           "orange",
           "orange"
          ]
         },
         "mode": "markers",
         "showlegend": false,
         "text": [
          "ID: 2<br>40 sek <br>115 % FTP<br>362 w<br>",
          "ID: 2<br>40 sek <br>115 % FTP<br>362 w<br>",
          "ID: 2<br>40 sek <br>115 % FTP<br>362 w<br>",
          "ID: 2<br>40 sek <br>115 % FTP<br>362 w<br>"
         ],
         "type": "scatter",
         "x": [
          1220,
          1220,
          1220,
          1220
         ],
         "y": [
          23,
          46,
          69,
          92
         ]
        },
        {
         "fill": "tozeroy",
         "fillcolor": "orange",
         "hoverinfo": "text",
         "legendgroup": "orange",
         "line": {
          "color": "black"
         },
         "mode": "lines",
         "showlegend": false,
         "text": "ID: 2<br>40 sek <br>115 % FTP<br>362 w<br>",
         "type": "scatter",
         "x": [
          1200,
          1200,
          1240,
          1240
         ],
         "xaxis": "x",
         "y": [
          0,
          115,
          115,
          0
         ],
         "yaxis": "y"
        },
        {
         "hoverinfo": "none",
         "line": {
          "color": "rgba(0,0,0,0)"
         },
         "mode": "lines",
         "showlegend": false,
         "type": "scatter",
         "x": [
          1200,
          1240
         ],
         "xaxis": "x",
         "y": [
          362.25,
          362.25
         ],
         "yaxis": "y2"
        },
        {
         "hoverinfo": "text",
         "marker": {
          "color": [
           "blue",
           "blue",
           "blue",
           "blue"
          ]
         },
         "mode": "markers",
         "showlegend": false,
         "text": [
          "ID: 3<br>20 sek <br>70 % FTP<br>220 w<br>",
          "ID: 3<br>20 sek <br>70 % FTP<br>220 w<br>",
          "ID: 3<br>20 sek <br>70 % FTP<br>220 w<br>",
          "ID: 3<br>20 sek <br>70 % FTP<br>220 w<br>"
         ],
         "type": "scatter",
         "x": [
          1250,
          1250,
          1250,
          1250
         ],
         "y": [
          14,
          28,
          42,
          56
         ]
        },
        {
         "fill": "tozeroy",
         "fillcolor": "blue",
         "hoverinfo": "text",
         "legendgroup": "blue",
         "line": {
          "color": "black"
         },
         "mode": "lines",
         "showlegend": false,
         "text": "ID: 3<br>20 sek <br>70 % FTP<br>220 w<br>",
         "type": "scatter",
         "x": [
          1240,
          1240,
          1260,
          1260
         ],
         "xaxis": "x",
         "y": [
          0,
          70,
          70,
          0
         ],
         "yaxis": "y"
        },
        {
         "hoverinfo": "none",
         "line": {
          "color": "rgba(0,0,0,0)"
         },
         "mode": "lines",
         "showlegend": false,
         "type": "scatter",
         "x": [
          1240,
          1260
         ],
         "xaxis": "x",
         "y": [
          220.5,
          220.5
         ],
         "yaxis": "y2"
        },
        {
         "hoverinfo": "text",
         "marker": {
          "color": [
           "orange",
           "orange",
           "orange",
           "orange"
          ]
         },
         "mode": "markers",
         "showlegend": false,
         "text": [
          "ID: 4<br>40 sek <br>115 % FTP<br>362 w<br>",
          "ID: 4<br>40 sek <br>115 % FTP<br>362 w<br>",
          "ID: 4<br>40 sek <br>115 % FTP<br>362 w<br>",
          "ID: 4<br>40 sek <br>115 % FTP<br>362 w<br>"
         ],
         "type": "scatter",
         "x": [
          1280,
          1280,
          1280,
          1280
         ],
         "y": [
          23,
          46,
          69,
          92
         ]
        },
        {
         "fill": "tozeroy",
         "fillcolor": "orange",
         "hoverinfo": "text",
         "legendgroup": "orange",
         "line": {
          "color": "black"
         },
         "mode": "lines",
         "showlegend": false,
         "text": "ID: 4<br>40 sek <br>115 % FTP<br>362 w<br>",
         "type": "scatter",
         "x": [
          1260,
          1260,
          1300,
          1300
         ],
         "xaxis": "x",
         "y": [
          0,
          115,
          115,
          0
         ],
         "yaxis": "y"
        },
        {
         "hoverinfo": "none",
         "line": {
          "color": "rgba(0,0,0,0)"
         },
         "mode": "lines",
         "showlegend": false,
         "type": "scatter",
         "x": [
          1260,
          1300
         ],
         "xaxis": "x",
         "y": [
          362.25,
          362.25
         ],
         "yaxis": "y2"
        },
        {
         "hoverinfo": "text",
         "marker": {
          "color": [
           "blue",
           "blue",
           "blue",
           "blue"
          ]
         },
         "mode": "markers",
         "showlegend": false,
         "text": [
          "ID: 5<br>20 sek <br>70 % FTP<br>220 w<br>",
          "ID: 5<br>20 sek <br>70 % FTP<br>220 w<br>",
          "ID: 5<br>20 sek <br>70 % FTP<br>220 w<br>",
          "ID: 5<br>20 sek <br>70 % FTP<br>220 w<br>"
         ],
         "type": "scatter",
         "x": [
          1310,
          1310,
          1310,
          1310
         ],
         "y": [
          14,
          28,
          42,
          56
         ]
        },
        {
         "fill": "tozeroy",
         "fillcolor": "blue",
         "hoverinfo": "text",
         "legendgroup": "blue",
         "line": {
          "color": "black"
         },
         "mode": "lines",
         "showlegend": false,
         "text": "ID: 5<br>20 sek <br>70 % FTP<br>220 w<br>",
         "type": "scatter",
         "x": [
          1300,
          1300,
          1320,
          1320
         ],
         "xaxis": "x",
         "y": [
          0,
          70,
          70,
          0
         ],
         "yaxis": "y"
        },
        {
         "hoverinfo": "none",
         "line": {
          "color": "rgba(0,0,0,0)"
         },
         "mode": "lines",
         "showlegend": false,
         "type": "scatter",
         "x": [
          1300,
          1320
         ],
         "xaxis": "x",
         "y": [
          220.5,
          220.5
         ],
         "yaxis": "y2"
        },
        {
         "hoverinfo": "text",
         "marker": {
          "color": [
           "orange",
           "orange",
           "orange",
           "orange"
          ]
         },
         "mode": "markers",
         "showlegend": false,
         "text": [
          "ID: 6<br>40 sek <br>115 % FTP<br>362 w<br>",
          "ID: 6<br>40 sek <br>115 % FTP<br>362 w<br>",
          "ID: 6<br>40 sek <br>115 % FTP<br>362 w<br>",
          "ID: 6<br>40 sek <br>115 % FTP<br>362 w<br>"
         ],
         "type": "scatter",
         "x": [
          1340,
          1340,
          1340,
          1340
         ],
         "y": [
          23,
          46,
          69,
          92
         ]
        },
        {
         "fill": "tozeroy",
         "fillcolor": "orange",
         "hoverinfo": "text",
         "legendgroup": "orange",
         "line": {
          "color": "black"
         },
         "mode": "lines",
         "showlegend": false,
         "text": "ID: 6<br>40 sek <br>115 % FTP<br>362 w<br>",
         "type": "scatter",
         "x": [
          1320,
          1320,
          1360,
          1360
         ],
         "xaxis": "x",
         "y": [
          0,
          115,
          115,
          0
         ],
         "yaxis": "y"
        },
        {
         "hoverinfo": "none",
         "line": {
          "color": "rgba(0,0,0,0)"
         },
         "mode": "lines",
         "showlegend": false,
         "type": "scatter",
         "x": [
          1320,
          1360
         ],
         "xaxis": "x",
         "y": [
          362.25,
          362.25
         ],
         "yaxis": "y2"
        },
        {
         "hoverinfo": "text",
         "marker": {
          "color": [
           "blue",
           "blue",
           "blue",
           "blue"
          ]
         },
         "mode": "markers",
         "showlegend": false,
         "text": [
          "ID: 7<br>20 sek <br>70 % FTP<br>220 w<br>",
          "ID: 7<br>20 sek <br>70 % FTP<br>220 w<br>",
          "ID: 7<br>20 sek <br>70 % FTP<br>220 w<br>",
          "ID: 7<br>20 sek <br>70 % FTP<br>220 w<br>"
         ],
         "type": "scatter",
         "x": [
          1370,
          1370,
          1370,
          1370
         ],
         "y": [
          14,
          28,
          42,
          56
         ]
        },
        {
         "fill": "tozeroy",
         "fillcolor": "blue",
         "hoverinfo": "text",
         "legendgroup": "blue",
         "line": {
          "color": "black"
         },
         "mode": "lines",
         "showlegend": false,
         "text": "ID: 7<br>20 sek <br>70 % FTP<br>220 w<br>",
         "type": "scatter",
         "x": [
          1360,
          1360,
          1380,
          1380
         ],
         "xaxis": "x",
         "y": [
          0,
          70,
          70,
          0
         ],
         "yaxis": "y"
        },
        {
         "hoverinfo": "none",
         "line": {
          "color": "rgba(0,0,0,0)"
         },
         "mode": "lines",
         "showlegend": false,
         "type": "scatter",
         "x": [
          1360,
          1380
         ],
         "xaxis": "x",
         "y": [
          220.5,
          220.5
         ],
         "yaxis": "y2"
        },
        {
         "hoverinfo": "text",
         "marker": {
          "color": [
           "orange",
           "orange",
           "orange",
           "orange"
          ]
         },
         "mode": "markers",
         "showlegend": false,
         "text": [
          "ID: 8<br>40 sek <br>115 % FTP<br>362 w<br>",
          "ID: 8<br>40 sek <br>115 % FTP<br>362 w<br>",
          "ID: 8<br>40 sek <br>115 % FTP<br>362 w<br>",
          "ID: 8<br>40 sek <br>115 % FTP<br>362 w<br>"
         ],
         "type": "scatter",
         "x": [
          1400,
          1400,
          1400,
          1400
         ],
         "y": [
          23,
          46,
          69,
          92
         ]
        },
        {
         "fill": "tozeroy",
         "fillcolor": "orange",
         "hoverinfo": "text",
         "legendgroup": "orange",
         "line": {
          "color": "black"
         },
         "mode": "lines",
         "showlegend": false,
         "text": "ID: 8<br>40 sek <br>115 % FTP<br>362 w<br>",
         "type": "scatter",
         "x": [
          1380,
          1380,
          1420,
          1420
         ],
         "xaxis": "x",
         "y": [
          0,
          115,
          115,
          0
         ],
         "yaxis": "y"
        },
        {
         "hoverinfo": "none",
         "line": {
          "color": "rgba(0,0,0,0)"
         },
         "mode": "lines",
         "showlegend": false,
         "type": "scatter",
         "x": [
          1380,
          1420
         ],
         "xaxis": "x",
         "y": [
          362.25,
          362.25
         ],
         "yaxis": "y2"
        },
        {
         "hoverinfo": "text",
         "marker": {
          "color": [
           "blue",
           "blue",
           "blue",
           "blue"
          ]
         },
         "mode": "markers",
         "showlegend": false,
         "text": [
          "ID: 9<br>20 sek <br>70 % FTP<br>220 w<br>",
          "ID: 9<br>20 sek <br>70 % FTP<br>220 w<br>",
          "ID: 9<br>20 sek <br>70 % FTP<br>220 w<br>",
          "ID: 9<br>20 sek <br>70 % FTP<br>220 w<br>"
         ],
         "type": "scatter",
         "x": [
          1430,
          1430,
          1430,
          1430
         ],
         "y": [
          14,
          28,
          42,
          56
         ]
        },
        {
         "fill": "tozeroy",
         "fillcolor": "blue",
         "hoverinfo": "text",
         "legendgroup": "blue",
         "line": {
          "color": "black"
         },
         "mode": "lines",
         "showlegend": false,
         "text": "ID: 9<br>20 sek <br>70 % FTP<br>220 w<br>",
         "type": "scatter",
         "x": [
          1420,
          1420,
          1440,
          1440
         ],
         "xaxis": "x",
         "y": [
          0,
          70,
          70,
          0
         ],
         "yaxis": "y"
        },
        {
         "hoverinfo": "none",
         "line": {
          "color": "rgba(0,0,0,0)"
         },
         "mode": "lines",
         "showlegend": false,
         "type": "scatter",
         "x": [
          1420,
          1440
         ],
         "xaxis": "x",
         "y": [
          220.5,
          220.5
         ],
         "yaxis": "y2"
        },
        {
         "hoverinfo": "text",
         "marker": {
          "color": [
           "orange",
           "orange",
           "orange",
           "orange"
          ]
         },
         "mode": "markers",
         "showlegend": false,
         "text": [
          "ID: 10<br>40 sek <br>115 % FTP<br>362 w<br>",
          "ID: 10<br>40 sek <br>115 % FTP<br>362 w<br>",
          "ID: 10<br>40 sek <br>115 % FTP<br>362 w<br>",
          "ID: 10<br>40 sek <br>115 % FTP<br>362 w<br>"
         ],
         "type": "scatter",
         "x": [
          1460,
          1460,
          1460,
          1460
         ],
         "y": [
          23,
          46,
          69,
          92
         ]
        },
        {
         "fill": "tozeroy",
         "fillcolor": "orange",
         "hoverinfo": "text",
         "legendgroup": "orange",
         "line": {
          "color": "black"
         },
         "mode": "lines",
         "showlegend": false,
         "text": "ID: 10<br>40 sek <br>115 % FTP<br>362 w<br>",
         "type": "scatter",
         "x": [
          1440,
          1440,
          1480,
          1480
         ],
         "xaxis": "x",
         "y": [
          0,
          115,
          115,
          0
         ],
         "yaxis": "y"
        },
        {
         "hoverinfo": "none",
         "line": {
          "color": "rgba(0,0,0,0)"
         },
         "mode": "lines",
         "showlegend": false,
         "type": "scatter",
         "x": [
          1440,
          1480
         ],
         "xaxis": "x",
         "y": [
          362.25,
          362.25
         ],
         "yaxis": "y2"
        },
        {
         "hoverinfo": "text",
         "marker": {
          "color": [
           "blue",
           "blue",
           "blue",
           "blue"
          ]
         },
         "mode": "markers",
         "showlegend": false,
         "text": [
          "ID: 11<br>20 sek <br>70 % FTP<br>220 w<br>",
          "ID: 11<br>20 sek <br>70 % FTP<br>220 w<br>",
          "ID: 11<br>20 sek <br>70 % FTP<br>220 w<br>",
          "ID: 11<br>20 sek <br>70 % FTP<br>220 w<br>"
         ],
         "type": "scatter",
         "x": [
          1490,
          1490,
          1490,
          1490
         ],
         "y": [
          14,
          28,
          42,
          56
         ]
        },
        {
         "fill": "tozeroy",
         "fillcolor": "blue",
         "hoverinfo": "text",
         "legendgroup": "blue",
         "line": {
          "color": "black"
         },
         "mode": "lines",
         "showlegend": false,
         "text": "ID: 11<br>20 sek <br>70 % FTP<br>220 w<br>",
         "type": "scatter",
         "x": [
          1480,
          1480,
          1500,
          1500
         ],
         "xaxis": "x",
         "y": [
          0,
          70,
          70,
          0
         ],
         "yaxis": "y"
        },
        {
         "hoverinfo": "none",
         "line": {
          "color": "rgba(0,0,0,0)"
         },
         "mode": "lines",
         "showlegend": false,
         "type": "scatter",
         "x": [
          1480,
          1500
         ],
         "xaxis": "x",
         "y": [
          220.5,
          220.5
         ],
         "yaxis": "y2"
        },
        {
         "hoverinfo": "text",
         "marker": {
          "color": [
           "orange",
           "orange",
           "orange",
           "orange"
          ]
         },
         "mode": "markers",
         "showlegend": false,
         "text": [
          "ID: 12<br>40 sek <br>115 % FTP<br>362 w<br>",
          "ID: 12<br>40 sek <br>115 % FTP<br>362 w<br>",
          "ID: 12<br>40 sek <br>115 % FTP<br>362 w<br>",
          "ID: 12<br>40 sek <br>115 % FTP<br>362 w<br>"
         ],
         "type": "scatter",
         "x": [
          1520,
          1520,
          1520,
          1520
         ],
         "y": [
          23,
          46,
          69,
          92
         ]
        },
        {
         "fill": "tozeroy",
         "fillcolor": "orange",
         "hoverinfo": "text",
         "legendgroup": "orange",
         "line": {
          "color": "black"
         },
         "mode": "lines",
         "showlegend": false,
         "text": "ID: 12<br>40 sek <br>115 % FTP<br>362 w<br>",
         "type": "scatter",
         "x": [
          1500,
          1500,
          1540,
          1540
         ],
         "xaxis": "x",
         "y": [
          0,
          115,
          115,
          0
         ],
         "yaxis": "y"
        },
        {
         "hoverinfo": "none",
         "line": {
          "color": "rgba(0,0,0,0)"
         },
         "mode": "lines",
         "showlegend": false,
         "type": "scatter",
         "x": [
          1500,
          1540
         ],
         "xaxis": "x",
         "y": [
          362.25,
          362.25
         ],
         "yaxis": "y2"
        },
        {
         "hoverinfo": "text",
         "marker": {
          "color": [
           "blue",
           "blue",
           "blue",
           "blue"
          ]
         },
         "mode": "markers",
         "showlegend": false,
         "text": [
          "ID: 13<br>20 sek <br>70 % FTP<br>220 w<br>",
          "ID: 13<br>20 sek <br>70 % FTP<br>220 w<br>",
          "ID: 13<br>20 sek <br>70 % FTP<br>220 w<br>",
          "ID: 13<br>20 sek <br>70 % FTP<br>220 w<br>"
         ],
         "type": "scatter",
         "x": [
          1550,
          1550,
          1550,
          1550
         ],
         "y": [
          14,
          28,
          42,
          56
         ]
        },
        {
         "fill": "tozeroy",
         "fillcolor": "blue",
         "hoverinfo": "text",
         "legendgroup": "blue",
         "line": {
          "color": "black"
         },
         "mode": "lines",
         "showlegend": false,
         "text": "ID: 13<br>20 sek <br>70 % FTP<br>220 w<br>",
         "type": "scatter",
         "x": [
          1540,
          1540,
          1560,
          1560
         ],
         "xaxis": "x",
         "y": [
          0,
          70,
          70,
          0
         ],
         "yaxis": "y"
        },
        {
         "hoverinfo": "none",
         "line": {
          "color": "rgba(0,0,0,0)"
         },
         "mode": "lines",
         "showlegend": false,
         "type": "scatter",
         "x": [
          1540,
          1560
         ],
         "xaxis": "x",
         "y": [
          220.5,
          220.5
         ],
         "yaxis": "y2"
        },
        {
         "hoverinfo": "text",
         "marker": {
          "color": [
           "blue",
           "blue",
           "blue",
           "blue"
          ]
         },
         "mode": "markers",
         "showlegend": false,
         "text": [
          "ID: 14<br>600 sek <br>65 % FTP<br>205 w<br>",
          "ID: 14<br>600 sek <br>65 % FTP<br>205 w<br>",
          "ID: 14<br>600 sek <br>65 % FTP<br>205 w<br>",
          "ID: 14<br>600 sek <br>65 % FTP<br>205 w<br>"
         ],
         "type": "scatter",
         "x": [
          1860,
          1860,
          1860,
          1860
         ],
         "y": [
          13,
          26,
          39,
          52
         ]
        },
        {
         "fill": "tozeroy",
         "fillcolor": "blue",
         "hoverinfo": "text",
         "legendgroup": "blue",
         "line": {
          "color": "black"
         },
         "mode": "lines",
         "showlegend": false,
         "text": "ID: 14<br>600 sek <br>65 % FTP<br>205 w<br>",
         "type": "scatter",
         "x": [
          1560,
          1560,
          2160,
          2160
         ],
         "xaxis": "x",
         "y": [
          0,
          65,
          65,
          0
         ],
         "yaxis": "y"
        },
        {
         "hoverinfo": "none",
         "line": {
          "color": "rgba(0,0,0,0)"
         },
         "mode": "lines",
         "showlegend": false,
         "type": "scatter",
         "x": [
          1560,
          2160
         ],
         "xaxis": "x",
         "y": [
          204.75,
          204.75
         ],
         "yaxis": "y2"
        },
        {
         "hoverinfo": "text",
         "marker": {
          "color": [
           "orange",
           "orange",
           "orange",
           "orange"
          ]
         },
         "mode": "markers",
         "showlegend": false,
         "text": [
          "ID: 15<br>40 sek <br>115 % FTP<br>362 w<br>",
          "ID: 15<br>40 sek <br>115 % FTP<br>362 w<br>",
          "ID: 15<br>40 sek <br>115 % FTP<br>362 w<br>",
          "ID: 15<br>40 sek <br>115 % FTP<br>362 w<br>"
         ],
         "type": "scatter",
         "x": [
          2180,
          2180,
          2180,
          2180
         ],
         "y": [
          23,
          46,
          69,
          92
         ]
        },
        {
         "fill": "tozeroy",
         "fillcolor": "orange",
         "hoverinfo": "text",
         "legendgroup": "orange",
         "line": {
          "color": "black"
         },
         "mode": "lines",
         "showlegend": false,
         "text": "ID: 15<br>40 sek <br>115 % FTP<br>362 w<br>",
         "type": "scatter",
         "x": [
          2160,
          2160,
          2200,
          2200
         ],
         "xaxis": "x",
         "y": [
          0,
          115,
          115,
          0
         ],
         "yaxis": "y"
        },
        {
         "hoverinfo": "none",
         "line": {
          "color": "rgba(0,0,0,0)"
         },
         "mode": "lines",
         "showlegend": false,
         "type": "scatter",
         "x": [
          2160,
          2200
         ],
         "xaxis": "x",
         "y": [
          362.25,
          362.25
         ],
         "yaxis": "y2"
        },
        {
         "hoverinfo": "text",
         "marker": {
          "color": [
           "blue",
           "blue",
           "blue",
           "blue"
          ]
         },
         "mode": "markers",
         "showlegend": false,
         "text": [
          "ID: 16<br>20 sek <br>70 % FTP<br>220 w<br>",
          "ID: 16<br>20 sek <br>70 % FTP<br>220 w<br>",
          "ID: 16<br>20 sek <br>70 % FTP<br>220 w<br>",
          "ID: 16<br>20 sek <br>70 % FTP<br>220 w<br>"
         ],
         "type": "scatter",
         "x": [
          2210,
          2210,
          2210,
          2210
         ],
         "y": [
          14,
          28,
          42,
          56
         ]
        },
        {
         "fill": "tozeroy",
         "fillcolor": "blue",
         "hoverinfo": "text",
         "legendgroup": "blue",
         "line": {
          "color": "black"
         },
         "mode": "lines",
         "showlegend": false,
         "text": "ID: 16<br>20 sek <br>70 % FTP<br>220 w<br>",
         "type": "scatter",
         "x": [
          2200,
          2200,
          2220,
          2220
         ],
         "xaxis": "x",
         "y": [
          0,
          70,
          70,
          0
         ],
         "yaxis": "y"
        },
        {
         "hoverinfo": "none",
         "line": {
          "color": "rgba(0,0,0,0)"
         },
         "mode": "lines",
         "showlegend": false,
         "type": "scatter",
         "x": [
          2200,
          2220
         ],
         "xaxis": "x",
         "y": [
          220.5,
          220.5
         ],
         "yaxis": "y2"
        },
        {
         "hoverinfo": "text",
         "marker": {
          "color": [
           "orange",
           "orange",
           "orange",
           "orange"
          ]
         },
         "mode": "markers",
         "showlegend": false,
         "text": [
          "ID: 17<br>40 sek <br>115 % FTP<br>362 w<br>",
          "ID: 17<br>40 sek <br>115 % FTP<br>362 w<br>",
          "ID: 17<br>40 sek <br>115 % FTP<br>362 w<br>",
          "ID: 17<br>40 sek <br>115 % FTP<br>362 w<br>"
         ],
         "type": "scatter",
         "x": [
          2240,
          2240,
          2240,
          2240
         ],
         "y": [
          23,
          46,
          69,
          92
         ]
        },
        {
         "fill": "tozeroy",
         "fillcolor": "orange",
         "hoverinfo": "text",
         "legendgroup": "orange",
         "line": {
          "color": "black"
         },
         "mode": "lines",
         "showlegend": false,
         "text": "ID: 17<br>40 sek <br>115 % FTP<br>362 w<br>",
         "type": "scatter",
         "x": [
          2220,
          2220,
          2260,
          2260
         ],
         "xaxis": "x",
         "y": [
          0,
          115,
          115,
          0
         ],
         "yaxis": "y"
        },
        {
         "hoverinfo": "none",
         "line": {
          "color": "rgba(0,0,0,0)"
         },
         "mode": "lines",
         "showlegend": false,
         "type": "scatter",
         "x": [
          2220,
          2260
         ],
         "xaxis": "x",
         "y": [
          362.25,
          362.25
         ],
         "yaxis": "y2"
        },
        {
         "hoverinfo": "text",
         "marker": {
          "color": [
           "blue",
           "blue",
           "blue",
           "blue"
          ]
         },
         "mode": "markers",
         "showlegend": false,
         "text": [
          "ID: 18<br>20 sek <br>70 % FTP<br>220 w<br>",
          "ID: 18<br>20 sek <br>70 % FTP<br>220 w<br>",
          "ID: 18<br>20 sek <br>70 % FTP<br>220 w<br>",
          "ID: 18<br>20 sek <br>70 % FTP<br>220 w<br>"
         ],
         "type": "scatter",
         "x": [
          2270,
          2270,
          2270,
          2270
         ],
         "y": [
          14,
          28,
          42,
          56
         ]
        },
        {
         "fill": "tozeroy",
         "fillcolor": "blue",
         "hoverinfo": "text",
         "legendgroup": "blue",
         "line": {
          "color": "black"
         },
         "mode": "lines",
         "showlegend": false,
         "text": "ID: 18<br>20 sek <br>70 % FTP<br>220 w<br>",
         "type": "scatter",
         "x": [
          2260,
          2260,
          2280,
          2280
         ],
         "xaxis": "x",
         "y": [
          0,
          70,
          70,
          0
         ],
         "yaxis": "y"
        },
        {
         "hoverinfo": "none",
         "line": {
          "color": "rgba(0,0,0,0)"
         },
         "mode": "lines",
         "showlegend": false,
         "type": "scatter",
         "x": [
          2260,
          2280
         ],
         "xaxis": "x",
         "y": [
          220.5,
          220.5
         ],
         "yaxis": "y2"
        },
        {
         "hoverinfo": "text",
         "marker": {
          "color": [
           "orange",
           "orange",
           "orange",
           "orange"
          ]
         },
         "mode": "markers",
         "showlegend": false,
         "text": [
          "ID: 19<br>40 sek <br>115 % FTP<br>362 w<br>",
          "ID: 19<br>40 sek <br>115 % FTP<br>362 w<br>",
          "ID: 19<br>40 sek <br>115 % FTP<br>362 w<br>",
          "ID: 19<br>40 sek <br>115 % FTP<br>362 w<br>"
         ],
         "type": "scatter",
         "x": [
          2300,
          2300,
          2300,
          2300
         ],
         "y": [
          23,
          46,
          69,
          92
         ]
        },
        {
         "fill": "tozeroy",
         "fillcolor": "orange",
         "hoverinfo": "text",
         "legendgroup": "orange",
         "line": {
          "color": "black"
         },
         "mode": "lines",
         "showlegend": false,
         "text": "ID: 19<br>40 sek <br>115 % FTP<br>362 w<br>",
         "type": "scatter",
         "x": [
          2280,
          2280,
          2320,
          2320
         ],
         "xaxis": "x",
         "y": [
          0,
          115,
          115,
          0
         ],
         "yaxis": "y"
        },
        {
         "hoverinfo": "none",
         "line": {
          "color": "rgba(0,0,0,0)"
         },
         "mode": "lines",
         "showlegend": false,
         "type": "scatter",
         "x": [
          2280,
          2320
         ],
         "xaxis": "x",
         "y": [
          362.25,
          362.25
         ],
         "yaxis": "y2"
        },
        {
         "hoverinfo": "text",
         "marker": {
          "color": [
           "blue",
           "blue",
           "blue",
           "blue"
          ]
         },
         "mode": "markers",
         "showlegend": false,
         "text": [
          "ID: 20<br>20 sek <br>70 % FTP<br>220 w<br>",
          "ID: 20<br>20 sek <br>70 % FTP<br>220 w<br>",
          "ID: 20<br>20 sek <br>70 % FTP<br>220 w<br>",
          "ID: 20<br>20 sek <br>70 % FTP<br>220 w<br>"
         ],
         "type": "scatter",
         "x": [
          2330,
          2330,
          2330,
          2330
         ],
         "y": [
          14,
          28,
          42,
          56
         ]
        },
        {
         "fill": "tozeroy",
         "fillcolor": "blue",
         "hoverinfo": "text",
         "legendgroup": "blue",
         "line": {
          "color": "black"
         },
         "mode": "lines",
         "showlegend": false,
         "text": "ID: 20<br>20 sek <br>70 % FTP<br>220 w<br>",
         "type": "scatter",
         "x": [
          2320,
          2320,
          2340,
          2340
         ],
         "xaxis": "x",
         "y": [
          0,
          70,
          70,
          0
         ],
         "yaxis": "y"
        },
        {
         "hoverinfo": "none",
         "line": {
          "color": "rgba(0,0,0,0)"
         },
         "mode": "lines",
         "showlegend": false,
         "type": "scatter",
         "x": [
          2320,
          2340
         ],
         "xaxis": "x",
         "y": [
          220.5,
          220.5
         ],
         "yaxis": "y2"
        },
        {
         "hoverinfo": "text",
         "marker": {
          "color": [
           "orange",
           "orange",
           "orange",
           "orange"
          ]
         },
         "mode": "markers",
         "showlegend": false,
         "text": [
          "ID: 21<br>40 sek <br>115 % FTP<br>362 w<br>",
          "ID: 21<br>40 sek <br>115 % FTP<br>362 w<br>",
          "ID: 21<br>40 sek <br>115 % FTP<br>362 w<br>",
          "ID: 21<br>40 sek <br>115 % FTP<br>362 w<br>"
         ],
         "type": "scatter",
         "x": [
          2360,
          2360,
          2360,
          2360
         ],
         "y": [
          23,
          46,
          69,
          92
         ]
        },
        {
         "fill": "tozeroy",
         "fillcolor": "orange",
         "hoverinfo": "text",
         "legendgroup": "orange",
         "line": {
          "color": "black"
         },
         "mode": "lines",
         "showlegend": false,
         "text": "ID: 21<br>40 sek <br>115 % FTP<br>362 w<br>",
         "type": "scatter",
         "x": [
          2340,
          2340,
          2380,
          2380
         ],
         "xaxis": "x",
         "y": [
          0,
          115,
          115,
          0
         ],
         "yaxis": "y"
        },
        {
         "hoverinfo": "none",
         "line": {
          "color": "rgba(0,0,0,0)"
         },
         "mode": "lines",
         "showlegend": false,
         "type": "scatter",
         "x": [
          2340,
          2380
         ],
         "xaxis": "x",
         "y": [
          362.25,
          362.25
         ],
         "yaxis": "y2"
        },
        {
         "hoverinfo": "text",
         "marker": {
          "color": [
           "blue",
           "blue",
           "blue",
           "blue"
          ]
         },
         "mode": "markers",
         "showlegend": false,
         "text": [
          "ID: 22<br>20 sek <br>70 % FTP<br>220 w<br>",
          "ID: 22<br>20 sek <br>70 % FTP<br>220 w<br>",
          "ID: 22<br>20 sek <br>70 % FTP<br>220 w<br>",
          "ID: 22<br>20 sek <br>70 % FTP<br>220 w<br>"
         ],
         "type": "scatter",
         "x": [
          2390,
          2390,
          2390,
          2390
         ],
         "y": [
          14,
          28,
          42,
          56
         ]
        },
        {
         "fill": "tozeroy",
         "fillcolor": "blue",
         "hoverinfo": "text",
         "legendgroup": "blue",
         "line": {
          "color": "black"
         },
         "mode": "lines",
         "showlegend": false,
         "text": "ID: 22<br>20 sek <br>70 % FTP<br>220 w<br>",
         "type": "scatter",
         "x": [
          2380,
          2380,
          2400,
          2400
         ],
         "xaxis": "x",
         "y": [
          0,
          70,
          70,
          0
         ],
         "yaxis": "y"
        },
        {
         "hoverinfo": "none",
         "line": {
          "color": "rgba(0,0,0,0)"
         },
         "mode": "lines",
         "showlegend": false,
         "type": "scatter",
         "x": [
          2380,
          2400
         ],
         "xaxis": "x",
         "y": [
          220.5,
          220.5
         ],
         "yaxis": "y2"
        },
        {
         "hoverinfo": "text",
         "marker": {
          "color": [
           "orange",
           "orange",
           "orange",
           "orange"
          ]
         },
         "mode": "markers",
         "showlegend": false,
         "text": [
          "ID: 23<br>40 sek <br>115 % FTP<br>362 w<br>",
          "ID: 23<br>40 sek <br>115 % FTP<br>362 w<br>",
          "ID: 23<br>40 sek <br>115 % FTP<br>362 w<br>",
          "ID: 23<br>40 sek <br>115 % FTP<br>362 w<br>"
         ],
         "type": "scatter",
         "x": [
          2420,
          2420,
          2420,
          2420
         ],
         "y": [
          23,
          46,
          69,
          92
         ]
        },
        {
         "fill": "tozeroy",
         "fillcolor": "orange",
         "hoverinfo": "text",
         "legendgroup": "orange",
         "line": {
          "color": "black"
         },
         "mode": "lines",
         "showlegend": false,
         "text": "ID: 23<br>40 sek <br>115 % FTP<br>362 w<br>",
         "type": "scatter",
         "x": [
          2400,
          2400,
          2440,
          2440
         ],
         "xaxis": "x",
         "y": [
          0,
          115,
          115,
          0
         ],
         "yaxis": "y"
        },
        {
         "hoverinfo": "none",
         "line": {
          "color": "rgba(0,0,0,0)"
         },
         "mode": "lines",
         "showlegend": false,
         "type": "scatter",
         "x": [
          2400,
          2440
         ],
         "xaxis": "x",
         "y": [
          362.25,
          362.25
         ],
         "yaxis": "y2"
        },
        {
         "hoverinfo": "text",
         "marker": {
          "color": [
           "blue",
           "blue",
           "blue",
           "blue"
          ]
         },
         "mode": "markers",
         "showlegend": false,
         "text": [
          "ID: 24<br>20 sek <br>70 % FTP<br>220 w<br>",
          "ID: 24<br>20 sek <br>70 % FTP<br>220 w<br>",
          "ID: 24<br>20 sek <br>70 % FTP<br>220 w<br>",
          "ID: 24<br>20 sek <br>70 % FTP<br>220 w<br>"
         ],
         "type": "scatter",
         "x": [
          2450,
          2450,
          2450,
          2450
         ],
         "y": [
          14,
          28,
          42,
          56
         ]
        },
        {
         "fill": "tozeroy",
         "fillcolor": "blue",
         "hoverinfo": "text",
         "legendgroup": "blue",
         "line": {
          "color": "black"
         },
         "mode": "lines",
         "showlegend": false,
         "text": "ID: 24<br>20 sek <br>70 % FTP<br>220 w<br>",
         "type": "scatter",
         "x": [
          2440,
          2440,
          2460,
          2460
         ],
         "xaxis": "x",
         "y": [
          0,
          70,
          70,
          0
         ],
         "yaxis": "y"
        },
        {
         "hoverinfo": "none",
         "line": {
          "color": "rgba(0,0,0,0)"
         },
         "mode": "lines",
         "showlegend": false,
         "type": "scatter",
         "x": [
          2440,
          2460
         ],
         "xaxis": "x",
         "y": [
          220.5,
          220.5
         ],
         "yaxis": "y2"
        },
        {
         "hoverinfo": "text",
         "marker": {
          "color": [
           "orange",
           "orange",
           "orange",
           "orange"
          ]
         },
         "mode": "markers",
         "showlegend": false,
         "text": [
          "ID: 25<br>40 sek <br>115 % FTP<br>362 w<br>",
          "ID: 25<br>40 sek <br>115 % FTP<br>362 w<br>",
          "ID: 25<br>40 sek <br>115 % FTP<br>362 w<br>",
          "ID: 25<br>40 sek <br>115 % FTP<br>362 w<br>"
         ],
         "type": "scatter",
         "x": [
          2480,
          2480,
          2480,
          2480
         ],
         "y": [
          23,
          46,
          69,
          92
         ]
        },
        {
         "fill": "tozeroy",
         "fillcolor": "orange",
         "hoverinfo": "text",
         "legendgroup": "orange",
         "line": {
          "color": "black"
         },
         "mode": "lines",
         "showlegend": false,
         "text": "ID: 25<br>40 sek <br>115 % FTP<br>362 w<br>",
         "type": "scatter",
         "x": [
          2460,
          2460,
          2500,
          2500
         ],
         "xaxis": "x",
         "y": [
          0,
          115,
          115,
          0
         ],
         "yaxis": "y"
        },
        {
         "hoverinfo": "none",
         "line": {
          "color": "rgba(0,0,0,0)"
         },
         "mode": "lines",
         "showlegend": false,
         "type": "scatter",
         "x": [
          2460,
          2500
         ],
         "xaxis": "x",
         "y": [
          362.25,
          362.25
         ],
         "yaxis": "y2"
        },
        {
         "hoverinfo": "text",
         "marker": {
          "color": [
           "blue",
           "blue",
           "blue",
           "blue"
          ]
         },
         "mode": "markers",
         "showlegend": false,
         "text": [
          "ID: 26<br>20 sek <br>70 % FTP<br>220 w<br>",
          "ID: 26<br>20 sek <br>70 % FTP<br>220 w<br>",
          "ID: 26<br>20 sek <br>70 % FTP<br>220 w<br>",
          "ID: 26<br>20 sek <br>70 % FTP<br>220 w<br>"
         ],
         "type": "scatter",
         "x": [
          2510,
          2510,
          2510,
          2510
         ],
         "y": [
          14,
          28,
          42,
          56
         ]
        },
        {
         "fill": "tozeroy",
         "fillcolor": "blue",
         "hoverinfo": "text",
         "legendgroup": "blue",
         "line": {
          "color": "black"
         },
         "mode": "lines",
         "showlegend": false,
         "text": "ID: 26<br>20 sek <br>70 % FTP<br>220 w<br>",
         "type": "scatter",
         "x": [
          2500,
          2500,
          2520,
          2520
         ],
         "xaxis": "x",
         "y": [
          0,
          70,
          70,
          0
         ],
         "yaxis": "y"
        },
        {
         "hoverinfo": "none",
         "line": {
          "color": "rgba(0,0,0,0)"
         },
         "mode": "lines",
         "showlegend": false,
         "type": "scatter",
         "x": [
          2500,
          2520
         ],
         "xaxis": "x",
         "y": [
          220.5,
          220.5
         ],
         "yaxis": "y2"
        },
        {
         "hoverinfo": "text",
         "marker": {
          "color": [
           "blue",
           "blue",
           "blue",
           "blue"
          ]
         },
         "mode": "markers",
         "showlegend": false,
         "text": [
          "ID: 27<br>600 sek <br>65 % FTP<br>205 w<br>",
          "ID: 27<br>600 sek <br>65 % FTP<br>205 w<br>",
          "ID: 27<br>600 sek <br>65 % FTP<br>205 w<br>",
          "ID: 27<br>600 sek <br>65 % FTP<br>205 w<br>"
         ],
         "type": "scatter",
         "x": [
          2820,
          2820,
          2820,
          2820
         ],
         "y": [
          13,
          26,
          39,
          52
         ]
        },
        {
         "fill": "tozeroy",
         "fillcolor": "blue",
         "hoverinfo": "text",
         "legendgroup": "blue",
         "line": {
          "color": "black"
         },
         "mode": "lines",
         "showlegend": false,
         "text": "ID: 27<br>600 sek <br>65 % FTP<br>205 w<br>",
         "type": "scatter",
         "x": [
          2520,
          2520,
          3120,
          3120
         ],
         "xaxis": "x",
         "y": [
          0,
          65,
          65,
          0
         ],
         "yaxis": "y"
        },
        {
         "hoverinfo": "none",
         "line": {
          "color": "rgba(0,0,0,0)"
         },
         "mode": "lines",
         "showlegend": false,
         "type": "scatter",
         "x": [
          2520,
          3120
         ],
         "xaxis": "x",
         "y": [
          204.75,
          204.75
         ],
         "yaxis": "y2"
        },
        {
         "hoverinfo": "text",
         "marker": {
          "color": [
           "orange",
           "orange",
           "orange",
           "orange"
          ]
         },
         "mode": "markers",
         "showlegend": false,
         "text": [
          "ID: 28<br>40 sek <br>115 % FTP<br>362 w<br>",
          "ID: 28<br>40 sek <br>115 % FTP<br>362 w<br>",
          "ID: 28<br>40 sek <br>115 % FTP<br>362 w<br>",
          "ID: 28<br>40 sek <br>115 % FTP<br>362 w<br>"
         ],
         "type": "scatter",
         "x": [
          3140,
          3140,
          3140,
          3140
         ],
         "y": [
          23,
          46,
          69,
          92
         ]
        },
        {
         "fill": "tozeroy",
         "fillcolor": "orange",
         "hoverinfo": "text",
         "legendgroup": "orange",
         "line": {
          "color": "black"
         },
         "mode": "lines",
         "showlegend": false,
         "text": "ID: 28<br>40 sek <br>115 % FTP<br>362 w<br>",
         "type": "scatter",
         "x": [
          3120,
          3120,
          3160,
          3160
         ],
         "xaxis": "x",
         "y": [
          0,
          115,
          115,
          0
         ],
         "yaxis": "y"
        },
        {
         "hoverinfo": "none",
         "line": {
          "color": "rgba(0,0,0,0)"
         },
         "mode": "lines",
         "showlegend": false,
         "type": "scatter",
         "x": [
          3120,
          3160
         ],
         "xaxis": "x",
         "y": [
          362.25,
          362.25
         ],
         "yaxis": "y2"
        },
        {
         "hoverinfo": "text",
         "marker": {
          "color": [
           "blue",
           "blue",
           "blue",
           "blue"
          ]
         },
         "mode": "markers",
         "showlegend": false,
         "text": [
          "ID: 29<br>20 sek <br>70 % FTP<br>220 w<br>",
          "ID: 29<br>20 sek <br>70 % FTP<br>220 w<br>",
          "ID: 29<br>20 sek <br>70 % FTP<br>220 w<br>",
          "ID: 29<br>20 sek <br>70 % FTP<br>220 w<br>"
         ],
         "type": "scatter",
         "x": [
          3170,
          3170,
          3170,
          3170
         ],
         "y": [
          14,
          28,
          42,
          56
         ]
        },
        {
         "fill": "tozeroy",
         "fillcolor": "blue",
         "hoverinfo": "text",
         "legendgroup": "blue",
         "line": {
          "color": "black"
         },
         "mode": "lines",
         "showlegend": false,
         "text": "ID: 29<br>20 sek <br>70 % FTP<br>220 w<br>",
         "type": "scatter",
         "x": [
          3160,
          3160,
          3180,
          3180
         ],
         "xaxis": "x",
         "y": [
          0,
          70,
          70,
          0
         ],
         "yaxis": "y"
        },
        {
         "hoverinfo": "none",
         "line": {
          "color": "rgba(0,0,0,0)"
         },
         "mode": "lines",
         "showlegend": false,
         "type": "scatter",
         "x": [
          3160,
          3180
         ],
         "xaxis": "x",
         "y": [
          220.5,
          220.5
         ],
         "yaxis": "y2"
        },
        {
         "hoverinfo": "text",
         "marker": {
          "color": [
           "orange",
           "orange",
           "orange",
           "orange"
          ]
         },
         "mode": "markers",
         "showlegend": false,
         "text": [
          "ID: 30<br>40 sek <br>115 % FTP<br>362 w<br>",
          "ID: 30<br>40 sek <br>115 % FTP<br>362 w<br>",
          "ID: 30<br>40 sek <br>115 % FTP<br>362 w<br>",
          "ID: 30<br>40 sek <br>115 % FTP<br>362 w<br>"
         ],
         "type": "scatter",
         "x": [
          3200,
          3200,
          3200,
          3200
         ],
         "y": [
          23,
          46,
          69,
          92
         ]
        },
        {
         "fill": "tozeroy",
         "fillcolor": "orange",
         "hoverinfo": "text",
         "legendgroup": "orange",
         "line": {
          "color": "black"
         },
         "mode": "lines",
         "showlegend": false,
         "text": "ID: 30<br>40 sek <br>115 % FTP<br>362 w<br>",
         "type": "scatter",
         "x": [
          3180,
          3180,
          3220,
          3220
         ],
         "xaxis": "x",
         "y": [
          0,
          115,
          115,
          0
         ],
         "yaxis": "y"
        },
        {
         "hoverinfo": "none",
         "line": {
          "color": "rgba(0,0,0,0)"
         },
         "mode": "lines",
         "showlegend": false,
         "type": "scatter",
         "x": [
          3180,
          3220
         ],
         "xaxis": "x",
         "y": [
          362.25,
          362.25
         ],
         "yaxis": "y2"
        },
        {
         "hoverinfo": "text",
         "marker": {
          "color": [
           "blue",
           "blue",
           "blue",
           "blue"
          ]
         },
         "mode": "markers",
         "showlegend": false,
         "text": [
          "ID: 31<br>20 sek <br>70 % FTP<br>220 w<br>",
          "ID: 31<br>20 sek <br>70 % FTP<br>220 w<br>",
          "ID: 31<br>20 sek <br>70 % FTP<br>220 w<br>",
          "ID: 31<br>20 sek <br>70 % FTP<br>220 w<br>"
         ],
         "type": "scatter",
         "x": [
          3230,
          3230,
          3230,
          3230
         ],
         "y": [
          14,
          28,
          42,
          56
         ]
        },
        {
         "fill": "tozeroy",
         "fillcolor": "blue",
         "hoverinfo": "text",
         "legendgroup": "blue",
         "line": {
          "color": "black"
         },
         "mode": "lines",
         "showlegend": false,
         "text": "ID: 31<br>20 sek <br>70 % FTP<br>220 w<br>",
         "type": "scatter",
         "x": [
          3220,
          3220,
          3240,
          3240
         ],
         "xaxis": "x",
         "y": [
          0,
          70,
          70,
          0
         ],
         "yaxis": "y"
        },
        {
         "hoverinfo": "none",
         "line": {
          "color": "rgba(0,0,0,0)"
         },
         "mode": "lines",
         "showlegend": false,
         "type": "scatter",
         "x": [
          3220,
          3240
         ],
         "xaxis": "x",
         "y": [
          220.5,
          220.5
         ],
         "yaxis": "y2"
        },
        {
         "hoverinfo": "text",
         "marker": {
          "color": [
           "orange",
           "orange",
           "orange",
           "orange"
          ]
         },
         "mode": "markers",
         "showlegend": false,
         "text": [
          "ID: 32<br>40 sek <br>115 % FTP<br>362 w<br>",
          "ID: 32<br>40 sek <br>115 % FTP<br>362 w<br>",
          "ID: 32<br>40 sek <br>115 % FTP<br>362 w<br>",
          "ID: 32<br>40 sek <br>115 % FTP<br>362 w<br>"
         ],
         "type": "scatter",
         "x": [
          3260,
          3260,
          3260,
          3260
         ],
         "y": [
          23,
          46,
          69,
          92
         ]
        },
        {
         "fill": "tozeroy",
         "fillcolor": "orange",
         "hoverinfo": "text",
         "legendgroup": "orange",
         "line": {
          "color": "black"
         },
         "mode": "lines",
         "showlegend": false,
         "text": "ID: 32<br>40 sek <br>115 % FTP<br>362 w<br>",
         "type": "scatter",
         "x": [
          3240,
          3240,
          3280,
          3280
         ],
         "xaxis": "x",
         "y": [
          0,
          115,
          115,
          0
         ],
         "yaxis": "y"
        },
        {
         "hoverinfo": "none",
         "line": {
          "color": "rgba(0,0,0,0)"
         },
         "mode": "lines",
         "showlegend": false,
         "type": "scatter",
         "x": [
          3240,
          3280
         ],
         "xaxis": "x",
         "y": [
          362.25,
          362.25
         ],
         "yaxis": "y2"
        },
        {
         "hoverinfo": "text",
         "marker": {
          "color": [
           "blue",
           "blue",
           "blue",
           "blue"
          ]
         },
         "mode": "markers",
         "showlegend": false,
         "text": [
          "ID: 33<br>20 sek <br>70 % FTP<br>220 w<br>",
          "ID: 33<br>20 sek <br>70 % FTP<br>220 w<br>",
          "ID: 33<br>20 sek <br>70 % FTP<br>220 w<br>",
          "ID: 33<br>20 sek <br>70 % FTP<br>220 w<br>"
         ],
         "type": "scatter",
         "x": [
          3290,
          3290,
          3290,
          3290
         ],
         "y": [
          14,
          28,
          42,
          56
         ]
        },
        {
         "fill": "tozeroy",
         "fillcolor": "blue",
         "hoverinfo": "text",
         "legendgroup": "blue",
         "line": {
          "color": "black"
         },
         "mode": "lines",
         "showlegend": false,
         "text": "ID: 33<br>20 sek <br>70 % FTP<br>220 w<br>",
         "type": "scatter",
         "x": [
          3280,
          3280,
          3300,
          3300
         ],
         "xaxis": "x",
         "y": [
          0,
          70,
          70,
          0
         ],
         "yaxis": "y"
        },
        {
         "hoverinfo": "none",
         "line": {
          "color": "rgba(0,0,0,0)"
         },
         "mode": "lines",
         "showlegend": false,
         "type": "scatter",
         "x": [
          3280,
          3300
         ],
         "xaxis": "x",
         "y": [
          220.5,
          220.5
         ],
         "yaxis": "y2"
        },
        {
         "hoverinfo": "text",
         "marker": {
          "color": [
           "orange",
           "orange",
           "orange",
           "orange"
          ]
         },
         "mode": "markers",
         "showlegend": false,
         "text": [
          "ID: 34<br>40 sek <br>115 % FTP<br>362 w<br>",
          "ID: 34<br>40 sek <br>115 % FTP<br>362 w<br>",
          "ID: 34<br>40 sek <br>115 % FTP<br>362 w<br>",
          "ID: 34<br>40 sek <br>115 % FTP<br>362 w<br>"
         ],
         "type": "scatter",
         "x": [
          3320,
          3320,
          3320,
          3320
         ],
         "y": [
          23,
          46,
          69,
          92
         ]
        },
        {
         "fill": "tozeroy",
         "fillcolor": "orange",
         "hoverinfo": "text",
         "legendgroup": "orange",
         "line": {
          "color": "black"
         },
         "mode": "lines",
         "showlegend": false,
         "text": "ID: 34<br>40 sek <br>115 % FTP<br>362 w<br>",
         "type": "scatter",
         "x": [
          3300,
          3300,
          3340,
          3340
         ],
         "xaxis": "x",
         "y": [
          0,
          115,
          115,
          0
         ],
         "yaxis": "y"
        },
        {
         "hoverinfo": "none",
         "line": {
          "color": "rgba(0,0,0,0)"
         },
         "mode": "lines",
         "showlegend": false,
         "type": "scatter",
         "x": [
          3300,
          3340
         ],
         "xaxis": "x",
         "y": [
          362.25,
          362.25
         ],
         "yaxis": "y2"
        },
        {
         "hoverinfo": "text",
         "marker": {
          "color": [
           "blue",
           "blue",
           "blue",
           "blue"
          ]
         },
         "mode": "markers",
         "showlegend": false,
         "text": [
          "ID: 35<br>20 sek <br>70 % FTP<br>220 w<br>",
          "ID: 35<br>20 sek <br>70 % FTP<br>220 w<br>",
          "ID: 35<br>20 sek <br>70 % FTP<br>220 w<br>",
          "ID: 35<br>20 sek <br>70 % FTP<br>220 w<br>"
         ],
         "type": "scatter",
         "x": [
          3350,
          3350,
          3350,
          3350
         ],
         "y": [
          14,
          28,
          42,
          56
         ]
        },
        {
         "fill": "tozeroy",
         "fillcolor": "blue",
         "hoverinfo": "text",
         "legendgroup": "blue",
         "line": {
          "color": "black"
         },
         "mode": "lines",
         "showlegend": false,
         "text": "ID: 35<br>20 sek <br>70 % FTP<br>220 w<br>",
         "type": "scatter",
         "x": [
          3340,
          3340,
          3360,
          3360
         ],
         "xaxis": "x",
         "y": [
          0,
          70,
          70,
          0
         ],
         "yaxis": "y"
        },
        {
         "hoverinfo": "none",
         "line": {
          "color": "rgba(0,0,0,0)"
         },
         "mode": "lines",
         "showlegend": false,
         "type": "scatter",
         "x": [
          3340,
          3360
         ],
         "xaxis": "x",
         "y": [
          220.5,
          220.5
         ],
         "yaxis": "y2"
        },
        {
         "hoverinfo": "text",
         "marker": {
          "color": [
           "orange",
           "orange",
           "orange",
           "orange"
          ]
         },
         "mode": "markers",
         "showlegend": false,
         "text": [
          "ID: 36<br>40 sek <br>115 % FTP<br>362 w<br>",
          "ID: 36<br>40 sek <br>115 % FTP<br>362 w<br>",
          "ID: 36<br>40 sek <br>115 % FTP<br>362 w<br>",
          "ID: 36<br>40 sek <br>115 % FTP<br>362 w<br>"
         ],
         "type": "scatter",
         "x": [
          3380,
          3380,
          3380,
          3380
         ],
         "y": [
          23,
          46,
          69,
          92
         ]
        },
        {
         "fill": "tozeroy",
         "fillcolor": "orange",
         "hoverinfo": "text",
         "legendgroup": "orange",
         "line": {
          "color": "black"
         },
         "mode": "lines",
         "showlegend": false,
         "text": "ID: 36<br>40 sek <br>115 % FTP<br>362 w<br>",
         "type": "scatter",
         "x": [
          3360,
          3360,
          3400,
          3400
         ],
         "xaxis": "x",
         "y": [
          0,
          115,
          115,
          0
         ],
         "yaxis": "y"
        },
        {
         "hoverinfo": "none",
         "line": {
          "color": "rgba(0,0,0,0)"
         },
         "mode": "lines",
         "showlegend": false,
         "type": "scatter",
         "x": [
          3360,
          3400
         ],
         "xaxis": "x",
         "y": [
          362.25,
          362.25
         ],
         "yaxis": "y2"
        },
        {
         "hoverinfo": "text",
         "marker": {
          "color": [
           "blue",
           "blue",
           "blue",
           "blue"
          ]
         },
         "mode": "markers",
         "showlegend": false,
         "text": [
          "ID: 37<br>20 sek <br>70 % FTP<br>220 w<br>",
          "ID: 37<br>20 sek <br>70 % FTP<br>220 w<br>",
          "ID: 37<br>20 sek <br>70 % FTP<br>220 w<br>",
          "ID: 37<br>20 sek <br>70 % FTP<br>220 w<br>"
         ],
         "type": "scatter",
         "x": [
          3410,
          3410,
          3410,
          3410
         ],
         "y": [
          14,
          28,
          42,
          56
         ]
        },
        {
         "fill": "tozeroy",
         "fillcolor": "blue",
         "hoverinfo": "text",
         "legendgroup": "blue",
         "line": {
          "color": "black"
         },
         "mode": "lines",
         "showlegend": false,
         "text": "ID: 37<br>20 sek <br>70 % FTP<br>220 w<br>",
         "type": "scatter",
         "x": [
          3400,
          3400,
          3420,
          3420
         ],
         "xaxis": "x",
         "y": [
          0,
          70,
          70,
          0
         ],
         "yaxis": "y"
        },
        {
         "hoverinfo": "none",
         "line": {
          "color": "rgba(0,0,0,0)"
         },
         "mode": "lines",
         "showlegend": false,
         "type": "scatter",
         "x": [
          3400,
          3420
         ],
         "xaxis": "x",
         "y": [
          220.5,
          220.5
         ],
         "yaxis": "y2"
        },
        {
         "hoverinfo": "text",
         "marker": {
          "color": [
           "orange",
           "orange",
           "orange",
           "orange"
          ]
         },
         "mode": "markers",
         "showlegend": false,
         "text": [
          "ID: 38<br>40 sek <br>115 % FTP<br>362 w<br>",
          "ID: 38<br>40 sek <br>115 % FTP<br>362 w<br>",
          "ID: 38<br>40 sek <br>115 % FTP<br>362 w<br>",
          "ID: 38<br>40 sek <br>115 % FTP<br>362 w<br>"
         ],
         "type": "scatter",
         "x": [
          3440,
          3440,
          3440,
          3440
         ],
         "y": [
          23,
          46,
          69,
          92
         ]
        },
        {
         "fill": "tozeroy",
         "fillcolor": "orange",
         "hoverinfo": "text",
         "legendgroup": "orange",
         "line": {
          "color": "black"
         },
         "mode": "lines",
         "showlegend": false,
         "text": "ID: 38<br>40 sek <br>115 % FTP<br>362 w<br>",
         "type": "scatter",
         "x": [
          3420,
          3420,
          3460,
          3460
         ],
         "xaxis": "x",
         "y": [
          0,
          115,
          115,
          0
         ],
         "yaxis": "y"
        },
        {
         "hoverinfo": "none",
         "line": {
          "color": "rgba(0,0,0,0)"
         },
         "mode": "lines",
         "showlegend": false,
         "type": "scatter",
         "x": [
          3420,
          3460
         ],
         "xaxis": "x",
         "y": [
          362.25,
          362.25
         ],
         "yaxis": "y2"
        },
        {
         "hoverinfo": "text",
         "marker": {
          "color": [
           "blue",
           "blue",
           "blue",
           "blue"
          ]
         },
         "mode": "markers",
         "showlegend": false,
         "text": [
          "ID: 39<br>20 sek <br>70 % FTP<br>220 w<br>",
          "ID: 39<br>20 sek <br>70 % FTP<br>220 w<br>",
          "ID: 39<br>20 sek <br>70 % FTP<br>220 w<br>",
          "ID: 39<br>20 sek <br>70 % FTP<br>220 w<br>"
         ],
         "type": "scatter",
         "x": [
          3470,
          3470,
          3470,
          3470
         ],
         "y": [
          14,
          28,
          42,
          56
         ]
        },
        {
         "fill": "tozeroy",
         "fillcolor": "blue",
         "hoverinfo": "text",
         "legendgroup": "blue",
         "line": {
          "color": "black"
         },
         "mode": "lines",
         "showlegend": false,
         "text": "ID: 39<br>20 sek <br>70 % FTP<br>220 w<br>",
         "type": "scatter",
         "x": [
          3460,
          3460,
          3480,
          3480
         ],
         "xaxis": "x",
         "y": [
          0,
          70,
          70,
          0
         ],
         "yaxis": "y"
        },
        {
         "hoverinfo": "none",
         "line": {
          "color": "rgba(0,0,0,0)"
         },
         "mode": "lines",
         "showlegend": false,
         "type": "scatter",
         "x": [
          3460,
          3480
         ],
         "xaxis": "x",
         "y": [
          220.5,
          220.5
         ],
         "yaxis": "y2"
        },
        {
         "hoverinfo": "text",
         "marker": {
          "color": [
           "blue",
           "blue",
           "blue",
           "blue"
          ]
         },
         "mode": "markers",
         "showlegend": false,
         "text": [
          "ID: 40<br>600 sek <br>65 % FTP<br>205 w<br>",
          "ID: 40<br>600 sek <br>65 % FTP<br>205 w<br>",
          "ID: 40<br>600 sek <br>65 % FTP<br>205 w<br>",
          "ID: 40<br>600 sek <br>65 % FTP<br>205 w<br>"
         ],
         "type": "scatter",
         "x": [
          3780,
          3780,
          3780,
          3780
         ],
         "y": [
          13,
          26,
          39,
          52
         ]
        },
        {
         "fill": "tozeroy",
         "fillcolor": "blue",
         "hoverinfo": "text",
         "legendgroup": "blue",
         "line": {
          "color": "black"
         },
         "mode": "lines",
         "showlegend": false,
         "text": "ID: 40<br>600 sek <br>65 % FTP<br>205 w<br>",
         "type": "scatter",
         "x": [
          3480,
          3480,
          4080,
          4080
         ],
         "xaxis": "x",
         "y": [
          0,
          65,
          65,
          0
         ],
         "yaxis": "y"
        },
        {
         "hoverinfo": "none",
         "line": {
          "color": "rgba(0,0,0,0)"
         },
         "mode": "lines",
         "showlegend": false,
         "type": "scatter",
         "x": [
          3480,
          4080
         ],
         "xaxis": "x",
         "y": [
          204.75,
          204.75
         ],
         "yaxis": "y2"
        },
        {
         "hoverinfo": "text",
         "marker": {
          "color": [
           "orange",
           "orange",
           "orange",
           "orange"
          ]
         },
         "mode": "markers",
         "showlegend": false,
         "text": [
          "ID: 41<br>40 sek <br>115 % FTP<br>362 w<br>",
          "ID: 41<br>40 sek <br>115 % FTP<br>362 w<br>",
          "ID: 41<br>40 sek <br>115 % FTP<br>362 w<br>",
          "ID: 41<br>40 sek <br>115 % FTP<br>362 w<br>"
         ],
         "type": "scatter",
         "x": [
          4100,
          4100,
          4100,
          4100
         ],
         "y": [
          23,
          46,
          69,
          92
         ]
        },
        {
         "fill": "tozeroy",
         "fillcolor": "orange",
         "hoverinfo": "text",
         "legendgroup": "orange",
         "line": {
          "color": "black"
         },
         "mode": "lines",
         "showlegend": false,
         "text": "ID: 41<br>40 sek <br>115 % FTP<br>362 w<br>",
         "type": "scatter",
         "x": [
          4080,
          4080,
          4120,
          4120
         ],
         "xaxis": "x",
         "y": [
          0,
          115,
          115,
          0
         ],
         "yaxis": "y"
        },
        {
         "hoverinfo": "none",
         "line": {
          "color": "rgba(0,0,0,0)"
         },
         "mode": "lines",
         "showlegend": false,
         "type": "scatter",
         "x": [
          4080,
          4120
         ],
         "xaxis": "x",
         "y": [
          362.25,
          362.25
         ],
         "yaxis": "y2"
        },
        {
         "hoverinfo": "text",
         "marker": {
          "color": [
           "blue",
           "blue",
           "blue",
           "blue"
          ]
         },
         "mode": "markers",
         "showlegend": false,
         "text": [
          "ID: 42<br>20 sek <br>70 % FTP<br>220 w<br>",
          "ID: 42<br>20 sek <br>70 % FTP<br>220 w<br>",
          "ID: 42<br>20 sek <br>70 % FTP<br>220 w<br>",
          "ID: 42<br>20 sek <br>70 % FTP<br>220 w<br>"
         ],
         "type": "scatter",
         "x": [
          4130,
          4130,
          4130,
          4130
         ],
         "y": [
          14,
          28,
          42,
          56
         ]
        },
        {
         "fill": "tozeroy",
         "fillcolor": "blue",
         "hoverinfo": "text",
         "legendgroup": "blue",
         "line": {
          "color": "black"
         },
         "mode": "lines",
         "showlegend": false,
         "text": "ID: 42<br>20 sek <br>70 % FTP<br>220 w<br>",
         "type": "scatter",
         "x": [
          4120,
          4120,
          4140,
          4140
         ],
         "xaxis": "x",
         "y": [
          0,
          70,
          70,
          0
         ],
         "yaxis": "y"
        },
        {
         "hoverinfo": "none",
         "line": {
          "color": "rgba(0,0,0,0)"
         },
         "mode": "lines",
         "showlegend": false,
         "type": "scatter",
         "x": [
          4120,
          4140
         ],
         "xaxis": "x",
         "y": [
          220.5,
          220.5
         ],
         "yaxis": "y2"
        },
        {
         "hoverinfo": "text",
         "marker": {
          "color": [
           "orange",
           "orange",
           "orange",
           "orange"
          ]
         },
         "mode": "markers",
         "showlegend": false,
         "text": [
          "ID: 43<br>40 sek <br>115 % FTP<br>362 w<br>",
          "ID: 43<br>40 sek <br>115 % FTP<br>362 w<br>",
          "ID: 43<br>40 sek <br>115 % FTP<br>362 w<br>",
          "ID: 43<br>40 sek <br>115 % FTP<br>362 w<br>"
         ],
         "type": "scatter",
         "x": [
          4160,
          4160,
          4160,
          4160
         ],
         "y": [
          23,
          46,
          69,
          92
         ]
        },
        {
         "fill": "tozeroy",
         "fillcolor": "orange",
         "hoverinfo": "text",
         "legendgroup": "orange",
         "line": {
          "color": "black"
         },
         "mode": "lines",
         "showlegend": false,
         "text": "ID: 43<br>40 sek <br>115 % FTP<br>362 w<br>",
         "type": "scatter",
         "x": [
          4140,
          4140,
          4180,
          4180
         ],
         "xaxis": "x",
         "y": [
          0,
          115,
          115,
          0
         ],
         "yaxis": "y"
        },
        {
         "hoverinfo": "none",
         "line": {
          "color": "rgba(0,0,0,0)"
         },
         "mode": "lines",
         "showlegend": false,
         "type": "scatter",
         "x": [
          4140,
          4180
         ],
         "xaxis": "x",
         "y": [
          362.25,
          362.25
         ],
         "yaxis": "y2"
        },
        {
         "hoverinfo": "text",
         "marker": {
          "color": [
           "blue",
           "blue",
           "blue",
           "blue"
          ]
         },
         "mode": "markers",
         "showlegend": false,
         "text": [
          "ID: 44<br>20 sek <br>70 % FTP<br>220 w<br>",
          "ID: 44<br>20 sek <br>70 % FTP<br>220 w<br>",
          "ID: 44<br>20 sek <br>70 % FTP<br>220 w<br>",
          "ID: 44<br>20 sek <br>70 % FTP<br>220 w<br>"
         ],
         "type": "scatter",
         "x": [
          4190,
          4190,
          4190,
          4190
         ],
         "y": [
          14,
          28,
          42,
          56
         ]
        },
        {
         "fill": "tozeroy",
         "fillcolor": "blue",
         "hoverinfo": "text",
         "legendgroup": "blue",
         "line": {
          "color": "black"
         },
         "mode": "lines",
         "showlegend": false,
         "text": "ID: 44<br>20 sek <br>70 % FTP<br>220 w<br>",
         "type": "scatter",
         "x": [
          4180,
          4180,
          4200,
          4200
         ],
         "xaxis": "x",
         "y": [
          0,
          70,
          70,
          0
         ],
         "yaxis": "y"
        },
        {
         "hoverinfo": "none",
         "line": {
          "color": "rgba(0,0,0,0)"
         },
         "mode": "lines",
         "showlegend": false,
         "type": "scatter",
         "x": [
          4180,
          4200
         ],
         "xaxis": "x",
         "y": [
          220.5,
          220.5
         ],
         "yaxis": "y2"
        },
        {
         "hoverinfo": "text",
         "marker": {
          "color": [
           "orange",
           "orange",
           "orange",
           "orange"
          ]
         },
         "mode": "markers",
         "showlegend": false,
         "text": [
          "ID: 45<br>40 sek <br>115 % FTP<br>362 w<br>",
          "ID: 45<br>40 sek <br>115 % FTP<br>362 w<br>",
          "ID: 45<br>40 sek <br>115 % FTP<br>362 w<br>",
          "ID: 45<br>40 sek <br>115 % FTP<br>362 w<br>"
         ],
         "type": "scatter",
         "x": [
          4220,
          4220,
          4220,
          4220
         ],
         "y": [
          23,
          46,
          69,
          92
         ]
        },
        {
         "fill": "tozeroy",
         "fillcolor": "orange",
         "hoverinfo": "text",
         "legendgroup": "orange",
         "line": {
          "color": "black"
         },
         "mode": "lines",
         "showlegend": false,
         "text": "ID: 45<br>40 sek <br>115 % FTP<br>362 w<br>",
         "type": "scatter",
         "x": [
          4200,
          4200,
          4240,
          4240
         ],
         "xaxis": "x",
         "y": [
          0,
          115,
          115,
          0
         ],
         "yaxis": "y"
        },
        {
         "hoverinfo": "none",
         "line": {
          "color": "rgba(0,0,0,0)"
         },
         "mode": "lines",
         "showlegend": false,
         "type": "scatter",
         "x": [
          4200,
          4240
         ],
         "xaxis": "x",
         "y": [
          362.25,
          362.25
         ],
         "yaxis": "y2"
        },
        {
         "hoverinfo": "text",
         "marker": {
          "color": [
           "blue",
           "blue",
           "blue",
           "blue"
          ]
         },
         "mode": "markers",
         "showlegend": false,
         "text": [
          "ID: 46<br>20 sek <br>70 % FTP<br>220 w<br>",
          "ID: 46<br>20 sek <br>70 % FTP<br>220 w<br>",
          "ID: 46<br>20 sek <br>70 % FTP<br>220 w<br>",
          "ID: 46<br>20 sek <br>70 % FTP<br>220 w<br>"
         ],
         "type": "scatter",
         "x": [
          4250,
          4250,
          4250,
          4250
         ],
         "y": [
          14,
          28,
          42,
          56
         ]
        },
        {
         "fill": "tozeroy",
         "fillcolor": "blue",
         "hoverinfo": "text",
         "legendgroup": "blue",
         "line": {
          "color": "black"
         },
         "mode": "lines",
         "showlegend": false,
         "text": "ID: 46<br>20 sek <br>70 % FTP<br>220 w<br>",
         "type": "scatter",
         "x": [
          4240,
          4240,
          4260,
          4260
         ],
         "xaxis": "x",
         "y": [
          0,
          70,
          70,
          0
         ],
         "yaxis": "y"
        },
        {
         "hoverinfo": "none",
         "line": {
          "color": "rgba(0,0,0,0)"
         },
         "mode": "lines",
         "showlegend": false,
         "type": "scatter",
         "x": [
          4240,
          4260
         ],
         "xaxis": "x",
         "y": [
          220.5,
          220.5
         ],
         "yaxis": "y2"
        },
        {
         "hoverinfo": "text",
         "marker": {
          "color": [
           "orange",
           "orange",
           "orange",
           "orange"
          ]
         },
         "mode": "markers",
         "showlegend": false,
         "text": [
          "ID: 47<br>40 sek <br>115 % FTP<br>362 w<br>",
          "ID: 47<br>40 sek <br>115 % FTP<br>362 w<br>",
          "ID: 47<br>40 sek <br>115 % FTP<br>362 w<br>",
          "ID: 47<br>40 sek <br>115 % FTP<br>362 w<br>"
         ],
         "type": "scatter",
         "x": [
          4280,
          4280,
          4280,
          4280
         ],
         "y": [
          23,
          46,
          69,
          92
         ]
        },
        {
         "fill": "tozeroy",
         "fillcolor": "orange",
         "hoverinfo": "text",
         "legendgroup": "orange",
         "line": {
          "color": "black"
         },
         "mode": "lines",
         "showlegend": false,
         "text": "ID: 47<br>40 sek <br>115 % FTP<br>362 w<br>",
         "type": "scatter",
         "x": [
          4260,
          4260,
          4300,
          4300
         ],
         "xaxis": "x",
         "y": [
          0,
          115,
          115,
          0
         ],
         "yaxis": "y"
        },
        {
         "hoverinfo": "none",
         "line": {
          "color": "rgba(0,0,0,0)"
         },
         "mode": "lines",
         "showlegend": false,
         "type": "scatter",
         "x": [
          4260,
          4300
         ],
         "xaxis": "x",
         "y": [
          362.25,
          362.25
         ],
         "yaxis": "y2"
        },
        {
         "hoverinfo": "text",
         "marker": {
          "color": [
           "blue",
           "blue",
           "blue",
           "blue"
          ]
         },
         "mode": "markers",
         "showlegend": false,
         "text": [
          "ID: 48<br>20 sek <br>70 % FTP<br>220 w<br>",
          "ID: 48<br>20 sek <br>70 % FTP<br>220 w<br>",
          "ID: 48<br>20 sek <br>70 % FTP<br>220 w<br>",
          "ID: 48<br>20 sek <br>70 % FTP<br>220 w<br>"
         ],
         "type": "scatter",
         "x": [
          4310,
          4310,
          4310,
          4310
         ],
         "y": [
          14,
          28,
          42,
          56
         ]
        },
        {
         "fill": "tozeroy",
         "fillcolor": "blue",
         "hoverinfo": "text",
         "legendgroup": "blue",
         "line": {
          "color": "black"
         },
         "mode": "lines",
         "showlegend": false,
         "text": "ID: 48<br>20 sek <br>70 % FTP<br>220 w<br>",
         "type": "scatter",
         "x": [
          4300,
          4300,
          4320,
          4320
         ],
         "xaxis": "x",
         "y": [
          0,
          70,
          70,
          0
         ],
         "yaxis": "y"
        },
        {
         "hoverinfo": "none",
         "line": {
          "color": "rgba(0,0,0,0)"
         },
         "mode": "lines",
         "showlegend": false,
         "type": "scatter",
         "x": [
          4300,
          4320
         ],
         "xaxis": "x",
         "y": [
          220.5,
          220.5
         ],
         "yaxis": "y2"
        },
        {
         "hoverinfo": "text",
         "marker": {
          "color": [
           "orange",
           "orange",
           "orange",
           "orange"
          ]
         },
         "mode": "markers",
         "showlegend": false,
         "text": [
          "ID: 49<br>40 sek <br>115 % FTP<br>362 w<br>",
          "ID: 49<br>40 sek <br>115 % FTP<br>362 w<br>",
          "ID: 49<br>40 sek <br>115 % FTP<br>362 w<br>",
          "ID: 49<br>40 sek <br>115 % FTP<br>362 w<br>"
         ],
         "type": "scatter",
         "x": [
          4340,
          4340,
          4340,
          4340
         ],
         "y": [
          23,
          46,
          69,
          92
         ]
        },
        {
         "fill": "tozeroy",
         "fillcolor": "orange",
         "hoverinfo": "text",
         "legendgroup": "orange",
         "line": {
          "color": "black"
         },
         "mode": "lines",
         "showlegend": false,
         "text": "ID: 49<br>40 sek <br>115 % FTP<br>362 w<br>",
         "type": "scatter",
         "x": [
          4320,
          4320,
          4360,
          4360
         ],
         "xaxis": "x",
         "y": [
          0,
          115,
          115,
          0
         ],
         "yaxis": "y"
        },
        {
         "hoverinfo": "none",
         "line": {
          "color": "rgba(0,0,0,0)"
         },
         "mode": "lines",
         "showlegend": false,
         "type": "scatter",
         "x": [
          4320,
          4360
         ],
         "xaxis": "x",
         "y": [
          362.25,
          362.25
         ],
         "yaxis": "y2"
        },
        {
         "hoverinfo": "text",
         "marker": {
          "color": [
           "blue",
           "blue",
           "blue",
           "blue"
          ]
         },
         "mode": "markers",
         "showlegend": false,
         "text": [
          "ID: 50<br>20 sek <br>70 % FTP<br>220 w<br>",
          "ID: 50<br>20 sek <br>70 % FTP<br>220 w<br>",
          "ID: 50<br>20 sek <br>70 % FTP<br>220 w<br>",
          "ID: 50<br>20 sek <br>70 % FTP<br>220 w<br>"
         ],
         "type": "scatter",
         "x": [
          4370,
          4370,
          4370,
          4370
         ],
         "y": [
          14,
          28,
          42,
          56
         ]
        },
        {
         "fill": "tozeroy",
         "fillcolor": "blue",
         "hoverinfo": "text",
         "legendgroup": "blue",
         "line": {
          "color": "black"
         },
         "mode": "lines",
         "showlegend": false,
         "text": "ID: 50<br>20 sek <br>70 % FTP<br>220 w<br>",
         "type": "scatter",
         "x": [
          4360,
          4360,
          4380,
          4380
         ],
         "xaxis": "x",
         "y": [
          0,
          70,
          70,
          0
         ],
         "yaxis": "y"
        },
        {
         "hoverinfo": "none",
         "line": {
          "color": "rgba(0,0,0,0)"
         },
         "mode": "lines",
         "showlegend": false,
         "type": "scatter",
         "x": [
          4360,
          4380
         ],
         "xaxis": "x",
         "y": [
          220.5,
          220.5
         ],
         "yaxis": "y2"
        },
        {
         "hoverinfo": "text",
         "marker": {
          "color": [
           "orange",
           "orange",
           "orange",
           "orange"
          ]
         },
         "mode": "markers",
         "showlegend": false,
         "text": [
          "ID: 51<br>40 sek <br>115 % FTP<br>362 w<br>",
          "ID: 51<br>40 sek <br>115 % FTP<br>362 w<br>",
          "ID: 51<br>40 sek <br>115 % FTP<br>362 w<br>",
          "ID: 51<br>40 sek <br>115 % FTP<br>362 w<br>"
         ],
         "type": "scatter",
         "x": [
          4400,
          4400,
          4400,
          4400
         ],
         "y": [
          23,
          46,
          69,
          92
         ]
        },
        {
         "fill": "tozeroy",
         "fillcolor": "orange",
         "hoverinfo": "text",
         "legendgroup": "orange",
         "line": {
          "color": "black"
         },
         "mode": "lines",
         "showlegend": false,
         "text": "ID: 51<br>40 sek <br>115 % FTP<br>362 w<br>",
         "type": "scatter",
         "x": [
          4380,
          4380,
          4420,
          4420
         ],
         "xaxis": "x",
         "y": [
          0,
          115,
          115,
          0
         ],
         "yaxis": "y"
        },
        {
         "hoverinfo": "none",
         "line": {
          "color": "rgba(0,0,0,0)"
         },
         "mode": "lines",
         "showlegend": false,
         "type": "scatter",
         "x": [
          4380,
          4420
         ],
         "xaxis": "x",
         "y": [
          362.25,
          362.25
         ],
         "yaxis": "y2"
        },
        {
         "hoverinfo": "text",
         "marker": {
          "color": [
           "blue",
           "blue",
           "blue",
           "blue"
          ]
         },
         "mode": "markers",
         "showlegend": false,
         "text": [
          "ID: 52<br>20 sek <br>70 % FTP<br>220 w<br>",
          "ID: 52<br>20 sek <br>70 % FTP<br>220 w<br>",
          "ID: 52<br>20 sek <br>70 % FTP<br>220 w<br>",
          "ID: 52<br>20 sek <br>70 % FTP<br>220 w<br>"
         ],
         "type": "scatter",
         "x": [
          4430,
          4430,
          4430,
          4430
         ],
         "y": [
          14,
          28,
          42,
          56
         ]
        },
        {
         "fill": "tozeroy",
         "fillcolor": "blue",
         "hoverinfo": "text",
         "legendgroup": "blue",
         "line": {
          "color": "black"
         },
         "mode": "lines",
         "showlegend": false,
         "text": "ID: 52<br>20 sek <br>70 % FTP<br>220 w<br>",
         "type": "scatter",
         "x": [
          4420,
          4420,
          4440,
          4440
         ],
         "xaxis": "x",
         "y": [
          0,
          70,
          70,
          0
         ],
         "yaxis": "y"
        },
        {
         "hoverinfo": "none",
         "line": {
          "color": "rgba(0,0,0,0)"
         },
         "mode": "lines",
         "showlegend": false,
         "type": "scatter",
         "x": [
          4420,
          4440
         ],
         "xaxis": "x",
         "y": [
          220.5,
          220.5
         ],
         "yaxis": "y2"
        },
        {
         "hoverinfo": "text",
         "marker": {
          "color": [
           "blue",
           "blue",
           "blue",
           "blue"
          ]
         },
         "mode": "markers",
         "showlegend": false,
         "text": [
          "ID: 53<br>240.0 sek <br>65 bis 59 % FTP<br>205 bis 186 w<br>",
          "ID: 53<br>240.0 sek <br>65 bis 59 % FTP<br>205 bis 186 w<br>",
          "ID: 53<br>240.0 sek <br>65 bis 59 % FTP<br>205 bis 186 w<br>",
          "ID: 53<br>240.0 sek <br>65 bis 59 % FTP<br>205 bis 186 w<br>"
         ],
         "type": "scatter",
         "x": [
          4560,
          4560,
          4560,
          4560
         ],
         "y": [
          11.8,
          23.6,
          35.4,
          47.2
         ]
        },
        {
         "fill": "tozeroy",
         "fillcolor": "blue",
         "hoverinfo": "text",
         "legendgroup": "blue",
         "line": {
          "color": "black"
         },
         "mode": "lines",
         "showlegend": false,
         "text": "ID: 53<br>240.0 sek <br>65 bis 59 % FTP<br>205 bis 186 w<br>",
         "type": "scatter",
         "x": [
          4440,
          4440,
          4680,
          4680
         ],
         "xaxis": "x",
         "y": [
          0,
          65,
          59,
          0
         ],
         "yaxis": "y"
        },
        {
         "hoverinfo": "none",
         "line": {
          "color": "rgba(0,0,0,0)"
         },
         "mode": "lines",
         "showlegend": false,
         "type": "scatter",
         "x": [
          4440,
          4680
         ],
         "xaxis": "x",
         "y": [
          204.75,
          185.85
         ],
         "yaxis": "y2"
        },
        {
         "hoverinfo": "text",
         "marker": {
          "color": [
           "grey",
           "grey",
           "grey",
           "grey"
          ]
         },
         "mode": "markers",
         "showlegend": false,
         "text": [
          "ID: 53<br>360.0 sek <br>59 bis 50 % FTP<br>186 bis 158 w<br>",
          "ID: 53<br>360.0 sek <br>59 bis 50 % FTP<br>186 bis 158 w<br>",
          "ID: 53<br>360.0 sek <br>59 bis 50 % FTP<br>186 bis 158 w<br>",
          "ID: 53<br>360.0 sek <br>59 bis 50 % FTP<br>186 bis 158 w<br>"
         ],
         "type": "scatter",
         "x": [
          4860,
          4860,
          4860,
          4860
         ],
         "y": [
          10,
          20,
          30,
          40
         ]
        },
        {
         "fill": "tozeroy",
         "fillcolor": "grey",
         "hoverinfo": "text",
         "legendgroup": "grey",
         "line": {
          "color": "black"
         },
         "mode": "lines",
         "showlegend": false,
         "text": "ID: 53<br>360.0 sek <br>59 bis 50 % FTP<br>186 bis 158 w<br>",
         "type": "scatter",
         "x": [
          4680,
          4680,
          5040,
          5040
         ],
         "xaxis": "x",
         "y": [
          0,
          59,
          50,
          0
         ],
         "yaxis": "y"
        },
        {
         "hoverinfo": "none",
         "line": {
          "color": "rgba(0,0,0,0)"
         },
         "mode": "lines",
         "showlegend": false,
         "type": "scatter",
         "x": [
          4680,
          5040
         ],
         "xaxis": "x",
         "y": [
          185.85,
          157.5
         ],
         "yaxis": "y2"
        }
       ],
       "layout": {
        "template": {
         "data": {
          "bar": [
           {
            "error_x": {
             "color": "#2a3f5f"
            },
            "error_y": {
             "color": "#2a3f5f"
            },
            "marker": {
             "line": {
              "color": "#E5ECF6",
              "width": 0.5
             }
            },
            "type": "bar"
           }
          ],
          "barpolar": [
           {
            "marker": {
             "line": {
              "color": "#E5ECF6",
              "width": 0.5
             }
            },
            "type": "barpolar"
           }
          ],
          "carpet": [
           {
            "aaxis": {
             "endlinecolor": "#2a3f5f",
             "gridcolor": "white",
             "linecolor": "white",
             "minorgridcolor": "white",
             "startlinecolor": "#2a3f5f"
            },
            "baxis": {
             "endlinecolor": "#2a3f5f",
             "gridcolor": "white",
             "linecolor": "white",
             "minorgridcolor": "white",
             "startlinecolor": "#2a3f5f"
            },
            "type": "carpet"
           }
          ],
          "choropleth": [
           {
            "colorbar": {
             "outlinewidth": 0,
             "ticks": ""
            },
            "type": "choropleth"
           }
          ],
          "contour": [
           {
            "colorbar": {
             "outlinewidth": 0,
             "ticks": ""
            },
            "colorscale": [
             [
              0,
              "#0d0887"
             ],
             [
              0.1111111111111111,
              "#46039f"
             ],
             [
              0.2222222222222222,
              "#7201a8"
             ],
             [
              0.3333333333333333,
              "#9c179e"
             ],
             [
              0.4444444444444444,
              "#bd3786"
             ],
             [
              0.5555555555555556,
              "#d8576b"
             ],
             [
              0.6666666666666666,
              "#ed7953"
             ],
             [
              0.7777777777777778,
              "#fb9f3a"
             ],
             [
              0.8888888888888888,
              "#fdca26"
             ],
             [
              1,
              "#f0f921"
             ]
            ],
            "type": "contour"
           }
          ],
          "contourcarpet": [
           {
            "colorbar": {
             "outlinewidth": 0,
             "ticks": ""
            },
            "type": "contourcarpet"
           }
          ],
          "heatmap": [
           {
            "colorbar": {
             "outlinewidth": 0,
             "ticks": ""
            },
            "colorscale": [
             [
              0,
              "#0d0887"
             ],
             [
              0.1111111111111111,
              "#46039f"
             ],
             [
              0.2222222222222222,
              "#7201a8"
             ],
             [
              0.3333333333333333,
              "#9c179e"
             ],
             [
              0.4444444444444444,
              "#bd3786"
             ],
             [
              0.5555555555555556,
              "#d8576b"
             ],
             [
              0.6666666666666666,
              "#ed7953"
             ],
             [
              0.7777777777777778,
              "#fb9f3a"
             ],
             [
              0.8888888888888888,
              "#fdca26"
             ],
             [
              1,
              "#f0f921"
             ]
            ],
            "type": "heatmap"
           }
          ],
          "heatmapgl": [
           {
            "colorbar": {
             "outlinewidth": 0,
             "ticks": ""
            },
            "colorscale": [
             [
              0,
              "#0d0887"
             ],
             [
              0.1111111111111111,
              "#46039f"
             ],
             [
              0.2222222222222222,
              "#7201a8"
             ],
             [
              0.3333333333333333,
              "#9c179e"
             ],
             [
              0.4444444444444444,
              "#bd3786"
             ],
             [
              0.5555555555555556,
              "#d8576b"
             ],
             [
              0.6666666666666666,
              "#ed7953"
             ],
             [
              0.7777777777777778,
              "#fb9f3a"
             ],
             [
              0.8888888888888888,
              "#fdca26"
             ],
             [
              1,
              "#f0f921"
             ]
            ],
            "type": "heatmapgl"
           }
          ],
          "histogram": [
           {
            "marker": {
             "colorbar": {
              "outlinewidth": 0,
              "ticks": ""
             }
            },
            "type": "histogram"
           }
          ],
          "histogram2d": [
           {
            "colorbar": {
             "outlinewidth": 0,
             "ticks": ""
            },
            "colorscale": [
             [
              0,
              "#0d0887"
             ],
             [
              0.1111111111111111,
              "#46039f"
             ],
             [
              0.2222222222222222,
              "#7201a8"
             ],
             [
              0.3333333333333333,
              "#9c179e"
             ],
             [
              0.4444444444444444,
              "#bd3786"
             ],
             [
              0.5555555555555556,
              "#d8576b"
             ],
             [
              0.6666666666666666,
              "#ed7953"
             ],
             [
              0.7777777777777778,
              "#fb9f3a"
             ],
             [
              0.8888888888888888,
              "#fdca26"
             ],
             [
              1,
              "#f0f921"
             ]
            ],
            "type": "histogram2d"
           }
          ],
          "histogram2dcontour": [
           {
            "colorbar": {
             "outlinewidth": 0,
             "ticks": ""
            },
            "colorscale": [
             [
              0,
              "#0d0887"
             ],
             [
              0.1111111111111111,
              "#46039f"
             ],
             [
              0.2222222222222222,
              "#7201a8"
             ],
             [
              0.3333333333333333,
              "#9c179e"
             ],
             [
              0.4444444444444444,
              "#bd3786"
             ],
             [
              0.5555555555555556,
              "#d8576b"
             ],
             [
              0.6666666666666666,
              "#ed7953"
             ],
             [
              0.7777777777777778,
              "#fb9f3a"
             ],
             [
              0.8888888888888888,
              "#fdca26"
             ],
             [
              1,
              "#f0f921"
             ]
            ],
            "type": "histogram2dcontour"
           }
          ],
          "mesh3d": [
           {
            "colorbar": {
             "outlinewidth": 0,
             "ticks": ""
            },
            "type": "mesh3d"
           }
          ],
          "parcoords": [
           {
            "line": {
             "colorbar": {
              "outlinewidth": 0,
              "ticks": ""
             }
            },
            "type": "parcoords"
           }
          ],
          "pie": [
           {
            "automargin": true,
            "type": "pie"
           }
          ],
          "scatter": [
           {
            "marker": {
             "colorbar": {
              "outlinewidth": 0,
              "ticks": ""
             }
            },
            "type": "scatter"
           }
          ],
          "scatter3d": [
           {
            "line": {
             "colorbar": {
              "outlinewidth": 0,
              "ticks": ""
             }
            },
            "marker": {
             "colorbar": {
              "outlinewidth": 0,
              "ticks": ""
             }
            },
            "type": "scatter3d"
           }
          ],
          "scattercarpet": [
           {
            "marker": {
             "colorbar": {
              "outlinewidth": 0,
              "ticks": ""
             }
            },
            "type": "scattercarpet"
           }
          ],
          "scattergeo": [
           {
            "marker": {
             "colorbar": {
              "outlinewidth": 0,
              "ticks": ""
             }
            },
            "type": "scattergeo"
           }
          ],
          "scattergl": [
           {
            "marker": {
             "colorbar": {
              "outlinewidth": 0,
              "ticks": ""
             }
            },
            "type": "scattergl"
           }
          ],
          "scattermapbox": [
           {
            "marker": {
             "colorbar": {
              "outlinewidth": 0,
              "ticks": ""
             }
            },
            "type": "scattermapbox"
           }
          ],
          "scatterpolar": [
           {
            "marker": {
             "colorbar": {
              "outlinewidth": 0,
              "ticks": ""
             }
            },
            "type": "scatterpolar"
           }
          ],
          "scatterpolargl": [
           {
            "marker": {
             "colorbar": {
              "outlinewidth": 0,
              "ticks": ""
             }
            },
            "type": "scatterpolargl"
           }
          ],
          "scatterternary": [
           {
            "marker": {
             "colorbar": {
              "outlinewidth": 0,
              "ticks": ""
             }
            },
            "type": "scatterternary"
           }
          ],
          "surface": [
           {
            "colorbar": {
             "outlinewidth": 0,
             "ticks": ""
            },
            "colorscale": [
             [
              0,
              "#0d0887"
             ],
             [
              0.1111111111111111,
              "#46039f"
             ],
             [
              0.2222222222222222,
              "#7201a8"
             ],
             [
              0.3333333333333333,
              "#9c179e"
             ],
             [
              0.4444444444444444,
              "#bd3786"
             ],
             [
              0.5555555555555556,
              "#d8576b"
             ],
             [
              0.6666666666666666,
              "#ed7953"
             ],
             [
              0.7777777777777778,
              "#fb9f3a"
             ],
             [
              0.8888888888888888,
              "#fdca26"
             ],
             [
              1,
              "#f0f921"
             ]
            ],
            "type": "surface"
           }
          ],
          "table": [
           {
            "cells": {
             "fill": {
              "color": "#EBF0F8"
             },
             "line": {
              "color": "white"
             }
            },
            "header": {
             "fill": {
              "color": "#C8D4E3"
             },
             "line": {
              "color": "white"
             }
            },
            "type": "table"
           }
          ]
         },
         "layout": {
          "annotationdefaults": {
           "arrowcolor": "#2a3f5f",
           "arrowhead": 0,
           "arrowwidth": 1
          },
          "coloraxis": {
           "colorbar": {
            "outlinewidth": 0,
            "ticks": ""
           }
          },
          "colorscale": {
           "diverging": [
            [
             0,
             "#8e0152"
            ],
            [
             0.1,
             "#c51b7d"
            ],
            [
             0.2,
             "#de77ae"
            ],
            [
             0.3,
             "#f1b6da"
            ],
            [
             0.4,
             "#fde0ef"
            ],
            [
             0.5,
             "#f7f7f7"
            ],
            [
             0.6,
             "#e6f5d0"
            ],
            [
             0.7,
             "#b8e186"
            ],
            [
             0.8,
             "#7fbc41"
            ],
            [
             0.9,
             "#4d9221"
            ],
            [
             1,
             "#276419"
            ]
           ],
           "sequential": [
            [
             0,
             "#0d0887"
            ],
            [
             0.1111111111111111,
             "#46039f"
            ],
            [
             0.2222222222222222,
             "#7201a8"
            ],
            [
             0.3333333333333333,
             "#9c179e"
            ],
            [
             0.4444444444444444,
             "#bd3786"
            ],
            [
             0.5555555555555556,
             "#d8576b"
            ],
            [
             0.6666666666666666,
             "#ed7953"
            ],
            [
             0.7777777777777778,
             "#fb9f3a"
            ],
            [
             0.8888888888888888,
             "#fdca26"
            ],
            [
             1,
             "#f0f921"
            ]
           ],
           "sequentialminus": [
            [
             0,
             "#0d0887"
            ],
            [
             0.1111111111111111,
             "#46039f"
            ],
            [
             0.2222222222222222,
             "#7201a8"
            ],
            [
             0.3333333333333333,
             "#9c179e"
            ],
            [
             0.4444444444444444,
             "#bd3786"
            ],
            [
             0.5555555555555556,
             "#d8576b"
            ],
            [
             0.6666666666666666,
             "#ed7953"
            ],
            [
             0.7777777777777778,
             "#fb9f3a"
            ],
            [
             0.8888888888888888,
             "#fdca26"
            ],
            [
             1,
             "#f0f921"
            ]
           ]
          },
          "colorway": [
           "#636efa",
           "#EF553B",
           "#00cc96",
           "#ab63fa",
           "#FFA15A",
           "#19d3f3",
           "#FF6692",
           "#B6E880",
           "#FF97FF",
           "#FECB52"
          ],
          "font": {
           "color": "#2a3f5f"
          },
          "geo": {
           "bgcolor": "white",
           "lakecolor": "white",
           "landcolor": "#E5ECF6",
           "showlakes": true,
           "showland": true,
           "subunitcolor": "white"
          },
          "hoverlabel": {
           "align": "left"
          },
          "hovermode": "closest",
          "mapbox": {
           "style": "light"
          },
          "paper_bgcolor": "white",
          "plot_bgcolor": "#E5ECF6",
          "polar": {
           "angularaxis": {
            "gridcolor": "white",
            "linecolor": "white",
            "ticks": ""
           },
           "bgcolor": "#E5ECF6",
           "radialaxis": {
            "gridcolor": "white",
            "linecolor": "white",
            "ticks": ""
           }
          },
          "scene": {
           "xaxis": {
            "backgroundcolor": "#E5ECF6",
            "gridcolor": "white",
            "gridwidth": 2,
            "linecolor": "white",
            "showbackground": true,
            "ticks": "",
            "zerolinecolor": "white"
           },
           "yaxis": {
            "backgroundcolor": "#E5ECF6",
            "gridcolor": "white",
            "gridwidth": 2,
            "linecolor": "white",
            "showbackground": true,
            "ticks": "",
            "zerolinecolor": "white"
           },
           "zaxis": {
            "backgroundcolor": "#E5ECF6",
            "gridcolor": "white",
            "gridwidth": 2,
            "linecolor": "white",
            "showbackground": true,
            "ticks": "",
            "zerolinecolor": "white"
           }
          },
          "shapedefaults": {
           "line": {
            "color": "#2a3f5f"
           }
          },
          "ternary": {
           "aaxis": {
            "gridcolor": "white",
            "linecolor": "white",
            "ticks": ""
           },
           "baxis": {
            "gridcolor": "white",
            "linecolor": "white",
            "ticks": ""
           },
           "bgcolor": "#E5ECF6",
           "caxis": {
            "gridcolor": "white",
            "linecolor": "white",
            "ticks": ""
           }
          },
          "title": {
           "x": 0.05
          },
          "xaxis": {
           "automargin": true,
           "gridcolor": "white",
           "linecolor": "white",
           "ticks": "",
           "title": {
            "standoff": 15
           },
           "zerolinecolor": "white",
           "zerolinewidth": 2
          },
          "yaxis": {
           "automargin": true,
           "gridcolor": "white",
           "linecolor": "white",
           "ticks": "",
           "title": {
            "standoff": 15
           },
           "zerolinecolor": "white",
           "zerolinewidth": 2
          }
         }
        },
        "xaxis": {
         "anchor": "y",
         "domain": [
          0,
          0.94
         ],
         "title": {
          "text": "Zeit"
         }
        },
        "yaxis": {
         "anchor": "x",
         "domain": [
          0,
          1
         ],
         "title": {
          "text": "% FTP"
         }
        },
        "yaxis2": {
         "anchor": "x",
         "overlaying": "y",
         "showgrid": false,
         "side": "right",
         "title": {
          "text": "Watt"
         }
        }
       }
      },
      "text/html": [
       "<div>                            <div id=\"a802a6aa-eff1-4210-9bc9-3dfb5ff40729\" class=\"plotly-graph-div\" style=\"height:525px; width:100%;\"></div>            <script type=\"text/javascript\">                require([\"plotly\"], function(Plotly) {                    window.PLOTLYENV=window.PLOTLYENV || {};                                    if (document.getElementById(\"a802a6aa-eff1-4210-9bc9-3dfb5ff40729\")) {                    Plotly.newPlot(                        \"a802a6aa-eff1-4210-9bc9-3dfb5ff40729\",                        [{\"hoverinfo\": \"text\", \"marker\": {\"color\": [\"grey\", \"grey\", \"grey\", \"grey\"]}, \"mode\": \"markers\", \"showlegend\": false, \"text\": [\"ID: 0<br>540.0 sek <br>50 bis 59 % FTP<br>158 bis 186 w<br>\", \"ID: 0<br>540.0 sek <br>50 bis 59 % FTP<br>158 bis 186 w<br>\", \"ID: 0<br>540.0 sek <br>50 bis 59 % FTP<br>158 bis 186 w<br>\", \"ID: 0<br>540.0 sek <br>50 bis 59 % FTP<br>158 bis 186 w<br>\"], \"type\": \"scatter\", \"x\": [270.0, 270.0, 270.0, 270.0], \"y\": [11.8, 23.6, 35.4, 47.2]}, {\"fill\": \"tozeroy\", \"fillcolor\": \"grey\", \"hoverinfo\": \"text\", \"legendgroup\": \"grey\", \"line\": {\"color\": \"black\"}, \"mode\": \"lines\", \"showlegend\": false, \"text\": \"ID: 0<br>540.0 sek <br>50 bis 59 % FTP<br>158 bis 186 w<br>\", \"type\": \"scatter\", \"x\": [0, 0, 540.0, 540.0], \"xaxis\": \"x\", \"y\": [0, 50, 59, 0], \"yaxis\": \"y\"}, {\"hoverinfo\": \"none\", \"line\": {\"color\": \"rgba(0,0,0,0)\"}, \"mode\": \"lines\", \"showlegend\": false, \"type\": \"scatter\", \"x\": [0, 540.0], \"xaxis\": \"x\", \"y\": [157.5, 185.85], \"yaxis\": \"y2\"}, {\"hoverinfo\": \"text\", \"marker\": {\"color\": [\"blue\", \"blue\", \"blue\", \"blue\"]}, \"mode\": \"markers\", \"showlegend\": false, \"text\": [\"ID: 0<br>360.0 sek <br>59 bis 65 % FTP<br>186 bis 205 w<br>\", \"ID: 0<br>360.0 sek <br>59 bis 65 % FTP<br>186 bis 205 w<br>\", \"ID: 0<br>360.0 sek <br>59 bis 65 % FTP<br>186 bis 205 w<br>\", \"ID: 0<br>360.0 sek <br>59 bis 65 % FTP<br>186 bis 205 w<br>\"], \"type\": \"scatter\", \"x\": [720.0, 720.0, 720.0, 720.0], \"y\": [13.0, 26.0, 39.0, 52.0]}, {\"fill\": \"tozeroy\", \"fillcolor\": \"blue\", \"hoverinfo\": \"text\", \"legendgroup\": \"blue\", \"line\": {\"color\": \"black\"}, \"mode\": \"lines\", \"showlegend\": false, \"text\": \"ID: 0<br>360.0 sek <br>59 bis 65 % FTP<br>186 bis 205 w<br>\", \"type\": \"scatter\", \"x\": [540.0, 540.0, 900.0, 900.0], \"xaxis\": \"x\", \"y\": [0, 59, 65, 0], \"yaxis\": \"y\"}, {\"hoverinfo\": \"none\", \"line\": {\"color\": \"rgba(0,0,0,0)\"}, \"mode\": \"lines\", \"showlegend\": false, \"type\": \"scatter\", \"x\": [540.0, 900.0], \"xaxis\": \"x\", \"y\": [185.85, 204.75], \"yaxis\": \"y2\"}, {\"hoverinfo\": \"text\", \"marker\": {\"color\": [\"rgb(200, 200, 200)\", \"rgb(200, 200, 200)\", \"rgb(200, 200, 200)\", \"rgb(200, 200, 200)\"]}, \"mode\": \"markers\", \"showlegend\": false, \"text\": [\"ID: 1<br>300 sek <br>Freeride<br>95 rpm\", \"ID: 1<br>300 sek <br>Freeride<br>95 rpm\", \"ID: 1<br>300 sek <br>Freeride<br>95 rpm\", \"ID: 1<br>300 sek <br>Freeride<br>95 rpm\"], \"type\": \"scatter\", \"x\": [1050.0, 1050.0, 1050.0, 1050.0], \"y\": [0.0, 0.0, 0.0, 0.0]}, {\"fill\": \"tozeroy\", \"fillcolor\": \"rgb(200, 200, 200)\", \"hoverinfo\": \"text\", \"legendgroup\": \"rgb(200, 200, 200)\", \"line\": {\"color\": \"black\"}, \"mode\": \"lines\", \"showlegend\": false, \"text\": \"ID: 1<br>300 sek <br>Freeride<br>95 rpm\", \"type\": \"scatter\", \"x\": [900.0, 903.030303030303, 906.060606060606, 909.0909090909091, 912.1212121212121, 915.1515151515151, 918.1818181818181, 921.2121212121212, 924.2424242424242, 927.2727272727273, 930.3030303030303, 933.3333333333334, 936.3636363636364, 939.3939393939394, 942.4242424242424, 945.4545454545455, 948.4848484848485, 951.5151515151515, 954.5454545454545, 957.5757575757576, 960.6060606060606, 963.6363636363636, 966.6666666666666, 969.6969696969697, 972.7272727272727, 975.7575757575758, 978.7878787878788, 981.8181818181818, 984.8484848484849, 987.8787878787879, 990.9090909090909, 993.939393939394, 996.969696969697, 1000.0, 1003.030303030303, 1006.060606060606, 1009.0909090909091, 1012.1212121212121, 1015.1515151515151, 1018.1818181818182, 1021.2121212121212, 1024.2424242424242, 1027.2727272727273, 1030.3030303030303, 1033.3333333333333, 1036.3636363636365, 1039.3939393939395, 1042.4242424242425, 1045.4545454545455, 1048.4848484848485, 1051.5151515151515, 1054.5454545454545, 1057.5757575757575, 1060.6060606060605, 1063.6363636363635, 1066.6666666666667, 1069.6969696969697, 1072.7272727272727, 1075.7575757575758, 1078.7878787878788, 1081.8181818181818, 1084.8484848484848, 1087.878787878788, 1090.909090909091, 1093.939393939394, 1096.969696969697, 1100.0, 1103.030303030303, 1106.060606060606, 1109.090909090909, 1112.121212121212, 1115.1515151515152, 1118.1818181818182, 1121.2121212121212, 1124.2424242424242, 1127.2727272727273, 1130.3030303030303, 1133.3333333333333, 1136.3636363636365, 1139.3939393939395, 1142.4242424242425, 1145.4545454545455, 1148.4848484848485, 1151.5151515151515, 1154.5454545454545, 1157.5757575757575, 1160.6060606060605, 1163.6363636363635, 1166.6666666666667, 1169.6969696969697, 1172.7272727272727, 1175.7575757575758, 1178.7878787878788, 1181.8181818181818, 1184.848484848485, 1187.878787878788, 1190.909090909091, 1193.939393939394, 1196.969696969697, 1200.0], \"xaxis\": \"x\", \"y\": [40.08221146556885, 40.000252290046795, 40.06503339536652, 40.27560415778596, 40.628874578066075, 41.119660625350406, 41.7407603096987, 42.483059366956034, 43.33566500509495, 44.28606574938473, 45.32031504075451, 46.423235893156566, 47.57864360670412, 48.76958326840439, 49.97857855530486, 51.187888189017045, 52.37976627830215, 53.53672272934755, 54.64177990236937, 55.678721748261395, 56.632331769358146, 57.48861631238285, 58.23500991688897, 58.86055970583202, 59.35608611244962, 59.714317584880575, 59.92999729181322, 59.99996026332178, 59.92317983489578, 59.7007827131239, 59.33603244195288, 58.83428151214356, 58.2028928166897, 57.45113160479349, 56.590029519908185, 55.632222717008446, 54.59176643461882, 53.48392874264577, 52.324966492638154, 51.13188675827255, 49.92219726678037, 48.713649483584575, 47.52397812022605, 46.3706408881424, 45.27056231725672, 44.239885398684486, 43.293734696052454, 42.445994401627104, 41.70910459414782, 41.093878688156124, 40.60934475364386, 40.26261303455823, 40.058771610249906, 40.000811730970184, 40.08958392307331, 40.323785508054016, 40.69997971857066, 41.21264613093824, 41.8542616740243, 42.615411025791126, 43.48492477748151, 44.45004333797183, 45.496604173094376, 46.60924963230428, 47.77165231296135, 48.966754655139255, 50.17701925105413, 51.38468619597139, 52.572033704122084, 53.721638165245466, 54.81662982558634, 55.84094034138054, 56.779538572131656, 57.618651153553586, 58.345964613404156, 58.95080606428119, 59.42429982182338, 59.75949765003776, 59.95148072248228, 59.997431803084105, 59.89667658738398, 59.65069359754836, 59.263092485946274, 58.739561065672646, 58.08778184531363, 57.317319292755386, 56.43947948237305, 55.46714418519181, 54.41458183664805, 53.29723815588498, 52.13150948911721, 50.934502203115926, 49.72378165956963, 48.51711445396986, 47.332207701512594, 46.186449195837525, 45.096652253617656, 44.078808989254384, 43.147855640220705, 42.31745338676333], \"yaxis\": \"y\"}, {\"hoverinfo\": \"none\", \"line\": {\"color\": \"rgba(0,0,0,0)\"}, \"mode\": \"lines\", \"showlegend\": false, \"type\": \"scatter\", \"x\": [903.030303030303, 906.060606060606], \"xaxis\": \"x\", \"y\": [126.0007947136474, 126.20485519540453], \"yaxis\": \"y2\"}, {\"hoverinfo\": \"none\", \"legendgroup\": \"rgb(200, 200, 200)\", \"line\": {\"color\": \"black\"}, \"mode\": \"lines\", \"showlegend\": false, \"type\": \"scatter\", \"x\": [900, 1200], \"xaxis\": \"x\", \"y\": [0, 40], \"yaxis\": \"y\"}, {\"hoverinfo\": \"none\", \"legendgroup\": \"rgb(200, 200, 200)\", \"line\": {\"color\": \"black\"}, \"mode\": \"lines\", \"showlegend\": false, \"type\": \"scatter\", \"x\": [900, 1200], \"xaxis\": \"x\", \"y\": [40, 0], \"yaxis\": \"y\"}, {\"hoverinfo\": \"text\", \"marker\": {\"color\": [\"orange\", \"orange\", \"orange\", \"orange\"]}, \"mode\": \"markers\", \"showlegend\": false, \"text\": [\"ID: 2<br>40 sek <br>115 % FTP<br>362 w<br>\", \"ID: 2<br>40 sek <br>115 % FTP<br>362 w<br>\", \"ID: 2<br>40 sek <br>115 % FTP<br>362 w<br>\", \"ID: 2<br>40 sek <br>115 % FTP<br>362 w<br>\"], \"type\": \"scatter\", \"x\": [1220.0, 1220.0, 1220.0, 1220.0], \"y\": [23.0, 46.0, 69.0, 92.0]}, {\"fill\": \"tozeroy\", \"fillcolor\": \"orange\", \"hoverinfo\": \"text\", \"legendgroup\": \"orange\", \"line\": {\"color\": \"black\"}, \"mode\": \"lines\", \"showlegend\": false, \"text\": \"ID: 2<br>40 sek <br>115 % FTP<br>362 w<br>\", \"type\": \"scatter\", \"x\": [1200, 1200, 1240, 1240], \"xaxis\": \"x\", \"y\": [0, 115, 115, 0], \"yaxis\": \"y\"}, {\"hoverinfo\": \"none\", \"line\": {\"color\": \"rgba(0,0,0,0)\"}, \"mode\": \"lines\", \"showlegend\": false, \"type\": \"scatter\", \"x\": [1200, 1240], \"xaxis\": \"x\", \"y\": [362.25, 362.25], \"yaxis\": \"y2\"}, {\"hoverinfo\": \"text\", \"marker\": {\"color\": [\"blue\", \"blue\", \"blue\", \"blue\"]}, \"mode\": \"markers\", \"showlegend\": false, \"text\": [\"ID: 3<br>20 sek <br>70 % FTP<br>220 w<br>\", \"ID: 3<br>20 sek <br>70 % FTP<br>220 w<br>\", \"ID: 3<br>20 sek <br>70 % FTP<br>220 w<br>\", \"ID: 3<br>20 sek <br>70 % FTP<br>220 w<br>\"], \"type\": \"scatter\", \"x\": [1250.0, 1250.0, 1250.0, 1250.0], \"y\": [14.0, 28.0, 42.0, 56.0]}, {\"fill\": \"tozeroy\", \"fillcolor\": \"blue\", \"hoverinfo\": \"text\", \"legendgroup\": \"blue\", \"line\": {\"color\": \"black\"}, \"mode\": \"lines\", \"showlegend\": false, \"text\": \"ID: 3<br>20 sek <br>70 % FTP<br>220 w<br>\", \"type\": \"scatter\", \"x\": [1240, 1240, 1260, 1260], \"xaxis\": \"x\", \"y\": [0, 70, 70, 0], \"yaxis\": \"y\"}, {\"hoverinfo\": \"none\", \"line\": {\"color\": \"rgba(0,0,0,0)\"}, \"mode\": \"lines\", \"showlegend\": false, \"type\": \"scatter\", \"x\": [1240, 1260], \"xaxis\": \"x\", \"y\": [220.5, 220.5], \"yaxis\": \"y2\"}, {\"hoverinfo\": \"text\", \"marker\": {\"color\": [\"orange\", \"orange\", \"orange\", \"orange\"]}, \"mode\": \"markers\", \"showlegend\": false, \"text\": [\"ID: 4<br>40 sek <br>115 % FTP<br>362 w<br>\", \"ID: 4<br>40 sek <br>115 % FTP<br>362 w<br>\", \"ID: 4<br>40 sek <br>115 % FTP<br>362 w<br>\", \"ID: 4<br>40 sek <br>115 % FTP<br>362 w<br>\"], \"type\": \"scatter\", \"x\": [1280.0, 1280.0, 1280.0, 1280.0], \"y\": [23.0, 46.0, 69.0, 92.0]}, {\"fill\": \"tozeroy\", \"fillcolor\": \"orange\", \"hoverinfo\": \"text\", \"legendgroup\": \"orange\", \"line\": {\"color\": \"black\"}, \"mode\": \"lines\", \"showlegend\": false, \"text\": \"ID: 4<br>40 sek <br>115 % FTP<br>362 w<br>\", \"type\": \"scatter\", \"x\": [1260, 1260, 1300, 1300], \"xaxis\": \"x\", \"y\": [0, 115, 115, 0], \"yaxis\": \"y\"}, {\"hoverinfo\": \"none\", \"line\": {\"color\": \"rgba(0,0,0,0)\"}, \"mode\": \"lines\", \"showlegend\": false, \"type\": \"scatter\", \"x\": [1260, 1300], \"xaxis\": \"x\", \"y\": [362.25, 362.25], \"yaxis\": \"y2\"}, {\"hoverinfo\": \"text\", \"marker\": {\"color\": [\"blue\", \"blue\", \"blue\", \"blue\"]}, \"mode\": \"markers\", \"showlegend\": false, \"text\": [\"ID: 5<br>20 sek <br>70 % FTP<br>220 w<br>\", \"ID: 5<br>20 sek <br>70 % FTP<br>220 w<br>\", \"ID: 5<br>20 sek <br>70 % FTP<br>220 w<br>\", \"ID: 5<br>20 sek <br>70 % FTP<br>220 w<br>\"], \"type\": \"scatter\", \"x\": [1310.0, 1310.0, 1310.0, 1310.0], \"y\": [14.0, 28.0, 42.0, 56.0]}, {\"fill\": \"tozeroy\", \"fillcolor\": \"blue\", \"hoverinfo\": \"text\", \"legendgroup\": \"blue\", \"line\": {\"color\": \"black\"}, \"mode\": \"lines\", \"showlegend\": false, \"text\": \"ID: 5<br>20 sek <br>70 % FTP<br>220 w<br>\", \"type\": \"scatter\", \"x\": [1300, 1300, 1320, 1320], \"xaxis\": \"x\", \"y\": [0, 70, 70, 0], \"yaxis\": \"y\"}, {\"hoverinfo\": \"none\", \"line\": {\"color\": \"rgba(0,0,0,0)\"}, \"mode\": \"lines\", \"showlegend\": false, \"type\": \"scatter\", \"x\": [1300, 1320], \"xaxis\": \"x\", \"y\": [220.5, 220.5], \"yaxis\": \"y2\"}, {\"hoverinfo\": \"text\", \"marker\": {\"color\": [\"orange\", \"orange\", \"orange\", \"orange\"]}, \"mode\": \"markers\", \"showlegend\": false, \"text\": [\"ID: 6<br>40 sek <br>115 % FTP<br>362 w<br>\", \"ID: 6<br>40 sek <br>115 % FTP<br>362 w<br>\", \"ID: 6<br>40 sek <br>115 % FTP<br>362 w<br>\", \"ID: 6<br>40 sek <br>115 % FTP<br>362 w<br>\"], \"type\": \"scatter\", \"x\": [1340.0, 1340.0, 1340.0, 1340.0], \"y\": [23.0, 46.0, 69.0, 92.0]}, {\"fill\": \"tozeroy\", \"fillcolor\": \"orange\", \"hoverinfo\": \"text\", \"legendgroup\": \"orange\", \"line\": {\"color\": \"black\"}, \"mode\": \"lines\", \"showlegend\": false, \"text\": \"ID: 6<br>40 sek <br>115 % FTP<br>362 w<br>\", \"type\": \"scatter\", \"x\": [1320, 1320, 1360, 1360], \"xaxis\": \"x\", \"y\": [0, 115, 115, 0], \"yaxis\": \"y\"}, {\"hoverinfo\": \"none\", \"line\": {\"color\": \"rgba(0,0,0,0)\"}, \"mode\": \"lines\", \"showlegend\": false, \"type\": \"scatter\", \"x\": [1320, 1360], \"xaxis\": \"x\", \"y\": [362.25, 362.25], \"yaxis\": \"y2\"}, {\"hoverinfo\": \"text\", \"marker\": {\"color\": [\"blue\", \"blue\", \"blue\", \"blue\"]}, \"mode\": \"markers\", \"showlegend\": false, \"text\": [\"ID: 7<br>20 sek <br>70 % FTP<br>220 w<br>\", \"ID: 7<br>20 sek <br>70 % FTP<br>220 w<br>\", \"ID: 7<br>20 sek <br>70 % FTP<br>220 w<br>\", \"ID: 7<br>20 sek <br>70 % FTP<br>220 w<br>\"], \"type\": \"scatter\", \"x\": [1370.0, 1370.0, 1370.0, 1370.0], \"y\": [14.0, 28.0, 42.0, 56.0]}, {\"fill\": \"tozeroy\", \"fillcolor\": \"blue\", \"hoverinfo\": \"text\", \"legendgroup\": \"blue\", \"line\": {\"color\": \"black\"}, \"mode\": \"lines\", \"showlegend\": false, \"text\": \"ID: 7<br>20 sek <br>70 % FTP<br>220 w<br>\", \"type\": \"scatter\", \"x\": [1360, 1360, 1380, 1380], \"xaxis\": \"x\", \"y\": [0, 70, 70, 0], \"yaxis\": \"y\"}, {\"hoverinfo\": \"none\", \"line\": {\"color\": \"rgba(0,0,0,0)\"}, \"mode\": \"lines\", \"showlegend\": false, \"type\": \"scatter\", \"x\": [1360, 1380], \"xaxis\": \"x\", \"y\": [220.5, 220.5], \"yaxis\": \"y2\"}, {\"hoverinfo\": \"text\", \"marker\": {\"color\": [\"orange\", \"orange\", \"orange\", \"orange\"]}, \"mode\": \"markers\", \"showlegend\": false, \"text\": [\"ID: 8<br>40 sek <br>115 % FTP<br>362 w<br>\", \"ID: 8<br>40 sek <br>115 % FTP<br>362 w<br>\", \"ID: 8<br>40 sek <br>115 % FTP<br>362 w<br>\", \"ID: 8<br>40 sek <br>115 % FTP<br>362 w<br>\"], \"type\": \"scatter\", \"x\": [1400.0, 1400.0, 1400.0, 1400.0], \"y\": [23.0, 46.0, 69.0, 92.0]}, {\"fill\": \"tozeroy\", \"fillcolor\": \"orange\", \"hoverinfo\": \"text\", \"legendgroup\": \"orange\", \"line\": {\"color\": \"black\"}, \"mode\": \"lines\", \"showlegend\": false, \"text\": \"ID: 8<br>40 sek <br>115 % FTP<br>362 w<br>\", \"type\": \"scatter\", \"x\": [1380, 1380, 1420, 1420], \"xaxis\": \"x\", \"y\": [0, 115, 115, 0], \"yaxis\": \"y\"}, {\"hoverinfo\": \"none\", \"line\": {\"color\": \"rgba(0,0,0,0)\"}, \"mode\": \"lines\", \"showlegend\": false, \"type\": \"scatter\", \"x\": [1380, 1420], \"xaxis\": \"x\", \"y\": [362.25, 362.25], \"yaxis\": \"y2\"}, {\"hoverinfo\": \"text\", \"marker\": {\"color\": [\"blue\", \"blue\", \"blue\", \"blue\"]}, \"mode\": \"markers\", \"showlegend\": false, \"text\": [\"ID: 9<br>20 sek <br>70 % FTP<br>220 w<br>\", \"ID: 9<br>20 sek <br>70 % FTP<br>220 w<br>\", \"ID: 9<br>20 sek <br>70 % FTP<br>220 w<br>\", \"ID: 9<br>20 sek <br>70 % FTP<br>220 w<br>\"], \"type\": \"scatter\", \"x\": [1430.0, 1430.0, 1430.0, 1430.0], \"y\": [14.0, 28.0, 42.0, 56.0]}, {\"fill\": \"tozeroy\", \"fillcolor\": \"blue\", \"hoverinfo\": \"text\", \"legendgroup\": \"blue\", \"line\": {\"color\": \"black\"}, \"mode\": \"lines\", \"showlegend\": false, \"text\": \"ID: 9<br>20 sek <br>70 % FTP<br>220 w<br>\", \"type\": \"scatter\", \"x\": [1420, 1420, 1440, 1440], \"xaxis\": \"x\", \"y\": [0, 70, 70, 0], \"yaxis\": \"y\"}, {\"hoverinfo\": \"none\", \"line\": {\"color\": \"rgba(0,0,0,0)\"}, \"mode\": \"lines\", \"showlegend\": false, \"type\": \"scatter\", \"x\": [1420, 1440], \"xaxis\": \"x\", \"y\": [220.5, 220.5], \"yaxis\": \"y2\"}, {\"hoverinfo\": \"text\", \"marker\": {\"color\": [\"orange\", \"orange\", \"orange\", \"orange\"]}, \"mode\": \"markers\", \"showlegend\": false, \"text\": [\"ID: 10<br>40 sek <br>115 % FTP<br>362 w<br>\", \"ID: 10<br>40 sek <br>115 % FTP<br>362 w<br>\", \"ID: 10<br>40 sek <br>115 % FTP<br>362 w<br>\", \"ID: 10<br>40 sek <br>115 % FTP<br>362 w<br>\"], \"type\": \"scatter\", \"x\": [1460.0, 1460.0, 1460.0, 1460.0], \"y\": [23.0, 46.0, 69.0, 92.0]}, {\"fill\": \"tozeroy\", \"fillcolor\": \"orange\", \"hoverinfo\": \"text\", \"legendgroup\": \"orange\", \"line\": {\"color\": \"black\"}, \"mode\": \"lines\", \"showlegend\": false, \"text\": \"ID: 10<br>40 sek <br>115 % FTP<br>362 w<br>\", \"type\": \"scatter\", \"x\": [1440, 1440, 1480, 1480], \"xaxis\": \"x\", \"y\": [0, 115, 115, 0], \"yaxis\": \"y\"}, {\"hoverinfo\": \"none\", \"line\": {\"color\": \"rgba(0,0,0,0)\"}, \"mode\": \"lines\", \"showlegend\": false, \"type\": \"scatter\", \"x\": [1440, 1480], \"xaxis\": \"x\", \"y\": [362.25, 362.25], \"yaxis\": \"y2\"}, {\"hoverinfo\": \"text\", \"marker\": {\"color\": [\"blue\", \"blue\", \"blue\", \"blue\"]}, \"mode\": \"markers\", \"showlegend\": false, \"text\": [\"ID: 11<br>20 sek <br>70 % FTP<br>220 w<br>\", \"ID: 11<br>20 sek <br>70 % FTP<br>220 w<br>\", \"ID: 11<br>20 sek <br>70 % FTP<br>220 w<br>\", \"ID: 11<br>20 sek <br>70 % FTP<br>220 w<br>\"], \"type\": \"scatter\", \"x\": [1490.0, 1490.0, 1490.0, 1490.0], \"y\": [14.0, 28.0, 42.0, 56.0]}, {\"fill\": \"tozeroy\", \"fillcolor\": \"blue\", \"hoverinfo\": \"text\", \"legendgroup\": \"blue\", \"line\": {\"color\": \"black\"}, \"mode\": \"lines\", \"showlegend\": false, \"text\": \"ID: 11<br>20 sek <br>70 % FTP<br>220 w<br>\", \"type\": \"scatter\", \"x\": [1480, 1480, 1500, 1500], \"xaxis\": \"x\", \"y\": [0, 70, 70, 0], \"yaxis\": \"y\"}, {\"hoverinfo\": \"none\", \"line\": {\"color\": \"rgba(0,0,0,0)\"}, \"mode\": \"lines\", \"showlegend\": false, \"type\": \"scatter\", \"x\": [1480, 1500], \"xaxis\": \"x\", \"y\": [220.5, 220.5], \"yaxis\": \"y2\"}, {\"hoverinfo\": \"text\", \"marker\": {\"color\": [\"orange\", \"orange\", \"orange\", \"orange\"]}, \"mode\": \"markers\", \"showlegend\": false, \"text\": [\"ID: 12<br>40 sek <br>115 % FTP<br>362 w<br>\", \"ID: 12<br>40 sek <br>115 % FTP<br>362 w<br>\", \"ID: 12<br>40 sek <br>115 % FTP<br>362 w<br>\", \"ID: 12<br>40 sek <br>115 % FTP<br>362 w<br>\"], \"type\": \"scatter\", \"x\": [1520.0, 1520.0, 1520.0, 1520.0], \"y\": [23.0, 46.0, 69.0, 92.0]}, {\"fill\": \"tozeroy\", \"fillcolor\": \"orange\", \"hoverinfo\": \"text\", \"legendgroup\": \"orange\", \"line\": {\"color\": \"black\"}, \"mode\": \"lines\", \"showlegend\": false, \"text\": \"ID: 12<br>40 sek <br>115 % FTP<br>362 w<br>\", \"type\": \"scatter\", \"x\": [1500, 1500, 1540, 1540], \"xaxis\": \"x\", \"y\": [0, 115, 115, 0], \"yaxis\": \"y\"}, {\"hoverinfo\": \"none\", \"line\": {\"color\": \"rgba(0,0,0,0)\"}, \"mode\": \"lines\", \"showlegend\": false, \"type\": \"scatter\", \"x\": [1500, 1540], \"xaxis\": \"x\", \"y\": [362.25, 362.25], \"yaxis\": \"y2\"}, {\"hoverinfo\": \"text\", \"marker\": {\"color\": [\"blue\", \"blue\", \"blue\", \"blue\"]}, \"mode\": \"markers\", \"showlegend\": false, \"text\": [\"ID: 13<br>20 sek <br>70 % FTP<br>220 w<br>\", \"ID: 13<br>20 sek <br>70 % FTP<br>220 w<br>\", \"ID: 13<br>20 sek <br>70 % FTP<br>220 w<br>\", \"ID: 13<br>20 sek <br>70 % FTP<br>220 w<br>\"], \"type\": \"scatter\", \"x\": [1550.0, 1550.0, 1550.0, 1550.0], \"y\": [14.0, 28.0, 42.0, 56.0]}, {\"fill\": \"tozeroy\", \"fillcolor\": \"blue\", \"hoverinfo\": \"text\", \"legendgroup\": \"blue\", \"line\": {\"color\": \"black\"}, \"mode\": \"lines\", \"showlegend\": false, \"text\": \"ID: 13<br>20 sek <br>70 % FTP<br>220 w<br>\", \"type\": \"scatter\", \"x\": [1540, 1540, 1560, 1560], \"xaxis\": \"x\", \"y\": [0, 70, 70, 0], \"yaxis\": \"y\"}, {\"hoverinfo\": \"none\", \"line\": {\"color\": \"rgba(0,0,0,0)\"}, \"mode\": \"lines\", \"showlegend\": false, \"type\": \"scatter\", \"x\": [1540, 1560], \"xaxis\": \"x\", \"y\": [220.5, 220.5], \"yaxis\": \"y2\"}, {\"hoverinfo\": \"text\", \"marker\": {\"color\": [\"blue\", \"blue\", \"blue\", \"blue\"]}, \"mode\": \"markers\", \"showlegend\": false, \"text\": [\"ID: 14<br>600 sek <br>65 % FTP<br>205 w<br>\", \"ID: 14<br>600 sek <br>65 % FTP<br>205 w<br>\", \"ID: 14<br>600 sek <br>65 % FTP<br>205 w<br>\", \"ID: 14<br>600 sek <br>65 % FTP<br>205 w<br>\"], \"type\": \"scatter\", \"x\": [1860.0, 1860.0, 1860.0, 1860.0], \"y\": [13.0, 26.0, 39.0, 52.0]}, {\"fill\": \"tozeroy\", \"fillcolor\": \"blue\", \"hoverinfo\": \"text\", \"legendgroup\": \"blue\", \"line\": {\"color\": \"black\"}, \"mode\": \"lines\", \"showlegend\": false, \"text\": \"ID: 14<br>600 sek <br>65 % FTP<br>205 w<br>\", \"type\": \"scatter\", \"x\": [1560, 1560, 2160, 2160], \"xaxis\": \"x\", \"y\": [0, 65, 65, 0], \"yaxis\": \"y\"}, {\"hoverinfo\": \"none\", \"line\": {\"color\": \"rgba(0,0,0,0)\"}, \"mode\": \"lines\", \"showlegend\": false, \"type\": \"scatter\", \"x\": [1560, 2160], \"xaxis\": \"x\", \"y\": [204.75, 204.75], \"yaxis\": \"y2\"}, {\"hoverinfo\": \"text\", \"marker\": {\"color\": [\"orange\", \"orange\", \"orange\", \"orange\"]}, \"mode\": \"markers\", \"showlegend\": false, \"text\": [\"ID: 15<br>40 sek <br>115 % FTP<br>362 w<br>\", \"ID: 15<br>40 sek <br>115 % FTP<br>362 w<br>\", \"ID: 15<br>40 sek <br>115 % FTP<br>362 w<br>\", \"ID: 15<br>40 sek <br>115 % FTP<br>362 w<br>\"], \"type\": \"scatter\", \"x\": [2180.0, 2180.0, 2180.0, 2180.0], \"y\": [23.0, 46.0, 69.0, 92.0]}, {\"fill\": \"tozeroy\", \"fillcolor\": \"orange\", \"hoverinfo\": \"text\", \"legendgroup\": \"orange\", \"line\": {\"color\": \"black\"}, \"mode\": \"lines\", \"showlegend\": false, \"text\": \"ID: 15<br>40 sek <br>115 % FTP<br>362 w<br>\", \"type\": \"scatter\", \"x\": [2160, 2160, 2200, 2200], \"xaxis\": \"x\", \"y\": [0, 115, 115, 0], \"yaxis\": \"y\"}, {\"hoverinfo\": \"none\", \"line\": {\"color\": \"rgba(0,0,0,0)\"}, \"mode\": \"lines\", \"showlegend\": false, \"type\": \"scatter\", \"x\": [2160, 2200], \"xaxis\": \"x\", \"y\": [362.25, 362.25], \"yaxis\": \"y2\"}, {\"hoverinfo\": \"text\", \"marker\": {\"color\": [\"blue\", \"blue\", \"blue\", \"blue\"]}, \"mode\": \"markers\", \"showlegend\": false, \"text\": [\"ID: 16<br>20 sek <br>70 % FTP<br>220 w<br>\", \"ID: 16<br>20 sek <br>70 % FTP<br>220 w<br>\", \"ID: 16<br>20 sek <br>70 % FTP<br>220 w<br>\", \"ID: 16<br>20 sek <br>70 % FTP<br>220 w<br>\"], \"type\": \"scatter\", \"x\": [2210.0, 2210.0, 2210.0, 2210.0], \"y\": [14.0, 28.0, 42.0, 56.0]}, {\"fill\": \"tozeroy\", \"fillcolor\": \"blue\", \"hoverinfo\": \"text\", \"legendgroup\": \"blue\", \"line\": {\"color\": \"black\"}, \"mode\": \"lines\", \"showlegend\": false, \"text\": \"ID: 16<br>20 sek <br>70 % FTP<br>220 w<br>\", \"type\": \"scatter\", \"x\": [2200, 2200, 2220, 2220], \"xaxis\": \"x\", \"y\": [0, 70, 70, 0], \"yaxis\": \"y\"}, {\"hoverinfo\": \"none\", \"line\": {\"color\": \"rgba(0,0,0,0)\"}, \"mode\": \"lines\", \"showlegend\": false, \"type\": \"scatter\", \"x\": [2200, 2220], \"xaxis\": \"x\", \"y\": [220.5, 220.5], \"yaxis\": \"y2\"}, {\"hoverinfo\": \"text\", \"marker\": {\"color\": [\"orange\", \"orange\", \"orange\", \"orange\"]}, \"mode\": \"markers\", \"showlegend\": false, \"text\": [\"ID: 17<br>40 sek <br>115 % FTP<br>362 w<br>\", \"ID: 17<br>40 sek <br>115 % FTP<br>362 w<br>\", \"ID: 17<br>40 sek <br>115 % FTP<br>362 w<br>\", \"ID: 17<br>40 sek <br>115 % FTP<br>362 w<br>\"], \"type\": \"scatter\", \"x\": [2240.0, 2240.0, 2240.0, 2240.0], \"y\": [23.0, 46.0, 69.0, 92.0]}, {\"fill\": \"tozeroy\", \"fillcolor\": \"orange\", \"hoverinfo\": \"text\", \"legendgroup\": \"orange\", \"line\": {\"color\": \"black\"}, \"mode\": \"lines\", \"showlegend\": false, \"text\": \"ID: 17<br>40 sek <br>115 % FTP<br>362 w<br>\", \"type\": \"scatter\", \"x\": [2220, 2220, 2260, 2260], \"xaxis\": \"x\", \"y\": [0, 115, 115, 0], \"yaxis\": \"y\"}, {\"hoverinfo\": \"none\", \"line\": {\"color\": \"rgba(0,0,0,0)\"}, \"mode\": \"lines\", \"showlegend\": false, \"type\": \"scatter\", \"x\": [2220, 2260], \"xaxis\": \"x\", \"y\": [362.25, 362.25], \"yaxis\": \"y2\"}, {\"hoverinfo\": \"text\", \"marker\": {\"color\": [\"blue\", \"blue\", \"blue\", \"blue\"]}, \"mode\": \"markers\", \"showlegend\": false, \"text\": [\"ID: 18<br>20 sek <br>70 % FTP<br>220 w<br>\", \"ID: 18<br>20 sek <br>70 % FTP<br>220 w<br>\", \"ID: 18<br>20 sek <br>70 % FTP<br>220 w<br>\", \"ID: 18<br>20 sek <br>70 % FTP<br>220 w<br>\"], \"type\": \"scatter\", \"x\": [2270.0, 2270.0, 2270.0, 2270.0], \"y\": [14.0, 28.0, 42.0, 56.0]}, {\"fill\": \"tozeroy\", \"fillcolor\": \"blue\", \"hoverinfo\": \"text\", \"legendgroup\": \"blue\", \"line\": {\"color\": \"black\"}, \"mode\": \"lines\", \"showlegend\": false, \"text\": \"ID: 18<br>20 sek <br>70 % FTP<br>220 w<br>\", \"type\": \"scatter\", \"x\": [2260, 2260, 2280, 2280], \"xaxis\": \"x\", \"y\": [0, 70, 70, 0], \"yaxis\": \"y\"}, {\"hoverinfo\": \"none\", \"line\": {\"color\": \"rgba(0,0,0,0)\"}, \"mode\": \"lines\", \"showlegend\": false, \"type\": \"scatter\", \"x\": [2260, 2280], \"xaxis\": \"x\", \"y\": [220.5, 220.5], \"yaxis\": \"y2\"}, {\"hoverinfo\": \"text\", \"marker\": {\"color\": [\"orange\", \"orange\", \"orange\", \"orange\"]}, \"mode\": \"markers\", \"showlegend\": false, \"text\": [\"ID: 19<br>40 sek <br>115 % FTP<br>362 w<br>\", \"ID: 19<br>40 sek <br>115 % FTP<br>362 w<br>\", \"ID: 19<br>40 sek <br>115 % FTP<br>362 w<br>\", \"ID: 19<br>40 sek <br>115 % FTP<br>362 w<br>\"], \"type\": \"scatter\", \"x\": [2300.0, 2300.0, 2300.0, 2300.0], \"y\": [23.0, 46.0, 69.0, 92.0]}, {\"fill\": \"tozeroy\", \"fillcolor\": \"orange\", \"hoverinfo\": \"text\", \"legendgroup\": \"orange\", \"line\": {\"color\": \"black\"}, \"mode\": \"lines\", \"showlegend\": false, \"text\": \"ID: 19<br>40 sek <br>115 % FTP<br>362 w<br>\", \"type\": \"scatter\", \"x\": [2280, 2280, 2320, 2320], \"xaxis\": \"x\", \"y\": [0, 115, 115, 0], \"yaxis\": \"y\"}, {\"hoverinfo\": \"none\", \"line\": {\"color\": \"rgba(0,0,0,0)\"}, \"mode\": \"lines\", \"showlegend\": false, \"type\": \"scatter\", \"x\": [2280, 2320], \"xaxis\": \"x\", \"y\": [362.25, 362.25], \"yaxis\": \"y2\"}, {\"hoverinfo\": \"text\", \"marker\": {\"color\": [\"blue\", \"blue\", \"blue\", \"blue\"]}, \"mode\": \"markers\", \"showlegend\": false, \"text\": [\"ID: 20<br>20 sek <br>70 % FTP<br>220 w<br>\", \"ID: 20<br>20 sek <br>70 % FTP<br>220 w<br>\", \"ID: 20<br>20 sek <br>70 % FTP<br>220 w<br>\", \"ID: 20<br>20 sek <br>70 % FTP<br>220 w<br>\"], \"type\": \"scatter\", \"x\": [2330.0, 2330.0, 2330.0, 2330.0], \"y\": [14.0, 28.0, 42.0, 56.0]}, {\"fill\": \"tozeroy\", \"fillcolor\": \"blue\", \"hoverinfo\": \"text\", \"legendgroup\": \"blue\", \"line\": {\"color\": \"black\"}, \"mode\": \"lines\", \"showlegend\": false, \"text\": \"ID: 20<br>20 sek <br>70 % FTP<br>220 w<br>\", \"type\": \"scatter\", \"x\": [2320, 2320, 2340, 2340], \"xaxis\": \"x\", \"y\": [0, 70, 70, 0], \"yaxis\": \"y\"}, {\"hoverinfo\": \"none\", \"line\": {\"color\": \"rgba(0,0,0,0)\"}, \"mode\": \"lines\", \"showlegend\": false, \"type\": \"scatter\", \"x\": [2320, 2340], \"xaxis\": \"x\", \"y\": [220.5, 220.5], \"yaxis\": \"y2\"}, {\"hoverinfo\": \"text\", \"marker\": {\"color\": [\"orange\", \"orange\", \"orange\", \"orange\"]}, \"mode\": \"markers\", \"showlegend\": false, \"text\": [\"ID: 21<br>40 sek <br>115 % FTP<br>362 w<br>\", \"ID: 21<br>40 sek <br>115 % FTP<br>362 w<br>\", \"ID: 21<br>40 sek <br>115 % FTP<br>362 w<br>\", \"ID: 21<br>40 sek <br>115 % FTP<br>362 w<br>\"], \"type\": \"scatter\", \"x\": [2360.0, 2360.0, 2360.0, 2360.0], \"y\": [23.0, 46.0, 69.0, 92.0]}, {\"fill\": \"tozeroy\", \"fillcolor\": \"orange\", \"hoverinfo\": \"text\", \"legendgroup\": \"orange\", \"line\": {\"color\": \"black\"}, \"mode\": \"lines\", \"showlegend\": false, \"text\": \"ID: 21<br>40 sek <br>115 % FTP<br>362 w<br>\", \"type\": \"scatter\", \"x\": [2340, 2340, 2380, 2380], \"xaxis\": \"x\", \"y\": [0, 115, 115, 0], \"yaxis\": \"y\"}, {\"hoverinfo\": \"none\", \"line\": {\"color\": \"rgba(0,0,0,0)\"}, \"mode\": \"lines\", \"showlegend\": false, \"type\": \"scatter\", \"x\": [2340, 2380], \"xaxis\": \"x\", \"y\": [362.25, 362.25], \"yaxis\": \"y2\"}, {\"hoverinfo\": \"text\", \"marker\": {\"color\": [\"blue\", \"blue\", \"blue\", \"blue\"]}, \"mode\": \"markers\", \"showlegend\": false, \"text\": [\"ID: 22<br>20 sek <br>70 % FTP<br>220 w<br>\", \"ID: 22<br>20 sek <br>70 % FTP<br>220 w<br>\", \"ID: 22<br>20 sek <br>70 % FTP<br>220 w<br>\", \"ID: 22<br>20 sek <br>70 % FTP<br>220 w<br>\"], \"type\": \"scatter\", \"x\": [2390.0, 2390.0, 2390.0, 2390.0], \"y\": [14.0, 28.0, 42.0, 56.0]}, {\"fill\": \"tozeroy\", \"fillcolor\": \"blue\", \"hoverinfo\": \"text\", \"legendgroup\": \"blue\", \"line\": {\"color\": \"black\"}, \"mode\": \"lines\", \"showlegend\": false, \"text\": \"ID: 22<br>20 sek <br>70 % FTP<br>220 w<br>\", \"type\": \"scatter\", \"x\": [2380, 2380, 2400, 2400], \"xaxis\": \"x\", \"y\": [0, 70, 70, 0], \"yaxis\": \"y\"}, {\"hoverinfo\": \"none\", \"line\": {\"color\": \"rgba(0,0,0,0)\"}, \"mode\": \"lines\", \"showlegend\": false, \"type\": \"scatter\", \"x\": [2380, 2400], \"xaxis\": \"x\", \"y\": [220.5, 220.5], \"yaxis\": \"y2\"}, {\"hoverinfo\": \"text\", \"marker\": {\"color\": [\"orange\", \"orange\", \"orange\", \"orange\"]}, \"mode\": \"markers\", \"showlegend\": false, \"text\": [\"ID: 23<br>40 sek <br>115 % FTP<br>362 w<br>\", \"ID: 23<br>40 sek <br>115 % FTP<br>362 w<br>\", \"ID: 23<br>40 sek <br>115 % FTP<br>362 w<br>\", \"ID: 23<br>40 sek <br>115 % FTP<br>362 w<br>\"], \"type\": \"scatter\", \"x\": [2420.0, 2420.0, 2420.0, 2420.0], \"y\": [23.0, 46.0, 69.0, 92.0]}, {\"fill\": \"tozeroy\", \"fillcolor\": \"orange\", \"hoverinfo\": \"text\", \"legendgroup\": \"orange\", \"line\": {\"color\": \"black\"}, \"mode\": \"lines\", \"showlegend\": false, \"text\": \"ID: 23<br>40 sek <br>115 % FTP<br>362 w<br>\", \"type\": \"scatter\", \"x\": [2400, 2400, 2440, 2440], \"xaxis\": \"x\", \"y\": [0, 115, 115, 0], \"yaxis\": \"y\"}, {\"hoverinfo\": \"none\", \"line\": {\"color\": \"rgba(0,0,0,0)\"}, \"mode\": \"lines\", \"showlegend\": false, \"type\": \"scatter\", \"x\": [2400, 2440], \"xaxis\": \"x\", \"y\": [362.25, 362.25], \"yaxis\": \"y2\"}, {\"hoverinfo\": \"text\", \"marker\": {\"color\": [\"blue\", \"blue\", \"blue\", \"blue\"]}, \"mode\": \"markers\", \"showlegend\": false, \"text\": [\"ID: 24<br>20 sek <br>70 % FTP<br>220 w<br>\", \"ID: 24<br>20 sek <br>70 % FTP<br>220 w<br>\", \"ID: 24<br>20 sek <br>70 % FTP<br>220 w<br>\", \"ID: 24<br>20 sek <br>70 % FTP<br>220 w<br>\"], \"type\": \"scatter\", \"x\": [2450.0, 2450.0, 2450.0, 2450.0], \"y\": [14.0, 28.0, 42.0, 56.0]}, {\"fill\": \"tozeroy\", \"fillcolor\": \"blue\", \"hoverinfo\": \"text\", \"legendgroup\": \"blue\", \"line\": {\"color\": \"black\"}, \"mode\": \"lines\", \"showlegend\": false, \"text\": \"ID: 24<br>20 sek <br>70 % FTP<br>220 w<br>\", \"type\": \"scatter\", \"x\": [2440, 2440, 2460, 2460], \"xaxis\": \"x\", \"y\": [0, 70, 70, 0], \"yaxis\": \"y\"}, {\"hoverinfo\": \"none\", \"line\": {\"color\": \"rgba(0,0,0,0)\"}, \"mode\": \"lines\", \"showlegend\": false, \"type\": \"scatter\", \"x\": [2440, 2460], \"xaxis\": \"x\", \"y\": [220.5, 220.5], \"yaxis\": \"y2\"}, {\"hoverinfo\": \"text\", \"marker\": {\"color\": [\"orange\", \"orange\", \"orange\", \"orange\"]}, \"mode\": \"markers\", \"showlegend\": false, \"text\": [\"ID: 25<br>40 sek <br>115 % FTP<br>362 w<br>\", \"ID: 25<br>40 sek <br>115 % FTP<br>362 w<br>\", \"ID: 25<br>40 sek <br>115 % FTP<br>362 w<br>\", \"ID: 25<br>40 sek <br>115 % FTP<br>362 w<br>\"], \"type\": \"scatter\", \"x\": [2480.0, 2480.0, 2480.0, 2480.0], \"y\": [23.0, 46.0, 69.0, 92.0]}, {\"fill\": \"tozeroy\", \"fillcolor\": \"orange\", \"hoverinfo\": \"text\", \"legendgroup\": \"orange\", \"line\": {\"color\": \"black\"}, \"mode\": \"lines\", \"showlegend\": false, \"text\": \"ID: 25<br>40 sek <br>115 % FTP<br>362 w<br>\", \"type\": \"scatter\", \"x\": [2460, 2460, 2500, 2500], \"xaxis\": \"x\", \"y\": [0, 115, 115, 0], \"yaxis\": \"y\"}, {\"hoverinfo\": \"none\", \"line\": {\"color\": \"rgba(0,0,0,0)\"}, \"mode\": \"lines\", \"showlegend\": false, \"type\": \"scatter\", \"x\": [2460, 2500], \"xaxis\": \"x\", \"y\": [362.25, 362.25], \"yaxis\": \"y2\"}, {\"hoverinfo\": \"text\", \"marker\": {\"color\": [\"blue\", \"blue\", \"blue\", \"blue\"]}, \"mode\": \"markers\", \"showlegend\": false, \"text\": [\"ID: 26<br>20 sek <br>70 % FTP<br>220 w<br>\", \"ID: 26<br>20 sek <br>70 % FTP<br>220 w<br>\", \"ID: 26<br>20 sek <br>70 % FTP<br>220 w<br>\", \"ID: 26<br>20 sek <br>70 % FTP<br>220 w<br>\"], \"type\": \"scatter\", \"x\": [2510.0, 2510.0, 2510.0, 2510.0], \"y\": [14.0, 28.0, 42.0, 56.0]}, {\"fill\": \"tozeroy\", \"fillcolor\": \"blue\", \"hoverinfo\": \"text\", \"legendgroup\": \"blue\", \"line\": {\"color\": \"black\"}, \"mode\": \"lines\", \"showlegend\": false, \"text\": \"ID: 26<br>20 sek <br>70 % FTP<br>220 w<br>\", \"type\": \"scatter\", \"x\": [2500, 2500, 2520, 2520], \"xaxis\": \"x\", \"y\": [0, 70, 70, 0], \"yaxis\": \"y\"}, {\"hoverinfo\": \"none\", \"line\": {\"color\": \"rgba(0,0,0,0)\"}, \"mode\": \"lines\", \"showlegend\": false, \"type\": \"scatter\", \"x\": [2500, 2520], \"xaxis\": \"x\", \"y\": [220.5, 220.5], \"yaxis\": \"y2\"}, {\"hoverinfo\": \"text\", \"marker\": {\"color\": [\"blue\", \"blue\", \"blue\", \"blue\"]}, \"mode\": \"markers\", \"showlegend\": false, \"text\": [\"ID: 27<br>600 sek <br>65 % FTP<br>205 w<br>\", \"ID: 27<br>600 sek <br>65 % FTP<br>205 w<br>\", \"ID: 27<br>600 sek <br>65 % FTP<br>205 w<br>\", \"ID: 27<br>600 sek <br>65 % FTP<br>205 w<br>\"], \"type\": \"scatter\", \"x\": [2820.0, 2820.0, 2820.0, 2820.0], \"y\": [13.0, 26.0, 39.0, 52.0]}, {\"fill\": \"tozeroy\", \"fillcolor\": \"blue\", \"hoverinfo\": \"text\", \"legendgroup\": \"blue\", \"line\": {\"color\": \"black\"}, \"mode\": \"lines\", \"showlegend\": false, \"text\": \"ID: 27<br>600 sek <br>65 % FTP<br>205 w<br>\", \"type\": \"scatter\", \"x\": [2520, 2520, 3120, 3120], \"xaxis\": \"x\", \"y\": [0, 65, 65, 0], \"yaxis\": \"y\"}, {\"hoverinfo\": \"none\", \"line\": {\"color\": \"rgba(0,0,0,0)\"}, \"mode\": \"lines\", \"showlegend\": false, \"type\": \"scatter\", \"x\": [2520, 3120], \"xaxis\": \"x\", \"y\": [204.75, 204.75], \"yaxis\": \"y2\"}, {\"hoverinfo\": \"text\", \"marker\": {\"color\": [\"orange\", \"orange\", \"orange\", \"orange\"]}, \"mode\": \"markers\", \"showlegend\": false, \"text\": [\"ID: 28<br>40 sek <br>115 % FTP<br>362 w<br>\", \"ID: 28<br>40 sek <br>115 % FTP<br>362 w<br>\", \"ID: 28<br>40 sek <br>115 % FTP<br>362 w<br>\", \"ID: 28<br>40 sek <br>115 % FTP<br>362 w<br>\"], \"type\": \"scatter\", \"x\": [3140.0, 3140.0, 3140.0, 3140.0], \"y\": [23.0, 46.0, 69.0, 92.0]}, {\"fill\": \"tozeroy\", \"fillcolor\": \"orange\", \"hoverinfo\": \"text\", \"legendgroup\": \"orange\", \"line\": {\"color\": \"black\"}, \"mode\": \"lines\", \"showlegend\": false, \"text\": \"ID: 28<br>40 sek <br>115 % FTP<br>362 w<br>\", \"type\": \"scatter\", \"x\": [3120, 3120, 3160, 3160], \"xaxis\": \"x\", \"y\": [0, 115, 115, 0], \"yaxis\": \"y\"}, {\"hoverinfo\": \"none\", \"line\": {\"color\": \"rgba(0,0,0,0)\"}, \"mode\": \"lines\", \"showlegend\": false, \"type\": \"scatter\", \"x\": [3120, 3160], \"xaxis\": \"x\", \"y\": [362.25, 362.25], \"yaxis\": \"y2\"}, {\"hoverinfo\": \"text\", \"marker\": {\"color\": [\"blue\", \"blue\", \"blue\", \"blue\"]}, \"mode\": \"markers\", \"showlegend\": false, \"text\": [\"ID: 29<br>20 sek <br>70 % FTP<br>220 w<br>\", \"ID: 29<br>20 sek <br>70 % FTP<br>220 w<br>\", \"ID: 29<br>20 sek <br>70 % FTP<br>220 w<br>\", \"ID: 29<br>20 sek <br>70 % FTP<br>220 w<br>\"], \"type\": \"scatter\", \"x\": [3170.0, 3170.0, 3170.0, 3170.0], \"y\": [14.0, 28.0, 42.0, 56.0]}, {\"fill\": \"tozeroy\", \"fillcolor\": \"blue\", \"hoverinfo\": \"text\", \"legendgroup\": \"blue\", \"line\": {\"color\": \"black\"}, \"mode\": \"lines\", \"showlegend\": false, \"text\": \"ID: 29<br>20 sek <br>70 % FTP<br>220 w<br>\", \"type\": \"scatter\", \"x\": [3160, 3160, 3180, 3180], \"xaxis\": \"x\", \"y\": [0, 70, 70, 0], \"yaxis\": \"y\"}, {\"hoverinfo\": \"none\", \"line\": {\"color\": \"rgba(0,0,0,0)\"}, \"mode\": \"lines\", \"showlegend\": false, \"type\": \"scatter\", \"x\": [3160, 3180], \"xaxis\": \"x\", \"y\": [220.5, 220.5], \"yaxis\": \"y2\"}, {\"hoverinfo\": \"text\", \"marker\": {\"color\": [\"orange\", \"orange\", \"orange\", \"orange\"]}, \"mode\": \"markers\", \"showlegend\": false, \"text\": [\"ID: 30<br>40 sek <br>115 % FTP<br>362 w<br>\", \"ID: 30<br>40 sek <br>115 % FTP<br>362 w<br>\", \"ID: 30<br>40 sek <br>115 % FTP<br>362 w<br>\", \"ID: 30<br>40 sek <br>115 % FTP<br>362 w<br>\"], \"type\": \"scatter\", \"x\": [3200.0, 3200.0, 3200.0, 3200.0], \"y\": [23.0, 46.0, 69.0, 92.0]}, {\"fill\": \"tozeroy\", \"fillcolor\": \"orange\", \"hoverinfo\": \"text\", \"legendgroup\": \"orange\", \"line\": {\"color\": \"black\"}, \"mode\": \"lines\", \"showlegend\": false, \"text\": \"ID: 30<br>40 sek <br>115 % FTP<br>362 w<br>\", \"type\": \"scatter\", \"x\": [3180, 3180, 3220, 3220], \"xaxis\": \"x\", \"y\": [0, 115, 115, 0], \"yaxis\": \"y\"}, {\"hoverinfo\": \"none\", \"line\": {\"color\": \"rgba(0,0,0,0)\"}, \"mode\": \"lines\", \"showlegend\": false, \"type\": \"scatter\", \"x\": [3180, 3220], \"xaxis\": \"x\", \"y\": [362.25, 362.25], \"yaxis\": \"y2\"}, {\"hoverinfo\": \"text\", \"marker\": {\"color\": [\"blue\", \"blue\", \"blue\", \"blue\"]}, \"mode\": \"markers\", \"showlegend\": false, \"text\": [\"ID: 31<br>20 sek <br>70 % FTP<br>220 w<br>\", \"ID: 31<br>20 sek <br>70 % FTP<br>220 w<br>\", \"ID: 31<br>20 sek <br>70 % FTP<br>220 w<br>\", \"ID: 31<br>20 sek <br>70 % FTP<br>220 w<br>\"], \"type\": \"scatter\", \"x\": [3230.0, 3230.0, 3230.0, 3230.0], \"y\": [14.0, 28.0, 42.0, 56.0]}, {\"fill\": \"tozeroy\", \"fillcolor\": \"blue\", \"hoverinfo\": \"text\", \"legendgroup\": \"blue\", \"line\": {\"color\": \"black\"}, \"mode\": \"lines\", \"showlegend\": false, \"text\": \"ID: 31<br>20 sek <br>70 % FTP<br>220 w<br>\", \"type\": \"scatter\", \"x\": [3220, 3220, 3240, 3240], \"xaxis\": \"x\", \"y\": [0, 70, 70, 0], \"yaxis\": \"y\"}, {\"hoverinfo\": \"none\", \"line\": {\"color\": \"rgba(0,0,0,0)\"}, \"mode\": \"lines\", \"showlegend\": false, \"type\": \"scatter\", \"x\": [3220, 3240], \"xaxis\": \"x\", \"y\": [220.5, 220.5], \"yaxis\": \"y2\"}, {\"hoverinfo\": \"text\", \"marker\": {\"color\": [\"orange\", \"orange\", \"orange\", \"orange\"]}, \"mode\": \"markers\", \"showlegend\": false, \"text\": [\"ID: 32<br>40 sek <br>115 % FTP<br>362 w<br>\", \"ID: 32<br>40 sek <br>115 % FTP<br>362 w<br>\", \"ID: 32<br>40 sek <br>115 % FTP<br>362 w<br>\", \"ID: 32<br>40 sek <br>115 % FTP<br>362 w<br>\"], \"type\": \"scatter\", \"x\": [3260.0, 3260.0, 3260.0, 3260.0], \"y\": [23.0, 46.0, 69.0, 92.0]}, {\"fill\": \"tozeroy\", \"fillcolor\": \"orange\", \"hoverinfo\": \"text\", \"legendgroup\": \"orange\", \"line\": {\"color\": \"black\"}, \"mode\": \"lines\", \"showlegend\": false, \"text\": \"ID: 32<br>40 sek <br>115 % FTP<br>362 w<br>\", \"type\": \"scatter\", \"x\": [3240, 3240, 3280, 3280], \"xaxis\": \"x\", \"y\": [0, 115, 115, 0], \"yaxis\": \"y\"}, {\"hoverinfo\": \"none\", \"line\": {\"color\": \"rgba(0,0,0,0)\"}, \"mode\": \"lines\", \"showlegend\": false, \"type\": \"scatter\", \"x\": [3240, 3280], \"xaxis\": \"x\", \"y\": [362.25, 362.25], \"yaxis\": \"y2\"}, {\"hoverinfo\": \"text\", \"marker\": {\"color\": [\"blue\", \"blue\", \"blue\", \"blue\"]}, \"mode\": \"markers\", \"showlegend\": false, \"text\": [\"ID: 33<br>20 sek <br>70 % FTP<br>220 w<br>\", \"ID: 33<br>20 sek <br>70 % FTP<br>220 w<br>\", \"ID: 33<br>20 sek <br>70 % FTP<br>220 w<br>\", \"ID: 33<br>20 sek <br>70 % FTP<br>220 w<br>\"], \"type\": \"scatter\", \"x\": [3290.0, 3290.0, 3290.0, 3290.0], \"y\": [14.0, 28.0, 42.0, 56.0]}, {\"fill\": \"tozeroy\", \"fillcolor\": \"blue\", \"hoverinfo\": \"text\", \"legendgroup\": \"blue\", \"line\": {\"color\": \"black\"}, \"mode\": \"lines\", \"showlegend\": false, \"text\": \"ID: 33<br>20 sek <br>70 % FTP<br>220 w<br>\", \"type\": \"scatter\", \"x\": [3280, 3280, 3300, 3300], \"xaxis\": \"x\", \"y\": [0, 70, 70, 0], \"yaxis\": \"y\"}, {\"hoverinfo\": \"none\", \"line\": {\"color\": \"rgba(0,0,0,0)\"}, \"mode\": \"lines\", \"showlegend\": false, \"type\": \"scatter\", \"x\": [3280, 3300], \"xaxis\": \"x\", \"y\": [220.5, 220.5], \"yaxis\": \"y2\"}, {\"hoverinfo\": \"text\", \"marker\": {\"color\": [\"orange\", \"orange\", \"orange\", \"orange\"]}, \"mode\": \"markers\", \"showlegend\": false, \"text\": [\"ID: 34<br>40 sek <br>115 % FTP<br>362 w<br>\", \"ID: 34<br>40 sek <br>115 % FTP<br>362 w<br>\", \"ID: 34<br>40 sek <br>115 % FTP<br>362 w<br>\", \"ID: 34<br>40 sek <br>115 % FTP<br>362 w<br>\"], \"type\": \"scatter\", \"x\": [3320.0, 3320.0, 3320.0, 3320.0], \"y\": [23.0, 46.0, 69.0, 92.0]}, {\"fill\": \"tozeroy\", \"fillcolor\": \"orange\", \"hoverinfo\": \"text\", \"legendgroup\": \"orange\", \"line\": {\"color\": \"black\"}, \"mode\": \"lines\", \"showlegend\": false, \"text\": \"ID: 34<br>40 sek <br>115 % FTP<br>362 w<br>\", \"type\": \"scatter\", \"x\": [3300, 3300, 3340, 3340], \"xaxis\": \"x\", \"y\": [0, 115, 115, 0], \"yaxis\": \"y\"}, {\"hoverinfo\": \"none\", \"line\": {\"color\": \"rgba(0,0,0,0)\"}, \"mode\": \"lines\", \"showlegend\": false, \"type\": \"scatter\", \"x\": [3300, 3340], \"xaxis\": \"x\", \"y\": [362.25, 362.25], \"yaxis\": \"y2\"}, {\"hoverinfo\": \"text\", \"marker\": {\"color\": [\"blue\", \"blue\", \"blue\", \"blue\"]}, \"mode\": \"markers\", \"showlegend\": false, \"text\": [\"ID: 35<br>20 sek <br>70 % FTP<br>220 w<br>\", \"ID: 35<br>20 sek <br>70 % FTP<br>220 w<br>\", \"ID: 35<br>20 sek <br>70 % FTP<br>220 w<br>\", \"ID: 35<br>20 sek <br>70 % FTP<br>220 w<br>\"], \"type\": \"scatter\", \"x\": [3350.0, 3350.0, 3350.0, 3350.0], \"y\": [14.0, 28.0, 42.0, 56.0]}, {\"fill\": \"tozeroy\", \"fillcolor\": \"blue\", \"hoverinfo\": \"text\", \"legendgroup\": \"blue\", \"line\": {\"color\": \"black\"}, \"mode\": \"lines\", \"showlegend\": false, \"text\": \"ID: 35<br>20 sek <br>70 % FTP<br>220 w<br>\", \"type\": \"scatter\", \"x\": [3340, 3340, 3360, 3360], \"xaxis\": \"x\", \"y\": [0, 70, 70, 0], \"yaxis\": \"y\"}, {\"hoverinfo\": \"none\", \"line\": {\"color\": \"rgba(0,0,0,0)\"}, \"mode\": \"lines\", \"showlegend\": false, \"type\": \"scatter\", \"x\": [3340, 3360], \"xaxis\": \"x\", \"y\": [220.5, 220.5], \"yaxis\": \"y2\"}, {\"hoverinfo\": \"text\", \"marker\": {\"color\": [\"orange\", \"orange\", \"orange\", \"orange\"]}, \"mode\": \"markers\", \"showlegend\": false, \"text\": [\"ID: 36<br>40 sek <br>115 % FTP<br>362 w<br>\", \"ID: 36<br>40 sek <br>115 % FTP<br>362 w<br>\", \"ID: 36<br>40 sek <br>115 % FTP<br>362 w<br>\", \"ID: 36<br>40 sek <br>115 % FTP<br>362 w<br>\"], \"type\": \"scatter\", \"x\": [3380.0, 3380.0, 3380.0, 3380.0], \"y\": [23.0, 46.0, 69.0, 92.0]}, {\"fill\": \"tozeroy\", \"fillcolor\": \"orange\", \"hoverinfo\": \"text\", \"legendgroup\": \"orange\", \"line\": {\"color\": \"black\"}, \"mode\": \"lines\", \"showlegend\": false, \"text\": \"ID: 36<br>40 sek <br>115 % FTP<br>362 w<br>\", \"type\": \"scatter\", \"x\": [3360, 3360, 3400, 3400], \"xaxis\": \"x\", \"y\": [0, 115, 115, 0], \"yaxis\": \"y\"}, {\"hoverinfo\": \"none\", \"line\": {\"color\": \"rgba(0,0,0,0)\"}, \"mode\": \"lines\", \"showlegend\": false, \"type\": \"scatter\", \"x\": [3360, 3400], \"xaxis\": \"x\", \"y\": [362.25, 362.25], \"yaxis\": \"y2\"}, {\"hoverinfo\": \"text\", \"marker\": {\"color\": [\"blue\", \"blue\", \"blue\", \"blue\"]}, \"mode\": \"markers\", \"showlegend\": false, \"text\": [\"ID: 37<br>20 sek <br>70 % FTP<br>220 w<br>\", \"ID: 37<br>20 sek <br>70 % FTP<br>220 w<br>\", \"ID: 37<br>20 sek <br>70 % FTP<br>220 w<br>\", \"ID: 37<br>20 sek <br>70 % FTP<br>220 w<br>\"], \"type\": \"scatter\", \"x\": [3410.0, 3410.0, 3410.0, 3410.0], \"y\": [14.0, 28.0, 42.0, 56.0]}, {\"fill\": \"tozeroy\", \"fillcolor\": \"blue\", \"hoverinfo\": \"text\", \"legendgroup\": \"blue\", \"line\": {\"color\": \"black\"}, \"mode\": \"lines\", \"showlegend\": false, \"text\": \"ID: 37<br>20 sek <br>70 % FTP<br>220 w<br>\", \"type\": \"scatter\", \"x\": [3400, 3400, 3420, 3420], \"xaxis\": \"x\", \"y\": [0, 70, 70, 0], \"yaxis\": \"y\"}, {\"hoverinfo\": \"none\", \"line\": {\"color\": \"rgba(0,0,0,0)\"}, \"mode\": \"lines\", \"showlegend\": false, \"type\": \"scatter\", \"x\": [3400, 3420], \"xaxis\": \"x\", \"y\": [220.5, 220.5], \"yaxis\": \"y2\"}, {\"hoverinfo\": \"text\", \"marker\": {\"color\": [\"orange\", \"orange\", \"orange\", \"orange\"]}, \"mode\": \"markers\", \"showlegend\": false, \"text\": [\"ID: 38<br>40 sek <br>115 % FTP<br>362 w<br>\", \"ID: 38<br>40 sek <br>115 % FTP<br>362 w<br>\", \"ID: 38<br>40 sek <br>115 % FTP<br>362 w<br>\", \"ID: 38<br>40 sek <br>115 % FTP<br>362 w<br>\"], \"type\": \"scatter\", \"x\": [3440.0, 3440.0, 3440.0, 3440.0], \"y\": [23.0, 46.0, 69.0, 92.0]}, {\"fill\": \"tozeroy\", \"fillcolor\": \"orange\", \"hoverinfo\": \"text\", \"legendgroup\": \"orange\", \"line\": {\"color\": \"black\"}, \"mode\": \"lines\", \"showlegend\": false, \"text\": \"ID: 38<br>40 sek <br>115 % FTP<br>362 w<br>\", \"type\": \"scatter\", \"x\": [3420, 3420, 3460, 3460], \"xaxis\": \"x\", \"y\": [0, 115, 115, 0], \"yaxis\": \"y\"}, {\"hoverinfo\": \"none\", \"line\": {\"color\": \"rgba(0,0,0,0)\"}, \"mode\": \"lines\", \"showlegend\": false, \"type\": \"scatter\", \"x\": [3420, 3460], \"xaxis\": \"x\", \"y\": [362.25, 362.25], \"yaxis\": \"y2\"}, {\"hoverinfo\": \"text\", \"marker\": {\"color\": [\"blue\", \"blue\", \"blue\", \"blue\"]}, \"mode\": \"markers\", \"showlegend\": false, \"text\": [\"ID: 39<br>20 sek <br>70 % FTP<br>220 w<br>\", \"ID: 39<br>20 sek <br>70 % FTP<br>220 w<br>\", \"ID: 39<br>20 sek <br>70 % FTP<br>220 w<br>\", \"ID: 39<br>20 sek <br>70 % FTP<br>220 w<br>\"], \"type\": \"scatter\", \"x\": [3470.0, 3470.0, 3470.0, 3470.0], \"y\": [14.0, 28.0, 42.0, 56.0]}, {\"fill\": \"tozeroy\", \"fillcolor\": \"blue\", \"hoverinfo\": \"text\", \"legendgroup\": \"blue\", \"line\": {\"color\": \"black\"}, \"mode\": \"lines\", \"showlegend\": false, \"text\": \"ID: 39<br>20 sek <br>70 % FTP<br>220 w<br>\", \"type\": \"scatter\", \"x\": [3460, 3460, 3480, 3480], \"xaxis\": \"x\", \"y\": [0, 70, 70, 0], \"yaxis\": \"y\"}, {\"hoverinfo\": \"none\", \"line\": {\"color\": \"rgba(0,0,0,0)\"}, \"mode\": \"lines\", \"showlegend\": false, \"type\": \"scatter\", \"x\": [3460, 3480], \"xaxis\": \"x\", \"y\": [220.5, 220.5], \"yaxis\": \"y2\"}, {\"hoverinfo\": \"text\", \"marker\": {\"color\": [\"blue\", \"blue\", \"blue\", \"blue\"]}, \"mode\": \"markers\", \"showlegend\": false, \"text\": [\"ID: 40<br>600 sek <br>65 % FTP<br>205 w<br>\", \"ID: 40<br>600 sek <br>65 % FTP<br>205 w<br>\", \"ID: 40<br>600 sek <br>65 % FTP<br>205 w<br>\", \"ID: 40<br>600 sek <br>65 % FTP<br>205 w<br>\"], \"type\": \"scatter\", \"x\": [3780.0, 3780.0, 3780.0, 3780.0], \"y\": [13.0, 26.0, 39.0, 52.0]}, {\"fill\": \"tozeroy\", \"fillcolor\": \"blue\", \"hoverinfo\": \"text\", \"legendgroup\": \"blue\", \"line\": {\"color\": \"black\"}, \"mode\": \"lines\", \"showlegend\": false, \"text\": \"ID: 40<br>600 sek <br>65 % FTP<br>205 w<br>\", \"type\": \"scatter\", \"x\": [3480, 3480, 4080, 4080], \"xaxis\": \"x\", \"y\": [0, 65, 65, 0], \"yaxis\": \"y\"}, {\"hoverinfo\": \"none\", \"line\": {\"color\": \"rgba(0,0,0,0)\"}, \"mode\": \"lines\", \"showlegend\": false, \"type\": \"scatter\", \"x\": [3480, 4080], \"xaxis\": \"x\", \"y\": [204.75, 204.75], \"yaxis\": \"y2\"}, {\"hoverinfo\": \"text\", \"marker\": {\"color\": [\"orange\", \"orange\", \"orange\", \"orange\"]}, \"mode\": \"markers\", \"showlegend\": false, \"text\": [\"ID: 41<br>40 sek <br>115 % FTP<br>362 w<br>\", \"ID: 41<br>40 sek <br>115 % FTP<br>362 w<br>\", \"ID: 41<br>40 sek <br>115 % FTP<br>362 w<br>\", \"ID: 41<br>40 sek <br>115 % FTP<br>362 w<br>\"], \"type\": \"scatter\", \"x\": [4100.0, 4100.0, 4100.0, 4100.0], \"y\": [23.0, 46.0, 69.0, 92.0]}, {\"fill\": \"tozeroy\", \"fillcolor\": \"orange\", \"hoverinfo\": \"text\", \"legendgroup\": \"orange\", \"line\": {\"color\": \"black\"}, \"mode\": \"lines\", \"showlegend\": false, \"text\": \"ID: 41<br>40 sek <br>115 % FTP<br>362 w<br>\", \"type\": \"scatter\", \"x\": [4080, 4080, 4120, 4120], \"xaxis\": \"x\", \"y\": [0, 115, 115, 0], \"yaxis\": \"y\"}, {\"hoverinfo\": \"none\", \"line\": {\"color\": \"rgba(0,0,0,0)\"}, \"mode\": \"lines\", \"showlegend\": false, \"type\": \"scatter\", \"x\": [4080, 4120], \"xaxis\": \"x\", \"y\": [362.25, 362.25], \"yaxis\": \"y2\"}, {\"hoverinfo\": \"text\", \"marker\": {\"color\": [\"blue\", \"blue\", \"blue\", \"blue\"]}, \"mode\": \"markers\", \"showlegend\": false, \"text\": [\"ID: 42<br>20 sek <br>70 % FTP<br>220 w<br>\", \"ID: 42<br>20 sek <br>70 % FTP<br>220 w<br>\", \"ID: 42<br>20 sek <br>70 % FTP<br>220 w<br>\", \"ID: 42<br>20 sek <br>70 % FTP<br>220 w<br>\"], \"type\": \"scatter\", \"x\": [4130.0, 4130.0, 4130.0, 4130.0], \"y\": [14.0, 28.0, 42.0, 56.0]}, {\"fill\": \"tozeroy\", \"fillcolor\": \"blue\", \"hoverinfo\": \"text\", \"legendgroup\": \"blue\", \"line\": {\"color\": \"black\"}, \"mode\": \"lines\", \"showlegend\": false, \"text\": \"ID: 42<br>20 sek <br>70 % FTP<br>220 w<br>\", \"type\": \"scatter\", \"x\": [4120, 4120, 4140, 4140], \"xaxis\": \"x\", \"y\": [0, 70, 70, 0], \"yaxis\": \"y\"}, {\"hoverinfo\": \"none\", \"line\": {\"color\": \"rgba(0,0,0,0)\"}, \"mode\": \"lines\", \"showlegend\": false, \"type\": \"scatter\", \"x\": [4120, 4140], \"xaxis\": \"x\", \"y\": [220.5, 220.5], \"yaxis\": \"y2\"}, {\"hoverinfo\": \"text\", \"marker\": {\"color\": [\"orange\", \"orange\", \"orange\", \"orange\"]}, \"mode\": \"markers\", \"showlegend\": false, \"text\": [\"ID: 43<br>40 sek <br>115 % FTP<br>362 w<br>\", \"ID: 43<br>40 sek <br>115 % FTP<br>362 w<br>\", \"ID: 43<br>40 sek <br>115 % FTP<br>362 w<br>\", \"ID: 43<br>40 sek <br>115 % FTP<br>362 w<br>\"], \"type\": \"scatter\", \"x\": [4160.0, 4160.0, 4160.0, 4160.0], \"y\": [23.0, 46.0, 69.0, 92.0]}, {\"fill\": \"tozeroy\", \"fillcolor\": \"orange\", \"hoverinfo\": \"text\", \"legendgroup\": \"orange\", \"line\": {\"color\": \"black\"}, \"mode\": \"lines\", \"showlegend\": false, \"text\": \"ID: 43<br>40 sek <br>115 % FTP<br>362 w<br>\", \"type\": \"scatter\", \"x\": [4140, 4140, 4180, 4180], \"xaxis\": \"x\", \"y\": [0, 115, 115, 0], \"yaxis\": \"y\"}, {\"hoverinfo\": \"none\", \"line\": {\"color\": \"rgba(0,0,0,0)\"}, \"mode\": \"lines\", \"showlegend\": false, \"type\": \"scatter\", \"x\": [4140, 4180], \"xaxis\": \"x\", \"y\": [362.25, 362.25], \"yaxis\": \"y2\"}, {\"hoverinfo\": \"text\", \"marker\": {\"color\": [\"blue\", \"blue\", \"blue\", \"blue\"]}, \"mode\": \"markers\", \"showlegend\": false, \"text\": [\"ID: 44<br>20 sek <br>70 % FTP<br>220 w<br>\", \"ID: 44<br>20 sek <br>70 % FTP<br>220 w<br>\", \"ID: 44<br>20 sek <br>70 % FTP<br>220 w<br>\", \"ID: 44<br>20 sek <br>70 % FTP<br>220 w<br>\"], \"type\": \"scatter\", \"x\": [4190.0, 4190.0, 4190.0, 4190.0], \"y\": [14.0, 28.0, 42.0, 56.0]}, {\"fill\": \"tozeroy\", \"fillcolor\": \"blue\", \"hoverinfo\": \"text\", \"legendgroup\": \"blue\", \"line\": {\"color\": \"black\"}, \"mode\": \"lines\", \"showlegend\": false, \"text\": \"ID: 44<br>20 sek <br>70 % FTP<br>220 w<br>\", \"type\": \"scatter\", \"x\": [4180, 4180, 4200, 4200], \"xaxis\": \"x\", \"y\": [0, 70, 70, 0], \"yaxis\": \"y\"}, {\"hoverinfo\": \"none\", \"line\": {\"color\": \"rgba(0,0,0,0)\"}, \"mode\": \"lines\", \"showlegend\": false, \"type\": \"scatter\", \"x\": [4180, 4200], \"xaxis\": \"x\", \"y\": [220.5, 220.5], \"yaxis\": \"y2\"}, {\"hoverinfo\": \"text\", \"marker\": {\"color\": [\"orange\", \"orange\", \"orange\", \"orange\"]}, \"mode\": \"markers\", \"showlegend\": false, \"text\": [\"ID: 45<br>40 sek <br>115 % FTP<br>362 w<br>\", \"ID: 45<br>40 sek <br>115 % FTP<br>362 w<br>\", \"ID: 45<br>40 sek <br>115 % FTP<br>362 w<br>\", \"ID: 45<br>40 sek <br>115 % FTP<br>362 w<br>\"], \"type\": \"scatter\", \"x\": [4220.0, 4220.0, 4220.0, 4220.0], \"y\": [23.0, 46.0, 69.0, 92.0]}, {\"fill\": \"tozeroy\", \"fillcolor\": \"orange\", \"hoverinfo\": \"text\", \"legendgroup\": \"orange\", \"line\": {\"color\": \"black\"}, \"mode\": \"lines\", \"showlegend\": false, \"text\": \"ID: 45<br>40 sek <br>115 % FTP<br>362 w<br>\", \"type\": \"scatter\", \"x\": [4200, 4200, 4240, 4240], \"xaxis\": \"x\", \"y\": [0, 115, 115, 0], \"yaxis\": \"y\"}, {\"hoverinfo\": \"none\", \"line\": {\"color\": \"rgba(0,0,0,0)\"}, \"mode\": \"lines\", \"showlegend\": false, \"type\": \"scatter\", \"x\": [4200, 4240], \"xaxis\": \"x\", \"y\": [362.25, 362.25], \"yaxis\": \"y2\"}, {\"hoverinfo\": \"text\", \"marker\": {\"color\": [\"blue\", \"blue\", \"blue\", \"blue\"]}, \"mode\": \"markers\", \"showlegend\": false, \"text\": [\"ID: 46<br>20 sek <br>70 % FTP<br>220 w<br>\", \"ID: 46<br>20 sek <br>70 % FTP<br>220 w<br>\", \"ID: 46<br>20 sek <br>70 % FTP<br>220 w<br>\", \"ID: 46<br>20 sek <br>70 % FTP<br>220 w<br>\"], \"type\": \"scatter\", \"x\": [4250.0, 4250.0, 4250.0, 4250.0], \"y\": [14.0, 28.0, 42.0, 56.0]}, {\"fill\": \"tozeroy\", \"fillcolor\": \"blue\", \"hoverinfo\": \"text\", \"legendgroup\": \"blue\", \"line\": {\"color\": \"black\"}, \"mode\": \"lines\", \"showlegend\": false, \"text\": \"ID: 46<br>20 sek <br>70 % FTP<br>220 w<br>\", \"type\": \"scatter\", \"x\": [4240, 4240, 4260, 4260], \"xaxis\": \"x\", \"y\": [0, 70, 70, 0], \"yaxis\": \"y\"}, {\"hoverinfo\": \"none\", \"line\": {\"color\": \"rgba(0,0,0,0)\"}, \"mode\": \"lines\", \"showlegend\": false, \"type\": \"scatter\", \"x\": [4240, 4260], \"xaxis\": \"x\", \"y\": [220.5, 220.5], \"yaxis\": \"y2\"}, {\"hoverinfo\": \"text\", \"marker\": {\"color\": [\"orange\", \"orange\", \"orange\", \"orange\"]}, \"mode\": \"markers\", \"showlegend\": false, \"text\": [\"ID: 47<br>40 sek <br>115 % FTP<br>362 w<br>\", \"ID: 47<br>40 sek <br>115 % FTP<br>362 w<br>\", \"ID: 47<br>40 sek <br>115 % FTP<br>362 w<br>\", \"ID: 47<br>40 sek <br>115 % FTP<br>362 w<br>\"], \"type\": \"scatter\", \"x\": [4280.0, 4280.0, 4280.0, 4280.0], \"y\": [23.0, 46.0, 69.0, 92.0]}, {\"fill\": \"tozeroy\", \"fillcolor\": \"orange\", \"hoverinfo\": \"text\", \"legendgroup\": \"orange\", \"line\": {\"color\": \"black\"}, \"mode\": \"lines\", \"showlegend\": false, \"text\": \"ID: 47<br>40 sek <br>115 % FTP<br>362 w<br>\", \"type\": \"scatter\", \"x\": [4260, 4260, 4300, 4300], \"xaxis\": \"x\", \"y\": [0, 115, 115, 0], \"yaxis\": \"y\"}, {\"hoverinfo\": \"none\", \"line\": {\"color\": \"rgba(0,0,0,0)\"}, \"mode\": \"lines\", \"showlegend\": false, \"type\": \"scatter\", \"x\": [4260, 4300], \"xaxis\": \"x\", \"y\": [362.25, 362.25], \"yaxis\": \"y2\"}, {\"hoverinfo\": \"text\", \"marker\": {\"color\": [\"blue\", \"blue\", \"blue\", \"blue\"]}, \"mode\": \"markers\", \"showlegend\": false, \"text\": [\"ID: 48<br>20 sek <br>70 % FTP<br>220 w<br>\", \"ID: 48<br>20 sek <br>70 % FTP<br>220 w<br>\", \"ID: 48<br>20 sek <br>70 % FTP<br>220 w<br>\", \"ID: 48<br>20 sek <br>70 % FTP<br>220 w<br>\"], \"type\": \"scatter\", \"x\": [4310.0, 4310.0, 4310.0, 4310.0], \"y\": [14.0, 28.0, 42.0, 56.0]}, {\"fill\": \"tozeroy\", \"fillcolor\": \"blue\", \"hoverinfo\": \"text\", \"legendgroup\": \"blue\", \"line\": {\"color\": \"black\"}, \"mode\": \"lines\", \"showlegend\": false, \"text\": \"ID: 48<br>20 sek <br>70 % FTP<br>220 w<br>\", \"type\": \"scatter\", \"x\": [4300, 4300, 4320, 4320], \"xaxis\": \"x\", \"y\": [0, 70, 70, 0], \"yaxis\": \"y\"}, {\"hoverinfo\": \"none\", \"line\": {\"color\": \"rgba(0,0,0,0)\"}, \"mode\": \"lines\", \"showlegend\": false, \"type\": \"scatter\", \"x\": [4300, 4320], \"xaxis\": \"x\", \"y\": [220.5, 220.5], \"yaxis\": \"y2\"}, {\"hoverinfo\": \"text\", \"marker\": {\"color\": [\"orange\", \"orange\", \"orange\", \"orange\"]}, \"mode\": \"markers\", \"showlegend\": false, \"text\": [\"ID: 49<br>40 sek <br>115 % FTP<br>362 w<br>\", \"ID: 49<br>40 sek <br>115 % FTP<br>362 w<br>\", \"ID: 49<br>40 sek <br>115 % FTP<br>362 w<br>\", \"ID: 49<br>40 sek <br>115 % FTP<br>362 w<br>\"], \"type\": \"scatter\", \"x\": [4340.0, 4340.0, 4340.0, 4340.0], \"y\": [23.0, 46.0, 69.0, 92.0]}, {\"fill\": \"tozeroy\", \"fillcolor\": \"orange\", \"hoverinfo\": \"text\", \"legendgroup\": \"orange\", \"line\": {\"color\": \"black\"}, \"mode\": \"lines\", \"showlegend\": false, \"text\": \"ID: 49<br>40 sek <br>115 % FTP<br>362 w<br>\", \"type\": \"scatter\", \"x\": [4320, 4320, 4360, 4360], \"xaxis\": \"x\", \"y\": [0, 115, 115, 0], \"yaxis\": \"y\"}, {\"hoverinfo\": \"none\", \"line\": {\"color\": \"rgba(0,0,0,0)\"}, \"mode\": \"lines\", \"showlegend\": false, \"type\": \"scatter\", \"x\": [4320, 4360], \"xaxis\": \"x\", \"y\": [362.25, 362.25], \"yaxis\": \"y2\"}, {\"hoverinfo\": \"text\", \"marker\": {\"color\": [\"blue\", \"blue\", \"blue\", \"blue\"]}, \"mode\": \"markers\", \"showlegend\": false, \"text\": [\"ID: 50<br>20 sek <br>70 % FTP<br>220 w<br>\", \"ID: 50<br>20 sek <br>70 % FTP<br>220 w<br>\", \"ID: 50<br>20 sek <br>70 % FTP<br>220 w<br>\", \"ID: 50<br>20 sek <br>70 % FTP<br>220 w<br>\"], \"type\": \"scatter\", \"x\": [4370.0, 4370.0, 4370.0, 4370.0], \"y\": [14.0, 28.0, 42.0, 56.0]}, {\"fill\": \"tozeroy\", \"fillcolor\": \"blue\", \"hoverinfo\": \"text\", \"legendgroup\": \"blue\", \"line\": {\"color\": \"black\"}, \"mode\": \"lines\", \"showlegend\": false, \"text\": \"ID: 50<br>20 sek <br>70 % FTP<br>220 w<br>\", \"type\": \"scatter\", \"x\": [4360, 4360, 4380, 4380], \"xaxis\": \"x\", \"y\": [0, 70, 70, 0], \"yaxis\": \"y\"}, {\"hoverinfo\": \"none\", \"line\": {\"color\": \"rgba(0,0,0,0)\"}, \"mode\": \"lines\", \"showlegend\": false, \"type\": \"scatter\", \"x\": [4360, 4380], \"xaxis\": \"x\", \"y\": [220.5, 220.5], \"yaxis\": \"y2\"}, {\"hoverinfo\": \"text\", \"marker\": {\"color\": [\"orange\", \"orange\", \"orange\", \"orange\"]}, \"mode\": \"markers\", \"showlegend\": false, \"text\": [\"ID: 51<br>40 sek <br>115 % FTP<br>362 w<br>\", \"ID: 51<br>40 sek <br>115 % FTP<br>362 w<br>\", \"ID: 51<br>40 sek <br>115 % FTP<br>362 w<br>\", \"ID: 51<br>40 sek <br>115 % FTP<br>362 w<br>\"], \"type\": \"scatter\", \"x\": [4400.0, 4400.0, 4400.0, 4400.0], \"y\": [23.0, 46.0, 69.0, 92.0]}, {\"fill\": \"tozeroy\", \"fillcolor\": \"orange\", \"hoverinfo\": \"text\", \"legendgroup\": \"orange\", \"line\": {\"color\": \"black\"}, \"mode\": \"lines\", \"showlegend\": false, \"text\": \"ID: 51<br>40 sek <br>115 % FTP<br>362 w<br>\", \"type\": \"scatter\", \"x\": [4380, 4380, 4420, 4420], \"xaxis\": \"x\", \"y\": [0, 115, 115, 0], \"yaxis\": \"y\"}, {\"hoverinfo\": \"none\", \"line\": {\"color\": \"rgba(0,0,0,0)\"}, \"mode\": \"lines\", \"showlegend\": false, \"type\": \"scatter\", \"x\": [4380, 4420], \"xaxis\": \"x\", \"y\": [362.25, 362.25], \"yaxis\": \"y2\"}, {\"hoverinfo\": \"text\", \"marker\": {\"color\": [\"blue\", \"blue\", \"blue\", \"blue\"]}, \"mode\": \"markers\", \"showlegend\": false, \"text\": [\"ID: 52<br>20 sek <br>70 % FTP<br>220 w<br>\", \"ID: 52<br>20 sek <br>70 % FTP<br>220 w<br>\", \"ID: 52<br>20 sek <br>70 % FTP<br>220 w<br>\", \"ID: 52<br>20 sek <br>70 % FTP<br>220 w<br>\"], \"type\": \"scatter\", \"x\": [4430.0, 4430.0, 4430.0, 4430.0], \"y\": [14.0, 28.0, 42.0, 56.0]}, {\"fill\": \"tozeroy\", \"fillcolor\": \"blue\", \"hoverinfo\": \"text\", \"legendgroup\": \"blue\", \"line\": {\"color\": \"black\"}, \"mode\": \"lines\", \"showlegend\": false, \"text\": \"ID: 52<br>20 sek <br>70 % FTP<br>220 w<br>\", \"type\": \"scatter\", \"x\": [4420, 4420, 4440, 4440], \"xaxis\": \"x\", \"y\": [0, 70, 70, 0], \"yaxis\": \"y\"}, {\"hoverinfo\": \"none\", \"line\": {\"color\": \"rgba(0,0,0,0)\"}, \"mode\": \"lines\", \"showlegend\": false, \"type\": \"scatter\", \"x\": [4420, 4440], \"xaxis\": \"x\", \"y\": [220.5, 220.5], \"yaxis\": \"y2\"}, {\"hoverinfo\": \"text\", \"marker\": {\"color\": [\"blue\", \"blue\", \"blue\", \"blue\"]}, \"mode\": \"markers\", \"showlegend\": false, \"text\": [\"ID: 53<br>240.0 sek <br>65 bis 59 % FTP<br>205 bis 186 w<br>\", \"ID: 53<br>240.0 sek <br>65 bis 59 % FTP<br>205 bis 186 w<br>\", \"ID: 53<br>240.0 sek <br>65 bis 59 % FTP<br>205 bis 186 w<br>\", \"ID: 53<br>240.0 sek <br>65 bis 59 % FTP<br>205 bis 186 w<br>\"], \"type\": \"scatter\", \"x\": [4560.0, 4560.0, 4560.0, 4560.0], \"y\": [11.8, 23.6, 35.4, 47.2]}, {\"fill\": \"tozeroy\", \"fillcolor\": \"blue\", \"hoverinfo\": \"text\", \"legendgroup\": \"blue\", \"line\": {\"color\": \"black\"}, \"mode\": \"lines\", \"showlegend\": false, \"text\": \"ID: 53<br>240.0 sek <br>65 bis 59 % FTP<br>205 bis 186 w<br>\", \"type\": \"scatter\", \"x\": [4440, 4440, 4680.0, 4680.0], \"xaxis\": \"x\", \"y\": [0, 65, 59, 0], \"yaxis\": \"y\"}, {\"hoverinfo\": \"none\", \"line\": {\"color\": \"rgba(0,0,0,0)\"}, \"mode\": \"lines\", \"showlegend\": false, \"type\": \"scatter\", \"x\": [4440, 4680.0], \"xaxis\": \"x\", \"y\": [204.75, 185.85], \"yaxis\": \"y2\"}, {\"hoverinfo\": \"text\", \"marker\": {\"color\": [\"grey\", \"grey\", \"grey\", \"grey\"]}, \"mode\": \"markers\", \"showlegend\": false, \"text\": [\"ID: 53<br>360.0 sek <br>59 bis 50 % FTP<br>186 bis 158 w<br>\", \"ID: 53<br>360.0 sek <br>59 bis 50 % FTP<br>186 bis 158 w<br>\", \"ID: 53<br>360.0 sek <br>59 bis 50 % FTP<br>186 bis 158 w<br>\", \"ID: 53<br>360.0 sek <br>59 bis 50 % FTP<br>186 bis 158 w<br>\"], \"type\": \"scatter\", \"x\": [4860.0, 4860.0, 4860.0, 4860.0], \"y\": [10.0, 20.0, 30.0, 40.0]}, {\"fill\": \"tozeroy\", \"fillcolor\": \"grey\", \"hoverinfo\": \"text\", \"legendgroup\": \"grey\", \"line\": {\"color\": \"black\"}, \"mode\": \"lines\", \"showlegend\": false, \"text\": \"ID: 53<br>360.0 sek <br>59 bis 50 % FTP<br>186 bis 158 w<br>\", \"type\": \"scatter\", \"x\": [4680.0, 4680.0, 5040.0, 5040.0], \"xaxis\": \"x\", \"y\": [0, 59, 50, 0], \"yaxis\": \"y\"}, {\"hoverinfo\": \"none\", \"line\": {\"color\": \"rgba(0,0,0,0)\"}, \"mode\": \"lines\", \"showlegend\": false, \"type\": \"scatter\", \"x\": [4680.0, 5040.0], \"xaxis\": \"x\", \"y\": [185.85, 157.5], \"yaxis\": \"y2\"}],                        {\"template\": {\"data\": {\"bar\": [{\"error_x\": {\"color\": \"#2a3f5f\"}, \"error_y\": {\"color\": \"#2a3f5f\"}, \"marker\": {\"line\": {\"color\": \"#E5ECF6\", \"width\": 0.5}}, \"type\": \"bar\"}], \"barpolar\": [{\"marker\": {\"line\": {\"color\": \"#E5ECF6\", \"width\": 0.5}}, \"type\": \"barpolar\"}], \"carpet\": [{\"aaxis\": {\"endlinecolor\": \"#2a3f5f\", \"gridcolor\": \"white\", \"linecolor\": \"white\", \"minorgridcolor\": \"white\", \"startlinecolor\": \"#2a3f5f\"}, \"baxis\": {\"endlinecolor\": \"#2a3f5f\", \"gridcolor\": \"white\", \"linecolor\": \"white\", \"minorgridcolor\": \"white\", \"startlinecolor\": \"#2a3f5f\"}, \"type\": \"carpet\"}], \"choropleth\": [{\"colorbar\": {\"outlinewidth\": 0, \"ticks\": \"\"}, \"type\": \"choropleth\"}], \"contour\": [{\"colorbar\": {\"outlinewidth\": 0, \"ticks\": \"\"}, \"colorscale\": [[0.0, \"#0d0887\"], [0.1111111111111111, \"#46039f\"], [0.2222222222222222, \"#7201a8\"], [0.3333333333333333, \"#9c179e\"], [0.4444444444444444, \"#bd3786\"], [0.5555555555555556, \"#d8576b\"], [0.6666666666666666, \"#ed7953\"], [0.7777777777777778, \"#fb9f3a\"], [0.8888888888888888, \"#fdca26\"], [1.0, \"#f0f921\"]], \"type\": \"contour\"}], \"contourcarpet\": [{\"colorbar\": {\"outlinewidth\": 0, \"ticks\": \"\"}, \"type\": \"contourcarpet\"}], \"heatmap\": [{\"colorbar\": {\"outlinewidth\": 0, \"ticks\": \"\"}, \"colorscale\": [[0.0, \"#0d0887\"], [0.1111111111111111, \"#46039f\"], [0.2222222222222222, \"#7201a8\"], [0.3333333333333333, \"#9c179e\"], [0.4444444444444444, \"#bd3786\"], [0.5555555555555556, \"#d8576b\"], [0.6666666666666666, \"#ed7953\"], [0.7777777777777778, \"#fb9f3a\"], [0.8888888888888888, \"#fdca26\"], [1.0, \"#f0f921\"]], \"type\": \"heatmap\"}], \"heatmapgl\": [{\"colorbar\": {\"outlinewidth\": 0, \"ticks\": \"\"}, \"colorscale\": [[0.0, \"#0d0887\"], [0.1111111111111111, \"#46039f\"], [0.2222222222222222, \"#7201a8\"], [0.3333333333333333, \"#9c179e\"], [0.4444444444444444, \"#bd3786\"], [0.5555555555555556, \"#d8576b\"], [0.6666666666666666, \"#ed7953\"], [0.7777777777777778, \"#fb9f3a\"], [0.8888888888888888, \"#fdca26\"], [1.0, \"#f0f921\"]], \"type\": \"heatmapgl\"}], \"histogram\": [{\"marker\": {\"colorbar\": {\"outlinewidth\": 0, \"ticks\": \"\"}}, \"type\": \"histogram\"}], \"histogram2d\": [{\"colorbar\": {\"outlinewidth\": 0, \"ticks\": \"\"}, \"colorscale\": [[0.0, \"#0d0887\"], [0.1111111111111111, \"#46039f\"], [0.2222222222222222, \"#7201a8\"], [0.3333333333333333, \"#9c179e\"], [0.4444444444444444, \"#bd3786\"], [0.5555555555555556, \"#d8576b\"], [0.6666666666666666, \"#ed7953\"], [0.7777777777777778, \"#fb9f3a\"], [0.8888888888888888, \"#fdca26\"], [1.0, \"#f0f921\"]], \"type\": \"histogram2d\"}], \"histogram2dcontour\": [{\"colorbar\": {\"outlinewidth\": 0, \"ticks\": \"\"}, \"colorscale\": [[0.0, \"#0d0887\"], [0.1111111111111111, \"#46039f\"], [0.2222222222222222, \"#7201a8\"], [0.3333333333333333, \"#9c179e\"], [0.4444444444444444, \"#bd3786\"], [0.5555555555555556, \"#d8576b\"], [0.6666666666666666, \"#ed7953\"], [0.7777777777777778, \"#fb9f3a\"], [0.8888888888888888, \"#fdca26\"], [1.0, \"#f0f921\"]], \"type\": \"histogram2dcontour\"}], \"mesh3d\": [{\"colorbar\": {\"outlinewidth\": 0, \"ticks\": \"\"}, \"type\": \"mesh3d\"}], \"parcoords\": [{\"line\": {\"colorbar\": {\"outlinewidth\": 0, \"ticks\": \"\"}}, \"type\": \"parcoords\"}], \"pie\": [{\"automargin\": true, \"type\": \"pie\"}], \"scatter\": [{\"marker\": {\"colorbar\": {\"outlinewidth\": 0, \"ticks\": \"\"}}, \"type\": \"scatter\"}], \"scatter3d\": [{\"line\": {\"colorbar\": {\"outlinewidth\": 0, \"ticks\": \"\"}}, \"marker\": {\"colorbar\": {\"outlinewidth\": 0, \"ticks\": \"\"}}, \"type\": \"scatter3d\"}], \"scattercarpet\": [{\"marker\": {\"colorbar\": {\"outlinewidth\": 0, \"ticks\": \"\"}}, \"type\": \"scattercarpet\"}], \"scattergeo\": [{\"marker\": {\"colorbar\": {\"outlinewidth\": 0, \"ticks\": \"\"}}, \"type\": \"scattergeo\"}], \"scattergl\": [{\"marker\": {\"colorbar\": {\"outlinewidth\": 0, \"ticks\": \"\"}}, \"type\": \"scattergl\"}], \"scattermapbox\": [{\"marker\": {\"colorbar\": {\"outlinewidth\": 0, \"ticks\": \"\"}}, \"type\": \"scattermapbox\"}], \"scatterpolar\": [{\"marker\": {\"colorbar\": {\"outlinewidth\": 0, \"ticks\": \"\"}}, \"type\": \"scatterpolar\"}], \"scatterpolargl\": [{\"marker\": {\"colorbar\": {\"outlinewidth\": 0, \"ticks\": \"\"}}, \"type\": \"scatterpolargl\"}], \"scatterternary\": [{\"marker\": {\"colorbar\": {\"outlinewidth\": 0, \"ticks\": \"\"}}, \"type\": \"scatterternary\"}], \"surface\": [{\"colorbar\": {\"outlinewidth\": 0, \"ticks\": \"\"}, \"colorscale\": [[0.0, \"#0d0887\"], [0.1111111111111111, \"#46039f\"], [0.2222222222222222, \"#7201a8\"], [0.3333333333333333, \"#9c179e\"], [0.4444444444444444, \"#bd3786\"], [0.5555555555555556, \"#d8576b\"], [0.6666666666666666, \"#ed7953\"], [0.7777777777777778, \"#fb9f3a\"], [0.8888888888888888, \"#fdca26\"], [1.0, \"#f0f921\"]], \"type\": \"surface\"}], \"table\": [{\"cells\": {\"fill\": {\"color\": \"#EBF0F8\"}, \"line\": {\"color\": \"white\"}}, \"header\": {\"fill\": {\"color\": \"#C8D4E3\"}, \"line\": {\"color\": \"white\"}}, \"type\": \"table\"}]}, \"layout\": {\"annotationdefaults\": {\"arrowcolor\": \"#2a3f5f\", \"arrowhead\": 0, \"arrowwidth\": 1}, \"coloraxis\": {\"colorbar\": {\"outlinewidth\": 0, \"ticks\": \"\"}}, \"colorscale\": {\"diverging\": [[0, \"#8e0152\"], [0.1, \"#c51b7d\"], [0.2, \"#de77ae\"], [0.3, \"#f1b6da\"], [0.4, \"#fde0ef\"], [0.5, \"#f7f7f7\"], [0.6, \"#e6f5d0\"], [0.7, \"#b8e186\"], [0.8, \"#7fbc41\"], [0.9, \"#4d9221\"], [1, \"#276419\"]], \"sequential\": [[0.0, \"#0d0887\"], [0.1111111111111111, \"#46039f\"], [0.2222222222222222, \"#7201a8\"], [0.3333333333333333, \"#9c179e\"], [0.4444444444444444, \"#bd3786\"], [0.5555555555555556, \"#d8576b\"], [0.6666666666666666, \"#ed7953\"], [0.7777777777777778, \"#fb9f3a\"], [0.8888888888888888, \"#fdca26\"], [1.0, \"#f0f921\"]], \"sequentialminus\": [[0.0, \"#0d0887\"], [0.1111111111111111, \"#46039f\"], [0.2222222222222222, \"#7201a8\"], [0.3333333333333333, \"#9c179e\"], [0.4444444444444444, \"#bd3786\"], [0.5555555555555556, \"#d8576b\"], [0.6666666666666666, \"#ed7953\"], [0.7777777777777778, \"#fb9f3a\"], [0.8888888888888888, \"#fdca26\"], [1.0, \"#f0f921\"]]}, \"colorway\": [\"#636efa\", \"#EF553B\", \"#00cc96\", \"#ab63fa\", \"#FFA15A\", \"#19d3f3\", \"#FF6692\", \"#B6E880\", \"#FF97FF\", \"#FECB52\"], \"font\": {\"color\": \"#2a3f5f\"}, \"geo\": {\"bgcolor\": \"white\", \"lakecolor\": \"white\", \"landcolor\": \"#E5ECF6\", \"showlakes\": true, \"showland\": true, \"subunitcolor\": \"white\"}, \"hoverlabel\": {\"align\": \"left\"}, \"hovermode\": \"closest\", \"mapbox\": {\"style\": \"light\"}, \"paper_bgcolor\": \"white\", \"plot_bgcolor\": \"#E5ECF6\", \"polar\": {\"angularaxis\": {\"gridcolor\": \"white\", \"linecolor\": \"white\", \"ticks\": \"\"}, \"bgcolor\": \"#E5ECF6\", \"radialaxis\": {\"gridcolor\": \"white\", \"linecolor\": \"white\", \"ticks\": \"\"}}, \"scene\": {\"xaxis\": {\"backgroundcolor\": \"#E5ECF6\", \"gridcolor\": \"white\", \"gridwidth\": 2, \"linecolor\": \"white\", \"showbackground\": true, \"ticks\": \"\", \"zerolinecolor\": \"white\"}, \"yaxis\": {\"backgroundcolor\": \"#E5ECF6\", \"gridcolor\": \"white\", \"gridwidth\": 2, \"linecolor\": \"white\", \"showbackground\": true, \"ticks\": \"\", \"zerolinecolor\": \"white\"}, \"zaxis\": {\"backgroundcolor\": \"#E5ECF6\", \"gridcolor\": \"white\", \"gridwidth\": 2, \"linecolor\": \"white\", \"showbackground\": true, \"ticks\": \"\", \"zerolinecolor\": \"white\"}}, \"shapedefaults\": {\"line\": {\"color\": \"#2a3f5f\"}}, \"ternary\": {\"aaxis\": {\"gridcolor\": \"white\", \"linecolor\": \"white\", \"ticks\": \"\"}, \"baxis\": {\"gridcolor\": \"white\", \"linecolor\": \"white\", \"ticks\": \"\"}, \"bgcolor\": \"#E5ECF6\", \"caxis\": {\"gridcolor\": \"white\", \"linecolor\": \"white\", \"ticks\": \"\"}}, \"title\": {\"x\": 0.05}, \"xaxis\": {\"automargin\": true, \"gridcolor\": \"white\", \"linecolor\": \"white\", \"ticks\": \"\", \"title\": {\"standoff\": 15}, \"zerolinecolor\": \"white\", \"zerolinewidth\": 2}, \"yaxis\": {\"automargin\": true, \"gridcolor\": \"white\", \"linecolor\": \"white\", \"ticks\": \"\", \"title\": {\"standoff\": 15}, \"zerolinecolor\": \"white\", \"zerolinewidth\": 2}}}, \"xaxis\": {\"anchor\": \"y\", \"domain\": [0.0, 0.94], \"title\": {\"text\": \"Zeit\"}}, \"yaxis\": {\"anchor\": \"x\", \"domain\": [0.0, 1.0], \"title\": {\"text\": \"% FTP\"}}, \"yaxis2\": {\"anchor\": \"x\", \"overlaying\": \"y\", \"showgrid\": false, \"side\": \"right\", \"title\": {\"text\": \"Watt\"}}},                        {\"responsive\": true}                    ).then(function(){\n",
       "                            \n",
       "var gd = document.getElementById('a802a6aa-eff1-4210-9bc9-3dfb5ff40729');\n",
       "var x = new MutationObserver(function (mutations, observer) {{\n",
       "        var display = window.getComputedStyle(gd).display;\n",
       "        if (!display || display === 'none') {{\n",
       "            console.log([gd, 'removed!']);\n",
       "            Plotly.purge(gd);\n",
       "            observer.disconnect();\n",
       "        }}\n",
       "}});\n",
       "\n",
       "// Listen for the removal of the full notebook cells\n",
       "var notebookContainer = gd.closest('#notebook-container');\n",
       "if (notebookContainer) {{\n",
       "    x.observe(notebookContainer, {childList: true});\n",
       "}}\n",
       "\n",
       "// Listen for the clearing of the current output cell\n",
       "var outputEl = gd.closest('.output');\n",
       "if (outputEl) {{\n",
       "    x.observe(outputEl, {childList: true});\n",
       "}}\n",
       "\n",
       "                        })                };                });            </script>        </div>"
      ]
     },
     "metadata": {},
     "output_type": "display_data"
    }
   ],
   "source": [
    "fr = training('Weihnachts 40/20er', 'Heute gibts mal 40/20er um das Weihnachtsessen zu verdauen;)')\n",
    "fr.add(900, [50,65])\n",
    "fr.add(300, 0, cadence = 95)\n",
    "\n",
    "for i in range(4):\n",
    "    for j in range(6):\n",
    "        fr.add(40, 115)\n",
    "        fr.add(20, 70)\n",
    "\n",
    "    fr.add(600, 65)\n",
    "\n",
    "\n",
    "\n",
    "\n",
    "fr.add(600, [65,50])\n",
    "\n",
    "fr.delete(53)\n",
    "\n",
    "fr.plot()"
   ]
  },
  {
   "cell_type": "code",
   "execution_count": 171,
   "metadata": {},
   "outputs": [],
   "source": [
    "fr.generate('weihnachten')"
   ]
  },
  {
   "cell_type": "code",
   "execution_count": 152,
   "metadata": {},
   "outputs": [],
   "source": []
  },
  {
   "cell_type": "code",
   "execution_count": null,
   "metadata": {},
   "outputs": [],
   "source": []
  }
 ],
 "metadata": {
  "kernelspec": {
   "display_name": "Python 3",
   "language": "python",
   "name": "python3"
  },
  "language_info": {
   "codemirror_mode": {
    "name": "ipython",
    "version": 3
   },
   "file_extension": ".py",
   "mimetype": "text/x-python",
   "name": "python",
   "nbconvert_exporter": "python",
   "pygments_lexer": "ipython3",
   "version": "3.7.6"
  }
 },
 "nbformat": 4,
 "nbformat_minor": 4
}
